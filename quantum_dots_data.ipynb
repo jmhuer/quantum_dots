{
  "nbformat": 4,
  "nbformat_minor": 0,
  "metadata": {
    "colab": {
      "name": "Untitled12.ipynb",
      "provenance": [],
      "toc_visible": true,
      "authorship_tag": "ABX9TyMWVcFUbg0ol6u3RcGTH+94",
      "include_colab_link": true
    },
    "kernelspec": {
      "display_name": "Python 3",
      "name": "python3"
    },
    "language_info": {
      "name": "python"
    }
  },
  "cells": [
    {
      "cell_type": "markdown",
      "metadata": {
        "id": "view-in-github",
        "colab_type": "text"
      },
      "source": [
        "<a href=\"https://colab.research.google.com/github/jmhuer/quantum_dots/blob/main/quantum_dots_data.ipynb\" target=\"_parent\"><img src=\"https://colab.research.google.com/assets/colab-badge.svg\" alt=\"Open In Colab\"/></a>"
      ]
    },
    {
      "cell_type": "markdown",
      "metadata": {
        "id": "NyiZYk_GcXQE"
      },
      "source": [
        "# Load data from excell\n"
      ]
    },
    {
      "cell_type": "code",
      "metadata": {
        "colab": {
          "base_uri": "https://localhost:8080/"
        },
        "id": "yFF6ShtM2arX",
        "outputId": "ca7fb034-0ab1-4bb5-bf5f-46cdb08d46a6"
      },
      "source": [
        "!pip install skorch\n",
        "!pip install tqdm\n",
        "!git clone https://github.com/jmhuer/optimization_tools\n",
        "\n",
        "from optimization_tools.utils import download_gdrive\n",
        "data = '14mee8d0GDbwNzIprVSJoWdojGtqO_aTX' ##google drive id of excell \n",
        "download_gdrive(data)"
      ],
      "execution_count": 1,
      "outputs": [
        {
          "output_type": "stream",
          "text": [
            "Collecting skorch\n",
            "\u001b[?25l  Downloading https://files.pythonhosted.org/packages/78/bd/f714a726f2f3106abe5a24d11b1fe8e20570323479164b829f5d4b80f7f2/skorch-0.10.0-py3-none-any.whl (128kB)\n",
            "\r\u001b[K     |██▌                             | 10kB 16.3MB/s eta 0:00:01\r\u001b[K     |█████                           | 20kB 23.2MB/s eta 0:00:01\r\u001b[K     |███████▋                        | 30kB 26.5MB/s eta 0:00:01\r\u001b[K     |██████████▏                     | 40kB 28.7MB/s eta 0:00:01\r\u001b[K     |████████████▊                   | 51kB 31.2MB/s eta 0:00:01\r\u001b[K     |███████████████▎                | 61kB 23.8MB/s eta 0:00:01\r\u001b[K     |█████████████████▉              | 71kB 25.5MB/s eta 0:00:01\r\u001b[K     |████████████████████▍           | 81kB 25.1MB/s eta 0:00:01\r\u001b[K     |███████████████████████         | 92kB 24.5MB/s eta 0:00:01\r\u001b[K     |█████████████████████████▍      | 102kB 26.0MB/s eta 0:00:01\r\u001b[K     |████████████████████████████    | 112kB 26.0MB/s eta 0:00:01\r\u001b[K     |██████████████████████████████▌ | 122kB 26.0MB/s eta 0:00:01\r\u001b[K     |████████████████████████████████| 133kB 26.0MB/s \n",
            "\u001b[?25hRequirement already satisfied: scipy>=1.1.0 in /usr/local/lib/python3.7/dist-packages (from skorch) (1.4.1)\n",
            "Requirement already satisfied: tqdm>=4.14.0 in /usr/local/lib/python3.7/dist-packages (from skorch) (4.41.1)\n",
            "Requirement already satisfied: scikit-learn>=0.19.1 in /usr/local/lib/python3.7/dist-packages (from skorch) (0.22.2.post1)\n",
            "Requirement already satisfied: numpy>=1.13.3 in /usr/local/lib/python3.7/dist-packages (from skorch) (1.19.5)\n",
            "Requirement already satisfied: tabulate>=0.7.7 in /usr/local/lib/python3.7/dist-packages (from skorch) (0.8.9)\n",
            "Requirement already satisfied: joblib>=0.11 in /usr/local/lib/python3.7/dist-packages (from scikit-learn>=0.19.1->skorch) (1.0.1)\n",
            "Installing collected packages: skorch\n",
            "Successfully installed skorch-0.10.0\n",
            "Requirement already satisfied: tqdm in /usr/local/lib/python3.7/dist-packages (4.41.1)\n",
            "Cloning into 'optimization_tools'...\n",
            "remote: Enumerating objects: 46, done.\u001b[K\n",
            "remote: Counting objects: 100% (46/46), done.\u001b[K\n",
            "remote: Compressing objects: 100% (33/33), done.\u001b[K\n",
            "remote: Total 46 (delta 12), reused 39 (delta 8), pack-reused 0\u001b[K\n",
            "Unpacking objects: 100% (46/46), done.\n",
            "Downloading...\n",
            "From: https://drive.google.com/uc?id=14mee8d0GDbwNzIprVSJoWdojGtqO_aTX\n",
            "To: /content/QDots data - Juan.xlsx\n",
            "100%|##########| 39.7k/39.7k [00:00<00:00, 5.84MB/s]\n",
            "\n"
          ],
          "name": "stdout"
        }
      ]
    },
    {
      "cell_type": "code",
      "metadata": {
        "id": "hHStJWQsbRg1"
      },
      "source": [
        "import pandas as pd\n",
        "\n",
        "def open_excel(filename):\n",
        "    excell = pd.ExcelFile(filename)\n",
        "    excell.sheet_names\n",
        "    df = excell.parse(\"Sheet1\")\n",
        "    df.columns = df.columns.map(str)\n",
        "    df = df.dropna().reset_index(drop=True)\n",
        "    return df\n",
        "\n",
        "df = open_excel(\"/content/QDots data - Juan.xlsx\")"
      ],
      "execution_count": 2,
      "outputs": []
    },
    {
      "cell_type": "code",
      "metadata": {
        "id": "sq5mC4EgpAne",
        "colab": {
          "base_uri": "https://localhost:8080/",
          "height": 205
        },
        "outputId": "b3c1420f-b71e-4607-aa6a-58513fa327c6"
      },
      "source": [
        "df.head()"
      ],
      "execution_count": 10,
      "outputs": [
        {
          "output_type": "execute_result",
          "data": {
            "text/html": [
              "<div>\n",
              "<style scoped>\n",
              "    .dataframe tbody tr th:only-of-type {\n",
              "        vertical-align: middle;\n",
              "    }\n",
              "\n",
              "    .dataframe tbody tr th {\n",
              "        vertical-align: top;\n",
              "    }\n",
              "\n",
              "    .dataframe thead th {\n",
              "        text-align: right;\n",
              "    }\n",
              "</style>\n",
              "<table border=\"1\" class=\"dataframe\">\n",
              "  <thead>\n",
              "    <tr style=\"text-align: right;\">\n",
              "      <th></th>\n",
              "      <th>Unnamed: 0</th>\n",
              "      <th>Time (min)</th>\n",
              "      <th>μL</th>\n",
              "      <th>nM λ1</th>\n",
              "      <th>nM λ2</th>\n",
              "      <th>λ1 (nm)</th>\n",
              "      <th>λ2 (nm)</th>\n",
              "      <th># emitters λ1 (x1010)</th>\n",
              "      <th># emitters λ2 (x1010)</th>\n",
              "      <th>415</th>\n",
              "      <th>445</th>\n",
              "      <th>480</th>\n",
              "      <th>515</th>\n",
              "      <th>555</th>\n",
              "      <th>590</th>\n",
              "      <th>630</th>\n",
              "      <th>680</th>\n",
              "    </tr>\n",
              "  </thead>\n",
              "  <tbody>\n",
              "    <tr>\n",
              "      <th>0</th>\n",
              "      <td>2021-04-12</td>\n",
              "      <td>0.0</td>\n",
              "      <td>0.0</td>\n",
              "      <td>0.0</td>\n",
              "      <td>0.0</td>\n",
              "      <td>620.0</td>\n",
              "      <td>560.0</td>\n",
              "      <td>0.0000</td>\n",
              "      <td>0.0</td>\n",
              "      <td>0.0</td>\n",
              "      <td>0.0</td>\n",
              "      <td>0.0</td>\n",
              "      <td>1.0</td>\n",
              "      <td>0.0</td>\n",
              "      <td>0.0</td>\n",
              "      <td>4.0</td>\n",
              "      <td>0.0</td>\n",
              "    </tr>\n",
              "    <tr>\n",
              "      <th>1</th>\n",
              "      <td>2021-04-12</td>\n",
              "      <td>0.0</td>\n",
              "      <td>30.0</td>\n",
              "      <td>50.0</td>\n",
              "      <td>0.0</td>\n",
              "      <td>620.0</td>\n",
              "      <td>560.0</td>\n",
              "      <td>90.3321</td>\n",
              "      <td>0.0</td>\n",
              "      <td>9.0</td>\n",
              "      <td>20.0</td>\n",
              "      <td>21.0</td>\n",
              "      <td>67.0</td>\n",
              "      <td>106.0</td>\n",
              "      <td>666.0</td>\n",
              "      <td>4320.0</td>\n",
              "      <td>24.0</td>\n",
              "    </tr>\n",
              "    <tr>\n",
              "      <th>2</th>\n",
              "      <td>2021-04-12</td>\n",
              "      <td>1.0</td>\n",
              "      <td>30.0</td>\n",
              "      <td>50.0</td>\n",
              "      <td>0.0</td>\n",
              "      <td>620.0</td>\n",
              "      <td>560.0</td>\n",
              "      <td>90.3321</td>\n",
              "      <td>0.0</td>\n",
              "      <td>9.0</td>\n",
              "      <td>21.0</td>\n",
              "      <td>22.0</td>\n",
              "      <td>69.0</td>\n",
              "      <td>107.0</td>\n",
              "      <td>675.0</td>\n",
              "      <td>4413.0</td>\n",
              "      <td>25.0</td>\n",
              "    </tr>\n",
              "    <tr>\n",
              "      <th>3</th>\n",
              "      <td>2021-04-12</td>\n",
              "      <td>2.0</td>\n",
              "      <td>30.0</td>\n",
              "      <td>50.0</td>\n",
              "      <td>0.0</td>\n",
              "      <td>620.0</td>\n",
              "      <td>560.0</td>\n",
              "      <td>90.3321</td>\n",
              "      <td>0.0</td>\n",
              "      <td>9.0</td>\n",
              "      <td>21.0</td>\n",
              "      <td>22.0</td>\n",
              "      <td>69.0</td>\n",
              "      <td>107.0</td>\n",
              "      <td>677.0</td>\n",
              "      <td>4439.0</td>\n",
              "      <td>25.0</td>\n",
              "    </tr>\n",
              "    <tr>\n",
              "      <th>4</th>\n",
              "      <td>2021-04-12</td>\n",
              "      <td>3.0</td>\n",
              "      <td>30.0</td>\n",
              "      <td>50.0</td>\n",
              "      <td>0.0</td>\n",
              "      <td>620.0</td>\n",
              "      <td>560.0</td>\n",
              "      <td>90.3321</td>\n",
              "      <td>0.0</td>\n",
              "      <td>9.0</td>\n",
              "      <td>21.0</td>\n",
              "      <td>22.0</td>\n",
              "      <td>69.0</td>\n",
              "      <td>106.0</td>\n",
              "      <td>678.0</td>\n",
              "      <td>4457.0</td>\n",
              "      <td>25.0</td>\n",
              "    </tr>\n",
              "  </tbody>\n",
              "</table>\n",
              "</div>"
            ],
            "text/plain": [
              "  Unnamed: 0  Time (min)    μL  nM λ1  nM λ2  ...   515    555    590     630   680\n",
              "0 2021-04-12         0.0   0.0    0.0    0.0  ...   1.0    0.0    0.0     4.0   0.0\n",
              "1 2021-04-12         0.0  30.0   50.0    0.0  ...  67.0  106.0  666.0  4320.0  24.0\n",
              "2 2021-04-12         1.0  30.0   50.0    0.0  ...  69.0  107.0  675.0  4413.0  25.0\n",
              "3 2021-04-12         2.0  30.0   50.0    0.0  ...  69.0  107.0  677.0  4439.0  25.0\n",
              "4 2021-04-12         3.0  30.0   50.0    0.0  ...  69.0  106.0  678.0  4457.0  25.0\n",
              "\n",
              "[5 rows x 17 columns]"
            ]
          },
          "metadata": {
            "tags": []
          },
          "execution_count": 10
        }
      ]
    },
    {
      "cell_type": "markdown",
      "metadata": {
        "id": "xQd7hHq4qytX"
      },
      "source": [
        "## Pre-processing + model defenitions before training"
      ]
    },
    {
      "cell_type": "code",
      "metadata": {
        "id": "VBw-MgBYqyF1"
      },
      "source": [
        "from sklearn.model_selection import KFold\n",
        "from sklearn.linear_model import LinearRegression\n",
        "from sklearn.metrics import mean_squared_error\n",
        "from sklearn.preprocessing import StandardScaler\n",
        "from sklearn.pipeline import make_pipeline\n",
        "from sklearn.model_selection import GridSearchCV\n",
        "from sklearn.ensemble import RandomForestRegressor\n",
        "from sklearn.svm import SVR\n",
        "from sklearn.gaussian_process.kernels import RBF, ConstantKernel \n",
        "from sklearn.gaussian_process import GaussianProcessRegressor\n",
        "\n",
        "\n",
        "##LINEAR REGRESSION\n",
        "lr_reg = make_pipeline(LinearRegression())\n",
        "\n",
        "##RandomForestRegressor\n",
        "rf_reg = make_pipeline(StandardScaler(), RandomForestRegressor())\n",
        "parameters = {'randomforestregressor__max_depth':[1,2,3,4,5]}\n",
        "rf_reg = GridSearchCV(rf_reg, parameters)\n",
        "  \n",
        "##SVM\n",
        "svr = make_pipeline(StandardScaler(), SVR(kernel='linear'))\n",
        "parameters = {'svr__kernel':['linear', 'rbf'], 'svr__epsilon':[0.1, 0.2, 0.3,0.6], 'svr__C': [0.1,0.5,1,2,3]}\n",
        "svr = GridSearchCV(svr, parameters)\n",
        "\n",
        "##guassian process \n",
        "# Instantiate a Gaussian Process model\n",
        "gp = make_pipeline(StandardScaler(), GaussianProcessRegressor( n_restarts_optimizer=20, normalize_y=True, copy_X_train=False))\n",
        "parameters = {'gaussianprocessregressor__kernel':[RBF() + RBF(), \n",
        "                                                  ]}\n",
        "gp = GridSearchCV(gp, parameters)\n",
        "\n"
      ],
      "execution_count": 11,
      "outputs": []
    },
    {
      "cell_type": "code",
      "metadata": {
        "colab": {
          "base_uri": "https://localhost:8080/",
          "height": 542
        },
        "id": "uw70vvpuGwfH",
        "outputId": "c9ab159c-6196-4f38-f389-3fd6f92bd9fe"
      },
      "source": [
        "X_columns  = [\"415\",\"445\",\"480\", \"515\", \"555\", \"590\", \"630\", \"680\"]\n",
        "Y1_columns = [\"# emitters λ1 (x1010)\"]\n",
        "Y2_columns = [\"# emitters λ2 (x1010)\"]\n",
        "Y_columns  = [\"# emitters λ1 (x1010)\", \"# emitters λ2 (x1010)\"]\n",
        "\n",
        "row = 298\n",
        "\n",
        "X_train, X_test = df.loc[row, X_columns], df.loc[row, X_columns]\n",
        "Y_train, Y_test = df.loc[row, Y2_columns], df.loc[row, Y2_columns]\n",
        "Y_train_both, Y_test_both = df.loc[row, Y_columns], df.loc[row, Y_columns]\n",
        "\n",
        "wavelenght = list(map(int, list(X_train.keys())))\n",
        "\n",
        "current_plot = {\"legend\": \"predictions\", \n",
        "                \"x\": wavelenght, \n",
        "                \"y\": X_train.values,\n",
        "                \"marker_symbol\": 'square'}\n",
        "\n",
        "plot([current_plot], \"interpolated wavelength\")\n"
      ],
      "execution_count": 75,
      "outputs": [
        {
          "output_type": "display_data",
          "data": {
            "text/html": [
              "<html>\n",
              "<head><meta charset=\"utf-8\" /></head>\n",
              "<body>\n",
              "    <div>\n",
              "            <script src=\"https://cdnjs.cloudflare.com/ajax/libs/mathjax/2.7.5/MathJax.js?config=TeX-AMS-MML_SVG\"></script><script type=\"text/javascript\">if (window.MathJax) {MathJax.Hub.Config({SVG: {font: \"STIX-Web\"}});}</script>\n",
              "                <script type=\"text/javascript\">window.PlotlyConfig = {MathJaxConfig: 'local'};</script>\n",
              "        <script src=\"https://cdn.plot.ly/plotly-latest.min.js\"></script>    \n",
              "            <div id=\"c894ef1b-5e0d-482a-b89f-6f03cfa19e7d\" class=\"plotly-graph-div\" style=\"height:525px; width:100%;\"></div>\n",
              "            <script type=\"text/javascript\">\n",
              "                \n",
              "                    window.PLOTLYENV=window.PLOTLYENV || {};\n",
              "                    \n",
              "                if (document.getElementById(\"c894ef1b-5e0d-482a-b89f-6f03cfa19e7d\")) {\n",
              "                    Plotly.newPlot(\n",
              "                        'c894ef1b-5e0d-482a-b89f-6f03cfa19e7d',\n",
              "                        [{\"marker\": {\"size\": 5, \"symbol\": \"square\"}, \"mode\": \"markers\", \"name\": \"predictions\", \"type\": \"scatter\", \"x\": [415, 445, 480, 515, 555, 590, 630, 680], \"y\": [0.6, 0.6, 0.4, 7.8, 56.0, 8.0, 10.0, 0.2]}],\n",
              "                        {\"template\": {\"data\": {\"bar\": [{\"error_x\": {\"color\": \"#2a3f5f\"}, \"error_y\": {\"color\": \"#2a3f5f\"}, \"marker\": {\"line\": {\"color\": \"#E5ECF6\", \"width\": 0.5}}, \"type\": \"bar\"}], \"barpolar\": [{\"marker\": {\"line\": {\"color\": \"#E5ECF6\", \"width\": 0.5}}, \"type\": \"barpolar\"}], \"carpet\": [{\"aaxis\": {\"endlinecolor\": \"#2a3f5f\", \"gridcolor\": \"white\", \"linecolor\": \"white\", \"minorgridcolor\": \"white\", \"startlinecolor\": \"#2a3f5f\"}, \"baxis\": {\"endlinecolor\": \"#2a3f5f\", \"gridcolor\": \"white\", \"linecolor\": \"white\", \"minorgridcolor\": \"white\", \"startlinecolor\": \"#2a3f5f\"}, \"type\": \"carpet\"}], \"choropleth\": [{\"colorbar\": {\"outlinewidth\": 0, \"ticks\": \"\"}, \"type\": \"choropleth\"}], \"contour\": [{\"colorbar\": {\"outlinewidth\": 0, \"ticks\": \"\"}, \"colorscale\": [[0.0, \"#0d0887\"], [0.1111111111111111, \"#46039f\"], [0.2222222222222222, \"#7201a8\"], [0.3333333333333333, \"#9c179e\"], [0.4444444444444444, \"#bd3786\"], [0.5555555555555556, \"#d8576b\"], [0.6666666666666666, \"#ed7953\"], [0.7777777777777778, \"#fb9f3a\"], [0.8888888888888888, \"#fdca26\"], [1.0, \"#f0f921\"]], \"type\": \"contour\"}], \"contourcarpet\": [{\"colorbar\": {\"outlinewidth\": 0, \"ticks\": \"\"}, \"type\": \"contourcarpet\"}], \"heatmap\": [{\"colorbar\": {\"outlinewidth\": 0, \"ticks\": \"\"}, \"colorscale\": [[0.0, \"#0d0887\"], [0.1111111111111111, \"#46039f\"], [0.2222222222222222, \"#7201a8\"], [0.3333333333333333, \"#9c179e\"], [0.4444444444444444, \"#bd3786\"], [0.5555555555555556, \"#d8576b\"], [0.6666666666666666, \"#ed7953\"], [0.7777777777777778, \"#fb9f3a\"], [0.8888888888888888, \"#fdca26\"], [1.0, \"#f0f921\"]], \"type\": \"heatmap\"}], \"heatmapgl\": [{\"colorbar\": {\"outlinewidth\": 0, \"ticks\": \"\"}, \"colorscale\": [[0.0, \"#0d0887\"], [0.1111111111111111, \"#46039f\"], [0.2222222222222222, \"#7201a8\"], [0.3333333333333333, \"#9c179e\"], [0.4444444444444444, \"#bd3786\"], [0.5555555555555556, \"#d8576b\"], [0.6666666666666666, \"#ed7953\"], [0.7777777777777778, \"#fb9f3a\"], [0.8888888888888888, \"#fdca26\"], [1.0, \"#f0f921\"]], \"type\": \"heatmapgl\"}], \"histogram\": [{\"marker\": {\"colorbar\": {\"outlinewidth\": 0, \"ticks\": \"\"}}, \"type\": \"histogram\"}], \"histogram2d\": [{\"colorbar\": {\"outlinewidth\": 0, \"ticks\": \"\"}, \"colorscale\": [[0.0, \"#0d0887\"], [0.1111111111111111, \"#46039f\"], [0.2222222222222222, \"#7201a8\"], [0.3333333333333333, \"#9c179e\"], [0.4444444444444444, \"#bd3786\"], [0.5555555555555556, \"#d8576b\"], [0.6666666666666666, \"#ed7953\"], [0.7777777777777778, \"#fb9f3a\"], [0.8888888888888888, \"#fdca26\"], [1.0, \"#f0f921\"]], \"type\": \"histogram2d\"}], \"histogram2dcontour\": [{\"colorbar\": {\"outlinewidth\": 0, \"ticks\": \"\"}, \"colorscale\": [[0.0, \"#0d0887\"], [0.1111111111111111, \"#46039f\"], [0.2222222222222222, \"#7201a8\"], [0.3333333333333333, \"#9c179e\"], [0.4444444444444444, \"#bd3786\"], [0.5555555555555556, \"#d8576b\"], [0.6666666666666666, \"#ed7953\"], [0.7777777777777778, \"#fb9f3a\"], [0.8888888888888888, \"#fdca26\"], [1.0, \"#f0f921\"]], \"type\": \"histogram2dcontour\"}], \"mesh3d\": [{\"colorbar\": {\"outlinewidth\": 0, \"ticks\": \"\"}, \"type\": \"mesh3d\"}], \"parcoords\": [{\"line\": {\"colorbar\": {\"outlinewidth\": 0, \"ticks\": \"\"}}, \"type\": \"parcoords\"}], \"pie\": [{\"automargin\": true, \"type\": \"pie\"}], \"scatter\": [{\"marker\": {\"colorbar\": {\"outlinewidth\": 0, \"ticks\": \"\"}}, \"type\": \"scatter\"}], \"scatter3d\": [{\"line\": {\"colorbar\": {\"outlinewidth\": 0, \"ticks\": \"\"}}, \"marker\": {\"colorbar\": {\"outlinewidth\": 0, \"ticks\": \"\"}}, \"type\": \"scatter3d\"}], \"scattercarpet\": [{\"marker\": {\"colorbar\": {\"outlinewidth\": 0, \"ticks\": \"\"}}, \"type\": \"scattercarpet\"}], \"scattergeo\": [{\"marker\": {\"colorbar\": {\"outlinewidth\": 0, \"ticks\": \"\"}}, \"type\": \"scattergeo\"}], \"scattergl\": [{\"marker\": {\"colorbar\": {\"outlinewidth\": 0, \"ticks\": \"\"}}, \"type\": \"scattergl\"}], \"scattermapbox\": [{\"marker\": {\"colorbar\": {\"outlinewidth\": 0, \"ticks\": \"\"}}, \"type\": \"scattermapbox\"}], \"scatterpolar\": [{\"marker\": {\"colorbar\": {\"outlinewidth\": 0, \"ticks\": \"\"}}, \"type\": \"scatterpolar\"}], \"scatterpolargl\": [{\"marker\": {\"colorbar\": {\"outlinewidth\": 0, \"ticks\": \"\"}}, \"type\": \"scatterpolargl\"}], \"scatterternary\": [{\"marker\": {\"colorbar\": {\"outlinewidth\": 0, \"ticks\": \"\"}}, \"type\": \"scatterternary\"}], \"surface\": [{\"colorbar\": {\"outlinewidth\": 0, \"ticks\": \"\"}, \"colorscale\": [[0.0, \"#0d0887\"], [0.1111111111111111, \"#46039f\"], [0.2222222222222222, \"#7201a8\"], [0.3333333333333333, \"#9c179e\"], [0.4444444444444444, \"#bd3786\"], [0.5555555555555556, \"#d8576b\"], [0.6666666666666666, \"#ed7953\"], [0.7777777777777778, \"#fb9f3a\"], [0.8888888888888888, \"#fdca26\"], [1.0, \"#f0f921\"]], \"type\": \"surface\"}], \"table\": [{\"cells\": {\"fill\": {\"color\": \"#EBF0F8\"}, \"line\": {\"color\": \"white\"}}, \"header\": {\"fill\": {\"color\": \"#C8D4E3\"}, \"line\": {\"color\": \"white\"}}, \"type\": \"table\"}]}, \"layout\": {\"annotationdefaults\": {\"arrowcolor\": \"#2a3f5f\", \"arrowhead\": 0, \"arrowwidth\": 1}, \"coloraxis\": {\"colorbar\": {\"outlinewidth\": 0, \"ticks\": \"\"}}, \"colorscale\": {\"diverging\": [[0, \"#8e0152\"], [0.1, \"#c51b7d\"], [0.2, \"#de77ae\"], [0.3, \"#f1b6da\"], [0.4, \"#fde0ef\"], [0.5, \"#f7f7f7\"], [0.6, \"#e6f5d0\"], [0.7, \"#b8e186\"], [0.8, \"#7fbc41\"], [0.9, \"#4d9221\"], [1, \"#276419\"]], \"sequential\": [[0.0, \"#0d0887\"], [0.1111111111111111, \"#46039f\"], [0.2222222222222222, \"#7201a8\"], [0.3333333333333333, \"#9c179e\"], [0.4444444444444444, \"#bd3786\"], [0.5555555555555556, \"#d8576b\"], [0.6666666666666666, \"#ed7953\"], [0.7777777777777778, \"#fb9f3a\"], [0.8888888888888888, \"#fdca26\"], [1.0, \"#f0f921\"]], \"sequentialminus\": [[0.0, \"#0d0887\"], [0.1111111111111111, \"#46039f\"], [0.2222222222222222, \"#7201a8\"], [0.3333333333333333, \"#9c179e\"], [0.4444444444444444, \"#bd3786\"], [0.5555555555555556, \"#d8576b\"], [0.6666666666666666, \"#ed7953\"], [0.7777777777777778, \"#fb9f3a\"], [0.8888888888888888, \"#fdca26\"], [1.0, \"#f0f921\"]]}, \"colorway\": [\"#636efa\", \"#EF553B\", \"#00cc96\", \"#ab63fa\", \"#FFA15A\", \"#19d3f3\", \"#FF6692\", \"#B6E880\", \"#FF97FF\", \"#FECB52\"], \"font\": {\"color\": \"#2a3f5f\"}, \"geo\": {\"bgcolor\": \"white\", \"lakecolor\": \"white\", \"landcolor\": \"#E5ECF6\", \"showlakes\": true, \"showland\": true, \"subunitcolor\": \"white\"}, \"hoverlabel\": {\"align\": \"left\"}, \"hovermode\": \"closest\", \"mapbox\": {\"style\": \"light\"}, \"paper_bgcolor\": \"white\", \"plot_bgcolor\": \"#E5ECF6\", \"polar\": {\"angularaxis\": {\"gridcolor\": \"white\", \"linecolor\": \"white\", \"ticks\": \"\"}, \"bgcolor\": \"#E5ECF6\", \"radialaxis\": {\"gridcolor\": \"white\", \"linecolor\": \"white\", \"ticks\": \"\"}}, \"scene\": {\"xaxis\": {\"backgroundcolor\": \"#E5ECF6\", \"gridcolor\": \"white\", \"gridwidth\": 2, \"linecolor\": \"white\", \"showbackground\": true, \"ticks\": \"\", \"zerolinecolor\": \"white\"}, \"yaxis\": {\"backgroundcolor\": \"#E5ECF6\", \"gridcolor\": \"white\", \"gridwidth\": 2, \"linecolor\": \"white\", \"showbackground\": true, \"ticks\": \"\", \"zerolinecolor\": \"white\"}, \"zaxis\": {\"backgroundcolor\": \"#E5ECF6\", \"gridcolor\": \"white\", \"gridwidth\": 2, \"linecolor\": \"white\", \"showbackground\": true, \"ticks\": \"\", \"zerolinecolor\": \"white\"}}, \"shapedefaults\": {\"line\": {\"color\": \"#2a3f5f\"}}, \"ternary\": {\"aaxis\": {\"gridcolor\": \"white\", \"linecolor\": \"white\", \"ticks\": \"\"}, \"baxis\": {\"gridcolor\": \"white\", \"linecolor\": \"white\", \"ticks\": \"\"}, \"bgcolor\": \"#E5ECF6\", \"caxis\": {\"gridcolor\": \"white\", \"linecolor\": \"white\", \"ticks\": \"\"}}, \"title\": {\"x\": 0.05}, \"xaxis\": {\"automargin\": true, \"gridcolor\": \"white\", \"linecolor\": \"white\", \"ticks\": \"\", \"title\": {\"standoff\": 15}, \"zerolinecolor\": \"white\", \"zerolinewidth\": 2}, \"yaxis\": {\"automargin\": true, \"gridcolor\": \"white\", \"linecolor\": \"white\", \"ticks\": \"\", \"title\": {\"standoff\": 15}, \"zerolinecolor\": \"white\", \"zerolinewidth\": 2}}}, \"title\": {\"text\": \"interpolated wavelength\"}},\n",
              "                        {\"responsive\": true}\n",
              "                    ).then(function(){\n",
              "                            \n",
              "var gd = document.getElementById('c894ef1b-5e0d-482a-b89f-6f03cfa19e7d');\n",
              "var x = new MutationObserver(function (mutations, observer) {{\n",
              "        var display = window.getComputedStyle(gd).display;\n",
              "        if (!display || display === 'none') {{\n",
              "            console.log([gd, 'removed!']);\n",
              "            Plotly.purge(gd);\n",
              "            observer.disconnect();\n",
              "        }}\n",
              "}});\n",
              "\n",
              "// Listen for the removal of the full notebook cells\n",
              "var notebookContainer = gd.closest('#notebook-container');\n",
              "if (notebookContainer) {{\n",
              "    x.observe(notebookContainer, {childList: true});\n",
              "}}\n",
              "\n",
              "// Listen for the clearing of the current output cell\n",
              "var outputEl = gd.closest('.output');\n",
              "if (outputEl) {{\n",
              "    x.observe(outputEl, {childList: true});\n",
              "}}\n",
              "\n",
              "                        })\n",
              "                };\n",
              "                \n",
              "            </script>\n",
              "        </div>\n",
              "</body>\n",
              "</html>"
            ]
          },
          "metadata": {
            "tags": []
          }
        }
      ]
    },
    {
      "cell_type": "code",
      "metadata": {
        "colab": {
          "base_uri": "https://localhost:8080/",
          "height": 628
        },
        "id": "KVZfHSHgIvEh",
        "outputId": "71c97dbd-6bf1-43f8-88e2-084a41d47a47"
      },
      "source": [
        "import numpy as np\n",
        "gp =  GaussianProcessRegressor(RBF() + RBF(), n_restarts_optimizer=100, normalize_y=False)\n",
        "\n",
        "X_data = np.split(np.array(wavelenght), len(wavelenght))\n",
        "print(X_data)\n",
        "gp.fit(X_data, X_train.values)\n",
        "x = np.atleast_2d(np.linspace(min(wavelenght), max(wavelenght), 1000)).T\n",
        "\n",
        "y_pred, sigma = gp.predict(x, return_std=True)\n",
        "\n",
        "pred_plot = {\"legend\": \"predictions\", \n",
        "                \"x\": x.ravel(), \n",
        "                \"y\": y_pred,\n",
        "                \"marker_symbol\": 'circle-open'}\n",
        "\n",
        "plot([current_plot, pred_plot], \"interpolated wavelength\")\n",
        "\n",
        "print(gp.get_params)"
      ],
      "execution_count": 105,
      "outputs": [
        {
          "output_type": "stream",
          "text": [
            "[array([415]), array([445]), array([480]), array([515]), array([555]), array([590]), array([630]), array([680])]\n"
          ],
          "name": "stdout"
        },
        {
          "output_type": "display_data",
          "data": {
            "text/html": [
              "<html>\n",
              "<head><meta charset=\"utf-8\" /></head>\n",
              "<body>\n",
              "    <div>\n",
              "            <script src=\"https://cdnjs.cloudflare.com/ajax/libs/mathjax/2.7.5/MathJax.js?config=TeX-AMS-MML_SVG\"></script><script type=\"text/javascript\">if (window.MathJax) {MathJax.Hub.Config({SVG: {font: \"STIX-Web\"}});}</script>\n",
              "                <script type=\"text/javascript\">window.PlotlyConfig = {MathJaxConfig: 'local'};</script>\n",
              "        <script src=\"https://cdn.plot.ly/plotly-latest.min.js\"></script>    \n",
              "            <div id=\"c9dbf0d5-cdbd-4532-b5ad-975fc2f122f3\" class=\"plotly-graph-div\" style=\"height:525px; width:100%;\"></div>\n",
              "            <script type=\"text/javascript\">\n",
              "                \n",
              "                    window.PLOTLYENV=window.PLOTLYENV || {};\n",
              "                    \n",
              "                if (document.getElementById(\"c9dbf0d5-cdbd-4532-b5ad-975fc2f122f3\")) {\n",
              "                    Plotly.newPlot(\n",
              "                        'c9dbf0d5-cdbd-4532-b5ad-975fc2f122f3',\n",
              "                        [{\"marker\": {\"size\": 5, \"symbol\": \"square\"}, \"mode\": \"markers\", \"name\": \"predictions\", \"type\": \"scatter\", \"x\": [415, 445, 480, 515, 555, 590, 630, 680], \"y\": [0.0, 0.0, 0.0, 2.0, 1.0, 0.0, 5.0, 0.0]}, {\"marker\": {\"size\": 5, \"symbol\": \"circle-open\"}, \"mode\": \"markers\", \"name\": \"predictions\", \"type\": \"scatter\", \"x\": [415.0, 415.26526526526527, 415.53053053053054, 415.7957957957958, 416.0610610610611, 416.32632632632635, 416.59159159159157, 416.85685685685684, 417.1221221221221, 417.3873873873874, 417.65265265265265, 417.9179179179179, 418.1831831831832, 418.44844844844846, 418.71371371371373, 418.978978978979, 419.24424424424427, 419.5095095095095, 419.77477477477476, 420.04004004004, 420.3053053053053, 420.57057057057057, 420.83583583583584, 421.1011011011011, 421.3663663663664, 421.63163163163165, 421.8968968968969, 422.1621621621622, 422.4274274274274, 422.6926926926927, 422.95795795795794, 423.2232232232232, 423.4884884884885, 423.75375375375376, 424.019019019019, 424.2842842842843, 424.54954954954957, 424.81481481481484, 425.08008008008005, 425.3453453453453, 425.6106106106106, 425.87587587587586, 426.14114114114113, 426.4064064064064, 426.6716716716717, 426.93693693693695, 427.2022022022022, 427.4674674674675, 427.73273273273276, 427.997997997998, 428.26326326326324, 428.5285285285285, 428.7937937937938, 429.05905905905905, 429.3243243243243, 429.5895895895896, 429.85485485485486, 430.12012012012013, 430.3853853853854, 430.6506506506507, 430.9159159159159, 431.18118118118116, 431.44644644644643, 431.7117117117117, 431.97697697697697, 432.24224224224224, 432.5075075075075, 432.7727727727728, 433.03803803803805, 433.3033033033033, 433.5685685685686, 433.83383383383386, 434.0990990990991, 434.36436436436435, 434.6296296296296, 434.8948948948949, 435.16016016016016, 435.42542542542543, 435.6906906906907, 435.955955955956, 436.22122122122124, 436.4864864864865, 436.7517517517517, 437.017017017017, 437.28228228228227, 437.54754754754754, 437.8128128128128, 438.0780780780781, 438.34334334334335, 438.6086086086086, 438.8738738738739, 439.13913913913916, 439.40440440440443, 439.66966966966964, 439.9349349349349, 440.2002002002002, 440.46546546546546, 440.7307307307307, 440.995995995996, 441.26126126126127, 441.52652652652654, 441.7917917917918, 442.0570570570571, 442.32232232232235, 442.58758758758756, 442.85285285285283, 443.1181181181181, 443.3833833833834, 443.64864864864865, 443.9139139139139, 444.1791791791792, 444.44444444444446, 444.7097097097097, 444.974974974975, 445.24024024024027, 445.5055055055055, 445.77077077077075, 446.036036036036, 446.3013013013013, 446.56656656656656, 446.83183183183183, 447.0970970970971, 447.3623623623624, 447.62762762762765, 447.8928928928929, 448.15815815815813, 448.4234234234234, 448.68868868868867, 448.95395395395394, 449.2192192192192, 449.4844844844845, 449.74974974974975, 450.015015015015, 450.2802802802803, 450.54554554554556, 450.81081081081084, 451.0760760760761, 451.3413413413413, 451.6066066066066, 451.87187187187186, 452.13713713713713, 452.4024024024024, 452.6676676676677, 452.93293293293294, 453.1981981981982, 453.4634634634635, 453.72872872872875, 453.99399399399397, 454.25925925925924, 454.5245245245245, 454.7897897897898, 455.05505505505505, 455.3203203203203, 455.5855855855856, 455.85085085085086, 456.11611611611613, 456.3813813813814, 456.6466466466467, 456.91191191191194, 457.17717717717716, 457.4424424424424, 457.7077077077077, 457.97297297297297, 458.23823823823824, 458.5035035035035, 458.7687687687688, 459.03403403403405, 459.2992992992993, 459.5645645645646, 459.8298298298298, 460.0950950950951, 460.36036036036035, 460.6256256256256, 460.8908908908909, 461.15615615615616, 461.4214214214214, 461.6866866866867, 461.95195195195197, 462.21721721721724, 462.4824824824825, 462.7477477477478, 463.013013013013, 463.27827827827826, 463.54354354354354, 463.8088088088088, 464.0740740740741, 464.33933933933935, 464.6046046046046, 464.8698698698699, 465.13513513513516, 465.4004004004004, 465.66566566566564, 465.9309309309309, 466.1961961961962, 466.46146146146145, 466.7267267267267, 466.991991991992, 467.25725725725727, 467.52252252252254, 467.7877877877878, 468.0530530530531, 468.31831831831835, 468.5835835835836, 468.84884884884883, 469.1141141141141, 469.3793793793794, 469.64464464464464, 469.9099099099099, 470.1751751751752, 470.44044044044045, 470.7057057057057, 470.970970970971, 471.2362362362362, 471.5015015015015, 471.76676676676675, 472.032032032032, 472.2972972972973, 472.56256256256256, 472.82782782782783, 473.0930930930931, 473.3583583583584, 473.62362362362364, 473.8888888888889, 474.1541541541542, 474.41941941941946, 474.68468468468467, 474.94994994994994, 475.2152152152152, 475.4804804804805, 475.74574574574575, 476.011011011011, 476.2762762762763, 476.54154154154156, 476.80680680680683, 477.07207207207205, 477.3373373373373, 477.6026026026026, 477.86786786786786, 478.13313313313313, 478.3983983983984, 478.66366366366367, 478.92892892892894, 479.1941941941942, 479.4594594594595, 479.72472472472475, 479.98998998999, 480.2552552552553, 480.5205205205205, 480.7857857857858, 481.05105105105105, 481.3163163163163, 481.5815815815816, 481.84684684684686, 482.11211211211213, 482.3773773773774, 482.6426426426426, 482.9079079079079, 483.17317317317315, 483.4384384384384, 483.7037037037037, 483.96896896896897, 484.23423423423424, 484.4994994994995, 484.7647647647648, 485.03003003003005, 485.2952952952953, 485.5605605605606, 485.82582582582586, 486.09109109109113, 486.35635635635634, 486.6216216216216, 486.8868868868869, 487.15215215215215, 487.4174174174174, 487.6826826826827, 487.94794794794797, 488.21321321321324, 488.47847847847845, 488.7437437437437, 489.009009009009, 489.27427427427426, 489.53953953953953, 489.8048048048048, 490.0700700700701, 490.33533533533534, 490.6006006006006, 490.8658658658659, 491.13113113113116, 491.3963963963964, 491.6616616616617, 491.92692692692697, 492.1921921921922, 492.45745745745745, 492.7227227227227, 492.987987987988, 493.25325325325326, 493.51851851851853, 493.7837837837838, 494.0490490490491, 494.3143143143143, 494.57957957957956, 494.84484484484483, 495.1101101101101, 495.37537537537537, 495.64064064064064, 495.9059059059059, 496.1711711711712, 496.43643643643645, 496.7017017017017, 496.966966966967, 497.23223223223226, 497.49749749749753, 497.76276276276275, 498.028028028028, 498.2932932932933, 498.55855855855856, 498.82382382382383, 499.0890890890891, 499.35435435435437, 499.61961961961964, 499.88488488488485, 500.1501501501501, 500.4154154154154, 500.68068068068067, 500.94594594594594, 501.2112112112112, 501.4764764764765, 501.74174174174175, 502.007007007007, 502.2722722722723, 502.53753753753756, 502.80280280280283, 503.0680680680681, 503.33333333333337, 503.5985985985986, 503.86386386386386, 504.1291291291291, 504.3943943943944, 504.65965965965967, 504.92492492492494, 505.1901901901902, 505.4554554554555, 505.7207207207207, 505.98598598598596, 506.25125125125123, 506.5165165165165, 506.7817817817818, 507.04704704704704, 507.3123123123123, 507.5775775775776, 507.84284284284286, 508.1081081081081, 508.3733733733734, 508.63863863863867, 508.90390390390394, 509.1691691691692, 509.4344344344344, 509.6996996996997, 509.96496496496496, 510.23023023023023, 510.4954954954955, 510.7607607607608, 511.02602602602605, 511.2912912912913, 511.55655655655653, 511.8218218218218, 512.0870870870871, 512.3523523523523, 512.6176176176176, 512.8828828828829, 513.1481481481482, 513.4134134134134, 513.6786786786787, 513.943943943944, 514.2092092092092, 514.4744744744745, 514.7397397397398, 515.005005005005, 515.2702702702703, 515.5355355355356, 515.8008008008007, 516.066066066066, 516.3313313313313, 516.5965965965966, 516.8618618618618, 517.1271271271271, 517.3923923923924, 517.6576576576576, 517.9229229229229, 518.1881881881882, 518.4534534534534, 518.7187187187187, 518.983983983984, 519.2492492492493, 519.5145145145145, 519.7797797797798, 520.0450450450451, 520.3103103103103, 520.5755755755756, 520.8408408408409, 521.1061061061062, 521.3713713713714, 521.6366366366367, 521.901901901902, 522.1671671671672, 522.4324324324324, 522.6976976976977, 522.9629629629629, 523.2282282282282, 523.4934934934935, 523.7587587587587, 524.024024024024, 524.2892892892893, 524.5545545545546, 524.8198198198198, 525.0850850850851, 525.3503503503504, 525.6156156156156, 525.8808808808809, 526.1461461461462, 526.4114114114114, 526.6766766766767, 526.941941941942, 527.2072072072073, 527.4724724724724, 527.7377377377377, 528.003003003003, 528.2682682682682, 528.5335335335335, 528.7987987987988, 529.064064064064, 529.3293293293293, 529.5945945945946, 529.8598598598599, 530.1251251251251, 530.3903903903904, 530.6556556556557, 530.9209209209209, 531.1861861861862, 531.4514514514515, 531.7167167167167, 531.981981981982, 532.2472472472473, 532.5125125125126, 532.7777777777778, 533.0430430430431, 533.3083083083084, 533.5735735735736, 533.8388388388389, 534.1041041041041, 534.3693693693693, 534.6346346346346, 534.8998998998999, 535.1651651651651, 535.4304304304304, 535.6956956956957, 535.960960960961, 536.2262262262262, 536.4914914914915, 536.7567567567568, 537.022022022022, 537.2872872872873, 537.5525525525526, 537.8178178178179, 538.0830830830831, 538.3483483483484, 538.6136136136137, 538.8788788788789, 539.1441441441441, 539.4094094094094, 539.6746746746746, 539.9399399399399, 540.2052052052052, 540.4704704704704, 540.7357357357357, 541.001001001001, 541.2662662662663, 541.5315315315315, 541.7967967967968, 542.0620620620621, 542.3273273273273, 542.5925925925926, 542.8578578578579, 543.1231231231232, 543.3883883883884, 543.6536536536537, 543.918918918919, 544.1841841841842, 544.4494494494495, 544.7147147147148, 544.97997997998, 545.2452452452453, 545.5105105105106, 545.7757757757757, 546.041041041041, 546.3063063063063, 546.5715715715716, 546.8368368368368, 547.1021021021021, 547.3673673673674, 547.6326326326326, 547.8978978978979, 548.1631631631632, 548.4284284284284, 548.6936936936937, 548.958958958959, 549.2242242242243, 549.4894894894895, 549.7547547547548, 550.0200200200201, 550.2852852852852, 550.5505505505505, 550.8158158158158, 551.081081081081, 551.3463463463463, 551.6116116116116, 551.8768768768768, 552.1421421421421, 552.4074074074074, 552.6726726726727, 552.9379379379379, 553.2032032032032, 553.4684684684685, 553.7337337337337, 553.998998998999, 554.2642642642643, 554.5295295295296, 554.7947947947948, 555.0600600600601, 555.3253253253254, 555.5905905905906, 555.8558558558559, 556.1211211211212, 556.3863863863864, 556.6516516516517, 556.916916916917, 557.1821821821823, 557.4474474474474, 557.7127127127127, 557.977977977978, 558.2432432432432, 558.5085085085085, 558.7737737737738, 559.039039039039, 559.3043043043043, 559.5695695695696, 559.8348348348349, 560.1001001001001, 560.3653653653654, 560.6306306306307, 560.8958958958959, 561.1611611611612, 561.4264264264265, 561.6916916916916, 561.9569569569569, 562.2222222222222, 562.4874874874874, 562.7527527527527, 563.018018018018, 563.2832832832833, 563.5485485485485, 563.8138138138138, 564.0790790790791, 564.3443443443443, 564.6096096096096, 564.8748748748749, 565.1401401401401, 565.4054054054054, 565.6706706706707, 565.935935935936, 566.2012012012012, 566.4664664664665, 566.7317317317318, 566.996996996997, 567.2622622622623, 567.5275275275276, 567.7927927927929, 568.0580580580581, 568.3233233233234, 568.5885885885887, 568.8538538538539, 569.1191191191191, 569.3843843843844, 569.6496496496496, 569.9149149149149, 570.1801801801802, 570.4454454454454, 570.7107107107107, 570.975975975976, 571.2412412412413, 571.5065065065065, 571.7717717717718, 572.0370370370371, 572.3023023023023, 572.5675675675676, 572.8328328328329, 573.0980980980981, 573.3633633633633, 573.6286286286286, 573.8938938938938, 574.1591591591591, 574.4244244244244, 574.6896896896897, 574.9549549549549, 575.2202202202202, 575.4854854854855, 575.7507507507507, 576.016016016016, 576.2812812812813, 576.5465465465466, 576.8118118118118, 577.0770770770771, 577.3423423423424, 577.6076076076076, 577.8728728728729, 578.1381381381382, 578.4034034034034, 578.6686686686687, 578.933933933934, 579.1991991991993, 579.4644644644645, 579.7297297297298, 579.9949949949951, 580.2602602602603, 580.5255255255255, 580.7907907907908, 581.056056056056, 581.3213213213213, 581.5865865865866, 581.8518518518518, 582.1171171171171, 582.3823823823824, 582.6476476476477, 582.9129129129129, 583.1781781781782, 583.4434434434435, 583.7087087087087, 583.973973973974, 584.2392392392393, 584.5045045045046, 584.7697697697697, 585.035035035035, 585.3003003003003, 585.5655655655655, 585.8308308308308, 586.0960960960961, 586.3613613613613, 586.6266266266266, 586.8918918918919, 587.1571571571571, 587.4224224224224, 587.6876876876877, 587.952952952953, 588.2182182182182, 588.4834834834835, 588.7487487487488, 589.014014014014, 589.2792792792793, 589.5445445445446, 589.8098098098098, 590.0750750750751, 590.3403403403404, 590.6056056056057, 590.8708708708709, 591.1361361361362, 591.4014014014015, 591.6666666666667, 591.931931931932, 592.1971971971972, 592.4624624624624, 592.7277277277277, 592.992992992993, 593.2582582582583, 593.5235235235235, 593.7887887887888, 594.0540540540541, 594.3193193193193, 594.5845845845846, 594.8498498498499, 595.1151151151151, 595.3803803803804, 595.6456456456457, 595.910910910911, 596.1761761761762, 596.4414414414414, 596.7067067067067, 596.9719719719719, 597.2372372372372, 597.5025025025025, 597.7677677677677, 598.033033033033, 598.2982982982983, 598.5635635635635, 598.8288288288288, 599.0940940940941, 599.3593593593594, 599.6246246246246, 599.8898898898899, 600.1551551551552, 600.4204204204204, 600.6856856856857, 600.950950950951, 601.2162162162163, 601.4814814814815, 601.7467467467468, 602.0120120120121, 602.2772772772773, 602.5425425425426, 602.8078078078079, 603.0730730730731, 603.3383383383384, 603.6036036036036, 603.8688688688688, 604.1341341341341, 604.3993993993994, 604.6646646646647, 604.9299299299299, 605.1951951951952, 605.4604604604605, 605.7257257257257, 605.990990990991, 606.2562562562563, 606.5215215215215, 606.7867867867868, 607.0520520520521, 607.3173173173174, 607.5825825825826, 607.8478478478479, 608.1131131131131, 608.3783783783783, 608.6436436436436, 608.9089089089089, 609.1741741741741, 609.4394394394394, 609.7047047047047, 609.96996996997, 610.2352352352352, 610.5005005005005, 610.7657657657658, 611.031031031031, 611.2962962962963, 611.5615615615616, 611.8268268268268, 612.0920920920921, 612.3573573573574, 612.6226226226227, 612.8878878878879, 613.1531531531532, 613.4184184184185, 613.6836836836837, 613.948948948949, 614.2142142142143, 614.4794794794796, 614.7447447447448, 615.0100100100101, 615.2752752752752, 615.5405405405405, 615.8058058058058, 616.0710710710711, 616.3363363363363, 616.6016016016016, 616.8668668668669, 617.1321321321321, 617.3973973973974, 617.6626626626627, 617.927927927928, 618.1931931931932, 618.4584584584585, 618.7237237237238, 618.988988988989, 619.2542542542543, 619.5195195195195, 619.7847847847847, 620.05005005005, 620.3153153153153, 620.5805805805805, 620.8458458458458, 621.1111111111111, 621.3763763763764, 621.6416416416416, 621.9069069069069, 622.1721721721722, 622.4374374374374, 622.7027027027027, 622.967967967968, 623.2332332332332, 623.4984984984985, 623.7637637637638, 624.0290290290291, 624.2942942942943, 624.5595595595596, 624.8248248248249, 625.0900900900901, 625.3553553553554, 625.6206206206207, 625.885885885886, 626.1511511511512, 626.4164164164165, 626.6816816816817, 626.9469469469469, 627.2122122122122, 627.4774774774775, 627.7427427427427, 628.008008008008, 628.2732732732733, 628.5385385385385, 628.8038038038038, 629.0690690690691, 629.3343343343344, 629.5995995995996, 629.8648648648649, 630.1301301301302, 630.3953953953954, 630.6606606606607, 630.925925925926, 631.1911911911911, 631.4564564564564, 631.7217217217217, 631.986986986987, 632.2522522522522, 632.5175175175175, 632.7827827827828, 633.048048048048, 633.3133133133133, 633.5785785785786, 633.8438438438438, 634.1091091091091, 634.3743743743744, 634.6396396396397, 634.9049049049049, 635.1701701701702, 635.4354354354355, 635.7007007007007, 635.965965965966, 636.2312312312313, 636.4964964964965, 636.7617617617618, 637.0270270270271, 637.2922922922924, 637.5575575575576, 637.8228228228229, 638.0880880880882, 638.3533533533533, 638.6186186186186, 638.8838838838839, 639.1491491491491, 639.4144144144144, 639.6796796796797, 639.944944944945, 640.2102102102102, 640.4754754754755, 640.7407407407408, 641.006006006006, 641.2712712712713, 641.5365365365366, 641.8018018018018, 642.0670670670671, 642.3323323323324, 642.5975975975975, 642.8628628628628, 643.1281281281281, 643.3933933933934, 643.6586586586586, 643.9239239239239, 644.1891891891892, 644.4544544544544, 644.7197197197197, 644.984984984985, 645.2502502502502, 645.5155155155155, 645.7807807807808, 646.0460460460461, 646.3113113113113, 646.5765765765766, 646.8418418418419, 647.1071071071071, 647.3723723723724, 647.6376376376377, 647.902902902903, 648.1681681681682, 648.4334334334335, 648.6986986986988, 648.963963963964, 649.2292292292293, 649.4944944944946, 649.7597597597598, 650.025025025025, 650.2902902902903, 650.5555555555555, 650.8208208208208, 651.0860860860861, 651.3513513513514, 651.6166166166166, 651.8818818818819, 652.1471471471472, 652.4124124124124, 652.6776776776777, 652.942942942943, 653.2082082082082, 653.4734734734735, 653.7387387387388, 654.0040040040041, 654.2692692692692, 654.5345345345345, 654.7997997997998, 655.065065065065, 655.3303303303303, 655.5955955955956, 655.8608608608608, 656.1261261261261, 656.3913913913914, 656.6566566566567, 656.9219219219219, 657.1871871871872, 657.4524524524525, 657.7177177177177, 657.982982982983, 658.2482482482483, 658.5135135135135, 658.7787787787788, 659.0440440440441, 659.3093093093094, 659.5745745745746, 659.8398398398399, 660.1051051051052, 660.3703703703704, 660.6356356356357, 660.900900900901, 661.1661661661662, 661.4314314314314, 661.6966966966967, 661.961961961962, 662.2272272272272, 662.4924924924925, 662.7577577577578, 663.023023023023, 663.2882882882883, 663.5535535535536, 663.8188188188188, 664.0840840840841, 664.3493493493494, 664.6146146146147, 664.8798798798799, 665.1451451451452, 665.4104104104105, 665.6756756756757, 665.9409409409409, 666.2062062062062, 666.4714714714714, 666.7367367367367, 667.002002002002, 667.2672672672672, 667.5325325325325, 667.7977977977978, 668.063063063063, 668.3283283283283, 668.5935935935936, 668.8588588588589, 669.1241241241241, 669.3893893893894, 669.6546546546547, 669.91991991992, 670.1851851851852, 670.4504504504505, 670.7157157157158, 670.980980980981, 671.2462462462463, 671.5115115115116, 671.7767767767768, 672.0420420420421, 672.3073073073074, 672.5725725725727, 672.8378378378379, 673.1031031031032, 673.3683683683685, 673.6336336336336, 673.8988988988989, 674.1641641641642, 674.4294294294294, 674.6946946946947, 674.95995995996, 675.2252252252252, 675.4904904904905, 675.7557557557558, 676.021021021021, 676.2862862862863, 676.5515515515515, 676.8168168168168, 677.082082082082, 677.3473473473473, 677.6126126126126, 677.8778778778778, 678.1431431431431, 678.4084084084084, 678.6736736736736, 678.9389389389389, 679.2042042042042, 679.4694694694695, 679.7347347347347, 680.0], \"y\": [1.4082311705632122e-13, 0.0014536079099457919, 0.0014991181125919503, 0.0015447127220385277, 0.0015903503587224618, 0.0016359880829035413, 0.001681581378948679, 0.0017270841405106932, 0.0017724486566445975, 0.0018176255989051549, 0.0018625640094695204, 0.001907211290330002, 0.001951513193602108, 0.001995413812993553, 0.0020388555764807585, 0.0020817792402395537, 0.0021241238838772404, 0.002165826907013941, 0.0022068240272613455, 0.002247049279647155, 0.0022864350175345466, 0.002324911915085697, 0.0023624089713189227, 0.0023988535158095286, 0.002434171216084421, 0.0024682860867608026, 0.0025011205004797287, 0.0025325952006851945, 0.0025626293162996057, 0.002591140378346803, 0.002618044338573544, 0.00264325559012062, 0.0026666869902946936, 0.002688249885491881, 0.0027078541383239014, 0.002725408156997751, 0.002740818926999374, 0.0027539920451316903, 0.0027648317559571516, 0.002773240990694482, 0.002779121408618997, 0.0027823734410154745, 0.0027828963377319674, 0.0027805882163824654, 0.0027753461142457393, 0.0027670660429069613, 0.002755643045688063, 0.002740971257911928, 0.002722943970044759, 0.0027014536937599674, 0.0026763922309660116, 0.002647650745839559, 0.002615119839904265, 0.0025786896301941645, 0.00253824983053954, 0.002493689836011878, 0.002444898810562736, 0.0023917657778905095, 0.0023341797155668163, 0.00227202965245309, 0.002205204769436208, 0.0021335945035097312, 0.00205708865522628, 0.001975577499543508, 0.001888951900085414, 0.001797103426837113, 0.0016999244772904756, 0.0015973084010543906, 0.0014891496279418404, 0.0013753437995434568, 0.001255787904294022, 0.0011303804160362474, 0.000999021436083698, 0.0008616128387805219, 0.0007180584205545119, 0.0005682640524556342, 0.0004121378361693212, 0.00024959026349078393, 8.053437924362972e-05, -9.511405237853758e-05, -0.00027743637807139607, -0.0004665108823072722, -0.0006624126108828749, -0.00086521319116265, -0.001074980649055585, -0.0012917792227706767, -0.0015156691733971186, -0.001746706592360413, -0.0019849432058111818, -0.0022304261760062536, -0.0024831978997460254, -0.0027432958039383306, -0.003010752138362067, -0.003285593765708198, -0.0035678419489832015, -0.0038575121363613202, -0.004154613743579453, -0.0044591499339731045, -0.004771117396256337, -0.005090506120153309, -0.0054172991699965485, -0.005751472456410056, -0.00609299450620078, -0.006441826230590298, -0.006797920691919264, -0.007161222868968073, -0.007531669421037324, -0.007909188450942855, -0.008293699267080096, -0.00868511214472335, -0.009083328086728158, -0.009488238583810307, -0.00989972537458482, -0.010317660205547755, -0.010741904591195867, -0.011172309574480628, -0.01160871548779999, -0.01205095171473775, -0.012498836452766091, -0.012952176477132121, -0.013410766906153369, -0.013874390968157922, -0.01434281977030321, -0.014815812069520108, -0.015293114045830329, -0.01577445907829001, -0.016259567523822703, -0.016748146499203705, -0.017239889666467653, -0.01773447702201516, -0.018231574689698677, -0.01873083471817175, -0.01923189488279402, -0.019734378492385764, -0.020237894201130063, -0.02074203582592849, -0.02124638216951707, -0.021750496849653186, -0.02225392813469168, -0.02275620878586708, -0.023256855906605492, -0.02375537079919265, -0.024251238829127116, -0.024743929297488226, -0.02523289532165621, -0.02571757372471925, -0.02619738493390523, -0.026671732888380255, -0.027140004956755587, -0.027601571864642627, -0.028055787632604523, -0.02850198952484547, -0.0289394980089819, -0.029367616727241835, -0.029785632479435, -0.030192815218035678, -0.030588418055721885, -0.030971677285709917, -0.03134181241522116, -0.03169802621241942, -0.032039504767148716, -0.0323654175658024, -0.0326749175806495, -0.032967141373939454, -0.0332412092171016, -0.033496225225352366, -0.03373127750801628, -0.03394543833485971, -0.034137764318733346, -0.03430729661480752, -0.03445306113668171, -0.03457406878963723, -0.03466931572129726, -0.03473778358994564, -0.034778439850749514, -0.03479023806011781, -0.03477211819841876, -0.034723007011267217, -0.03464181836958065, -0.03452745364859118, -0.03437880212598597, -0.03419474139933729, -0.03397413782296629, -0.03371584696437274, -0.0334187140803453, -0.033081574612851626, -0.03270325470479144, -0.032282571735678514, -0.03181833487729899, -0.03130934566937508, -0.030754398615247265, -0.030152281797562727, -0.029501777513944435, -0.028801662932590504, -0.02805071076773242, -0.027247689974860698, -0.026391366465605935, -0.02548050384213449, -0.024513864150900185, -0.02349020865557125, -0.022408298628919382, -0.021266896163440643, -0.020064765000453497, -0.018800671377385655, -0.017473384892941132, -0.016081679389820705, -0.014624333854620572, -0.013100133334528585, -0.011507869870402837, -0.009846343445783223, -0.00811436295136593, -0.006310747164447308, -0.00443432574279963, -0.0024839402324245557, -0.00045844508861066224, 0.0016432912903373842, 0.003822385517328844, 0.006079938159344961, 0.008417032669634852, 0.01083473430997313, 0.013334089063730598, 0.015916122540555452, 0.018581838873473644, 0.021332219609243988, 0.024168222592854713, 0.02709078084703874, 0.03010080144775494, 0.033199164396562716, 0.036386721490894794, 0.03966429519320533, 0.043032677500043706, 0.04649262881210138, 0.05004487680629856, 0.053690115311035805, 0.057429003185706415, 0.061262163205644676, 0.06519018095364637, 0.06921360371927952, 0.07333293940715893, 0.07754865545544193, 0.08186117776575136, 0.08627088964581159, 0.09077813076605652, 0.09538319613148272, 0.10008633507006734, 0.1048877502390454, 0.10978759665035324, 0.11478598071658269, 0.11988295931877457, 0.1250785388973544, 0.1303726745676007, 0.13576526926095356, 0.14125617289350106, 0.14684518156300358, 0.15253203677578295, 0.15831642470478569, 0.1641979754801855, 0.1701762625137973, 0.1762508018586248, 0.18242105160483568, 0.18868641131343594, 0.19504622148888337, 0.20149976309191092, 0.2080462570937623, 0.21468486407302104, 0.22141468385623375, 0.2282347552034562, 0.2351440555398194, 0.24214150073423235, 0.24922594492625244, 0.2563961804021316, 0.2636509375210221, 0.270988884692298, 0.27840862840484426, 0.285908713309209, 0.29348762235340825, 0.30114377697312245, 0.30887553733702616, 0.3166812026479058, 0.3245590115001164, 0.33250714229400574, 0.34052371370774714, 0.3486067852270066, 0.35675435773285175, 0.36496437414819366, 0.373234720142986, 0.38156322489840255, 0.3899476619300857, 0.39838574997048853, 0.4068751539103434, 0.41541348579909226, 0.4239983059041703, 0.43262712382887636, 0.4412973996885103, 0.4500065453443961, 0.45875192569535045, 0.46753086002600264, 0.4763406234114038, 0.48517844817720895, 0.49404152541463614, 0.5029270065494122, 0.5118320049637064, 0.520753597670121, 0.529688827036582, 0.5386347025610461, 0.5475882026947119, 0.5565462767124842, 0.565505846629276, 0.5744638091606644, 0.5834170377264037, 0.5923623844951632, 0.6012966824687848, 0.6102167476043465, 0.619119380972201, 0.6280013709480406, 0.636859495437123, 0.6456905241285743, 0.6544912207776863, 0.6632583455140955, 0.6719886571736234, 0.6806789156514983, 0.6893258842746988, 0.6979263321910026, 0.7064770367723557, 0.7149747860301097, 0.7234163810396246, 0.7317986383716725, 0.7401183925281106, 0.7483724983791924, 0.7565578335998586, 0.764671301102384, 0.7727098314626699, 0.7806703853374545, 0.7885499558697551, 0.7963455710797852, 0.804054296238592, 0.8116732362216703, 0.8191995378398249, 0.8266303921444801, 0.8339630367047455, 0.8411947578534827, 0.8483228928996396, 0.8553448323041866, 0.8622580218169696, 0.8690599645717886, 0.8757482231371516, 0.882320421520074, 0.8887742471203738, 0.8951074526329912, 0.9013178578958547, 0.9074033516808773, 0.9133618934257663, 0.9191915149043098, 0.9248903218329434, 0.9304564954114168, 0.9358882937954521, 0.9411840534993917, 0.9463421907268779, 0.9513612026276882, 0.9562396684789475, 0.9609762507890312, 0.9655696963225179, 0.9700188370447046, 0.9743225909842466, 0.9784799630125863, 0.9824900455389752, 0.9863520191199252, 0.990065152982113, 0.9936288054577871, 0.9970424243319074, 1.000305547100297, 1.0034178011382482, 1.0063789037791047, 1.0091886623024673, 1.0118469738317948, 1.0143538251412796, 1.0167092923719903, 1.0189135406574101, 1.0209668236586023, 1.0228694830093537, 1.024621947671779, 1.0262247332029795, 1.0276784409334547, 1.0289837570581142, 1.0301414516408272, 1.0311523775335718, 1.0320174692113688, 1.032737741524288, 1.0333142883679285, 1.0337482812738983, 1.034040967921907, 1.034193670575208, 1.0342077844412256, 1.034084775959304, 1.033826181017614, 1.0334336031013582, 1.0329087113744957, 1.032253238697312, 1.0314689795822394, 1.0305577880904215, 1.0295215756715965, 1.0283623089499445, 1.0270820074586364, 1.0256827413258656, 1.0241666289152322, 1.0225358344234043, 1.0207925654380254, 1.0189390704589238, 1.0169776363856822, 1.0149105859747185, 1.0127402752690329, 1.0104690910038274, 1.0080994479912415, 1.0056337864874556, 1.0030745695454473, 1.0004242803567107, 0.9976854195852329, 0.9948605026970672, 0.9919520572888088, 0.9889626204182971, 0.9858947359408661, 0.9827509518544291, 0.9795338176566851, 0.9762458817177213, 0.972889688671228, 0.9694677768275405, 0.9659826756116853, 0.9624369030295454, 0.9588329631652391, 0.9551733437127401, 0.9514605135447401, 0.9476969203216573, 0.943884988143666, 0.9400271152485558, 0.9361256717581266, 0.9321829974758036, 0.9282013997380288, 0.9241831513219414, 0.9201304884117657, 0.916045608626227, 0.9119306691092355, 0.9077877846860014, 0.9036190260866095, 0.8994264182390178, 0.8952119386333425, 0.890977515759159, 0.8867250276174744, 0.8824563003089191, 0.8781731066995613, 0.8738771651656954, 0.8695701384187754, 0.8652536324116333, 0.8609291953269097, 0.8565983166486131, 0.8522624263175249, 0.8479228939710932, 0.84358102826835, 0.8392380763002316, 0.8348952230855953, 0.8305535911531199, 0.8262142402091202, 0.8218781668912252, 0.8175463046077629, 0.8132195234625296, 0.8088986302645846, 0.8045843686225318, 0.8002774191226775, 0.7959783995903531, 0.7916878654335509, 0.787406310067941, 0.7831341654222541, 0.7788718025228665, 0.7746195321563674, 0.7703776056087757, 0.7661462154800018, 0.7619254965720241, 0.7577155268491944, 0.753516328469009, 0.749327868881563, 0.7451500619958651, 0.7409827694111158, 0.7368258017109444, 0.7326789198185895, 0.7285418364108911, 0.7244142173889365, 0.7202956834031438, 0.7161858114304933, 0.7120841364015874, 0.7079901528751833, 0.7039033167577695, 0.69982304706575, 0.6957487277277662, 0.6916797094246301, 0.6876153114643496, 0.6835548236896842, 0.6794975084156771, 0.6754426023945439, 0.671389318805364, 0.6673368492659465, 0.6632843658642761, 0.6592310232069516, 0.6551759604820031, 0.6511183035335105, 0.6470571669454629, 0.6429916561322826, 0.6389208694334876, 0.6348439002099887, 0.6307598389395178, 0.6266677753087377, 0.6225668002996233, 0.6184560082676992, 0.6143344990098141, 0.6102013798191233, 0.6060557675250354, 0.6018967905158843, 0.5977235907421913, 0.5935353256983782, 0.5893311703808815, 0.5851103192206752, 0.5808719879882415, 0.5766154156691105, 0.5723398663081621, 0.5680446308209114, 0.5637290287700933, 0.5593924101059338, 0.5550341568685289, 0.550653684850853, 0.5462504452209902, 0.541823926102212, 0.5373736541096603, 0.5328991958424041, 0.5284001593297479, 0.5238761954307479, 0.5193269991859262, 0.514752311120284, 0.510151918496784, 0.5055256565195171, 0.5008734094858683, 0.4961951118870617, 0.4914907494565436, 0.4867603601656974, 0.48200403516650153, 0.47722191968079575, 0.47241421383585436, 0.46758117344609545, 0.4627231107407576, 0.4578403950374764, 0.4529334533617608, 0.44800277101239444, 0.4430488920728774, 0.4380724198690881, 0.4330740173733609, 0.4280544075552665, 0.4230143736794379, 0.4179547595507772, 0.412876469707531, 0.4077804695626366, 0.40266778549391735, 0.3975395048836419, 0.3923967761080601, 0.38724080847756337, 0.38207287212810526, 0.3768942978646245, 0.3717064769571688, 0.366510860890493, 0.36130896106793053, 0.35610234847031946, 0.3508926532708285, 0.3456815644065401, 0.34047082910763066, 0.3352622523850376, 0.33005769647751465, 0.3248590802589465, 0.31966837860684155, 0.31448762173292316, 0.30931889447669725, 0.3041643355629479, 0.299026136824035, 0.29390654238791275, 0.28880784783278, 0.28373239930922756, 0.2786825926307786, 0.2736608723336853, 0.2686697307068534, 0.2637117067926993, 0.25878938535978935, 0.2539053958480687, 0.24906241128744266, 0.24426314719048542, 0.23951036042002785, 0.23480684803231938, 0.23015544609646632, 0.22555902849082704, 0.22102050567697135, 0.21654282345185474, 0.21212896167876014, 0.2077819329975767, 0.20350478151495222, 0.1993005814747833, 0.19517243590956093, 0.19112347527294948, 0.18715685605405993, 0.18327575937375684, 0.17948338956336246, 0.1757829727260802, 0.17217775528141127, 0.16867100249283182, 0.16526599697897149, 0.1619660372084737, 0.15877443597874458, 0.1556945188787164, 0.15272962273576493, 0.14988309404688857, 0.14715828739421535, 0.14455856384490678, 0.14208728933550166, 0.13974783304070948, 0.13754356572666387, 0.13547785808863122, 0.13355407907313652, 0.13177559418447915, 0.1301457637755941, 0.12866794132319484, 0.1273454716871491, 0.12618168935401552, 0.12517991666467593, 0.12434346202600546, 0.12367561810650818, 0.12317966001586425, 0.12285884346833967, 0.1227164029300141, 0.12275554974979977, 0.12297947027423423, 0.12339132394605062, 0.12399424138654339, 0.12479132246177502, 0.12578563433268514, 0.1269802094891997, 0.12837804376845732, 0.12998209435730546, 0.13179527777925615, 0.13382046786612026, 0.13606049371457538, 0.1385181376279796, 0.14119613304376874, 0.1440971624468178, 0.14722385526921608, 0.15057878577693545, 0.1541644709439183, 0.15798336831419046, 0.1620378738526355, 0.16633031978512205, 0.17086297242876164, 0.17563803001310757, 0.1806576204931634, 0.18592379935517409, 0.191438547416171, 0.19720376861837524, 0.2032212878195858, 0.20949284858074527, 0.2160201109519835, 0.22280464925846824, 0.22984794988746055, 0.23715140907808305, 0.24471633071533852, 0.25254392412998006, 0.2606353019059542, 0.26899147769716114, 0.277613364055331, 0.2865017702709781, 0.29565740022929377, 0.3050808502831194, 0.31477260714498556, 0.32473304580046225, 0.33496242744495663, 0.34546089744630465, 0.35622848333546064, 0.3672650928276585, 0.378570511876538, 0.3901444027637124, 0.4019863022262956, 0.41409561962504293, 0.4264716351557099, 0.43911349810628686, 0.4520202251628731, 0.46519069876693586, 0.478623665526669, 0.49231773468533946, 0.5062713766494201, 0.5204829215793623, 0.534950558045832, 0.5496723317543722, 0.5646461443412616, 0.5798697522435418, 0.5953407656460578, 0.6110566475083361, 0.6270147126742383, 0.6432121270671819, 0.6596459069737142, 0.6763129184182901, 0.6932098766319803, 0.7103333456177702, 0.7276797378152082, 0.7452453138669769, 0.763026182489903, 0.7810183004530279, 0.7992174726650345, 0.817619352373508, 0.8362194414782746, 0.8550130909609786, 0.8739955014330956, 0.8931617238043585, 0.9125066600735272, 0.9320250642432664, 0.9517115433609653, 0.9715605586869973, 0.9915664269918718, 1.0117233219837243, 1.0320252758673032, 1.0524661810354994, 1.0730397918944876, 1.0937397268231244, 1.1145594702673947, 1.1354923749703507, 1.1565316643378485, 1.1776704349403575, 1.1989016591508341, 1.2202181879184497, 1.2416127536779735, 1.2630779733942972, 1.2846063517413435, 1.3061902844146591, 1.3278220615766216, 1.3494938714330798, 1.371197803939983, 1.392925854638555, 1.4146699286172042, 1.4364218445981884, 1.4581733391470653, 1.479916071002449, 1.501641625523735, 1.5233415192540645, 1.5450072045956227, 1.5666300745943351, 1.588201467830697, 1.6097126734132823, 1.6311549360714659, 1.6525194613435605, 1.6737974208563926, 1.6949799576923394, 1.7160581918395192, 1.7370232257206697, 1.757866149796282, 1.7785780482371063, 1.7991500046612956, 1.8195731079311148, 1.839838458004079, 1.8599371718331905, 1.8798603893109929, 1.8995992792518328, 1.9191450454066636, 1.9384889325047512, 1.9576222323163879, 1.9765362897306482, 1.9952225088422573, 2.0136723590414465, 2.03187738110058, 2.049829193251472, 2.0675194972469715, 2.0849400844006305, 2.102082841598058, 2.1189397572735493, 2.1355029273457338, 2.15176456110565, 2.167716987051078, 2.1833526586605627, 2.198664160100871, 2.2136442118615407, 2.2282856763101595, 2.242581563162216, 2.2565250348593016, 2.2701094118494995, 2.2833281777639822, 2.2961749844838324, 2.3086436570911752, 2.3207281986989536, 2.332422795153588, 2.3437218196050758, 2.354619836939096, 2.36511160806583, 2.375192094060434, 2.3848564601501816, 2.3941000795434406, 2.4029185370959167, 2.411307632809677, 2.4192633851606753, 2.426782034250739, 2.4338600447801246, 2.440494108836946, 2.4466811485000695, 2.4524183182521737, 2.457703007199982, 2.4625328410988776, 2.4669056841793244, 2.470819640772761, 2.4742730567348943, 2.4772645206645514, 2.479792864916468, 2.4818571664067, 2.4834567472095412, 2.4845911749451077, 2.4852602629570177, 2.4854640702798236, 2.4852029013961348, 2.4844773057836225, 2.4832880772523382, 2.4816362530730687, 2.4795231128976756, 2.476950177472641, 2.473919207147287, 2.470432200178393, 2.4664913908331783, 2.4620992472928775, 2.4572584693593527, 2.4519719859674525, 2.4462429525060574, 2.4400747479509635, 2.4334709718129974, 2.4264354409049944, 2.4189721859314397, 2.411085447904813, 2.402779674392911, 2.3940595156015156, 2.384929820297112, 2.3753956315743934, 2.365462182473604, 2.3551348914527854, 2.3444193577203265, 2.3333213564332493, 2.321846833766765, 2.310001901860959, 2.297792833650417, 2.285226057582718, 2.272308152231962, 2.2590458408135796, 2.245445985606484, 2.2315155822891755, 2.2172617541961044, 2.2026917465007467, 2.187812920332055, 2.172632746830811, 2.1571588011524314, 2.1413987564230004, 2.125360377655129, 2.1090515156302105, 2.0924801007538885, 2.075654136891292, 2.0585816951885816, 2.0412709078875446, 2.0237299621396514, 2.0059670938261194, 1.9879905813903678, 1.9698087396893127, 1.9514299138696047, 1.9328624732752053, 1.9141148053923118, 1.8951953098375325, 1.8761123923953855, 1.8568744591108008, 1.837489910442184, 1.817967135480737, 1.7983145062413295, 1.7785403720300623, 1.7586530538937915, 1.738660839156459, 1.7185719760469027, 1.698394668422933, 1.6781370705960321, 1.6578072822608243, 1.637413343533597, 1.6169632301036763, 1.596464848501268, 1.5759260314854833, 1.5553545335557821, 1.534758026589874, 1.5141440956112207, 1.4935202346887235, 1.4728938429711962, 1.4522722208589538, 1.4316625663147116, 1.4110719713155788, 1.3905074184480888, 1.3699757776477006, 1.3494838030840146, 1.329038130193029, 1.3086452728572766, 1.2883116207344891, 1.268043436735519, 1.247846854651782, 1.227727876932279, 1.2076923726103643, 1.1877460753799505, 1.1678945818206716, 1.1481433497715587, 1.1284976968525424, 1.1089627991325577, 1.0895436899435123, 1.0702452588387155, 1.0510722506942745, 1.0320292649520855, 1.0131207550026216, 0.9943510277055703, 0.9757242430465154, 0.9572444139274501, 0.9389154060887749, 0.9207409381605977, 0.9027245818407436, 0.8848697621967989, 0.8671797580896591, 0.8496577027156316, 0.8323065842642986, 0.8151292466890162, 0.7981283905871533, 0.7813065741868475, 0.7646662144369847, 0.7482095881972944, 0.7319388335251416, 0.7158559510555575, 0.6999628054712402, 0.6842611270589793, 0.6687525133488749, 0.6534384308331546, 0.6383202167606151, 0.6233990810034593, 0.608676107992804, 0.59415225871922, 0.5798283727948604, 0.5657051705734736, 0.5517832553248156, 0.5380631154597881, 0.5245451268029018, 0.5112295549084822, 0.49811655741707145, 0.485206186448695, 0.4724983910295208, 0.4599930195484637, 0.4476898222405474, 0.4355884536936288, 0.4236884753753, 0.41198935817681925, 0.40049048497086515, 0.3891911531801887, 0.37809057735407325, 0.36718789174975747, 0.35648215291587754, 0.34597234227526197, 0.3356573687043228, 0.3255360711063686, 0.3156072209763924, 0.30586952495481234, 0.29632162736773704, 0.28696211275154415, 0.2777895083595018, 0.26880228664825967, 0.2599988677422439, 0.25137762187394896, 0.24293687179820916, 0.2346748951787425, 0.22658992694522057, 0.21868016161921136, 0.2109437556075432, 0.20337882946160754, 0.19598347010120773, 0.18875573300175677, 0.18169364434360075, 0.1747952031223349, 0.16805838321914257, 0.16148113543023795, 0.1550613894544539, 0.14879705583831884, 0.14268602787786852, 0.13672618347654983, 0.13091538695872962, 0.12525149083830772, 0.11973233754200972, 0.11435576108708548, 0.10911958871313004, 0.104021642467792, 0.09905974074633549, 0.0942316997849098, 0.0895353351075408, 0.08496846292693269, 0.08052890149916933, 0.07621447243246107, 0.0720230019502031, 0.06795232210859029, 0.06400027196909046, 0.06016469872618004, 0.05644345879073054, 5.2834403518886575e-12]}],\n",
              "                        {\"template\": {\"data\": {\"bar\": [{\"error_x\": {\"color\": \"#2a3f5f\"}, \"error_y\": {\"color\": \"#2a3f5f\"}, \"marker\": {\"line\": {\"color\": \"#E5ECF6\", \"width\": 0.5}}, \"type\": \"bar\"}], \"barpolar\": [{\"marker\": {\"line\": {\"color\": \"#E5ECF6\", \"width\": 0.5}}, \"type\": \"barpolar\"}], \"carpet\": [{\"aaxis\": {\"endlinecolor\": \"#2a3f5f\", \"gridcolor\": \"white\", \"linecolor\": \"white\", \"minorgridcolor\": \"white\", \"startlinecolor\": \"#2a3f5f\"}, \"baxis\": {\"endlinecolor\": \"#2a3f5f\", \"gridcolor\": \"white\", \"linecolor\": \"white\", \"minorgridcolor\": \"white\", \"startlinecolor\": \"#2a3f5f\"}, \"type\": \"carpet\"}], \"choropleth\": [{\"colorbar\": {\"outlinewidth\": 0, \"ticks\": \"\"}, \"type\": \"choropleth\"}], \"contour\": [{\"colorbar\": {\"outlinewidth\": 0, \"ticks\": \"\"}, \"colorscale\": [[0.0, \"#0d0887\"], [0.1111111111111111, \"#46039f\"], [0.2222222222222222, \"#7201a8\"], [0.3333333333333333, \"#9c179e\"], [0.4444444444444444, \"#bd3786\"], [0.5555555555555556, \"#d8576b\"], [0.6666666666666666, \"#ed7953\"], [0.7777777777777778, \"#fb9f3a\"], [0.8888888888888888, \"#fdca26\"], [1.0, \"#f0f921\"]], \"type\": \"contour\"}], \"contourcarpet\": [{\"colorbar\": {\"outlinewidth\": 0, \"ticks\": \"\"}, \"type\": \"contourcarpet\"}], \"heatmap\": [{\"colorbar\": {\"outlinewidth\": 0, \"ticks\": \"\"}, \"colorscale\": [[0.0, \"#0d0887\"], [0.1111111111111111, \"#46039f\"], [0.2222222222222222, \"#7201a8\"], [0.3333333333333333, \"#9c179e\"], [0.4444444444444444, \"#bd3786\"], [0.5555555555555556, \"#d8576b\"], [0.6666666666666666, \"#ed7953\"], [0.7777777777777778, \"#fb9f3a\"], [0.8888888888888888, \"#fdca26\"], [1.0, \"#f0f921\"]], \"type\": \"heatmap\"}], \"heatmapgl\": [{\"colorbar\": {\"outlinewidth\": 0, \"ticks\": \"\"}, \"colorscale\": [[0.0, \"#0d0887\"], [0.1111111111111111, \"#46039f\"], [0.2222222222222222, \"#7201a8\"], [0.3333333333333333, \"#9c179e\"], [0.4444444444444444, \"#bd3786\"], [0.5555555555555556, \"#d8576b\"], [0.6666666666666666, \"#ed7953\"], [0.7777777777777778, \"#fb9f3a\"], [0.8888888888888888, \"#fdca26\"], [1.0, \"#f0f921\"]], \"type\": \"heatmapgl\"}], \"histogram\": [{\"marker\": {\"colorbar\": {\"outlinewidth\": 0, \"ticks\": \"\"}}, \"type\": \"histogram\"}], \"histogram2d\": [{\"colorbar\": {\"outlinewidth\": 0, \"ticks\": \"\"}, \"colorscale\": [[0.0, \"#0d0887\"], [0.1111111111111111, \"#46039f\"], [0.2222222222222222, \"#7201a8\"], [0.3333333333333333, \"#9c179e\"], [0.4444444444444444, \"#bd3786\"], [0.5555555555555556, \"#d8576b\"], [0.6666666666666666, \"#ed7953\"], [0.7777777777777778, \"#fb9f3a\"], [0.8888888888888888, \"#fdca26\"], [1.0, \"#f0f921\"]], \"type\": \"histogram2d\"}], \"histogram2dcontour\": [{\"colorbar\": {\"outlinewidth\": 0, \"ticks\": \"\"}, \"colorscale\": [[0.0, \"#0d0887\"], [0.1111111111111111, \"#46039f\"], [0.2222222222222222, \"#7201a8\"], [0.3333333333333333, \"#9c179e\"], [0.4444444444444444, \"#bd3786\"], [0.5555555555555556, \"#d8576b\"], [0.6666666666666666, \"#ed7953\"], [0.7777777777777778, \"#fb9f3a\"], [0.8888888888888888, \"#fdca26\"], [1.0, \"#f0f921\"]], \"type\": \"histogram2dcontour\"}], \"mesh3d\": [{\"colorbar\": {\"outlinewidth\": 0, \"ticks\": \"\"}, \"type\": \"mesh3d\"}], \"parcoords\": [{\"line\": {\"colorbar\": {\"outlinewidth\": 0, \"ticks\": \"\"}}, \"type\": \"parcoords\"}], \"pie\": [{\"automargin\": true, \"type\": \"pie\"}], \"scatter\": [{\"marker\": {\"colorbar\": {\"outlinewidth\": 0, \"ticks\": \"\"}}, \"type\": \"scatter\"}], \"scatter3d\": [{\"line\": {\"colorbar\": {\"outlinewidth\": 0, \"ticks\": \"\"}}, \"marker\": {\"colorbar\": {\"outlinewidth\": 0, \"ticks\": \"\"}}, \"type\": \"scatter3d\"}], \"scattercarpet\": [{\"marker\": {\"colorbar\": {\"outlinewidth\": 0, \"ticks\": \"\"}}, \"type\": \"scattercarpet\"}], \"scattergeo\": [{\"marker\": {\"colorbar\": {\"outlinewidth\": 0, \"ticks\": \"\"}}, \"type\": \"scattergeo\"}], \"scattergl\": [{\"marker\": {\"colorbar\": {\"outlinewidth\": 0, \"ticks\": \"\"}}, \"type\": \"scattergl\"}], \"scattermapbox\": [{\"marker\": {\"colorbar\": {\"outlinewidth\": 0, \"ticks\": \"\"}}, \"type\": \"scattermapbox\"}], \"scatterpolar\": [{\"marker\": {\"colorbar\": {\"outlinewidth\": 0, \"ticks\": \"\"}}, \"type\": \"scatterpolar\"}], \"scatterpolargl\": [{\"marker\": {\"colorbar\": {\"outlinewidth\": 0, \"ticks\": \"\"}}, \"type\": \"scatterpolargl\"}], \"scatterternary\": [{\"marker\": {\"colorbar\": {\"outlinewidth\": 0, \"ticks\": \"\"}}, \"type\": \"scatterternary\"}], \"surface\": [{\"colorbar\": {\"outlinewidth\": 0, \"ticks\": \"\"}, \"colorscale\": [[0.0, \"#0d0887\"], [0.1111111111111111, \"#46039f\"], [0.2222222222222222, \"#7201a8\"], [0.3333333333333333, \"#9c179e\"], [0.4444444444444444, \"#bd3786\"], [0.5555555555555556, \"#d8576b\"], [0.6666666666666666, \"#ed7953\"], [0.7777777777777778, \"#fb9f3a\"], [0.8888888888888888, \"#fdca26\"], [1.0, \"#f0f921\"]], \"type\": \"surface\"}], \"table\": [{\"cells\": {\"fill\": {\"color\": \"#EBF0F8\"}, \"line\": {\"color\": \"white\"}}, \"header\": {\"fill\": {\"color\": \"#C8D4E3\"}, \"line\": {\"color\": \"white\"}}, \"type\": \"table\"}]}, \"layout\": {\"annotationdefaults\": {\"arrowcolor\": \"#2a3f5f\", \"arrowhead\": 0, \"arrowwidth\": 1}, \"coloraxis\": {\"colorbar\": {\"outlinewidth\": 0, \"ticks\": \"\"}}, \"colorscale\": {\"diverging\": [[0, \"#8e0152\"], [0.1, \"#c51b7d\"], [0.2, \"#de77ae\"], [0.3, \"#f1b6da\"], [0.4, \"#fde0ef\"], [0.5, \"#f7f7f7\"], [0.6, \"#e6f5d0\"], [0.7, \"#b8e186\"], [0.8, \"#7fbc41\"], [0.9, \"#4d9221\"], [1, \"#276419\"]], \"sequential\": [[0.0, \"#0d0887\"], [0.1111111111111111, \"#46039f\"], [0.2222222222222222, \"#7201a8\"], [0.3333333333333333, \"#9c179e\"], [0.4444444444444444, \"#bd3786\"], [0.5555555555555556, \"#d8576b\"], [0.6666666666666666, \"#ed7953\"], [0.7777777777777778, \"#fb9f3a\"], [0.8888888888888888, \"#fdca26\"], [1.0, \"#f0f921\"]], \"sequentialminus\": [[0.0, \"#0d0887\"], [0.1111111111111111, \"#46039f\"], [0.2222222222222222, \"#7201a8\"], [0.3333333333333333, \"#9c179e\"], [0.4444444444444444, \"#bd3786\"], [0.5555555555555556, \"#d8576b\"], [0.6666666666666666, \"#ed7953\"], [0.7777777777777778, \"#fb9f3a\"], [0.8888888888888888, \"#fdca26\"], [1.0, \"#f0f921\"]]}, \"colorway\": [\"#636efa\", \"#EF553B\", \"#00cc96\", \"#ab63fa\", \"#FFA15A\", \"#19d3f3\", \"#FF6692\", \"#B6E880\", \"#FF97FF\", \"#FECB52\"], \"font\": {\"color\": \"#2a3f5f\"}, \"geo\": {\"bgcolor\": \"white\", \"lakecolor\": \"white\", \"landcolor\": \"#E5ECF6\", \"showlakes\": true, \"showland\": true, \"subunitcolor\": \"white\"}, \"hoverlabel\": {\"align\": \"left\"}, \"hovermode\": \"closest\", \"mapbox\": {\"style\": \"light\"}, \"paper_bgcolor\": \"white\", \"plot_bgcolor\": \"#E5ECF6\", \"polar\": {\"angularaxis\": {\"gridcolor\": \"white\", \"linecolor\": \"white\", \"ticks\": \"\"}, \"bgcolor\": \"#E5ECF6\", \"radialaxis\": {\"gridcolor\": \"white\", \"linecolor\": \"white\", \"ticks\": \"\"}}, \"scene\": {\"xaxis\": {\"backgroundcolor\": \"#E5ECF6\", \"gridcolor\": \"white\", \"gridwidth\": 2, \"linecolor\": \"white\", \"showbackground\": true, \"ticks\": \"\", \"zerolinecolor\": \"white\"}, \"yaxis\": {\"backgroundcolor\": \"#E5ECF6\", \"gridcolor\": \"white\", \"gridwidth\": 2, \"linecolor\": \"white\", \"showbackground\": true, \"ticks\": \"\", \"zerolinecolor\": \"white\"}, \"zaxis\": {\"backgroundcolor\": \"#E5ECF6\", \"gridcolor\": \"white\", \"gridwidth\": 2, \"linecolor\": \"white\", \"showbackground\": true, \"ticks\": \"\", \"zerolinecolor\": \"white\"}}, \"shapedefaults\": {\"line\": {\"color\": \"#2a3f5f\"}}, \"ternary\": {\"aaxis\": {\"gridcolor\": \"white\", \"linecolor\": \"white\", \"ticks\": \"\"}, \"baxis\": {\"gridcolor\": \"white\", \"linecolor\": \"white\", \"ticks\": \"\"}, \"bgcolor\": \"#E5ECF6\", \"caxis\": {\"gridcolor\": \"white\", \"linecolor\": \"white\", \"ticks\": \"\"}}, \"title\": {\"x\": 0.05}, \"xaxis\": {\"automargin\": true, \"gridcolor\": \"white\", \"linecolor\": \"white\", \"ticks\": \"\", \"title\": {\"standoff\": 15}, \"zerolinecolor\": \"white\", \"zerolinewidth\": 2}, \"yaxis\": {\"automargin\": true, \"gridcolor\": \"white\", \"linecolor\": \"white\", \"ticks\": \"\", \"title\": {\"standoff\": 15}, \"zerolinecolor\": \"white\", \"zerolinewidth\": 2}}}, \"title\": {\"text\": \"interpolated wavelength\"}},\n",
              "                        {\"responsive\": true}\n",
              "                    ).then(function(){\n",
              "                            \n",
              "var gd = document.getElementById('c9dbf0d5-cdbd-4532-b5ad-975fc2f122f3');\n",
              "var x = new MutationObserver(function (mutations, observer) {{\n",
              "        var display = window.getComputedStyle(gd).display;\n",
              "        if (!display || display === 'none') {{\n",
              "            console.log([gd, 'removed!']);\n",
              "            Plotly.purge(gd);\n",
              "            observer.disconnect();\n",
              "        }}\n",
              "}});\n",
              "\n",
              "// Listen for the removal of the full notebook cells\n",
              "var notebookContainer = gd.closest('#notebook-container');\n",
              "if (notebookContainer) {{\n",
              "    x.observe(notebookContainer, {childList: true});\n",
              "}}\n",
              "\n",
              "// Listen for the clearing of the current output cell\n",
              "var outputEl = gd.closest('.output');\n",
              "if (outputEl) {{\n",
              "    x.observe(outputEl, {childList: true});\n",
              "}}\n",
              "\n",
              "                        })\n",
              "                };\n",
              "                \n",
              "            </script>\n",
              "        </div>\n",
              "</body>\n",
              "</html>"
            ]
          },
          "metadata": {
            "tags": []
          }
        },
        {
          "output_type": "stream",
          "text": [
            "<bound method BaseEstimator.get_params of GaussianProcessRegressor(alpha=1e-10, copy_X_train=True,\n",
            "                         kernel=RBF(length_scale=1) + RBF(length_scale=1),\n",
            "                         n_restarts_optimizer=100, normalize_y=False,\n",
            "                         optimizer='fmin_l_bfgs_b', random_state=None)>\n"
          ],
          "name": "stdout"
        }
      ]
    },
    {
      "cell_type": "code",
      "metadata": {
        "colab": {
          "base_uri": "https://localhost:8080/",
          "height": 388
        },
        "id": "lXgc2qKU3pDQ",
        "outputId": "4ec0ace9-aa07-4616-db19-9f31169a3002"
      },
      "source": [
        "from sklearn.mixture import GaussianMixture\n",
        "import numpy as np\n",
        "X_data = np.split(np.array(wavelenght), len(wavelenght))\n",
        "\n",
        "print(X_data)\n",
        "print(X_train.values)\n",
        "new_X_data = [a*b for a,b in zip(X_data, X_train.values)]\n",
        "print()\n",
        "l = []\n",
        "for a,b in zip(X_data, X_train.values):\n",
        "    l.extend([a]*(int(b)+1))\n",
        "print(l)\n",
        "f = np.array(l)\n",
        "g = GaussianMixture(n_components=2, random_state=0).fit(l)\n",
        "\n",
        "from matplotlib import rc\n",
        "from sklearn import mixture\n",
        "import matplotlib.pyplot as plt\n",
        "import numpy as np\n",
        "import matplotlib\n",
        "import matplotlib.ticker as tkr\n",
        "import scipy.stats as stats\n",
        "\n",
        "weights = g.weights_\n",
        "means = g.means_\n",
        "covars = g.covariances_\n",
        "print(means)\n",
        "plt.hist(f, bins=10, histtype='bar', density=True, ec='red', alpha=0.5)\n",
        "\n",
        "f_axis = f.copy().ravel()\n",
        "f_axis.sort()\n",
        "plt.plot(f_axis,weights[0]*stats.norm.pdf(f_axis,means[0],np.sqrt(covars[0])).ravel(), c='red')\n",
        "plt.plot(f_axis,weights[1]*stats.norm.pdf(f_axis,means[1],np.sqrt(covars[1])).ravel(), c='blue')\n",
        "\n",
        "plt.rcParams['agg.path.chunksize'] = 10\n",
        "\n",
        "plt.grid()\n",
        "plt.show()\n",
        "\n",
        "# x = np.linspace(mu - 3*sigma, mu + 3*sigma, 100)\n",
        "\n",
        "\n",
        "    \n",
        "# pred_plot = {\"legend\": \"predictions\", \n",
        "#                 \"x\": f_axis, \n",
        "#                 \"y\": weights[0]*stats.norm.pdf(f_axis,means[0],np.sqrt(covars[0])).ravel()*100,\n",
        "#                 \"marker_symbol\": 'circle-open'}\n",
        "\n",
        "# plotline([ pred_plot, current_plot], \"interpolated wavelength\")"
      ],
      "execution_count": 76,
      "outputs": [
        {
          "output_type": "stream",
          "text": [
            "[array([415]), array([445]), array([480]), array([515]), array([555]), array([590]), array([630]), array([680])]\n",
            "[0.6 0.6 0.4 7.8 56.0 8.0 10.0 0.2]\n",
            "\n",
            "[array([415]), array([445]), array([480]), array([515]), array([515]), array([515]), array([515]), array([515]), array([515]), array([515]), array([515]), array([555]), array([555]), array([555]), array([555]), array([555]), array([555]), array([555]), array([555]), array([555]), array([555]), array([555]), array([555]), array([555]), array([555]), array([555]), array([555]), array([555]), array([555]), array([555]), array([555]), array([555]), array([555]), array([555]), array([555]), array([555]), array([555]), array([555]), array([555]), array([555]), array([555]), array([555]), array([555]), array([555]), array([555]), array([555]), array([555]), array([555]), array([555]), array([555]), array([555]), array([555]), array([555]), array([555]), array([555]), array([555]), array([555]), array([555]), array([555]), array([555]), array([555]), array([555]), array([555]), array([555]), array([555]), array([555]), array([555]), array([555]), array([590]), array([590]), array([590]), array([590]), array([590]), array([590]), array([590]), array([590]), array([590]), array([630]), array([630]), array([630]), array([630]), array([630]), array([630]), array([630]), array([630]), array([630]), array([630]), array([630]), array([680])]\n",
            "[[555.        ]\n",
            " [574.37470628]]\n"
          ],
          "name": "stdout"
        },
        {
          "output_type": "display_data",
          "data": {
            "image/png": "[encoded data removed]",
            "text/plain": [
              "<Figure size 432x288 with 1 Axes>"
            ]
          },
          "metadata": {
            "tags": [],
            "needs_background": "light"
          }
        }
      ]
    },
    {
      "cell_type": "markdown",
      "metadata": {
        "id": "DbVTXkEnydv3"
      },
      "source": [
        "# NN stuff here"
      ]
    },
    {
      "cell_type": "code",
      "metadata": {
        "id": "CY5agDS6ydI7"
      },
      "source": [
        "from torch import nn\n",
        "from skorch import NeuralNetRegressor\n",
        "\n",
        "class MultivariateLinearRegression(nn.Module):\n",
        "    def __init__(self, input = 8, output=1, num_units=10, nonlin=nn.LeakyReLU()):\n",
        "          super(MultivariateLinearRegression, self).__init__()\n",
        "          self.dense0 = nn.Linear(input, num_units)\n",
        "          self.nonlin = nonlin\n",
        "          self.dropout = nn.Dropout(0.1)\n",
        "          self.output = nn.Linear(num_units, output)\n",
        "    def forward(self, X):\n",
        "          X = self.nonlin(self.dense0(X))\n",
        "          X = self.dropout(X)\n",
        "          X = self.output(X)\n",
        "          return X\n",
        "\n",
        "\n",
        "\n",
        "\n",
        "\n",
        "## single variable \n",
        "net = NeuralNetRegressor(\n",
        "    MultivariateLinearRegression().double(),\n",
        "    iterator_train__shuffle = False,\n",
        "    train_split = False,\n",
        "    verbose = 0)\n",
        "\n",
        "myNN_reg = make_pipeline(StandardScaler(), net)\n",
        "\n",
        "params = {\n",
        "    'neuralnetregressor__lr': [0.001, 0.002, 0.003],\n",
        "    'neuralnetregressor__max_epochs': [10, 20, 30]\n",
        "}\n",
        "myNN_reg = GridSearchCV(myNN_reg, params)\n",
        "\n",
        "\n",
        "\n",
        "\n",
        "## multivariate variable \n",
        "net2 = NeuralNetRegressor(\n",
        "    MultivariateLinearRegression(output=2).double(),\n",
        "    iterator_train__shuffle = False,\n",
        "    train_split = False,\n",
        "    verbose = 0)\n",
        "\n",
        "myNN_reg2 = make_pipeline(StandardScaler(), net2)\n",
        "\n",
        "params = {\n",
        "    'neuralnetregressor__lr': [0.001, 0.002, 0.003],\n",
        "    'neuralnetregressor__max_epochs': [10, 20, 30]\n",
        "}\n",
        "myNN_reg2 = GridSearchCV(myNN_reg2, params)\n"
      ],
      "execution_count": 108,
      "outputs": []
    },
    {
      "cell_type": "markdown",
      "metadata": {
        "id": "SZT2JZe0Kg8Z"
      },
      "source": [
        "# overfit criteria "
      ]
    },
    {
      "cell_type": "code",
      "metadata": {
        "id": "3Q2dD_a2Kgfy"
      },
      "source": [
        "# calculate aic for regression\n",
        "def calculate_aic(n, mse, num_params):\n",
        "\taic = n * log(mse) + 2 * num_params\n",
        "\treturn aic\n",
        "\n",
        "\n",
        "# calculate bic for regression\n",
        "def calculate_bic(n, mse, num_params):\n",
        "\tbic = n * log(mse) + num_params * log(n)\n",
        "\treturn bic"
      ],
      "execution_count": 6,
      "outputs": []
    },
    {
      "cell_type": "markdown",
      "metadata": {
        "id": "n0PMkxpX5zOk"
      },
      "source": [
        "##Training loop w/ cross-validation "
      ]
    },
    {
      "cell_type": "code",
      "metadata": {
        "colab": {
          "base_uri": "https://localhost:8080/"
        },
        "id": "pkC4fqXe5yVG",
        "outputId": "086f9638-fa23-42d0-d49d-bdc440279e59"
      },
      "source": [
        "from tqdm import tqdm\n",
        "import warnings\n",
        "from sklearn.exceptions import ConvergenceWarning\n",
        "warnings.filterwarnings(\"ignore\", category=FutureWarning)\n",
        "warnings.filterwarnings(\"ignore\", category=ConvergenceWarning)\n",
        "\n",
        "##function to help store history and metrics of each cross validation run\n",
        "history = dict()\n",
        "def append_history(history, algorithm, name, X_test, Y_test):\n",
        "    #calculate performance metrics\n",
        "    Y_pred = algorithm.predict(X_test)\n",
        "    score = algorithm.score(X_test, Y_test)\n",
        "    #if dict does not contain current alg, create a key\n",
        "    if name not in history.keys(): \n",
        "        history[name] = {\"mse\": [], \"r2\": [], \"sigmas\":[], \"predictions\": [], \"actual\": []}\n",
        "    #store preformance metrics & history\n",
        "    mse = mean_squared_error(Y_test, Y_pred)\n",
        "    history[name][\"mse\"].append(mse)\n",
        "    history[name][\"r2\"].append(score)\n",
        "    history[name][\"predictions\"].append(Y_pred)\n",
        "    history[name][\"actual\"].append(Y_test)\n",
        "    if name == \"GP_reg\":  \n",
        "        _, sigma = algorithm.best_estimator_[1].predict(X_test, return_std=True)\n",
        "        history[name][\"sigmas\"].append(sigma)\n",
        "    return history\n",
        "\n",
        "\n",
        "\n",
        "X_columns  = [\"415\",\"445\",\"480\", \"515\", \"555\", \"590\", \"630\", \"680\"]\n",
        "Y1_columns = [\"# emitters λ1 (x1010)\"]\n",
        "Y2_columns = [\"# emitters λ2 (x1010)\"]\n",
        "Y_columns  = [\"# emitters λ1 (x1010)\", \"# emitters λ2 (x1010)\"]\n",
        "\n",
        "\n",
        "##For Cross validations \n",
        "n_splits = 10\n",
        "kf = KFold(n_splits=n_splits, random_state=42, shuffle=True) # Define the split - into 10 folds \n",
        "\n",
        "##A progress bar because Im fancy\n",
        "pbar = tqdm(total=100,position=0, leave=True)\n",
        "\n",
        "##MAIN LOOP\n",
        "for train_index, test_index in kf.split(df):\n",
        "    X_train, X_test = df.loc[train_index, X_columns], df.loc[test_index, X_columns]\n",
        "    Y_train, Y_test = df.loc[train_index, Y2_columns], df.loc[test_index, Y2_columns]\n",
        "    Y_train_both, Y_test_both = df.loc[train_index, Y_columns], df.loc[test_index, Y_columns]\n",
        "\n",
        "    ### Gaussian process regression \n",
        "    # Fit to data using Maximum Likelihood Estimation of the parameters\n",
        "    gp.fit(X_train, Y_train.values)\n",
        "    history = append_history(history, gp, \"GP_reg\", X_test, Y_test)\n",
        "\n",
        "    # ##NN Regressor multivariate\n",
        "    # myNN_reg2.fit(X_train, Y_train_both.values)\n",
        "    # history = append_history(history, myNN_reg2, \"myNN_reg2\", X_test, Y_test_both)\n",
        "    \n",
        "    # ##LINEAR REGRESSION\n",
        "    # lr_reg.fit(X_train, Y_train.values.ravel())\n",
        "    # history = append_history(history, lr_reg, \"linear_regression\", X_test, Y_test)\n",
        "\n",
        "    # ##RandomForestRegressor\n",
        "    # rf_reg.fit(X_train, Y_train.values.ravel())\n",
        "    # history = append_history(history, rf_reg, \"rf_reg\", X_test, Y_test)\n",
        "\n",
        "    # ##Support Vecotor Regressor \n",
        "    # svr.fit(X_train, Y_train.values.ravel())\n",
        "    # history = append_history(history, svr, \"svr\", X_test, Y_test)\n",
        "\n",
        "    # # ##NN Regressor\n",
        "    # myNN_reg.fit(X_train, Y_train.values)\n",
        "    # history = append_history(history, myNN_reg, \"myNN_reg\", X_test, Y_test)\n",
        "\n",
        "\n",
        "\n",
        "    pbar.update(10)\n",
        "pbar.close()\n",
        "\n",
        "print('\\n')\n",
        "for i in history.keys():\n",
        "    print('\\n', i,\" : \", sum(history[i][\"mse\"]) / len(history[i][\"mse\"]))\n",
        "    print(\"---\")\n",
        "\n",
        "\n",
        "# num_params = len(gp.best_estimator_[1].coef_) + 1\n",
        "# print(calculate_bic(len(Y_test), history[\"linear_regression\"][\"mse\"], num_params))\n",
        "\n",
        "# print(gp.params)"
      ],
      "execution_count": 79,
      "outputs": [
        {
          "output_type": "stream",
          "text": [
            "100%|██████████| 100/100 [03:17<00:00,  1.98s/it]"
          ],
          "name": "stderr"
        },
        {
          "output_type": "stream",
          "text": [
            "\n",
            "\n",
            "\n",
            " GP_reg  :  8.863426040109157\n",
            "---\n"
          ],
          "name": "stdout"
        },
        {
          "output_type": "stream",
          "text": [
            "\n"
          ],
          "name": "stderr"
        }
      ]
    },
    {
      "cell_type": "code",
      "metadata": {
        "colab": {
          "base_uri": "https://localhost:8080/"
        },
        "id": "w5owxRd0b5hN",
        "outputId": "25288bde-aac1-4400-fcc3-8cd861873fcb"
      },
      "source": [
        "gp.best_estimator_[1]"
      ],
      "execution_count": 115,
      "outputs": [
        {
          "output_type": "execute_result",
          "data": {
            "text/plain": [
              "GaussianProcessRegressor(alpha=1e-10, copy_X_train=True,\n",
              "                         kernel=RBF(length_scale=1) + RBF(length_scale=1),\n",
              "                         n_restarts_optimizer=9, normalize_y=True,\n",
              "                         optimizer='fmin_l_bfgs_b', random_state=None)"
            ]
          },
          "metadata": {
            "tags": []
          },
          "execution_count": 115
        }
      ]
    },
    {
      "cell_type": "code",
      "metadata": {
        "id": "zls19buetx8t",
        "colab": {
          "base_uri": "https://localhost:8080/"
        },
        "outputId": "818ec596-007c-4b83-81ba-b2be5e5d0863"
      },
      "source": [
        "print('\\n')\n",
        "for i in history.keys():\n",
        "    print('\\n', i,\" : \", sum(history[i][\"r2\"]) / len(history[i][\"r2\"]))\n",
        "    print(\"---\")"
      ],
      "execution_count": 118,
      "outputs": [
        {
          "output_type": "stream",
          "text": [
            "\n",
            "\n",
            "\n",
            " GP_reg  :  0.9883167785154978\n",
            "---\n"
          ],
          "name": "stdout"
        }
      ]
    },
    {
      "cell_type": "markdown",
      "metadata": {
        "id": "6xg_ANKQ0JCa"
      },
      "source": [
        "# Ploting utils"
      ]
    },
    {
      "cell_type": "code",
      "metadata": {
        "id": "GudKpHXc0MBg"
      },
      "source": [
        "import plotly.graph_objects as graph\n",
        "def plot(all_history:list, title:str, log = False):\n",
        "    \"\"\"\n",
        "    input:\n",
        "        all_history: list of dicts to plot\n",
        "    ret:\n",
        "        None: show plotly fig\n",
        "    \"\"\"\n",
        "    symbol_sequence= ['circle-open', 'circle', 'circle-open-dot', 'square']\n",
        "    fig = graph.Figure(layout = graph.Layout(title=graph.layout.Title(text=title))) \n",
        "    for i in range(len(all_history)):\n",
        "        fig.add_trace(graph.Scatter(x = all_history[i][\"x\"], \n",
        "                                    y = all_history[i][\"y\"],\n",
        "                                    name = all_history[i][\"legend\"],\n",
        "                                    mode='markers',\n",
        "                                    marker_size=5,\n",
        "                                    marker_symbol=all_history[i][\"marker_symbol\"])) \n",
        "    if log: fig.update_xaxes(type=\"log\")\n",
        "    fig.show()\n",
        "\n",
        "def plotline(all_history:list, title:str, log = False):\n",
        "    \"\"\"\n",
        "    input:\n",
        "        all_history: list of dicts to plot\n",
        "    ret:\n",
        "        None: show plotly fig\n",
        "    \"\"\"\n",
        "    fig = graph.Figure(layout = graph.Layout(title=graph.layout.Title(text=title))) \n",
        "    for i in range(len(all_history)):\n",
        "        fig.add_trace(graph.Scatter(x = all_history[i][\"x\"], \n",
        "                                    y = all_history[i][\"y\"],\n",
        "                                    name = all_history[i][\"legend\"])) \n",
        "    if log: fig.update_xaxes(type=\"log\")\n",
        "    fig.show()"
      ],
      "execution_count": 59,
      "outputs": []
    },
    {
      "cell_type": "markdown",
      "metadata": {
        "id": "sRwyDtwtGKiJ"
      },
      "source": [
        "# Plot each CV split validation on same plot predicted vs actual"
      ]
    },
    {
      "cell_type": "code",
      "metadata": {
        "id": "VSJR4Z6x54T2",
        "colab": {
          "base_uri": "https://localhost:8080/",
          "height": 542
        },
        "outputId": "7b1fe673-567c-4552-bb5d-725183f4f5f9"
      },
      "source": [
        "import numpy as np\n",
        "names = list(history.keys())\n",
        "\n",
        "n_splits = 10\n",
        "\n",
        "#perfect plot\n",
        "perfect_plot = {\"legend\": \"actuals\", \n",
        "                \"x\": list(np.linspace(0, 100, num=1000, endpoint=True)), \n",
        "                \"y\": list(np.linspace(0, 100, num=1000, endpoint=True)),\n",
        "                \"marker_symbol\": 'line-ne-open'}\n",
        "X,Y = [], []           \n",
        "for alg in names:\n",
        "  for i in range(n_splits):\n",
        "      X = X + list(history[alg][\"actual\"][i].values.ravel())\n",
        "      Y = Y + list(history[alg][\"predictions\"][i].ravel())\n",
        "\n",
        "  current_plot = {\"legend\": \"predictions\", \n",
        "                  \"x\": X, \n",
        "                  \"y\": Y,\n",
        "                  \"marker_symbol\": 'star'}\n",
        "\n",
        "  plot([current_plot, perfect_plot], alg + \" predicted v actual\")"
      ],
      "execution_count": 80,
      "outputs": [
        {
          "output_type": "display_data",
          "data": {
            "text/html": [
              "<html>\n",
              "<head><meta charset=\"utf-8\" /></head>\n",
              "<body>\n",
              "    <div>\n",
              "            <script src=\"https://cdnjs.cloudflare.com/ajax/libs/mathjax/2.7.5/MathJax.js?config=TeX-AMS-MML_SVG\"></script><script type=\"text/javascript\">if (window.MathJax) {MathJax.Hub.Config({SVG: {font: \"STIX-Web\"}});}</script>\n",
              "                <script type=\"text/javascript\">window.PlotlyConfig = {MathJaxConfig: 'local'};</script>\n",
              "        <script src=\"https://cdn.plot.ly/plotly-latest.min.js\"></script>    \n",
              "            <div id=\"0daba69a-e24b-4d34-8ac4-9c04fa680e00\" class=\"plotly-graph-div\" style=\"height:525px; width:100%;\"></div>\n",
              "            <script type=\"text/javascript\">\n",
              "                \n",
              "                    window.PLOTLYENV=window.PLOTLYENV || {};\n",
              "                    \n",
              "                if (document.getElementById(\"0daba69a-e24b-4d34-8ac4-9c04fa680e00\")) {\n",
              "                    Plotly.newPlot(\n",
              "                        '0daba69a-e24b-4d34-8ac4-9c04fa680e00',\n",
              "                        [{\"marker\": {\"size\": 5, \"symbol\": \"star\"}, \"mode\": \"markers\", \"name\": \"predictions\", \"type\": \"scatter\", \"x\": [0.0, 0.0, 0.0, 0.0, 18.06642, 18.06642, 0.903321, 18.06642, 0.0, 0.0, 0.0, 0.0, 0.0, 0.0, 36.13284, 0.0, 90.33210000000001, 0.0, 90.33210000000001, 90.33210000000001, 0.5419926, 0.0, 9.03321, 0.5419926, 0.5419926, 0.5419926, 1.806642, 9.03321, 0.0, 0.0, 1.806642, 0.0, 0.0, 0.0, 90.33210000000001, 0.0, 0.903321, 9.03321, 9.03321, 9.03321, 1.806642, 0.5419926, 0.0, 0.0, 0.0, 0.0, 0.0, 0.0, 0.5419926, 0.0, 0.5419926, 0.0, 90.33210000000001, 45.166050000000006, 0.0, 0.0, 18.06642, 0.0, 0.0, 18.06642, 9.03321, 0.903321, 0.0, 0.0, 0.0, 0.0, 1.806642, 0.903321, 90.33210000000001, 18.06642, 0.0, 0.0, 0.903321, 0.0, 0.0, 0.0, 0.0, 0.0, 0.0, 90.33210000000001, 0.0, 90.33210000000001, 0.5419926, 0.5419926, 18.06642, 18.06642, 90.33210000000001, 0.5419926, 0.903321, 18.06642, 0.0, 0.0, 0.4516605, 0.0, 0.0, 0.0, 0.0, 0.0, 0.0, 90.33210000000001, 90.33210000000001, 90.33210000000001, 0.903321, 0.0, 0.0, 0.0, 0.0, 1.0839852, 90.33210000000001, 90.33210000000001, 0.0, 0.0, 1.806642, 9.03321, 0.5419926, 0.5419926, 0.0, 0.5419926, 90.33210000000001, 45.166050000000006, 0.0, 0.0, 9.03321, 3.613284, 0.0, 0.0, 0.0, 1.806642, 18.06642, 0.0, 0.0, 0.0, 0.0, 0.0, 0.0, 0.0, 0.0, 0.0, 90.33210000000001, 90.33210000000001, 0.903321, 0.903321, 0.903321, 0.0, 90.33210000000001, 0.5419926, 0.903321, 9.03321, 4.516605, 0.0, 18.06642, 18.06642, 18.06642, 0.0, 0.0, 0.0, 0.0, 0.0, 90.33210000000001, 9.03321, 0.0, 0.0, 0.903321, 0.5419926, 0.0, 0.0, 0.0, 0.0, 1.0839852, 36.13284, 90.33210000000001, 0.0, 90.33210000000001, 0.0, 0.0, 18.06642, 0.0, 0.0, 0.5419926, 0.0, 0.5419926, 0.903321, 18.06642, 3.613284, 0.0, 0.0, 0.0, 0.0, 0.0, 0.0, 0.0, 0.0, 0.0, 0.0, 0.0, 0.0, 36.13284, 90.33210000000001, 90.33210000000001, 90.33210000000001, 0.0, 0.5419926, 0.5419926, 0.0, 0.5419926, 0.5419926, 1.806642, 18.06642, 0.0, 4.516605, 0.4516605, 0.4516605, 18.06642, 0.0, 0.0, 0.0, 0.0, 90.33210000000001, 90.33210000000001, 18.06642, 18.06642, 0.903321, 0.903321, 0.0, 1.806642, 0.0, 0.0, 0.0, 0.0, 1.0839852, 0.0, 90.33210000000001, 0.0, 0.5419926, 0.5419926, 0.5419926, 9.03321, 4.516605, 0.0, 4.516605, 4.516605, 0.0, 0.0, 0.0, 0.0, 0.0, 0.0, 0.0, 0.0, 9.03321, 0.0, 1.806642, 1.806642, 0.5419926, 0.0, 0.0, 0.0, 90.33210000000001, 90.33210000000001, 90.33210000000001, 0.0, 90.33210000000001, 0.0, 0.5419926, 0.5419926, 0.0, 1.806642, 0.0, 0.0, 4.516605, 1.806642, 0.0, 9.03321, 3.613284, 0.0, 0.0, 0.0, 9.03321, 1.806642, 0.903321, 18.06642, 0.0, 0.0, 0.0, 0.0, 0.0, 0.0, 0.0, 90.33210000000001, 0.0, 0.0, 0.0, 1.806642, 1.806642, 0.0, 9.03321, 0.0, 0.0, 90.33210000000001, 45.166050000000006, 0.0, 1.806642, 0.903321, 0.903321], \"y\": [0.539218955794647, 7.840199600650521e-10, -0.021710057157374507, 3.354847013525841e-07, 16.198520092668016, 16.3871625758424, 0.903321000653543, 16.930523133708768, 2.1408160299573957, 0.032324986616721674, 1.9316068744501536e-09, 0.10472555557571184, 0.004209897199007884, 1.9316068744501536e-09, 27.604483245711357, -4.964693545161936e-09, 88.05335824764505, 1.9316068744501536e-09, 87.70183790763664, 87.5634583203995, 1.8954033878338183, 1.1477112593638594e-09, 8.168000434319282, 1.978075666750458, 2.0949436857042603, 0.5484031158898368, 1.6614916015049292, 8.428843927371162, 1.1504397434691782e-09, 1.1504397434691782e-09, 2.345700689278985, 3.254405300473323, -1.981334207812324e-09, 0.01189415384969017, 85.13133039083927, -0.017717951145119315, 0.5731756655448468, 7.933899195509845, 7.813049702772395, 7.749395242441426, 1.8193997211522497, 0.5315340915231221, 0.45023430347269766, 0.18323898919339143, 0.10588998443119557, 2.5460806796218094e-09, 2.5460806796218094e-09, 2.5460806796218094e-09, 0.5580446240347072, 2.5460806796218094e-09, 0.5429269928451994, 2.5460806796218094e-09, 87.33492831904061, 50.84774593245831, -6.022400356187063e-10, 0.7659176199223108, 14.74299066503812, -0.0006778173028738621, 0.7120583043232518, 15.472315232651926, 7.456447068430766, 2.4926574127238936, 1.6775105943779014, 1.7902674938956462, 1.66575580177296, -4.352810769603366e-07, 1.7987418337587027, 0.903321000702423, 87.56512741786392, 16.461029433534414, -1.660058757124716e-09, -1.660058757124716e-09, 1.6416063173517248, 1.0893166930382794, -0.029953880020986645, 0.002592303626425263, 2.1710078091005, 0.17693084605515175, -4.911910878035997e-10, 87.92602878722798, -4.911910878035997e-10, 86.68544435293624, 1.2673180275096936, 1.81618094605715, 16.19893559758774, 17.317715777711634, 74.84538036663281, 0.5416192321473385, 1.5156220373785398, 13.264941491327338, -4.893720984000538e-10, 2.282343203319215e-09, 2.0479961606460098, 0.3782734884590102, 2.339147901568454, 2.2538314391653334, 0.020252439632328034, 0.00708400332881709, 0.051008380597755476, 85.1235180659071, 84.24482119091498, 83.55968893876178, 0.9033210000648726, -8.249436689311551e-10, 1.885572402544609, 0.49504739777095175, 2.2211710692943143e-07, 1.0839851990521634, 87.11428415571056, 87.23831742577667, -2.992184278127752e-10, -2.992184278127752e-10, 3.5208999579477513, 7.581331345271251, 0.5491837328128231, 2.7991210477768913, -2.992184278127752e-10, 0.549649997788114, 85.68415470050086, 50.738152600207215, 2.241709040617934e-10, 0.04573957187302469, 7.9234475954882075, 2.863847484584504, 1.4600806475004955, -1.1095758623014262e-07, 3.5854910152011144e-09, 1.785939074668315, 15.197978874066134, 0.03744407383625692, 2.534983778446076e-09, -0.17458205797945503, 7.640945653974995e-10, -0.11375894987363111, -1.0636959757448494e-08, -1.0636959757448494e-08, 2.534983778446076e-09, 2.534983778446076e-09, 70.9938122308798, 70.70720326343375, 3.2624749379097846, 4.144202429029699, 4.9003368291050755, -1.5899145111575308e-08, 70.62266736464973, 1.8855061238168194, 1.17532692956126, 8.150923269271233, 4.499570861454467, 0.06364253709556422, 14.213359758607204, 14.6064356628739, 15.601250411569044, -0.00028516822102808703, 1.855483607509898, -0.07562591395666374, -1.5070433789787785e-10, -0.04864675008869135, 85.69731408453893, 9.013387172914305, -4.2844678915798795e-09, -1.5070433789787785e-10, 2.3943769752868764, 0.6040130337837812, 1.091351546806706, 8.088012037887893e-09, -0.025819944413397522, 0.25501854916572597, 1.0839851988328615, 32.23764162913009, 87.2085449282145, 1.9042634136212655e-08, 88.40314213254159, -2.5351489796321403e-09, -2.5351489796321403e-09, 16.6923624007304, -2.5351489796321403e-09, -2.5351489796321403e-09, 0.8783487257784959, -2.5351489796321403e-09, 1.439879284222867, 1.079148836340254, 14.768231909872114, 3.257798309427981, -6.970015675733521e-10, 0.31058190346858794, 0.18825233074913328, -0.0017662251645091942, -1.311570340334356e-06, -0.1012926599651518, -2.073083216203031e-08, 2.311201068812892, 0.9215286075437827, 0.3229508437511939, 2.5534913597286355, 9.38524102878091e-09, 33.57633079526974, 87.85411630240381, 88.51006392267311, 77.88783041953305, 3.464972309075165e-09, 0.3886534369149963, 0.39254089020851346, 3.464972309075165e-09, 0.46671235919867904, 1.191870614320134, 1.9326897229657476, 15.557742581057454, 3.464972309075165e-09, 4.526039643862001, 2.4056357679438136, 2.8467089889566886, 15.282041149805746, 1.2472357491994703, 3.166420298868376, 1.966816500138581, 1.4783907431592525e-10, 87.18339370552481, 86.24023964130588, 13.822102672656998, 15.121351940798089, 0.8238143171974937, 1.469486283696817, -1.6255317092372934e-09, 1.841379504988348, 1.0863868409401451, -0.007983499070428834, 2.0393226769425787, 1.582540427591539e-07, 1.5919380029607755, -1.6255317092372934e-09, 87.84234575101287, -5.149178861074688e-10, 0.5758401978849079, 0.5603328947120172, 0.45137627871217134, 7.215377262294137, 5.183472100080229, -5.149178861074688e-10, 4.557565204602152, 4.6685215830784745, 1.4190548281504576, 0.9832043952177703, 1.2891117454116738, 1.524012703257668, -0.11565843699477085, 2.54253296581145, -1.225970258644793e-08, 8.924043726210584e-10, 9.1700074094339, 8.924043726210584e-10, 1.8408070454198544, 2.9341285698657718, 0.4078211805575549, -1.225970258644793e-08, 1.5752068928056957, -1.225970258644793e-08, 87.9862457432082, 88.47327142526646, 87.54919490296581, -4.859503022203171e-09, 75.52921341371649, -4.859503022203171e-09, 0.617142102753256, 1.0127491176065053, -4.859503022203171e-09, 1.536099418142598, 1.899588042419964e-08, 0.050220966677912315, 4.433037048688776, 2.746483285499453, 0.3173001895217027, 8.249357701349421, 3.3790092291257903, 1.020147707348654, 1.9196642818730165, 2.0821744328713976e-10, 8.918709405128613, 1.8520853127458086, 0.9033210000634835, 14.092571332490731, 3.4334828313831167e-09, 1.3527058695138585, 3.4334828313831167e-09, 0.34982074921536643, 2.303586028735497, 2.0821744328713976e-10, -5.329034991063963e-10, 87.82380423831071, -1.5521646190563843e-09, 8.322794897708263e-09, 8.322794897708263e-09, 4.8008119085737135, 4.0660575605988125, 8.322794897708263e-09, 7.476709221271028, -5.329034991063963e-10, -5.329034991063963e-10, 87.46988559572607, 50.216961983343325, -5.329034991063963e-10, 3.404789148221436, 2.6238589162560455, 2.7196777350055665]}, {\"marker\": {\"size\": 5, \"symbol\": \"line-ne-open\"}, \"mode\": \"markers\", \"name\": \"actuals\", \"type\": \"scatter\", \"x\": [0.0, 0.1001001001001001, 0.2002002002002002, 0.3003003003003003, 0.4004004004004004, 0.5005005005005005, 0.6006006006006006, 0.7007007007007008, 0.8008008008008008, 0.9009009009009009, 1.001001001001001, 1.1011011011011012, 1.2012012012012012, 1.3013013013013013, 1.4014014014014016, 1.5015015015015016, 1.6016016016016017, 1.7017017017017018, 1.8018018018018018, 1.9019019019019021, 2.002002002002002, 2.1021021021021022, 2.2022022022022023, 2.3023023023023024, 2.4024024024024024, 2.5025025025025025, 2.6026026026026026, 2.702702702702703, 2.802802802802803, 2.902902902902903, 3.0030030030030033, 3.1031031031031033, 3.2032032032032034, 3.3033033033033035, 3.4034034034034035, 3.5035035035035036, 3.6036036036036037, 3.7037037037037037, 3.8038038038038042, 3.9039039039039043, 4.004004004004004, 4.104104104104104, 4.2042042042042045, 4.3043043043043046, 4.404404404404405, 4.504504504504505, 4.604604604604605, 4.704704704704705, 4.804804804804805, 4.904904904904905, 5.005005005005005, 5.105105105105105, 5.205205205205205, 5.305305305305305, 5.405405405405406, 5.505505505505506, 5.605605605605606, 5.705705705705706, 5.805805805805806, 5.9059059059059065, 6.0060060060060065, 6.106106106106107, 6.206206206206207, 6.306306306306307, 6.406406406406407, 6.506506506506507, 6.606606606606607, 6.706706706706707, 6.806806806806807, 6.906906906906907, 7.007007007007007, 7.107107107107107, 7.207207207207207, 7.307307307307307, 7.407407407407407, 7.507507507507508, 7.6076076076076085, 7.7077077077077085, 7.807807807807809, 7.907907907907909, 8.008008008008009, 8.108108108108109, 8.208208208208209, 8.308308308308309, 8.408408408408409, 8.508508508508509, 8.608608608608609, 8.70870870870871, 8.80880880880881, 8.90890890890891, 9.00900900900901, 9.10910910910911, 9.20920920920921, 9.30930930930931, 9.40940940940941, 9.50950950950951, 9.60960960960961, 9.70970970970971, 9.80980980980981, 9.90990990990991, 10.01001001001001, 10.11011011011011, 10.21021021021021, 10.31031031031031, 10.41041041041041, 10.51051051051051, 10.61061061061061, 10.710710710710712, 10.810810810810812, 10.910910910910912, 11.011011011011012, 11.111111111111112, 11.211211211211213, 11.311311311311313, 11.411411411411413, 11.511511511511513, 11.611611611611613, 11.711711711711713, 11.811811811811813, 11.911911911911913, 12.012012012012013, 12.112112112112113, 12.212212212212213, 12.312312312312313, 12.412412412412413, 12.512512512512513, 12.612612612612613, 12.712712712712714, 12.812812812812814, 12.912912912912914, 13.013013013013014, 13.113113113113114, 13.213213213213214, 13.313313313313314, 13.413413413413414, 13.513513513513514, 13.613613613613614, 13.713713713713714, 13.813813813813814, 13.913913913913914, 14.014014014014014, 14.114114114114114, 14.214214214214214, 14.314314314314315, 14.414414414414415, 14.514514514514515, 14.614614614614615, 14.714714714714715, 14.814814814814815, 14.914914914914915, 15.015015015015017, 15.115115115115117, 15.215215215215217, 15.315315315315317, 15.415415415415417, 15.515515515515517, 15.615615615615617, 15.715715715715717, 15.815815815815817, 15.915915915915917, 16.016016016016017, 16.116116116116117, 16.216216216216218, 16.316316316316318, 16.416416416416418, 16.516516516516518, 16.616616616616618, 16.716716716716718, 16.816816816816818, 16.916916916916918, 17.017017017017018, 17.117117117117118, 17.217217217217218, 17.31731731731732, 17.41741741741742, 17.51751751751752, 17.61761761761762, 17.71771771771772, 17.81781781781782, 17.91791791791792, 18.01801801801802, 18.11811811811812, 18.21821821821822, 18.31831831831832, 18.41841841841842, 18.51851851851852, 18.61861861861862, 18.71871871871872, 18.81881881881882, 18.91891891891892, 19.01901901901902, 19.11911911911912, 19.21921921921922, 19.31931931931932, 19.41941941941942, 19.51951951951952, 19.61961961961962, 19.71971971971972, 19.81981981981982, 19.91991991991992, 20.02002002002002, 20.12012012012012, 20.22022022022022, 20.32032032032032, 20.42042042042042, 20.52052052052052, 20.62062062062062, 20.72072072072072, 20.82082082082082, 20.92092092092092, 21.02102102102102, 21.12112112112112, 21.22122122122122, 21.32132132132132, 21.421421421421424, 21.521521521521525, 21.621621621621625, 21.721721721721725, 21.821821821821825, 21.921921921921925, 22.022022022022025, 22.122122122122125, 22.222222222222225, 22.322322322322325, 22.422422422422425, 22.522522522522525, 22.622622622622625, 22.722722722722725, 22.822822822822825, 22.922922922922925, 23.023023023023026, 23.123123123123126, 23.223223223223226, 23.323323323323326, 23.423423423423426, 23.523523523523526, 23.623623623623626, 23.723723723723726, 23.823823823823826, 23.923923923923926, 24.024024024024026, 24.124124124124126, 24.224224224224226, 24.324324324324326, 24.424424424424426, 24.524524524524526, 24.624624624624627, 24.724724724724727, 24.824824824824827, 24.924924924924927, 25.025025025025027, 25.125125125125127, 25.225225225225227, 25.325325325325327, 25.425425425425427, 25.525525525525527, 25.625625625625627, 25.725725725725727, 25.825825825825827, 25.925925925925927, 26.026026026026027, 26.126126126126128, 26.226226226226228, 26.326326326326328, 26.426426426426428, 26.526526526526528, 26.626626626626628, 26.726726726726728, 26.826826826826828, 26.926926926926928, 27.027027027027028, 27.127127127127128, 27.227227227227228, 27.32732732732733, 27.42742742742743, 27.52752752752753, 27.62762762762763, 27.72772772772773, 27.82782782782783, 27.92792792792793, 28.02802802802803, 28.12812812812813, 28.22822822822823, 28.32832832832833, 28.42842842842843, 28.52852852852853, 28.62862862862863, 28.72872872872873, 28.82882882882883, 28.92892892892893, 29.02902902902903, 29.12912912912913, 29.22922922922923, 29.32932932932933, 29.42942942942943, 29.52952952952953, 29.62962962962963, 29.72972972972973, 29.82982982982983, 29.929929929929934, 30.030030030030034, 30.130130130130134, 30.230230230230234, 30.330330330330334, 30.430430430430434, 30.530530530530534, 30.630630630630634, 30.730730730730734, 30.830830830830834, 30.930930930930934, 31.031031031031034, 31.131131131131134, 31.231231231231234, 31.331331331331334, 31.431431431431434, 31.531531531531535, 31.631631631631635, 31.731731731731735, 31.831831831831835, 31.931931931931935, 32.032032032032035, 32.132132132132135, 32.232232232232235, 32.332332332332335, 32.432432432432435, 32.532532532532535, 32.632632632632635, 32.732732732732735, 32.832832832832835, 32.932932932932935, 33.033033033033036, 33.133133133133136, 33.233233233233236, 33.333333333333336, 33.433433433433436, 33.533533533533536, 33.633633633633636, 33.733733733733736, 33.833833833833836, 33.933933933933936, 34.034034034034036, 34.134134134134136, 34.234234234234236, 34.334334334334336, 34.434434434434436, 34.53453453453454, 34.63463463463464, 34.73473473473474, 34.83483483483484, 34.93493493493494, 35.03503503503504, 35.13513513513514, 35.23523523523524, 35.33533533533534, 35.43543543543544, 35.53553553553554, 35.63563563563564, 35.73573573573574, 35.83583583583584, 35.93593593593594, 36.03603603603604, 36.13613613613614, 36.23623623623624, 36.33633633633634, 36.43643643643644, 36.53653653653654, 36.63663663663664, 36.73673673673674, 36.83683683683684, 36.93693693693694, 37.03703703703704, 37.13713713713714, 37.23723723723724, 37.33733733733734, 37.43743743743744, 37.53753753753754, 37.63763763763764, 37.73773773773774, 37.83783783783784, 37.93793793793794, 38.03803803803804, 38.13813813813814, 38.23823823823824, 38.33833833833834, 38.43843843843844, 38.53853853853854, 38.63863863863864, 38.73873873873874, 38.83883883883884, 38.93893893893894, 39.03903903903904, 39.13913913913914, 39.23923923923924, 39.33933933933934, 39.43943943943944, 39.53953953953954, 39.63963963963964, 39.73973973973974, 39.83983983983984, 39.93993993993994, 40.04004004004004, 40.14014014014014, 40.24024024024024, 40.34034034034034, 40.44044044044044, 40.54054054054054, 40.64064064064064, 40.74074074074074, 40.84084084084084, 40.94094094094094, 41.04104104104104, 41.14114114114114, 41.24124124124124, 41.34134134134134, 41.44144144144144, 41.54154154154154, 41.64164164164164, 41.74174174174174, 41.84184184184184, 41.94194194194194, 42.04204204204204, 42.14214214214214, 42.24224224224224, 42.34234234234234, 42.44244244244244, 42.54254254254254, 42.64264264264264, 42.74274274274275, 42.84284284284285, 42.94294294294295, 43.04304304304305, 43.14314314314315, 43.24324324324325, 43.34334334334335, 43.44344344344345, 43.54354354354355, 43.64364364364365, 43.74374374374375, 43.84384384384385, 43.94394394394395, 44.04404404404405, 44.14414414414415, 44.24424424424425, 44.34434434434435, 44.44444444444445, 44.54454454454455, 44.64464464464465, 44.74474474474475, 44.84484484484485, 44.94494494494495, 45.04504504504505, 45.14514514514515, 45.24524524524525, 45.34534534534535, 45.44544544544545, 45.54554554554555, 45.64564564564565, 45.74574574574575, 45.84584584584585, 45.94594594594595, 46.04604604604605, 46.14614614614615, 46.24624624624625, 46.34634634634635, 46.44644644644645, 46.54654654654655, 46.64664664664665, 46.74674674674675, 46.84684684684685, 46.94694694694695, 47.04704704704705, 47.14714714714715, 47.24724724724725, 47.34734734734735, 47.44744744744745, 47.54754754754755, 47.64764764764765, 47.74774774774775, 47.84784784784785, 47.94794794794795, 48.04804804804805, 48.14814814814815, 48.24824824824825, 48.34834834834835, 48.44844844844845, 48.54854854854855, 48.64864864864865, 48.74874874874875, 48.84884884884885, 48.94894894894895, 49.04904904904905, 49.14914914914915, 49.24924924924925, 49.34934934934935, 49.44944944944945, 49.54954954954955, 49.64964964964965, 49.74974974974975, 49.84984984984985, 49.94994994994995, 50.050050050050054, 50.150150150150154, 50.250250250250254, 50.350350350350354, 50.450450450450454, 50.550550550550554, 50.650650650650654, 50.750750750750754, 50.850850850850854, 50.950950950950954, 51.051051051051054, 51.151151151151154, 51.251251251251254, 51.351351351351354, 51.451451451451454, 51.551551551551555, 51.651651651651655, 51.751751751751755, 51.851851851851855, 51.951951951951955, 52.052052052052055, 52.152152152152155, 52.252252252252255, 52.352352352352355, 52.452452452452455, 52.552552552552555, 52.652652652652655, 52.752752752752755, 52.852852852852855, 52.952952952952955, 53.053053053053056, 53.153153153153156, 53.253253253253256, 53.353353353353356, 53.453453453453456, 53.553553553553556, 53.653653653653656, 53.753753753753756, 53.853853853853856, 53.953953953953956, 54.054054054054056, 54.154154154154156, 54.254254254254256, 54.354354354354356, 54.454454454454456, 54.55455455455456, 54.65465465465466, 54.75475475475476, 54.85485485485486, 54.95495495495496, 55.05505505505506, 55.15515515515516, 55.25525525525526, 55.35535535535536, 55.45545545545546, 55.55555555555556, 55.65565565565566, 55.75575575575576, 55.85585585585586, 55.95595595595596, 56.05605605605606, 56.15615615615616, 56.25625625625626, 56.35635635635636, 56.45645645645646, 56.55655655655656, 56.65665665665666, 56.75675675675676, 56.85685685685686, 56.95695695695696, 57.05705705705706, 57.15715715715716, 57.25725725725726, 57.35735735735736, 57.45745745745746, 57.55755755755756, 57.65765765765766, 57.75775775775776, 57.85785785785786, 57.95795795795796, 58.05805805805806, 58.15815815815816, 58.25825825825826, 58.35835835835836, 58.45845845845846, 58.55855855855856, 58.65865865865866, 58.75875875875876, 58.85885885885886, 58.95895895895896, 59.05905905905906, 59.15915915915916, 59.25925925925926, 59.35935935935936, 59.45945945945946, 59.55955955955956, 59.65965965965966, 59.75975975975976, 59.85985985985987, 59.95995995995997, 60.06006006006007, 60.16016016016017, 60.26026026026027, 60.36036036036037, 60.46046046046047, 60.56056056056057, 60.66066066066067, 60.76076076076077, 60.86086086086087, 60.96096096096097, 61.06106106106107, 61.16116116116117, 61.26126126126127, 61.36136136136137, 61.46146146146147, 61.56156156156157, 61.66166166166167, 61.76176176176177, 61.86186186186187, 61.96196196196197, 62.06206206206207, 62.16216216216217, 62.26226226226227, 62.36236236236237, 62.46246246246247, 62.56256256256257, 62.66266266266267, 62.76276276276277, 62.86286286286287, 62.96296296296297, 63.06306306306307, 63.16316316316317, 63.26326326326327, 63.36336336336337, 63.46346346346347, 63.56356356356357, 63.66366366366367, 63.76376376376377, 63.86386386386387, 63.96396396396397, 64.06406406406407, 64.16416416416416, 64.26426426426427, 64.36436436436436, 64.46446446446447, 64.56456456456456, 64.66466466466467, 64.76476476476476, 64.86486486486487, 64.96496496496496, 65.06506506506507, 65.16516516516516, 65.26526526526527, 65.36536536536536, 65.46546546546547, 65.56556556556556, 65.66566566566567, 65.76576576576576, 65.86586586586587, 65.96596596596596, 66.06606606606607, 66.16616616616616, 66.26626626626627, 66.36636636636636, 66.46646646646647, 66.56656656656656, 66.66666666666667, 66.76676676676676, 66.86686686686687, 66.96696696696696, 67.06706706706707, 67.16716716716716, 67.26726726726727, 67.36736736736736, 67.46746746746747, 67.56756756756756, 67.66766766766767, 67.76776776776777, 67.86786786786787, 67.96796796796797, 68.06806806806807, 68.16816816816817, 68.26826826826827, 68.36836836836838, 68.46846846846847, 68.56856856856858, 68.66866866866867, 68.76876876876878, 68.86886886886887, 68.96896896896898, 69.06906906906907, 69.16916916916918, 69.26926926926927, 69.36936936936938, 69.46946946946947, 69.56956956956958, 69.66966966966967, 69.76976976976978, 69.86986986986987, 69.96996996996998, 70.07007007007007, 70.17017017017018, 70.27027027027027, 70.37037037037038, 70.47047047047047, 70.57057057057058, 70.67067067067067, 70.77077077077078, 70.87087087087087, 70.97097097097098, 71.07107107107107, 71.17117117117118, 71.27127127127127, 71.37137137137138, 71.47147147147147, 71.57157157157158, 71.67167167167167, 71.77177177177178, 71.87187187187187, 71.97197197197198, 72.07207207207207, 72.17217217217218, 72.27227227227228, 72.37237237237238, 72.47247247247248, 72.57257257257258, 72.67267267267268, 72.77277277277278, 72.87287287287288, 72.97297297297298, 73.07307307307308, 73.17317317317318, 73.27327327327328, 73.37337337337338, 73.47347347347348, 73.57357357357358, 73.67367367367368, 73.77377377377378, 73.87387387387388, 73.97397397397398, 74.07407407407408, 74.17417417417418, 74.27427427427428, 74.37437437437438, 74.47447447447448, 74.57457457457458, 74.67467467467468, 74.77477477477478, 74.87487487487488, 74.97497497497498, 75.07507507507508, 75.17517517517518, 75.27527527527528, 75.37537537537538, 75.47547547547548, 75.57557557557558, 75.67567567567568, 75.77577577577578, 75.87587587587588, 75.97597597597598, 76.07607607607608, 76.17617617617618, 76.27627627627628, 76.37637637637638, 76.47647647647648, 76.57657657657658, 76.67667667667668, 76.77677677677679, 76.87687687687688, 76.97697697697699, 77.07707707707708, 77.17717717717719, 77.27727727727728, 77.37737737737739, 77.47747747747748, 77.57757757757759, 77.67767767767768, 77.77777777777779, 77.87787787787788, 77.97797797797799, 78.07807807807808, 78.17817817817819, 78.27827827827828, 78.37837837837839, 78.47847847847848, 78.57857857857859, 78.67867867867868, 78.77877877877879, 78.87887887887888, 78.97897897897899, 79.07907907907908, 79.17917917917919, 79.27927927927928, 79.37937937937939, 79.47947947947948, 79.57957957957959, 79.67967967967968, 79.77977977977979, 79.87987987987988, 79.97997997997999, 80.08008008008008, 80.18018018018019, 80.28028028028028, 80.38038038038039, 80.48048048048048, 80.58058058058059, 80.68068068068068, 80.78078078078079, 80.88088088088088, 80.98098098098099, 81.08108108108108, 81.18118118118119, 81.28128128128128, 81.38138138138139, 81.48148148148148, 81.58158158158159, 81.68168168168168, 81.78178178178179, 81.88188188188188, 81.98198198198199, 82.08208208208208, 82.18218218218219, 82.28228228228228, 82.38238238238239, 82.48248248248248, 82.58258258258259, 82.68268268268268, 82.78278278278279, 82.88288288288288, 82.98298298298299, 83.08308308308308, 83.18318318318319, 83.28328328328328, 83.38338338338339, 83.48348348348348, 83.58358358358359, 83.68368368368368, 83.78378378378379, 83.88388388388388, 83.98398398398399, 84.08408408408408, 84.18418418418419, 84.28428428428428, 84.38438438438439, 84.48448448448448, 84.58458458458459, 84.68468468468468, 84.78478478478479, 84.88488488488488, 84.98498498498499, 85.08508508508508, 85.18518518518519, 85.28528528528528, 85.38538538538539, 85.4854854854855, 85.58558558558559, 85.6856856856857, 85.78578578578579, 85.8858858858859, 85.98598598598599, 86.0860860860861, 86.18618618618619, 86.2862862862863, 86.38638638638639, 86.4864864864865, 86.58658658658659, 86.6866866866867, 86.78678678678679, 86.8868868868869, 86.98698698698699, 87.0870870870871, 87.18718718718719, 87.2872872872873, 87.38738738738739, 87.4874874874875, 87.58758758758759, 87.6876876876877, 87.78778778778779, 87.8878878878879, 87.98798798798799, 88.0880880880881, 88.18818818818819, 88.2882882882883, 88.38838838838839, 88.4884884884885, 88.58858858858859, 88.6886886886887, 88.78878878878879, 88.8888888888889, 88.988988988989, 89.0890890890891, 89.1891891891892, 89.2892892892893, 89.3893893893894, 89.4894894894895, 89.5895895895896, 89.6896896896897, 89.7897897897898, 89.8898898898899, 89.98998998999, 90.0900900900901, 90.1901901901902, 90.2902902902903, 90.3903903903904, 90.4904904904905, 90.5905905905906, 90.6906906906907, 90.7907907907908, 90.8908908908909, 90.990990990991, 91.0910910910911, 91.1911911911912, 91.2912912912913, 91.3913913913914, 91.4914914914915, 91.5915915915916, 91.6916916916917, 91.7917917917918, 91.8918918918919, 91.991991991992, 92.0920920920921, 92.1921921921922, 92.2922922922923, 92.3923923923924, 92.4924924924925, 92.5925925925926, 92.6926926926927, 92.7927927927928, 92.8928928928929, 92.992992992993, 93.0930930930931, 93.1931931931932, 93.2932932932933, 93.3933933933934, 93.4934934934935, 93.5935935935936, 93.6936936936937, 93.7937937937938, 93.8938938938939, 93.993993993994, 94.0940940940941, 94.1941941941942, 94.2942942942943, 94.3943943943944, 94.4944944944945, 94.5945945945946, 94.6946946946947, 94.7947947947948, 94.8948948948949, 94.994994994995, 95.0950950950951, 95.1951951951952, 95.2952952952953, 95.3953953953954, 95.4954954954955, 95.5955955955956, 95.6956956956957, 95.7957957957958, 95.8958958958959, 95.995995995996, 96.0960960960961, 96.1961961961962, 96.2962962962963, 96.3963963963964, 96.4964964964965, 96.5965965965966, 96.6966966966967, 96.7967967967968, 96.8968968968969, 96.996996996997, 97.0970970970971, 97.1971971971972, 97.2972972972973, 97.3973973973974, 97.4974974974975, 97.5975975975976, 97.6976976976977, 97.7977977977978, 97.8978978978979, 97.997997997998, 98.0980980980981, 98.1981981981982, 98.2982982982983, 98.3983983983984, 98.4984984984985, 98.5985985985986, 98.6986986986987, 98.7987987987988, 98.8988988988989, 98.998998998999, 99.0990990990991, 99.1991991991992, 99.2992992992993, 99.3993993993994, 99.4994994994995, 99.5995995995996, 99.6996996996997, 99.7997997997998, 99.8998998998999, 100.0], \"y\": [0.0, 0.1001001001001001, 0.2002002002002002, 0.3003003003003003, 0.4004004004004004, 0.5005005005005005, 0.6006006006006006, 0.7007007007007008, 0.8008008008008008, 0.9009009009009009, 1.001001001001001, 1.1011011011011012, 1.2012012012012012, 1.3013013013013013, 1.4014014014014016, 1.5015015015015016, 1.6016016016016017, 1.7017017017017018, 1.8018018018018018, 1.9019019019019021, 2.002002002002002, 2.1021021021021022, 2.2022022022022023, 2.3023023023023024, 2.4024024024024024, 2.5025025025025025, 2.6026026026026026, 2.702702702702703, 2.802802802802803, 2.902902902902903, 3.0030030030030033, 3.1031031031031033, 3.2032032032032034, 3.3033033033033035, 3.4034034034034035, 3.5035035035035036, 3.6036036036036037, 3.7037037037037037, 3.8038038038038042, 3.9039039039039043, 4.004004004004004, 4.104104104104104, 4.2042042042042045, 4.3043043043043046, 4.404404404404405, 4.504504504504505, 4.604604604604605, 4.704704704704705, 4.804804804804805, 4.904904904904905, 5.005005005005005, 5.105105105105105, 5.205205205205205, 5.305305305305305, 5.405405405405406, 5.505505505505506, 5.605605605605606, 5.705705705705706, 5.805805805805806, 5.9059059059059065, 6.0060060060060065, 6.106106106106107, 6.206206206206207, 6.306306306306307, 6.406406406406407, 6.506506506506507, 6.606606606606607, 6.706706706706707, 6.806806806806807, 6.906906906906907, 7.007007007007007, 7.107107107107107, 7.207207207207207, 7.307307307307307, 7.407407407407407, 7.507507507507508, 7.6076076076076085, 7.7077077077077085, 7.807807807807809, 7.907907907907909, 8.008008008008009, 8.108108108108109, 8.208208208208209, 8.308308308308309, 8.408408408408409, 8.508508508508509, 8.608608608608609, 8.70870870870871, 8.80880880880881, 8.90890890890891, 9.00900900900901, 9.10910910910911, 9.20920920920921, 9.30930930930931, 9.40940940940941, 9.50950950950951, 9.60960960960961, 9.70970970970971, 9.80980980980981, 9.90990990990991, 10.01001001001001, 10.11011011011011, 10.21021021021021, 10.31031031031031, 10.41041041041041, 10.51051051051051, 10.61061061061061, 10.710710710710712, 10.810810810810812, 10.910910910910912, 11.011011011011012, 11.111111111111112, 11.211211211211213, 11.311311311311313, 11.411411411411413, 11.511511511511513, 11.611611611611613, 11.711711711711713, 11.811811811811813, 11.911911911911913, 12.012012012012013, 12.112112112112113, 12.212212212212213, 12.312312312312313, 12.412412412412413, 12.512512512512513, 12.612612612612613, 12.712712712712714, 12.812812812812814, 12.912912912912914, 13.013013013013014, 13.113113113113114, 13.213213213213214, 13.313313313313314, 13.413413413413414, 13.513513513513514, 13.613613613613614, 13.713713713713714, 13.813813813813814, 13.913913913913914, 14.014014014014014, 14.114114114114114, 14.214214214214214, 14.314314314314315, 14.414414414414415, 14.514514514514515, 14.614614614614615, 14.714714714714715, 14.814814814814815, 14.914914914914915, 15.015015015015017, 15.115115115115117, 15.215215215215217, 15.315315315315317, 15.415415415415417, 15.515515515515517, 15.615615615615617, 15.715715715715717, 15.815815815815817, 15.915915915915917, 16.016016016016017, 16.116116116116117, 16.216216216216218, 16.316316316316318, 16.416416416416418, 16.516516516516518, 16.616616616616618, 16.716716716716718, 16.816816816816818, 16.916916916916918, 17.017017017017018, 17.117117117117118, 17.217217217217218, 17.31731731731732, 17.41741741741742, 17.51751751751752, 17.61761761761762, 17.71771771771772, 17.81781781781782, 17.91791791791792, 18.01801801801802, 18.11811811811812, 18.21821821821822, 18.31831831831832, 18.41841841841842, 18.51851851851852, 18.61861861861862, 18.71871871871872, 18.81881881881882, 18.91891891891892, 19.01901901901902, 19.11911911911912, 19.21921921921922, 19.31931931931932, 19.41941941941942, 19.51951951951952, 19.61961961961962, 19.71971971971972, 19.81981981981982, 19.91991991991992, 20.02002002002002, 20.12012012012012, 20.22022022022022, 20.32032032032032, 20.42042042042042, 20.52052052052052, 20.62062062062062, 20.72072072072072, 20.82082082082082, 20.92092092092092, 21.02102102102102, 21.12112112112112, 21.22122122122122, 21.32132132132132, 21.421421421421424, 21.521521521521525, 21.621621621621625, 21.721721721721725, 21.821821821821825, 21.921921921921925, 22.022022022022025, 22.122122122122125, 22.222222222222225, 22.322322322322325, 22.422422422422425, 22.522522522522525, 22.622622622622625, 22.722722722722725, 22.822822822822825, 22.922922922922925, 23.023023023023026, 23.123123123123126, 23.223223223223226, 23.323323323323326, 23.423423423423426, 23.523523523523526, 23.623623623623626, 23.723723723723726, 23.823823823823826, 23.923923923923926, 24.024024024024026, 24.124124124124126, 24.224224224224226, 24.324324324324326, 24.424424424424426, 24.524524524524526, 24.624624624624627, 24.724724724724727, 24.824824824824827, 24.924924924924927, 25.025025025025027, 25.125125125125127, 25.225225225225227, 25.325325325325327, 25.425425425425427, 25.525525525525527, 25.625625625625627, 25.725725725725727, 25.825825825825827, 25.925925925925927, 26.026026026026027, 26.126126126126128, 26.226226226226228, 26.326326326326328, 26.426426426426428, 26.526526526526528, 26.626626626626628, 26.726726726726728, 26.826826826826828, 26.926926926926928, 27.027027027027028, 27.127127127127128, 27.227227227227228, 27.32732732732733, 27.42742742742743, 27.52752752752753, 27.62762762762763, 27.72772772772773, 27.82782782782783, 27.92792792792793, 28.02802802802803, 28.12812812812813, 28.22822822822823, 28.32832832832833, 28.42842842842843, 28.52852852852853, 28.62862862862863, 28.72872872872873, 28.82882882882883, 28.92892892892893, 29.02902902902903, 29.12912912912913, 29.22922922922923, 29.32932932932933, 29.42942942942943, 29.52952952952953, 29.62962962962963, 29.72972972972973, 29.82982982982983, 29.929929929929934, 30.030030030030034, 30.130130130130134, 30.230230230230234, 30.330330330330334, 30.430430430430434, 30.530530530530534, 30.630630630630634, 30.730730730730734, 30.830830830830834, 30.930930930930934, 31.031031031031034, 31.131131131131134, 31.231231231231234, 31.331331331331334, 31.431431431431434, 31.531531531531535, 31.631631631631635, 31.731731731731735, 31.831831831831835, 31.931931931931935, 32.032032032032035, 32.132132132132135, 32.232232232232235, 32.332332332332335, 32.432432432432435, 32.532532532532535, 32.632632632632635, 32.732732732732735, 32.832832832832835, 32.932932932932935, 33.033033033033036, 33.133133133133136, 33.233233233233236, 33.333333333333336, 33.433433433433436, 33.533533533533536, 33.633633633633636, 33.733733733733736, 33.833833833833836, 33.933933933933936, 34.034034034034036, 34.134134134134136, 34.234234234234236, 34.334334334334336, 34.434434434434436, 34.53453453453454, 34.63463463463464, 34.73473473473474, 34.83483483483484, 34.93493493493494, 35.03503503503504, 35.13513513513514, 35.23523523523524, 35.33533533533534, 35.43543543543544, 35.53553553553554, 35.63563563563564, 35.73573573573574, 35.83583583583584, 35.93593593593594, 36.03603603603604, 36.13613613613614, 36.23623623623624, 36.33633633633634, 36.43643643643644, 36.53653653653654, 36.63663663663664, 36.73673673673674, 36.83683683683684, 36.93693693693694, 37.03703703703704, 37.13713713713714, 37.23723723723724, 37.33733733733734, 37.43743743743744, 37.53753753753754, 37.63763763763764, 37.73773773773774, 37.83783783783784, 37.93793793793794, 38.03803803803804, 38.13813813813814, 38.23823823823824, 38.33833833833834, 38.43843843843844, 38.53853853853854, 38.63863863863864, 38.73873873873874, 38.83883883883884, 38.93893893893894, 39.03903903903904, 39.13913913913914, 39.23923923923924, 39.33933933933934, 39.43943943943944, 39.53953953953954, 39.63963963963964, 39.73973973973974, 39.83983983983984, 39.93993993993994, 40.04004004004004, 40.14014014014014, 40.24024024024024, 40.34034034034034, 40.44044044044044, 40.54054054054054, 40.64064064064064, 40.74074074074074, 40.84084084084084, 40.94094094094094, 41.04104104104104, 41.14114114114114, 41.24124124124124, 41.34134134134134, 41.44144144144144, 41.54154154154154, 41.64164164164164, 41.74174174174174, 41.84184184184184, 41.94194194194194, 42.04204204204204, 42.14214214214214, 42.24224224224224, 42.34234234234234, 42.44244244244244, 42.54254254254254, 42.64264264264264, 42.74274274274275, 42.84284284284285, 42.94294294294295, 43.04304304304305, 43.14314314314315, 43.24324324324325, 43.34334334334335, 43.44344344344345, 43.54354354354355, 43.64364364364365, 43.74374374374375, 43.84384384384385, 43.94394394394395, 44.04404404404405, 44.14414414414415, 44.24424424424425, 44.34434434434435, 44.44444444444445, 44.54454454454455, 44.64464464464465, 44.74474474474475, 44.84484484484485, 44.94494494494495, 45.04504504504505, 45.14514514514515, 45.24524524524525, 45.34534534534535, 45.44544544544545, 45.54554554554555, 45.64564564564565, 45.74574574574575, 45.84584584584585, 45.94594594594595, 46.04604604604605, 46.14614614614615, 46.24624624624625, 46.34634634634635, 46.44644644644645, 46.54654654654655, 46.64664664664665, 46.74674674674675, 46.84684684684685, 46.94694694694695, 47.04704704704705, 47.14714714714715, 47.24724724724725, 47.34734734734735, 47.44744744744745, 47.54754754754755, 47.64764764764765, 47.74774774774775, 47.84784784784785, 47.94794794794795, 48.04804804804805, 48.14814814814815, 48.24824824824825, 48.34834834834835, 48.44844844844845, 48.54854854854855, 48.64864864864865, 48.74874874874875, 48.84884884884885, 48.94894894894895, 49.04904904904905, 49.14914914914915, 49.24924924924925, 49.34934934934935, 49.44944944944945, 49.54954954954955, 49.64964964964965, 49.74974974974975, 49.84984984984985, 49.94994994994995, 50.050050050050054, 50.150150150150154, 50.250250250250254, 50.350350350350354, 50.450450450450454, 50.550550550550554, 50.650650650650654, 50.750750750750754, 50.850850850850854, 50.950950950950954, 51.051051051051054, 51.151151151151154, 51.251251251251254, 51.351351351351354, 51.451451451451454, 51.551551551551555, 51.651651651651655, 51.751751751751755, 51.851851851851855, 51.951951951951955, 52.052052052052055, 52.152152152152155, 52.252252252252255, 52.352352352352355, 52.452452452452455, 52.552552552552555, 52.652652652652655, 52.752752752752755, 52.852852852852855, 52.952952952952955, 53.053053053053056, 53.153153153153156, 53.253253253253256, 53.353353353353356, 53.453453453453456, 53.553553553553556, 53.653653653653656, 53.753753753753756, 53.853853853853856, 53.953953953953956, 54.054054054054056, 54.154154154154156, 54.254254254254256, 54.354354354354356, 54.454454454454456, 54.55455455455456, 54.65465465465466, 54.75475475475476, 54.85485485485486, 54.95495495495496, 55.05505505505506, 55.15515515515516, 55.25525525525526, 55.35535535535536, 55.45545545545546, 55.55555555555556, 55.65565565565566, 55.75575575575576, 55.85585585585586, 55.95595595595596, 56.05605605605606, 56.15615615615616, 56.25625625625626, 56.35635635635636, 56.45645645645646, 56.55655655655656, 56.65665665665666, 56.75675675675676, 56.85685685685686, 56.95695695695696, 57.05705705705706, 57.15715715715716, 57.25725725725726, 57.35735735735736, 57.45745745745746, 57.55755755755756, 57.65765765765766, 57.75775775775776, 57.85785785785786, 57.95795795795796, 58.05805805805806, 58.15815815815816, 58.25825825825826, 58.35835835835836, 58.45845845845846, 58.55855855855856, 58.65865865865866, 58.75875875875876, 58.85885885885886, 58.95895895895896, 59.05905905905906, 59.15915915915916, 59.25925925925926, 59.35935935935936, 59.45945945945946, 59.55955955955956, 59.65965965965966, 59.75975975975976, 59.85985985985987, 59.95995995995997, 60.06006006006007, 60.16016016016017, 60.26026026026027, 60.36036036036037, 60.46046046046047, 60.56056056056057, 60.66066066066067, 60.76076076076077, 60.86086086086087, 60.96096096096097, 61.06106106106107, 61.16116116116117, 61.26126126126127, 61.36136136136137, 61.46146146146147, 61.56156156156157, 61.66166166166167, 61.76176176176177, 61.86186186186187, 61.96196196196197, 62.06206206206207, 62.16216216216217, 62.26226226226227, 62.36236236236237, 62.46246246246247, 62.56256256256257, 62.66266266266267, 62.76276276276277, 62.86286286286287, 62.96296296296297, 63.06306306306307, 63.16316316316317, 63.26326326326327, 63.36336336336337, 63.46346346346347, 63.56356356356357, 63.66366366366367, 63.76376376376377, 63.86386386386387, 63.96396396396397, 64.06406406406407, 64.16416416416416, 64.26426426426427, 64.36436436436436, 64.46446446446447, 64.56456456456456, 64.66466466466467, 64.76476476476476, 64.86486486486487, 64.96496496496496, 65.06506506506507, 65.16516516516516, 65.26526526526527, 65.36536536536536, 65.46546546546547, 65.56556556556556, 65.66566566566567, 65.76576576576576, 65.86586586586587, 65.96596596596596, 66.06606606606607, 66.16616616616616, 66.26626626626627, 66.36636636636636, 66.46646646646647, 66.56656656656656, 66.66666666666667, 66.76676676676676, 66.86686686686687, 66.96696696696696, 67.06706706706707, 67.16716716716716, 67.26726726726727, 67.36736736736736, 67.46746746746747, 67.56756756756756, 67.66766766766767, 67.76776776776777, 67.86786786786787, 67.96796796796797, 68.06806806806807, 68.16816816816817, 68.26826826826827, 68.36836836836838, 68.46846846846847, 68.56856856856858, 68.66866866866867, 68.76876876876878, 68.86886886886887, 68.96896896896898, 69.06906906906907, 69.16916916916918, 69.26926926926927, 69.36936936936938, 69.46946946946947, 69.56956956956958, 69.66966966966967, 69.76976976976978, 69.86986986986987, 69.96996996996998, 70.07007007007007, 70.17017017017018, 70.27027027027027, 70.37037037037038, 70.47047047047047, 70.57057057057058, 70.67067067067067, 70.77077077077078, 70.87087087087087, 70.97097097097098, 71.07107107107107, 71.17117117117118, 71.27127127127127, 71.37137137137138, 71.47147147147147, 71.57157157157158, 71.67167167167167, 71.77177177177178, 71.87187187187187, 71.97197197197198, 72.07207207207207, 72.17217217217218, 72.27227227227228, 72.37237237237238, 72.47247247247248, 72.57257257257258, 72.67267267267268, 72.77277277277278, 72.87287287287288, 72.97297297297298, 73.07307307307308, 73.17317317317318, 73.27327327327328, 73.37337337337338, 73.47347347347348, 73.57357357357358, 73.67367367367368, 73.77377377377378, 73.87387387387388, 73.97397397397398, 74.07407407407408, 74.17417417417418, 74.27427427427428, 74.37437437437438, 74.47447447447448, 74.57457457457458, 74.67467467467468, 74.77477477477478, 74.87487487487488, 74.97497497497498, 75.07507507507508, 75.17517517517518, 75.27527527527528, 75.37537537537538, 75.47547547547548, 75.57557557557558, 75.67567567567568, 75.77577577577578, 75.87587587587588, 75.97597597597598, 76.07607607607608, 76.17617617617618, 76.27627627627628, 76.37637637637638, 76.47647647647648, 76.57657657657658, 76.67667667667668, 76.77677677677679, 76.87687687687688, 76.97697697697699, 77.07707707707708, 77.17717717717719, 77.27727727727728, 77.37737737737739, 77.47747747747748, 77.57757757757759, 77.67767767767768, 77.77777777777779, 77.87787787787788, 77.97797797797799, 78.07807807807808, 78.17817817817819, 78.27827827827828, 78.37837837837839, 78.47847847847848, 78.57857857857859, 78.67867867867868, 78.77877877877879, 78.87887887887888, 78.97897897897899, 79.07907907907908, 79.17917917917919, 79.27927927927928, 79.37937937937939, 79.47947947947948, 79.57957957957959, 79.67967967967968, 79.77977977977979, 79.87987987987988, 79.97997997997999, 80.08008008008008, 80.18018018018019, 80.28028028028028, 80.38038038038039, 80.48048048048048, 80.58058058058059, 80.68068068068068, 80.78078078078079, 80.88088088088088, 80.98098098098099, 81.08108108108108, 81.18118118118119, 81.28128128128128, 81.38138138138139, 81.48148148148148, 81.58158158158159, 81.68168168168168, 81.78178178178179, 81.88188188188188, 81.98198198198199, 82.08208208208208, 82.18218218218219, 82.28228228228228, 82.38238238238239, 82.48248248248248, 82.58258258258259, 82.68268268268268, 82.78278278278279, 82.88288288288288, 82.98298298298299, 83.08308308308308, 83.18318318318319, 83.28328328328328, 83.38338338338339, 83.48348348348348, 83.58358358358359, 83.68368368368368, 83.78378378378379, 83.88388388388388, 83.98398398398399, 84.08408408408408, 84.18418418418419, 84.28428428428428, 84.38438438438439, 84.48448448448448, 84.58458458458459, 84.68468468468468, 84.78478478478479, 84.88488488488488, 84.98498498498499, 85.08508508508508, 85.18518518518519, 85.28528528528528, 85.38538538538539, 85.4854854854855, 85.58558558558559, 85.6856856856857, 85.78578578578579, 85.8858858858859, 85.98598598598599, 86.0860860860861, 86.18618618618619, 86.2862862862863, 86.38638638638639, 86.4864864864865, 86.58658658658659, 86.6866866866867, 86.78678678678679, 86.8868868868869, 86.98698698698699, 87.0870870870871, 87.18718718718719, 87.2872872872873, 87.38738738738739, 87.4874874874875, 87.58758758758759, 87.6876876876877, 87.78778778778779, 87.8878878878879, 87.98798798798799, 88.0880880880881, 88.18818818818819, 88.2882882882883, 88.38838838838839, 88.4884884884885, 88.58858858858859, 88.6886886886887, 88.78878878878879, 88.8888888888889, 88.988988988989, 89.0890890890891, 89.1891891891892, 89.2892892892893, 89.3893893893894, 89.4894894894895, 89.5895895895896, 89.6896896896897, 89.7897897897898, 89.8898898898899, 89.98998998999, 90.0900900900901, 90.1901901901902, 90.2902902902903, 90.3903903903904, 90.4904904904905, 90.5905905905906, 90.6906906906907, 90.7907907907908, 90.8908908908909, 90.990990990991, 91.0910910910911, 91.1911911911912, 91.2912912912913, 91.3913913913914, 91.4914914914915, 91.5915915915916, 91.6916916916917, 91.7917917917918, 91.8918918918919, 91.991991991992, 92.0920920920921, 92.1921921921922, 92.2922922922923, 92.3923923923924, 92.4924924924925, 92.5925925925926, 92.6926926926927, 92.7927927927928, 92.8928928928929, 92.992992992993, 93.0930930930931, 93.1931931931932, 93.2932932932933, 93.3933933933934, 93.4934934934935, 93.5935935935936, 93.6936936936937, 93.7937937937938, 93.8938938938939, 93.993993993994, 94.0940940940941, 94.1941941941942, 94.2942942942943, 94.3943943943944, 94.4944944944945, 94.5945945945946, 94.6946946946947, 94.7947947947948, 94.8948948948949, 94.994994994995, 95.0950950950951, 95.1951951951952, 95.2952952952953, 95.3953953953954, 95.4954954954955, 95.5955955955956, 95.6956956956957, 95.7957957957958, 95.8958958958959, 95.995995995996, 96.0960960960961, 96.1961961961962, 96.2962962962963, 96.3963963963964, 96.4964964964965, 96.5965965965966, 96.6966966966967, 96.7967967967968, 96.8968968968969, 96.996996996997, 97.0970970970971, 97.1971971971972, 97.2972972972973, 97.3973973973974, 97.4974974974975, 97.5975975975976, 97.6976976976977, 97.7977977977978, 97.8978978978979, 97.997997997998, 98.0980980980981, 98.1981981981982, 98.2982982982983, 98.3983983983984, 98.4984984984985, 98.5985985985986, 98.6986986986987, 98.7987987987988, 98.8988988988989, 98.998998998999, 99.0990990990991, 99.1991991991992, 99.2992992992993, 99.3993993993994, 99.4994994994995, 99.5995995995996, 99.6996996996997, 99.7997997997998, 99.8998998998999, 100.0]}],\n",
              "                        {\"template\": {\"data\": {\"bar\": [{\"error_x\": {\"color\": \"#2a3f5f\"}, \"error_y\": {\"color\": \"#2a3f5f\"}, \"marker\": {\"line\": {\"color\": \"#E5ECF6\", \"width\": 0.5}}, \"type\": \"bar\"}], \"barpolar\": [{\"marker\": {\"line\": {\"color\": \"#E5ECF6\", \"width\": 0.5}}, \"type\": \"barpolar\"}], \"carpet\": [{\"aaxis\": {\"endlinecolor\": \"#2a3f5f\", \"gridcolor\": \"white\", \"linecolor\": \"white\", \"minorgridcolor\": \"white\", \"startlinecolor\": \"#2a3f5f\"}, \"baxis\": {\"endlinecolor\": \"#2a3f5f\", \"gridcolor\": \"white\", \"linecolor\": \"white\", \"minorgridcolor\": \"white\", \"startlinecolor\": \"#2a3f5f\"}, \"type\": \"carpet\"}], \"choropleth\": [{\"colorbar\": {\"outlinewidth\": 0, \"ticks\": \"\"}, \"type\": \"choropleth\"}], \"contour\": [{\"colorbar\": {\"outlinewidth\": 0, \"ticks\": \"\"}, \"colorscale\": [[0.0, \"#0d0887\"], [0.1111111111111111, \"#46039f\"], [0.2222222222222222, \"#7201a8\"], [0.3333333333333333, \"#9c179e\"], [0.4444444444444444, \"#bd3786\"], [0.5555555555555556, \"#d8576b\"], [0.6666666666666666, \"#ed7953\"], [0.7777777777777778, \"#fb9f3a\"], [0.8888888888888888, \"#fdca26\"], [1.0, \"#f0f921\"]], \"type\": \"contour\"}], \"contourcarpet\": [{\"colorbar\": {\"outlinewidth\": 0, \"ticks\": \"\"}, \"type\": \"contourcarpet\"}], \"heatmap\": [{\"colorbar\": {\"outlinewidth\": 0, \"ticks\": \"\"}, \"colorscale\": [[0.0, \"#0d0887\"], [0.1111111111111111, \"#46039f\"], [0.2222222222222222, \"#7201a8\"], [0.3333333333333333, \"#9c179e\"], [0.4444444444444444, \"#bd3786\"], [0.5555555555555556, \"#d8576b\"], [0.6666666666666666, \"#ed7953\"], [0.7777777777777778, \"#fb9f3a\"], [0.8888888888888888, \"#fdca26\"], [1.0, \"#f0f921\"]], \"type\": \"heatmap\"}], \"heatmapgl\": [{\"colorbar\": {\"outlinewidth\": 0, \"ticks\": \"\"}, \"colorscale\": [[0.0, \"#0d0887\"], [0.1111111111111111, \"#46039f\"], [0.2222222222222222, \"#7201a8\"], [0.3333333333333333, \"#9c179e\"], [0.4444444444444444, \"#bd3786\"], [0.5555555555555556, \"#d8576b\"], [0.6666666666666666, \"#ed7953\"], [0.7777777777777778, \"#fb9f3a\"], [0.8888888888888888, \"#fdca26\"], [1.0, \"#f0f921\"]], \"type\": \"heatmapgl\"}], \"histogram\": [{\"marker\": {\"colorbar\": {\"outlinewidth\": 0, \"ticks\": \"\"}}, \"type\": \"histogram\"}], \"histogram2d\": [{\"colorbar\": {\"outlinewidth\": 0, \"ticks\": \"\"}, \"colorscale\": [[0.0, \"#0d0887\"], [0.1111111111111111, \"#46039f\"], [0.2222222222222222, \"#7201a8\"], [0.3333333333333333, \"#9c179e\"], [0.4444444444444444, \"#bd3786\"], [0.5555555555555556, \"#d8576b\"], [0.6666666666666666, \"#ed7953\"], [0.7777777777777778, \"#fb9f3a\"], [0.8888888888888888, \"#fdca26\"], [1.0, \"#f0f921\"]], \"type\": \"histogram2d\"}], \"histogram2dcontour\": [{\"colorbar\": {\"outlinewidth\": 0, \"ticks\": \"\"}, \"colorscale\": [[0.0, \"#0d0887\"], [0.1111111111111111, \"#46039f\"], [0.2222222222222222, \"#7201a8\"], [0.3333333333333333, \"#9c179e\"], [0.4444444444444444, \"#bd3786\"], [0.5555555555555556, \"#d8576b\"], [0.6666666666666666, \"#ed7953\"], [0.7777777777777778, \"#fb9f3a\"], [0.8888888888888888, \"#fdca26\"], [1.0, \"#f0f921\"]], \"type\": \"histogram2dcontour\"}], \"mesh3d\": [{\"colorbar\": {\"outlinewidth\": 0, \"ticks\": \"\"}, \"type\": \"mesh3d\"}], \"parcoords\": [{\"line\": {\"colorbar\": {\"outlinewidth\": 0, \"ticks\": \"\"}}, \"type\": \"parcoords\"}], \"pie\": [{\"automargin\": true, \"type\": \"pie\"}], \"scatter\": [{\"marker\": {\"colorbar\": {\"outlinewidth\": 0, \"ticks\": \"\"}}, \"type\": \"scatter\"}], \"scatter3d\": [{\"line\": {\"colorbar\": {\"outlinewidth\": 0, \"ticks\": \"\"}}, \"marker\": {\"colorbar\": {\"outlinewidth\": 0, \"ticks\": \"\"}}, \"type\": \"scatter3d\"}], \"scattercarpet\": [{\"marker\": {\"colorbar\": {\"outlinewidth\": 0, \"ticks\": \"\"}}, \"type\": \"scattercarpet\"}], \"scattergeo\": [{\"marker\": {\"colorbar\": {\"outlinewidth\": 0, \"ticks\": \"\"}}, \"type\": \"scattergeo\"}], \"scattergl\": [{\"marker\": {\"colorbar\": {\"outlinewidth\": 0, \"ticks\": \"\"}}, \"type\": \"scattergl\"}], \"scattermapbox\": [{\"marker\": {\"colorbar\": {\"outlinewidth\": 0, \"ticks\": \"\"}}, \"type\": \"scattermapbox\"}], \"scatterpolar\": [{\"marker\": {\"colorbar\": {\"outlinewidth\": 0, \"ticks\": \"\"}}, \"type\": \"scatterpolar\"}], \"scatterpolargl\": [{\"marker\": {\"colorbar\": {\"outlinewidth\": 0, \"ticks\": \"\"}}, \"type\": \"scatterpolargl\"}], \"scatterternary\": [{\"marker\": {\"colorbar\": {\"outlinewidth\": 0, \"ticks\": \"\"}}, \"type\": \"scatterternary\"}], \"surface\": [{\"colorbar\": {\"outlinewidth\": 0, \"ticks\": \"\"}, \"colorscale\": [[0.0, \"#0d0887\"], [0.1111111111111111, \"#46039f\"], [0.2222222222222222, \"#7201a8\"], [0.3333333333333333, \"#9c179e\"], [0.4444444444444444, \"#bd3786\"], [0.5555555555555556, \"#d8576b\"], [0.6666666666666666, \"#ed7953\"], [0.7777777777777778, \"#fb9f3a\"], [0.8888888888888888, \"#fdca26\"], [1.0, \"#f0f921\"]], \"type\": \"surface\"}], \"table\": [{\"cells\": {\"fill\": {\"color\": \"#EBF0F8\"}, \"line\": {\"color\": \"white\"}}, \"header\": {\"fill\": {\"color\": \"#C8D4E3\"}, \"line\": {\"color\": \"white\"}}, \"type\": \"table\"}]}, \"layout\": {\"annotationdefaults\": {\"arrowcolor\": \"#2a3f5f\", \"arrowhead\": 0, \"arrowwidth\": 1}, \"coloraxis\": {\"colorbar\": {\"outlinewidth\": 0, \"ticks\": \"\"}}, \"colorscale\": {\"diverging\": [[0, \"#8e0152\"], [0.1, \"#c51b7d\"], [0.2, \"#de77ae\"], [0.3, \"#f1b6da\"], [0.4, \"#fde0ef\"], [0.5, \"#f7f7f7\"], [0.6, \"#e6f5d0\"], [0.7, \"#b8e186\"], [0.8, \"#7fbc41\"], [0.9, \"#4d9221\"], [1, \"#276419\"]], \"sequential\": [[0.0, \"#0d0887\"], [0.1111111111111111, \"#46039f\"], [0.2222222222222222, \"#7201a8\"], [0.3333333333333333, \"#9c179e\"], [0.4444444444444444, \"#bd3786\"], [0.5555555555555556, \"#d8576b\"], [0.6666666666666666, \"#ed7953\"], [0.7777777777777778, \"#fb9f3a\"], [0.8888888888888888, \"#fdca26\"], [1.0, \"#f0f921\"]], \"sequentialminus\": [[0.0, \"#0d0887\"], [0.1111111111111111, \"#46039f\"], [0.2222222222222222, \"#7201a8\"], [0.3333333333333333, \"#9c179e\"], [0.4444444444444444, \"#bd3786\"], [0.5555555555555556, \"#d8576b\"], [0.6666666666666666, \"#ed7953\"], [0.7777777777777778, \"#fb9f3a\"], [0.8888888888888888, \"#fdca26\"], [1.0, \"#f0f921\"]]}, \"colorway\": [\"#636efa\", \"#EF553B\", \"#00cc96\", \"#ab63fa\", \"#FFA15A\", \"#19d3f3\", \"#FF6692\", \"#B6E880\", \"#FF97FF\", \"#FECB52\"], \"font\": {\"color\": \"#2a3f5f\"}, \"geo\": {\"bgcolor\": \"white\", \"lakecolor\": \"white\", \"landcolor\": \"#E5ECF6\", \"showlakes\": true, \"showland\": true, \"subunitcolor\": \"white\"}, \"hoverlabel\": {\"align\": \"left\"}, \"hovermode\": \"closest\", \"mapbox\": {\"style\": \"light\"}, \"paper_bgcolor\": \"white\", \"plot_bgcolor\": \"#E5ECF6\", \"polar\": {\"angularaxis\": {\"gridcolor\": \"white\", \"linecolor\": \"white\", \"ticks\": \"\"}, \"bgcolor\": \"#E5ECF6\", \"radialaxis\": {\"gridcolor\": \"white\", \"linecolor\": \"white\", \"ticks\": \"\"}}, \"scene\": {\"xaxis\": {\"backgroundcolor\": \"#E5ECF6\", \"gridcolor\": \"white\", \"gridwidth\": 2, \"linecolor\": \"white\", \"showbackground\": true, \"ticks\": \"\", \"zerolinecolor\": \"white\"}, \"yaxis\": {\"backgroundcolor\": \"#E5ECF6\", \"gridcolor\": \"white\", \"gridwidth\": 2, \"linecolor\": \"white\", \"showbackground\": true, \"ticks\": \"\", \"zerolinecolor\": \"white\"}, \"zaxis\": {\"backgroundcolor\": \"#E5ECF6\", \"gridcolor\": \"white\", \"gridwidth\": 2, \"linecolor\": \"white\", \"showbackground\": true, \"ticks\": \"\", \"zerolinecolor\": \"white\"}}, \"shapedefaults\": {\"line\": {\"color\": \"#2a3f5f\"}}, \"ternary\": {\"aaxis\": {\"gridcolor\": \"white\", \"linecolor\": \"white\", \"ticks\": \"\"}, \"baxis\": {\"gridcolor\": \"white\", \"linecolor\": \"white\", \"ticks\": \"\"}, \"bgcolor\": \"#E5ECF6\", \"caxis\": {\"gridcolor\": \"white\", \"linecolor\": \"white\", \"ticks\": \"\"}}, \"title\": {\"x\": 0.05}, \"xaxis\": {\"automargin\": true, \"gridcolor\": \"white\", \"linecolor\": \"white\", \"ticks\": \"\", \"title\": {\"standoff\": 15}, \"zerolinecolor\": \"white\", \"zerolinewidth\": 2}, \"yaxis\": {\"automargin\": true, \"gridcolor\": \"white\", \"linecolor\": \"white\", \"ticks\": \"\", \"title\": {\"standoff\": 15}, \"zerolinecolor\": \"white\", \"zerolinewidth\": 2}}}, \"title\": {\"text\": \"GP_reg predicted v actual\"}},\n",
              "                        {\"responsive\": true}\n",
              "                    ).then(function(){\n",
              "                            \n",
              "var gd = document.getElementById('0daba69a-e24b-4d34-8ac4-9c04fa680e00');\n",
              "var x = new MutationObserver(function (mutations, observer) {{\n",
              "        var display = window.getComputedStyle(gd).display;\n",
              "        if (!display || display === 'none') {{\n",
              "            console.log([gd, 'removed!']);\n",
              "            Plotly.purge(gd);\n",
              "            observer.disconnect();\n",
              "        }}\n",
              "}});\n",
              "\n",
              "// Listen for the removal of the full notebook cells\n",
              "var notebookContainer = gd.closest('#notebook-container');\n",
              "if (notebookContainer) {{\n",
              "    x.observe(notebookContainer, {childList: true});\n",
              "}}\n",
              "\n",
              "// Listen for the clearing of the current output cell\n",
              "var outputEl = gd.closest('.output');\n",
              "if (outputEl) {{\n",
              "    x.observe(outputEl, {childList: true});\n",
              "}}\n",
              "\n",
              "                        })\n",
              "                };\n",
              "                \n",
              "            </script>\n",
              "        </div>\n",
              "</body>\n",
              "</html>"
            ]
          },
          "metadata": {
            "tags": []
          }
        }
      ]
    },
    {
      "cell_type": "code",
      "metadata": {
        "id": "se1JATnV6LVS",
        "colab": {
          "base_uri": "https://localhost:8080/",
          "height": 542
        },
        "outputId": "fc185abc-58b4-494a-b4a6-e231c88b48b6"
      },
      "source": [
        "\n",
        "# matr = np.linspace((0,0,0,0,0,0,0,0),\n",
        "#                    (X_train[\"415\"].max(),\n",
        "#                     X_train[\"445\"].max(),\n",
        "#                     X_train[\"480\"].max(),\n",
        "#                     X_train[\"515\"].max(),\n",
        "#                     X_train[\"555\"].max(),\n",
        "#                     X_train[\"590\"].max(),\n",
        "#                     X_train[\"630\"].max(),\n",
        "#                     X_train[\"680\"].max()),1000)\n",
        "\n",
        "# y_pred, sigma = gp.best_estimator_[1].predict(matr, return_std=True)\n",
        "# print(\"ypred\" ,y_pred.ravel().max())\n",
        "# # print(\"sigma\", sigma.shape)\n",
        "\n",
        "# lower = np.multiply(y_pred.ravel() - 1.9600 ,sigma)\n",
        "# upper = np.multiply(y_pred.ravel() + 1.9600 , sigma)\n",
        "# # print(\"lower\",lower.shape)\n",
        "\n",
        "\n",
        "def top(X,Y):\n",
        "  topX, topY = [],[]\n",
        "  for a,b in zip(X,Y):\n",
        "    if a not in topX:\n",
        "      topX.append(a)\n",
        "      topY.append(b)\n",
        "    elif topY[topX.index(a)] < b:\n",
        "      topY[topX.index(a)] = b \n",
        "  return topX, topY\n",
        "     \n",
        "def low(X,Y):\n",
        "  topX, topY = [],[]\n",
        "  for a,b in zip(X,Y):\n",
        "    if a not in topX:\n",
        "      topX.append(a)\n",
        "      topY.append(b)\n",
        "    elif topY[topX.index(a)] > b:\n",
        "      topY[topX.index(a)] = b \n",
        "  return topX, topY\n",
        "\n",
        "\n",
        "import numpy as np\n",
        "names = list(history.keys())\n",
        "\n",
        "n_splits = 10\n",
        "\n",
        "#perfect plot\n",
        "perfect_plot = {\"legend\": \"actuals\", \n",
        "                \"x\": list(np.linspace(0, 100, num=1000, endpoint=True)), \n",
        "                \"y\": list(np.linspace(0, 100, num=1000, endpoint=True)),\n",
        "                \"marker_symbol\": 'line-ne-open'}\n",
        "X,Y,lower,high = [], [], [], []              \n",
        "for alg in names:\n",
        "  for i in range(n_splits):\n",
        "      X = X + list(history[alg][\"actual\"][i].values.ravel())\n",
        "      Y = Y + list(history[alg][\"predictions\"][i].ravel())\n",
        "      sigma = history[alg][\"sigmas\"][i].ravel()\n",
        "      lower = lower + list(history[alg][\"predictions\"][i].ravel() - 1.9600*sigma)\n",
        "      high = high + list(history[alg][\"predictions\"][i].ravel() + 1.9600*sigma)\n",
        "\n",
        "\n",
        "  current_plot = {\"legend\": \"predictions\", \n",
        "                  \"x\": X, \n",
        "                  \"y\": Y,\n",
        "                  \"marker_symbol\": 'star'}\n",
        "\n",
        "  # #confidence plot\n",
        "  low_X, low_Y = low(X,lower)\n",
        "  # lowconfidence_plot = {\"legend\": \"95% confidence\", \n",
        "  #                       \"x\": low_X, \n",
        "  #                       \"y\": low_Y,\n",
        "  #                       \"marker_symbol\": 'square'}\n",
        "\n",
        "  top_X, top_Y = top(X,high)\n",
        "  low_X.extend(top_X)\n",
        "  low_Y.extend(top_Y)\n",
        "  highconfidence_plot = {\"legend\": \"95% confidence\", \n",
        "                        \"x\": low_X, \n",
        "                        \"y\": low_Y,\n",
        "                        \"marker_symbol\": 'square'}\n",
        "\n",
        "  plot([current_plot, perfect_plot,highconfidence_plot], alg + \" predicted v actual\")\n",
        "\n"
      ],
      "execution_count": 162,
      "outputs": [
        {
          "output_type": "display_data",
          "data": {
            "text/html": [
              "<html>\n",
              "<head><meta charset=\"utf-8\" /></head>\n",
              "<body>\n",
              "    <div>\n",
              "            <script src=\"https://cdnjs.cloudflare.com/ajax/libs/mathjax/2.7.5/MathJax.js?config=TeX-AMS-MML_SVG\"></script><script type=\"text/javascript\">if (window.MathJax) {MathJax.Hub.Config({SVG: {font: \"STIX-Web\"}});}</script>\n",
              "                <script type=\"text/javascript\">window.PlotlyConfig = {MathJaxConfig: 'local'};</script>\n",
              "        <script src=\"https://cdn.plot.ly/plotly-latest.min.js\"></script>    \n",
              "            <div id=\"fae80c25-5cf3-4e8a-88b0-7cab282ec794\" class=\"plotly-graph-div\" style=\"height:525px; width:100%;\"></div>\n",
              "            <script type=\"text/javascript\">\n",
              "                \n",
              "                    window.PLOTLYENV=window.PLOTLYENV || {};\n",
              "                    \n",
              "                if (document.getElementById(\"fae80c25-5cf3-4e8a-88b0-7cab282ec794\")) {\n",
              "                    Plotly.newPlot(\n",
              "                        'fae80c25-5cf3-4e8a-88b0-7cab282ec794',\n",
              "                        [{\"marker\": {\"size\": 5, \"symbol\": \"star\"}, \"mode\": \"markers\", \"name\": \"predictions\", \"type\": \"scatter\", \"x\": [0.0, 0.0, 0.0, 0.0, 18.06642, 18.06642, 0.903321, 18.06642, 0.0, 0.0, 0.0, 0.0, 0.0, 0.0, 36.13284, 0.0, 90.33210000000001, 0.0, 90.33210000000001, 90.33210000000001, 0.5419926, 0.0, 9.03321, 0.5419926, 0.5419926, 0.5419926, 1.806642, 9.03321, 0.0, 0.0, 1.806642, 0.0, 0.0, 0.0, 90.33210000000001, 0.0, 0.903321, 9.03321, 9.03321, 9.03321, 1.806642, 0.5419926, 0.0, 0.0, 0.0, 0.0, 0.0, 0.0, 0.5419926, 0.0, 0.5419926, 0.0, 90.33210000000001, 45.166050000000006, 0.0, 0.0, 18.06642, 0.0, 0.0, 18.06642, 9.03321, 0.903321, 0.0, 0.0, 0.0, 0.0, 1.806642, 0.903321, 90.33210000000001, 18.06642, 0.0, 0.0, 0.903321, 0.0, 0.0, 0.0, 0.0, 0.0, 0.0, 90.33210000000001, 0.0, 90.33210000000001, 0.5419926, 0.5419926, 18.06642, 18.06642, 90.33210000000001, 0.5419926, 0.903321, 18.06642, 0.0, 0.0, 0.4516605, 0.0, 0.0, 0.0, 0.0, 0.0, 0.0, 90.33210000000001, 90.33210000000001, 90.33210000000001, 0.903321, 0.0, 0.0, 0.0, 0.0, 1.0839852, 90.33210000000001, 90.33210000000001, 0.0, 0.0, 1.806642, 9.03321, 0.5419926, 0.5419926, 0.0, 0.5419926, 90.33210000000001, 45.166050000000006, 0.0, 0.0, 9.03321, 3.613284, 0.0, 0.0, 0.0, 1.806642, 18.06642, 0.0, 0.0, 0.0, 0.0, 0.0, 0.0, 0.0, 0.0, 0.0, 90.33210000000001, 90.33210000000001, 0.903321, 0.903321, 0.903321, 0.0, 90.33210000000001, 0.5419926, 0.903321, 9.03321, 4.516605, 0.0, 18.06642, 18.06642, 18.06642, 0.0, 0.0, 0.0, 0.0, 0.0, 90.33210000000001, 9.03321, 0.0, 0.0, 0.903321, 0.5419926, 0.0, 0.0, 0.0, 0.0, 1.0839852, 36.13284, 90.33210000000001, 0.0, 90.33210000000001, 0.0, 0.0, 18.06642, 0.0, 0.0, 0.5419926, 0.0, 0.5419926, 0.903321, 18.06642, 3.613284, 0.0, 0.0, 0.0, 0.0, 0.0, 0.0, 0.0, 0.0, 0.0, 0.0, 0.0, 0.0, 36.13284, 90.33210000000001, 90.33210000000001, 90.33210000000001, 0.0, 0.5419926, 0.5419926, 0.0, 0.5419926, 0.5419926, 1.806642, 18.06642, 0.0, 4.516605, 0.4516605, 0.4516605, 18.06642, 0.0, 0.0, 0.0, 0.0, 90.33210000000001, 90.33210000000001, 18.06642, 18.06642, 0.903321, 0.903321, 0.0, 1.806642, 0.0, 0.0, 0.0, 0.0, 1.0839852, 0.0, 90.33210000000001, 0.0, 0.5419926, 0.5419926, 0.5419926, 9.03321, 4.516605, 0.0, 4.516605, 4.516605, 0.0, 0.0, 0.0, 0.0, 0.0, 0.0, 0.0, 0.0, 9.03321, 0.0, 1.806642, 1.806642, 0.5419926, 0.0, 0.0, 0.0, 90.33210000000001, 90.33210000000001, 90.33210000000001, 0.0, 90.33210000000001, 0.0, 0.5419926, 0.5419926, 0.0, 1.806642, 0.0, 0.0, 4.516605, 1.806642, 0.0, 9.03321, 3.613284, 0.0, 0.0, 0.0, 9.03321, 1.806642, 0.903321, 18.06642, 0.0, 0.0, 0.0, 0.0, 0.0, 0.0, 0.0, 90.33210000000001, 0.0, 0.0, 0.0, 1.806642, 1.806642, 0.0, 9.03321, 0.0, 0.0, 90.33210000000001, 45.166050000000006, 0.0, 1.806642, 0.903321, 0.903321], \"y\": [0.539218955794647, 7.840199600650521e-10, -0.021710057157374507, 3.354847013525841e-07, 16.198520092668016, 16.3871625758424, 0.903321000653543, 16.930523133708768, 2.1408160299573957, 0.032324986616721674, 1.9316068744501536e-09, 0.10472555557571184, 0.004209897199007884, 1.9316068744501536e-09, 27.604483245711357, -4.964693545161936e-09, 88.05335824764505, 1.9316068744501536e-09, 87.70183790763664, 87.5634583203995, 1.8954033878338183, 1.1477112593638594e-09, 8.168000434319282, 1.978075666750458, 2.0949436857042603, 0.5484031158898368, 1.6614916015049292, 8.428843927371162, 1.1504397434691782e-09, 1.1504397434691782e-09, 2.345700689278985, 3.254405300473323, -1.981334207812324e-09, 0.01189415384969017, 85.13133039083927, -0.017717951145119315, 0.5731756655448468, 7.933899195509845, 7.813049702772395, 7.749395242441426, 1.8193997211522497, 0.5315340915231221, 0.45023430347269766, 0.18323898919339143, 0.10588998443119557, 2.5460806796218094e-09, 2.5460806796218094e-09, 2.5460806796218094e-09, 0.5580446240347072, 2.5460806796218094e-09, 0.5429269928451994, 2.5460806796218094e-09, 87.33492831904061, 50.84774593245831, -6.022400356187063e-10, 0.7659176199223108, 14.74299066503812, -0.0006778173028738621, 0.7120583043232518, 15.472315232651926, 7.456447068430766, 2.4926574127238936, 1.6775105943779014, 1.7902674938956462, 1.66575580177296, -4.352810769603366e-07, 1.7987418337587027, 0.903321000702423, 87.56512741786392, 16.461029433534414, -1.660058757124716e-09, -1.660058757124716e-09, 1.6416063173517248, 1.0893166930382794, -0.029953880020986645, 0.002592303626425263, 2.1710078091005, 0.17693084605515175, -4.911910878035997e-10, 87.92602878722798, -4.911910878035997e-10, 86.68544435293624, 1.2673180275096936, 1.81618094605715, 16.19893559758774, 17.317715777711634, 74.84538036663281, 0.5416192321473385, 1.5156220373785398, 13.264941491327338, -4.893720984000538e-10, 2.282343203319215e-09, 2.0479961606460098, 0.3782734884590102, 2.339147901568454, 2.2538314391653334, 0.020252439632328034, 0.00708400332881709, 0.051008380597755476, 85.1235180659071, 84.24482119091498, 83.55968893876178, 0.9033210000648726, -8.249436689311551e-10, 1.885572402544609, 0.49504739777095175, 2.2211710692943143e-07, 1.0839851990521634, 87.11428415571056, 87.23831742577667, -2.992184278127752e-10, -2.992184278127752e-10, 3.5208999579477513, 7.581331345271251, 0.5491837328128231, 2.7991210477768913, -2.992184278127752e-10, 0.549649997788114, 85.68415470050086, 50.738152600207215, 2.241709040617934e-10, 0.04573957187302469, 7.9234475954882075, 2.863847484584504, 1.4600806475004955, -1.1095758623014262e-07, 3.5854910152011144e-09, 1.785939074668315, 15.197978874066134, 0.03744407383625692, 2.534983778446076e-09, -0.17458205797945503, 7.640945653974995e-10, -0.11375894987363111, -1.0636959757448494e-08, -1.0636959757448494e-08, 2.534983778446076e-09, 2.534983778446076e-09, 70.9938122308798, 70.70720326343375, 3.2624749379097846, 4.144202429029699, 4.9003368291050755, -1.5899145111575308e-08, 70.62266736464973, 1.8855061238168194, 1.17532692956126, 8.150923269271233, 4.499570861454467, 0.06364253709556422, 14.213359758607204, 14.6064356628739, 15.601250411569044, -0.00028516822102808703, 1.855483607509898, -0.07562591395666374, -1.5070433789787785e-10, -0.04864675008869135, 85.69731408453893, 9.013387172914305, -4.2844678915798795e-09, -1.5070433789787785e-10, 2.3943769752868764, 0.6040130337837812, 1.091351546806706, 8.088012037887893e-09, -0.025819944413397522, 0.25501854916572597, 1.0839851988328615, 32.23764162913009, 87.2085449282145, 1.9042634136212655e-08, 88.40314213254159, -2.5351489796321403e-09, -2.5351489796321403e-09, 16.6923624007304, -2.5351489796321403e-09, -2.5351489796321403e-09, 0.8783487257784959, -2.5351489796321403e-09, 1.439879284222867, 1.079148836340254, 14.768231909872114, 3.257798309427981, -6.970015675733521e-10, 0.31058190346858794, 0.18825233074913328, -0.0017662251645091942, -1.311570340334356e-06, -0.1012926599651518, -2.073083216203031e-08, 2.311201068812892, 0.9215286075437827, 0.3229508437511939, 2.5534913597286355, 9.38524102878091e-09, 33.57633079526974, 87.85411630240381, 88.51006392267311, 77.88783041953305, 3.464972309075165e-09, 0.3886534369149963, 0.39254089020851346, 3.464972309075165e-09, 0.46671235919867904, 1.191870614320134, 1.9326897229657476, 15.557742581057454, 3.464972309075165e-09, 4.526039643862001, 2.4056357679438136, 2.8467089889566886, 15.282041149805746, 1.2472357491994703, 3.166420298868376, 1.966816500138581, 1.4783907431592525e-10, 87.18339370552481, 86.24023964130588, 13.822102672656998, 15.121351940798089, 0.8238143171974937, 1.469486283696817, -1.6255317092372934e-09, 1.841379504988348, 1.0863868409401451, -0.007983499070428834, 2.0393226769425787, 1.582540427591539e-07, 1.5919380029607755, -1.6255317092372934e-09, 87.84234575101287, -5.149178861074688e-10, 0.5758401978849079, 0.5603328947120172, 0.45137627871217134, 7.215377262294137, 5.183472100080229, -5.149178861074688e-10, 4.557565204602152, 4.6685215830784745, 1.4190548281504576, 0.9832043952177703, 1.2891117454116738, 1.524012703257668, -0.11565843699477085, 2.54253296581145, -1.225970258644793e-08, 8.924043726210584e-10, 9.1700074094339, 8.924043726210584e-10, 1.8408070454198544, 2.9341285698657718, 0.4078211805575549, -1.225970258644793e-08, 1.5752068928056957, -1.225970258644793e-08, 87.9862457432082, 88.47327142526646, 87.54919490296581, -4.859503022203171e-09, 75.52921341371649, -4.859503022203171e-09, 0.617142102753256, 1.0127491176065053, -4.859503022203171e-09, 1.536099418142598, 1.899588042419964e-08, 0.050220966677912315, 4.433037048688776, 2.746483285499453, 0.3173001895217027, 8.249357701349421, 3.3790092291257903, 1.020147707348654, 1.9196642818730165, 2.0821744328713976e-10, 8.918709405128613, 1.8520853127458086, 0.9033210000634835, 14.092571332490731, 3.4334828313831167e-09, 1.3527058695138585, 3.4334828313831167e-09, 0.34982074921536643, 2.303586028735497, 2.0821744328713976e-10, -5.329034991063963e-10, 87.82380423831071, -1.5521646190563843e-09, 8.322794897708263e-09, 8.322794897708263e-09, 4.8008119085737135, 4.0660575605988125, 8.322794897708263e-09, 7.476709221271028, -5.329034991063963e-10, -5.329034991063963e-10, 87.46988559572607, 50.216961983343325, -5.329034991063963e-10, 3.404789148221436, 2.6238589162560455, 2.7196777350055665]}, {\"marker\": {\"size\": 5, \"symbol\": \"line-ne-open\"}, \"mode\": \"markers\", \"name\": \"actuals\", \"type\": \"scatter\", \"x\": [0.0, 0.1001001001001001, 0.2002002002002002, 0.3003003003003003, 0.4004004004004004, 0.5005005005005005, 0.6006006006006006, 0.7007007007007008, 0.8008008008008008, 0.9009009009009009, 1.001001001001001, 1.1011011011011012, 1.2012012012012012, 1.3013013013013013, 1.4014014014014016, 1.5015015015015016, 1.6016016016016017, 1.7017017017017018, 1.8018018018018018, 1.9019019019019021, 2.002002002002002, 2.1021021021021022, 2.2022022022022023, 2.3023023023023024, 2.4024024024024024, 2.5025025025025025, 2.6026026026026026, 2.702702702702703, 2.802802802802803, 2.902902902902903, 3.0030030030030033, 3.1031031031031033, 3.2032032032032034, 3.3033033033033035, 3.4034034034034035, 3.5035035035035036, 3.6036036036036037, 3.7037037037037037, 3.8038038038038042, 3.9039039039039043, 4.004004004004004, 4.104104104104104, 4.2042042042042045, 4.3043043043043046, 4.404404404404405, 4.504504504504505, 4.604604604604605, 4.704704704704705, 4.804804804804805, 4.904904904904905, 5.005005005005005, 5.105105105105105, 5.205205205205205, 5.305305305305305, 5.405405405405406, 5.505505505505506, 5.605605605605606, 5.705705705705706, 5.805805805805806, 5.9059059059059065, 6.0060060060060065, 6.106106106106107, 6.206206206206207, 6.306306306306307, 6.406406406406407, 6.506506506506507, 6.606606606606607, 6.706706706706707, 6.806806806806807, 6.906906906906907, 7.007007007007007, 7.107107107107107, 7.207207207207207, 7.307307307307307, 7.407407407407407, 7.507507507507508, 7.6076076076076085, 7.7077077077077085, 7.807807807807809, 7.907907907907909, 8.008008008008009, 8.108108108108109, 8.208208208208209, 8.308308308308309, 8.408408408408409, 8.508508508508509, 8.608608608608609, 8.70870870870871, 8.80880880880881, 8.90890890890891, 9.00900900900901, 9.10910910910911, 9.20920920920921, 9.30930930930931, 9.40940940940941, 9.50950950950951, 9.60960960960961, 9.70970970970971, 9.80980980980981, 9.90990990990991, 10.01001001001001, 10.11011011011011, 10.21021021021021, 10.31031031031031, 10.41041041041041, 10.51051051051051, 10.61061061061061, 10.710710710710712, 10.810810810810812, 10.910910910910912, 11.011011011011012, 11.111111111111112, 11.211211211211213, 11.311311311311313, 11.411411411411413, 11.511511511511513, 11.611611611611613, 11.711711711711713, 11.811811811811813, 11.911911911911913, 12.012012012012013, 12.112112112112113, 12.212212212212213, 12.312312312312313, 12.412412412412413, 12.512512512512513, 12.612612612612613, 12.712712712712714, 12.812812812812814, 12.912912912912914, 13.013013013013014, 13.113113113113114, 13.213213213213214, 13.313313313313314, 13.413413413413414, 13.513513513513514, 13.613613613613614, 13.713713713713714, 13.813813813813814, 13.913913913913914, 14.014014014014014, 14.114114114114114, 14.214214214214214, 14.314314314314315, 14.414414414414415, 14.514514514514515, 14.614614614614615, 14.714714714714715, 14.814814814814815, 14.914914914914915, 15.015015015015017, 15.115115115115117, 15.215215215215217, 15.315315315315317, 15.415415415415417, 15.515515515515517, 15.615615615615617, 15.715715715715717, 15.815815815815817, 15.915915915915917, 16.016016016016017, 16.116116116116117, 16.216216216216218, 16.316316316316318, 16.416416416416418, 16.516516516516518, 16.616616616616618, 16.716716716716718, 16.816816816816818, 16.916916916916918, 17.017017017017018, 17.117117117117118, 17.217217217217218, 17.31731731731732, 17.41741741741742, 17.51751751751752, 17.61761761761762, 17.71771771771772, 17.81781781781782, 17.91791791791792, 18.01801801801802, 18.11811811811812, 18.21821821821822, 18.31831831831832, 18.41841841841842, 18.51851851851852, 18.61861861861862, 18.71871871871872, 18.81881881881882, 18.91891891891892, 19.01901901901902, 19.11911911911912, 19.21921921921922, 19.31931931931932, 19.41941941941942, 19.51951951951952, 19.61961961961962, 19.71971971971972, 19.81981981981982, 19.91991991991992, 20.02002002002002, 20.12012012012012, 20.22022022022022, 20.32032032032032, 20.42042042042042, 20.52052052052052, 20.62062062062062, 20.72072072072072, 20.82082082082082, 20.92092092092092, 21.02102102102102, 21.12112112112112, 21.22122122122122, 21.32132132132132, 21.421421421421424, 21.521521521521525, 21.621621621621625, 21.721721721721725, 21.821821821821825, 21.921921921921925, 22.022022022022025, 22.122122122122125, 22.222222222222225, 22.322322322322325, 22.422422422422425, 22.522522522522525, 22.622622622622625, 22.722722722722725, 22.822822822822825, 22.922922922922925, 23.023023023023026, 23.123123123123126, 23.223223223223226, 23.323323323323326, 23.423423423423426, 23.523523523523526, 23.623623623623626, 23.723723723723726, 23.823823823823826, 23.923923923923926, 24.024024024024026, 24.124124124124126, 24.224224224224226, 24.324324324324326, 24.424424424424426, 24.524524524524526, 24.624624624624627, 24.724724724724727, 24.824824824824827, 24.924924924924927, 25.025025025025027, 25.125125125125127, 25.225225225225227, 25.325325325325327, 25.425425425425427, 25.525525525525527, 25.625625625625627, 25.725725725725727, 25.825825825825827, 25.925925925925927, 26.026026026026027, 26.126126126126128, 26.226226226226228, 26.326326326326328, 26.426426426426428, 26.526526526526528, 26.626626626626628, 26.726726726726728, 26.826826826826828, 26.926926926926928, 27.027027027027028, 27.127127127127128, 27.227227227227228, 27.32732732732733, 27.42742742742743, 27.52752752752753, 27.62762762762763, 27.72772772772773, 27.82782782782783, 27.92792792792793, 28.02802802802803, 28.12812812812813, 28.22822822822823, 28.32832832832833, 28.42842842842843, 28.52852852852853, 28.62862862862863, 28.72872872872873, 28.82882882882883, 28.92892892892893, 29.02902902902903, 29.12912912912913, 29.22922922922923, 29.32932932932933, 29.42942942942943, 29.52952952952953, 29.62962962962963, 29.72972972972973, 29.82982982982983, 29.929929929929934, 30.030030030030034, 30.130130130130134, 30.230230230230234, 30.330330330330334, 30.430430430430434, 30.530530530530534, 30.630630630630634, 30.730730730730734, 30.830830830830834, 30.930930930930934, 31.031031031031034, 31.131131131131134, 31.231231231231234, 31.331331331331334, 31.431431431431434, 31.531531531531535, 31.631631631631635, 31.731731731731735, 31.831831831831835, 31.931931931931935, 32.032032032032035, 32.132132132132135, 32.232232232232235, 32.332332332332335, 32.432432432432435, 32.532532532532535, 32.632632632632635, 32.732732732732735, 32.832832832832835, 32.932932932932935, 33.033033033033036, 33.133133133133136, 33.233233233233236, 33.333333333333336, 33.433433433433436, 33.533533533533536, 33.633633633633636, 33.733733733733736, 33.833833833833836, 33.933933933933936, 34.034034034034036, 34.134134134134136, 34.234234234234236, 34.334334334334336, 34.434434434434436, 34.53453453453454, 34.63463463463464, 34.73473473473474, 34.83483483483484, 34.93493493493494, 35.03503503503504, 35.13513513513514, 35.23523523523524, 35.33533533533534, 35.43543543543544, 35.53553553553554, 35.63563563563564, 35.73573573573574, 35.83583583583584, 35.93593593593594, 36.03603603603604, 36.13613613613614, 36.23623623623624, 36.33633633633634, 36.43643643643644, 36.53653653653654, 36.63663663663664, 36.73673673673674, 36.83683683683684, 36.93693693693694, 37.03703703703704, 37.13713713713714, 37.23723723723724, 37.33733733733734, 37.43743743743744, 37.53753753753754, 37.63763763763764, 37.73773773773774, 37.83783783783784, 37.93793793793794, 38.03803803803804, 38.13813813813814, 38.23823823823824, 38.33833833833834, 38.43843843843844, 38.53853853853854, 38.63863863863864, 38.73873873873874, 38.83883883883884, 38.93893893893894, 39.03903903903904, 39.13913913913914, 39.23923923923924, 39.33933933933934, 39.43943943943944, 39.53953953953954, 39.63963963963964, 39.73973973973974, 39.83983983983984, 39.93993993993994, 40.04004004004004, 40.14014014014014, 40.24024024024024, 40.34034034034034, 40.44044044044044, 40.54054054054054, 40.64064064064064, 40.74074074074074, 40.84084084084084, 40.94094094094094, 41.04104104104104, 41.14114114114114, 41.24124124124124, 41.34134134134134, 41.44144144144144, 41.54154154154154, 41.64164164164164, 41.74174174174174, 41.84184184184184, 41.94194194194194, 42.04204204204204, 42.14214214214214, 42.24224224224224, 42.34234234234234, 42.44244244244244, 42.54254254254254, 42.64264264264264, 42.74274274274275, 42.84284284284285, 42.94294294294295, 43.04304304304305, 43.14314314314315, 43.24324324324325, 43.34334334334335, 43.44344344344345, 43.54354354354355, 43.64364364364365, 43.74374374374375, 43.84384384384385, 43.94394394394395, 44.04404404404405, 44.14414414414415, 44.24424424424425, 44.34434434434435, 44.44444444444445, 44.54454454454455, 44.64464464464465, 44.74474474474475, 44.84484484484485, 44.94494494494495, 45.04504504504505, 45.14514514514515, 45.24524524524525, 45.34534534534535, 45.44544544544545, 45.54554554554555, 45.64564564564565, 45.74574574574575, 45.84584584584585, 45.94594594594595, 46.04604604604605, 46.14614614614615, 46.24624624624625, 46.34634634634635, 46.44644644644645, 46.54654654654655, 46.64664664664665, 46.74674674674675, 46.84684684684685, 46.94694694694695, 47.04704704704705, 47.14714714714715, 47.24724724724725, 47.34734734734735, 47.44744744744745, 47.54754754754755, 47.64764764764765, 47.74774774774775, 47.84784784784785, 47.94794794794795, 48.04804804804805, 48.14814814814815, 48.24824824824825, 48.34834834834835, 48.44844844844845, 48.54854854854855, 48.64864864864865, 48.74874874874875, 48.84884884884885, 48.94894894894895, 49.04904904904905, 49.14914914914915, 49.24924924924925, 49.34934934934935, 49.44944944944945, 49.54954954954955, 49.64964964964965, 49.74974974974975, 49.84984984984985, 49.94994994994995, 50.050050050050054, 50.150150150150154, 50.250250250250254, 50.350350350350354, 50.450450450450454, 50.550550550550554, 50.650650650650654, 50.750750750750754, 50.850850850850854, 50.950950950950954, 51.051051051051054, 51.151151151151154, 51.251251251251254, 51.351351351351354, 51.451451451451454, 51.551551551551555, 51.651651651651655, 51.751751751751755, 51.851851851851855, 51.951951951951955, 52.052052052052055, 52.152152152152155, 52.252252252252255, 52.352352352352355, 52.452452452452455, 52.552552552552555, 52.652652652652655, 52.752752752752755, 52.852852852852855, 52.952952952952955, 53.053053053053056, 53.153153153153156, 53.253253253253256, 53.353353353353356, 53.453453453453456, 53.553553553553556, 53.653653653653656, 53.753753753753756, 53.853853853853856, 53.953953953953956, 54.054054054054056, 54.154154154154156, 54.254254254254256, 54.354354354354356, 54.454454454454456, 54.55455455455456, 54.65465465465466, 54.75475475475476, 54.85485485485486, 54.95495495495496, 55.05505505505506, 55.15515515515516, 55.25525525525526, 55.35535535535536, 55.45545545545546, 55.55555555555556, 55.65565565565566, 55.75575575575576, 55.85585585585586, 55.95595595595596, 56.05605605605606, 56.15615615615616, 56.25625625625626, 56.35635635635636, 56.45645645645646, 56.55655655655656, 56.65665665665666, 56.75675675675676, 56.85685685685686, 56.95695695695696, 57.05705705705706, 57.15715715715716, 57.25725725725726, 57.35735735735736, 57.45745745745746, 57.55755755755756, 57.65765765765766, 57.75775775775776, 57.85785785785786, 57.95795795795796, 58.05805805805806, 58.15815815815816, 58.25825825825826, 58.35835835835836, 58.45845845845846, 58.55855855855856, 58.65865865865866, 58.75875875875876, 58.85885885885886, 58.95895895895896, 59.05905905905906, 59.15915915915916, 59.25925925925926, 59.35935935935936, 59.45945945945946, 59.55955955955956, 59.65965965965966, 59.75975975975976, 59.85985985985987, 59.95995995995997, 60.06006006006007, 60.16016016016017, 60.26026026026027, 60.36036036036037, 60.46046046046047, 60.56056056056057, 60.66066066066067, 60.76076076076077, 60.86086086086087, 60.96096096096097, 61.06106106106107, 61.16116116116117, 61.26126126126127, 61.36136136136137, 61.46146146146147, 61.56156156156157, 61.66166166166167, 61.76176176176177, 61.86186186186187, 61.96196196196197, 62.06206206206207, 62.16216216216217, 62.26226226226227, 62.36236236236237, 62.46246246246247, 62.56256256256257, 62.66266266266267, 62.76276276276277, 62.86286286286287, 62.96296296296297, 63.06306306306307, 63.16316316316317, 63.26326326326327, 63.36336336336337, 63.46346346346347, 63.56356356356357, 63.66366366366367, 63.76376376376377, 63.86386386386387, 63.96396396396397, 64.06406406406407, 64.16416416416416, 64.26426426426427, 64.36436436436436, 64.46446446446447, 64.56456456456456, 64.66466466466467, 64.76476476476476, 64.86486486486487, 64.96496496496496, 65.06506506506507, 65.16516516516516, 65.26526526526527, 65.36536536536536, 65.46546546546547, 65.56556556556556, 65.66566566566567, 65.76576576576576, 65.86586586586587, 65.96596596596596, 66.06606606606607, 66.16616616616616, 66.26626626626627, 66.36636636636636, 66.46646646646647, 66.56656656656656, 66.66666666666667, 66.76676676676676, 66.86686686686687, 66.96696696696696, 67.06706706706707, 67.16716716716716, 67.26726726726727, 67.36736736736736, 67.46746746746747, 67.56756756756756, 67.66766766766767, 67.76776776776777, 67.86786786786787, 67.96796796796797, 68.06806806806807, 68.16816816816817, 68.26826826826827, 68.36836836836838, 68.46846846846847, 68.56856856856858, 68.66866866866867, 68.76876876876878, 68.86886886886887, 68.96896896896898, 69.06906906906907, 69.16916916916918, 69.26926926926927, 69.36936936936938, 69.46946946946947, 69.56956956956958, 69.66966966966967, 69.76976976976978, 69.86986986986987, 69.96996996996998, 70.07007007007007, 70.17017017017018, 70.27027027027027, 70.37037037037038, 70.47047047047047, 70.57057057057058, 70.67067067067067, 70.77077077077078, 70.87087087087087, 70.97097097097098, 71.07107107107107, 71.17117117117118, 71.27127127127127, 71.37137137137138, 71.47147147147147, 71.57157157157158, 71.67167167167167, 71.77177177177178, 71.87187187187187, 71.97197197197198, 72.07207207207207, 72.17217217217218, 72.27227227227228, 72.37237237237238, 72.47247247247248, 72.57257257257258, 72.67267267267268, 72.77277277277278, 72.87287287287288, 72.97297297297298, 73.07307307307308, 73.17317317317318, 73.27327327327328, 73.37337337337338, 73.47347347347348, 73.57357357357358, 73.67367367367368, 73.77377377377378, 73.87387387387388, 73.97397397397398, 74.07407407407408, 74.17417417417418, 74.27427427427428, 74.37437437437438, 74.47447447447448, 74.57457457457458, 74.67467467467468, 74.77477477477478, 74.87487487487488, 74.97497497497498, 75.07507507507508, 75.17517517517518, 75.27527527527528, 75.37537537537538, 75.47547547547548, 75.57557557557558, 75.67567567567568, 75.77577577577578, 75.87587587587588, 75.97597597597598, 76.07607607607608, 76.17617617617618, 76.27627627627628, 76.37637637637638, 76.47647647647648, 76.57657657657658, 76.67667667667668, 76.77677677677679, 76.87687687687688, 76.97697697697699, 77.07707707707708, 77.17717717717719, 77.27727727727728, 77.37737737737739, 77.47747747747748, 77.57757757757759, 77.67767767767768, 77.77777777777779, 77.87787787787788, 77.97797797797799, 78.07807807807808, 78.17817817817819, 78.27827827827828, 78.37837837837839, 78.47847847847848, 78.57857857857859, 78.67867867867868, 78.77877877877879, 78.87887887887888, 78.97897897897899, 79.07907907907908, 79.17917917917919, 79.27927927927928, 79.37937937937939, 79.47947947947948, 79.57957957957959, 79.67967967967968, 79.77977977977979, 79.87987987987988, 79.97997997997999, 80.08008008008008, 80.18018018018019, 80.28028028028028, 80.38038038038039, 80.48048048048048, 80.58058058058059, 80.68068068068068, 80.78078078078079, 80.88088088088088, 80.98098098098099, 81.08108108108108, 81.18118118118119, 81.28128128128128, 81.38138138138139, 81.48148148148148, 81.58158158158159, 81.68168168168168, 81.78178178178179, 81.88188188188188, 81.98198198198199, 82.08208208208208, 82.18218218218219, 82.28228228228228, 82.38238238238239, 82.48248248248248, 82.58258258258259, 82.68268268268268, 82.78278278278279, 82.88288288288288, 82.98298298298299, 83.08308308308308, 83.18318318318319, 83.28328328328328, 83.38338338338339, 83.48348348348348, 83.58358358358359, 83.68368368368368, 83.78378378378379, 83.88388388388388, 83.98398398398399, 84.08408408408408, 84.18418418418419, 84.28428428428428, 84.38438438438439, 84.48448448448448, 84.58458458458459, 84.68468468468468, 84.78478478478479, 84.88488488488488, 84.98498498498499, 85.08508508508508, 85.18518518518519, 85.28528528528528, 85.38538538538539, 85.4854854854855, 85.58558558558559, 85.6856856856857, 85.78578578578579, 85.8858858858859, 85.98598598598599, 86.0860860860861, 86.18618618618619, 86.2862862862863, 86.38638638638639, 86.4864864864865, 86.58658658658659, 86.6866866866867, 86.78678678678679, 86.8868868868869, 86.98698698698699, 87.0870870870871, 87.18718718718719, 87.2872872872873, 87.38738738738739, 87.4874874874875, 87.58758758758759, 87.6876876876877, 87.78778778778779, 87.8878878878879, 87.98798798798799, 88.0880880880881, 88.18818818818819, 88.2882882882883, 88.38838838838839, 88.4884884884885, 88.58858858858859, 88.6886886886887, 88.78878878878879, 88.8888888888889, 88.988988988989, 89.0890890890891, 89.1891891891892, 89.2892892892893, 89.3893893893894, 89.4894894894895, 89.5895895895896, 89.6896896896897, 89.7897897897898, 89.8898898898899, 89.98998998999, 90.0900900900901, 90.1901901901902, 90.2902902902903, 90.3903903903904, 90.4904904904905, 90.5905905905906, 90.6906906906907, 90.7907907907908, 90.8908908908909, 90.990990990991, 91.0910910910911, 91.1911911911912, 91.2912912912913, 91.3913913913914, 91.4914914914915, 91.5915915915916, 91.6916916916917, 91.7917917917918, 91.8918918918919, 91.991991991992, 92.0920920920921, 92.1921921921922, 92.2922922922923, 92.3923923923924, 92.4924924924925, 92.5925925925926, 92.6926926926927, 92.7927927927928, 92.8928928928929, 92.992992992993, 93.0930930930931, 93.1931931931932, 93.2932932932933, 93.3933933933934, 93.4934934934935, 93.5935935935936, 93.6936936936937, 93.7937937937938, 93.8938938938939, 93.993993993994, 94.0940940940941, 94.1941941941942, 94.2942942942943, 94.3943943943944, 94.4944944944945, 94.5945945945946, 94.6946946946947, 94.7947947947948, 94.8948948948949, 94.994994994995, 95.0950950950951, 95.1951951951952, 95.2952952952953, 95.3953953953954, 95.4954954954955, 95.5955955955956, 95.6956956956957, 95.7957957957958, 95.8958958958959, 95.995995995996, 96.0960960960961, 96.1961961961962, 96.2962962962963, 96.3963963963964, 96.4964964964965, 96.5965965965966, 96.6966966966967, 96.7967967967968, 96.8968968968969, 96.996996996997, 97.0970970970971, 97.1971971971972, 97.2972972972973, 97.3973973973974, 97.4974974974975, 97.5975975975976, 97.6976976976977, 97.7977977977978, 97.8978978978979, 97.997997997998, 98.0980980980981, 98.1981981981982, 98.2982982982983, 98.3983983983984, 98.4984984984985, 98.5985985985986, 98.6986986986987, 98.7987987987988, 98.8988988988989, 98.998998998999, 99.0990990990991, 99.1991991991992, 99.2992992992993, 99.3993993993994, 99.4994994994995, 99.5995995995996, 99.6996996996997, 99.7997997997998, 99.8998998998999, 100.0], \"y\": [0.0, 0.1001001001001001, 0.2002002002002002, 0.3003003003003003, 0.4004004004004004, 0.5005005005005005, 0.6006006006006006, 0.7007007007007008, 0.8008008008008008, 0.9009009009009009, 1.001001001001001, 1.1011011011011012, 1.2012012012012012, 1.3013013013013013, 1.4014014014014016, 1.5015015015015016, 1.6016016016016017, 1.7017017017017018, 1.8018018018018018, 1.9019019019019021, 2.002002002002002, 2.1021021021021022, 2.2022022022022023, 2.3023023023023024, 2.4024024024024024, 2.5025025025025025, 2.6026026026026026, 2.702702702702703, 2.802802802802803, 2.902902902902903, 3.0030030030030033, 3.1031031031031033, 3.2032032032032034, 3.3033033033033035, 3.4034034034034035, 3.5035035035035036, 3.6036036036036037, 3.7037037037037037, 3.8038038038038042, 3.9039039039039043, 4.004004004004004, 4.104104104104104, 4.2042042042042045, 4.3043043043043046, 4.404404404404405, 4.504504504504505, 4.604604604604605, 4.704704704704705, 4.804804804804805, 4.904904904904905, 5.005005005005005, 5.105105105105105, 5.205205205205205, 5.305305305305305, 5.405405405405406, 5.505505505505506, 5.605605605605606, 5.705705705705706, 5.805805805805806, 5.9059059059059065, 6.0060060060060065, 6.106106106106107, 6.206206206206207, 6.306306306306307, 6.406406406406407, 6.506506506506507, 6.606606606606607, 6.706706706706707, 6.806806806806807, 6.906906906906907, 7.007007007007007, 7.107107107107107, 7.207207207207207, 7.307307307307307, 7.407407407407407, 7.507507507507508, 7.6076076076076085, 7.7077077077077085, 7.807807807807809, 7.907907907907909, 8.008008008008009, 8.108108108108109, 8.208208208208209, 8.308308308308309, 8.408408408408409, 8.508508508508509, 8.608608608608609, 8.70870870870871, 8.80880880880881, 8.90890890890891, 9.00900900900901, 9.10910910910911, 9.20920920920921, 9.30930930930931, 9.40940940940941, 9.50950950950951, 9.60960960960961, 9.70970970970971, 9.80980980980981, 9.90990990990991, 10.01001001001001, 10.11011011011011, 10.21021021021021, 10.31031031031031, 10.41041041041041, 10.51051051051051, 10.61061061061061, 10.710710710710712, 10.810810810810812, 10.910910910910912, 11.011011011011012, 11.111111111111112, 11.211211211211213, 11.311311311311313, 11.411411411411413, 11.511511511511513, 11.611611611611613, 11.711711711711713, 11.811811811811813, 11.911911911911913, 12.012012012012013, 12.112112112112113, 12.212212212212213, 12.312312312312313, 12.412412412412413, 12.512512512512513, 12.612612612612613, 12.712712712712714, 12.812812812812814, 12.912912912912914, 13.013013013013014, 13.113113113113114, 13.213213213213214, 13.313313313313314, 13.413413413413414, 13.513513513513514, 13.613613613613614, 13.713713713713714, 13.813813813813814, 13.913913913913914, 14.014014014014014, 14.114114114114114, 14.214214214214214, 14.314314314314315, 14.414414414414415, 14.514514514514515, 14.614614614614615, 14.714714714714715, 14.814814814814815, 14.914914914914915, 15.015015015015017, 15.115115115115117, 15.215215215215217, 15.315315315315317, 15.415415415415417, 15.515515515515517, 15.615615615615617, 15.715715715715717, 15.815815815815817, 15.915915915915917, 16.016016016016017, 16.116116116116117, 16.216216216216218, 16.316316316316318, 16.416416416416418, 16.516516516516518, 16.616616616616618, 16.716716716716718, 16.816816816816818, 16.916916916916918, 17.017017017017018, 17.117117117117118, 17.217217217217218, 17.31731731731732, 17.41741741741742, 17.51751751751752, 17.61761761761762, 17.71771771771772, 17.81781781781782, 17.91791791791792, 18.01801801801802, 18.11811811811812, 18.21821821821822, 18.31831831831832, 18.41841841841842, 18.51851851851852, 18.61861861861862, 18.71871871871872, 18.81881881881882, 18.91891891891892, 19.01901901901902, 19.11911911911912, 19.21921921921922, 19.31931931931932, 19.41941941941942, 19.51951951951952, 19.61961961961962, 19.71971971971972, 19.81981981981982, 19.91991991991992, 20.02002002002002, 20.12012012012012, 20.22022022022022, 20.32032032032032, 20.42042042042042, 20.52052052052052, 20.62062062062062, 20.72072072072072, 20.82082082082082, 20.92092092092092, 21.02102102102102, 21.12112112112112, 21.22122122122122, 21.32132132132132, 21.421421421421424, 21.521521521521525, 21.621621621621625, 21.721721721721725, 21.821821821821825, 21.921921921921925, 22.022022022022025, 22.122122122122125, 22.222222222222225, 22.322322322322325, 22.422422422422425, 22.522522522522525, 22.622622622622625, 22.722722722722725, 22.822822822822825, 22.922922922922925, 23.023023023023026, 23.123123123123126, 23.223223223223226, 23.323323323323326, 23.423423423423426, 23.523523523523526, 23.623623623623626, 23.723723723723726, 23.823823823823826, 23.923923923923926, 24.024024024024026, 24.124124124124126, 24.224224224224226, 24.324324324324326, 24.424424424424426, 24.524524524524526, 24.624624624624627, 24.724724724724727, 24.824824824824827, 24.924924924924927, 25.025025025025027, 25.125125125125127, 25.225225225225227, 25.325325325325327, 25.425425425425427, 25.525525525525527, 25.625625625625627, 25.725725725725727, 25.825825825825827, 25.925925925925927, 26.026026026026027, 26.126126126126128, 26.226226226226228, 26.326326326326328, 26.426426426426428, 26.526526526526528, 26.626626626626628, 26.726726726726728, 26.826826826826828, 26.926926926926928, 27.027027027027028, 27.127127127127128, 27.227227227227228, 27.32732732732733, 27.42742742742743, 27.52752752752753, 27.62762762762763, 27.72772772772773, 27.82782782782783, 27.92792792792793, 28.02802802802803, 28.12812812812813, 28.22822822822823, 28.32832832832833, 28.42842842842843, 28.52852852852853, 28.62862862862863, 28.72872872872873, 28.82882882882883, 28.92892892892893, 29.02902902902903, 29.12912912912913, 29.22922922922923, 29.32932932932933, 29.42942942942943, 29.52952952952953, 29.62962962962963, 29.72972972972973, 29.82982982982983, 29.929929929929934, 30.030030030030034, 30.130130130130134, 30.230230230230234, 30.330330330330334, 30.430430430430434, 30.530530530530534, 30.630630630630634, 30.730730730730734, 30.830830830830834, 30.930930930930934, 31.031031031031034, 31.131131131131134, 31.231231231231234, 31.331331331331334, 31.431431431431434, 31.531531531531535, 31.631631631631635, 31.731731731731735, 31.831831831831835, 31.931931931931935, 32.032032032032035, 32.132132132132135, 32.232232232232235, 32.332332332332335, 32.432432432432435, 32.532532532532535, 32.632632632632635, 32.732732732732735, 32.832832832832835, 32.932932932932935, 33.033033033033036, 33.133133133133136, 33.233233233233236, 33.333333333333336, 33.433433433433436, 33.533533533533536, 33.633633633633636, 33.733733733733736, 33.833833833833836, 33.933933933933936, 34.034034034034036, 34.134134134134136, 34.234234234234236, 34.334334334334336, 34.434434434434436, 34.53453453453454, 34.63463463463464, 34.73473473473474, 34.83483483483484, 34.93493493493494, 35.03503503503504, 35.13513513513514, 35.23523523523524, 35.33533533533534, 35.43543543543544, 35.53553553553554, 35.63563563563564, 35.73573573573574, 35.83583583583584, 35.93593593593594, 36.03603603603604, 36.13613613613614, 36.23623623623624, 36.33633633633634, 36.43643643643644, 36.53653653653654, 36.63663663663664, 36.73673673673674, 36.83683683683684, 36.93693693693694, 37.03703703703704, 37.13713713713714, 37.23723723723724, 37.33733733733734, 37.43743743743744, 37.53753753753754, 37.63763763763764, 37.73773773773774, 37.83783783783784, 37.93793793793794, 38.03803803803804, 38.13813813813814, 38.23823823823824, 38.33833833833834, 38.43843843843844, 38.53853853853854, 38.63863863863864, 38.73873873873874, 38.83883883883884, 38.93893893893894, 39.03903903903904, 39.13913913913914, 39.23923923923924, 39.33933933933934, 39.43943943943944, 39.53953953953954, 39.63963963963964, 39.73973973973974, 39.83983983983984, 39.93993993993994, 40.04004004004004, 40.14014014014014, 40.24024024024024, 40.34034034034034, 40.44044044044044, 40.54054054054054, 40.64064064064064, 40.74074074074074, 40.84084084084084, 40.94094094094094, 41.04104104104104, 41.14114114114114, 41.24124124124124, 41.34134134134134, 41.44144144144144, 41.54154154154154, 41.64164164164164, 41.74174174174174, 41.84184184184184, 41.94194194194194, 42.04204204204204, 42.14214214214214, 42.24224224224224, 42.34234234234234, 42.44244244244244, 42.54254254254254, 42.64264264264264, 42.74274274274275, 42.84284284284285, 42.94294294294295, 43.04304304304305, 43.14314314314315, 43.24324324324325, 43.34334334334335, 43.44344344344345, 43.54354354354355, 43.64364364364365, 43.74374374374375, 43.84384384384385, 43.94394394394395, 44.04404404404405, 44.14414414414415, 44.24424424424425, 44.34434434434435, 44.44444444444445, 44.54454454454455, 44.64464464464465, 44.74474474474475, 44.84484484484485, 44.94494494494495, 45.04504504504505, 45.14514514514515, 45.24524524524525, 45.34534534534535, 45.44544544544545, 45.54554554554555, 45.64564564564565, 45.74574574574575, 45.84584584584585, 45.94594594594595, 46.04604604604605, 46.14614614614615, 46.24624624624625, 46.34634634634635, 46.44644644644645, 46.54654654654655, 46.64664664664665, 46.74674674674675, 46.84684684684685, 46.94694694694695, 47.04704704704705, 47.14714714714715, 47.24724724724725, 47.34734734734735, 47.44744744744745, 47.54754754754755, 47.64764764764765, 47.74774774774775, 47.84784784784785, 47.94794794794795, 48.04804804804805, 48.14814814814815, 48.24824824824825, 48.34834834834835, 48.44844844844845, 48.54854854854855, 48.64864864864865, 48.74874874874875, 48.84884884884885, 48.94894894894895, 49.04904904904905, 49.14914914914915, 49.24924924924925, 49.34934934934935, 49.44944944944945, 49.54954954954955, 49.64964964964965, 49.74974974974975, 49.84984984984985, 49.94994994994995, 50.050050050050054, 50.150150150150154, 50.250250250250254, 50.350350350350354, 50.450450450450454, 50.550550550550554, 50.650650650650654, 50.750750750750754, 50.850850850850854, 50.950950950950954, 51.051051051051054, 51.151151151151154, 51.251251251251254, 51.351351351351354, 51.451451451451454, 51.551551551551555, 51.651651651651655, 51.751751751751755, 51.851851851851855, 51.951951951951955, 52.052052052052055, 52.152152152152155, 52.252252252252255, 52.352352352352355, 52.452452452452455, 52.552552552552555, 52.652652652652655, 52.752752752752755, 52.852852852852855, 52.952952952952955, 53.053053053053056, 53.153153153153156, 53.253253253253256, 53.353353353353356, 53.453453453453456, 53.553553553553556, 53.653653653653656, 53.753753753753756, 53.853853853853856, 53.953953953953956, 54.054054054054056, 54.154154154154156, 54.254254254254256, 54.354354354354356, 54.454454454454456, 54.55455455455456, 54.65465465465466, 54.75475475475476, 54.85485485485486, 54.95495495495496, 55.05505505505506, 55.15515515515516, 55.25525525525526, 55.35535535535536, 55.45545545545546, 55.55555555555556, 55.65565565565566, 55.75575575575576, 55.85585585585586, 55.95595595595596, 56.05605605605606, 56.15615615615616, 56.25625625625626, 56.35635635635636, 56.45645645645646, 56.55655655655656, 56.65665665665666, 56.75675675675676, 56.85685685685686, 56.95695695695696, 57.05705705705706, 57.15715715715716, 57.25725725725726, 57.35735735735736, 57.45745745745746, 57.55755755755756, 57.65765765765766, 57.75775775775776, 57.85785785785786, 57.95795795795796, 58.05805805805806, 58.15815815815816, 58.25825825825826, 58.35835835835836, 58.45845845845846, 58.55855855855856, 58.65865865865866, 58.75875875875876, 58.85885885885886, 58.95895895895896, 59.05905905905906, 59.15915915915916, 59.25925925925926, 59.35935935935936, 59.45945945945946, 59.55955955955956, 59.65965965965966, 59.75975975975976, 59.85985985985987, 59.95995995995997, 60.06006006006007, 60.16016016016017, 60.26026026026027, 60.36036036036037, 60.46046046046047, 60.56056056056057, 60.66066066066067, 60.76076076076077, 60.86086086086087, 60.96096096096097, 61.06106106106107, 61.16116116116117, 61.26126126126127, 61.36136136136137, 61.46146146146147, 61.56156156156157, 61.66166166166167, 61.76176176176177, 61.86186186186187, 61.96196196196197, 62.06206206206207, 62.16216216216217, 62.26226226226227, 62.36236236236237, 62.46246246246247, 62.56256256256257, 62.66266266266267, 62.76276276276277, 62.86286286286287, 62.96296296296297, 63.06306306306307, 63.16316316316317, 63.26326326326327, 63.36336336336337, 63.46346346346347, 63.56356356356357, 63.66366366366367, 63.76376376376377, 63.86386386386387, 63.96396396396397, 64.06406406406407, 64.16416416416416, 64.26426426426427, 64.36436436436436, 64.46446446446447, 64.56456456456456, 64.66466466466467, 64.76476476476476, 64.86486486486487, 64.96496496496496, 65.06506506506507, 65.16516516516516, 65.26526526526527, 65.36536536536536, 65.46546546546547, 65.56556556556556, 65.66566566566567, 65.76576576576576, 65.86586586586587, 65.96596596596596, 66.06606606606607, 66.16616616616616, 66.26626626626627, 66.36636636636636, 66.46646646646647, 66.56656656656656, 66.66666666666667, 66.76676676676676, 66.86686686686687, 66.96696696696696, 67.06706706706707, 67.16716716716716, 67.26726726726727, 67.36736736736736, 67.46746746746747, 67.56756756756756, 67.66766766766767, 67.76776776776777, 67.86786786786787, 67.96796796796797, 68.06806806806807, 68.16816816816817, 68.26826826826827, 68.36836836836838, 68.46846846846847, 68.56856856856858, 68.66866866866867, 68.76876876876878, 68.86886886886887, 68.96896896896898, 69.06906906906907, 69.16916916916918, 69.26926926926927, 69.36936936936938, 69.46946946946947, 69.56956956956958, 69.66966966966967, 69.76976976976978, 69.86986986986987, 69.96996996996998, 70.07007007007007, 70.17017017017018, 70.27027027027027, 70.37037037037038, 70.47047047047047, 70.57057057057058, 70.67067067067067, 70.77077077077078, 70.87087087087087, 70.97097097097098, 71.07107107107107, 71.17117117117118, 71.27127127127127, 71.37137137137138, 71.47147147147147, 71.57157157157158, 71.67167167167167, 71.77177177177178, 71.87187187187187, 71.97197197197198, 72.07207207207207, 72.17217217217218, 72.27227227227228, 72.37237237237238, 72.47247247247248, 72.57257257257258, 72.67267267267268, 72.77277277277278, 72.87287287287288, 72.97297297297298, 73.07307307307308, 73.17317317317318, 73.27327327327328, 73.37337337337338, 73.47347347347348, 73.57357357357358, 73.67367367367368, 73.77377377377378, 73.87387387387388, 73.97397397397398, 74.07407407407408, 74.17417417417418, 74.27427427427428, 74.37437437437438, 74.47447447447448, 74.57457457457458, 74.67467467467468, 74.77477477477478, 74.87487487487488, 74.97497497497498, 75.07507507507508, 75.17517517517518, 75.27527527527528, 75.37537537537538, 75.47547547547548, 75.57557557557558, 75.67567567567568, 75.77577577577578, 75.87587587587588, 75.97597597597598, 76.07607607607608, 76.17617617617618, 76.27627627627628, 76.37637637637638, 76.47647647647648, 76.57657657657658, 76.67667667667668, 76.77677677677679, 76.87687687687688, 76.97697697697699, 77.07707707707708, 77.17717717717719, 77.27727727727728, 77.37737737737739, 77.47747747747748, 77.57757757757759, 77.67767767767768, 77.77777777777779, 77.87787787787788, 77.97797797797799, 78.07807807807808, 78.17817817817819, 78.27827827827828, 78.37837837837839, 78.47847847847848, 78.57857857857859, 78.67867867867868, 78.77877877877879, 78.87887887887888, 78.97897897897899, 79.07907907907908, 79.17917917917919, 79.27927927927928, 79.37937937937939, 79.47947947947948, 79.57957957957959, 79.67967967967968, 79.77977977977979, 79.87987987987988, 79.97997997997999, 80.08008008008008, 80.18018018018019, 80.28028028028028, 80.38038038038039, 80.48048048048048, 80.58058058058059, 80.68068068068068, 80.78078078078079, 80.88088088088088, 80.98098098098099, 81.08108108108108, 81.18118118118119, 81.28128128128128, 81.38138138138139, 81.48148148148148, 81.58158158158159, 81.68168168168168, 81.78178178178179, 81.88188188188188, 81.98198198198199, 82.08208208208208, 82.18218218218219, 82.28228228228228, 82.38238238238239, 82.48248248248248, 82.58258258258259, 82.68268268268268, 82.78278278278279, 82.88288288288288, 82.98298298298299, 83.08308308308308, 83.18318318318319, 83.28328328328328, 83.38338338338339, 83.48348348348348, 83.58358358358359, 83.68368368368368, 83.78378378378379, 83.88388388388388, 83.98398398398399, 84.08408408408408, 84.18418418418419, 84.28428428428428, 84.38438438438439, 84.48448448448448, 84.58458458458459, 84.68468468468468, 84.78478478478479, 84.88488488488488, 84.98498498498499, 85.08508508508508, 85.18518518518519, 85.28528528528528, 85.38538538538539, 85.4854854854855, 85.58558558558559, 85.6856856856857, 85.78578578578579, 85.8858858858859, 85.98598598598599, 86.0860860860861, 86.18618618618619, 86.2862862862863, 86.38638638638639, 86.4864864864865, 86.58658658658659, 86.6866866866867, 86.78678678678679, 86.8868868868869, 86.98698698698699, 87.0870870870871, 87.18718718718719, 87.2872872872873, 87.38738738738739, 87.4874874874875, 87.58758758758759, 87.6876876876877, 87.78778778778779, 87.8878878878879, 87.98798798798799, 88.0880880880881, 88.18818818818819, 88.2882882882883, 88.38838838838839, 88.4884884884885, 88.58858858858859, 88.6886886886887, 88.78878878878879, 88.8888888888889, 88.988988988989, 89.0890890890891, 89.1891891891892, 89.2892892892893, 89.3893893893894, 89.4894894894895, 89.5895895895896, 89.6896896896897, 89.7897897897898, 89.8898898898899, 89.98998998999, 90.0900900900901, 90.1901901901902, 90.2902902902903, 90.3903903903904, 90.4904904904905, 90.5905905905906, 90.6906906906907, 90.7907907907908, 90.8908908908909, 90.990990990991, 91.0910910910911, 91.1911911911912, 91.2912912912913, 91.3913913913914, 91.4914914914915, 91.5915915915916, 91.6916916916917, 91.7917917917918, 91.8918918918919, 91.991991991992, 92.0920920920921, 92.1921921921922, 92.2922922922923, 92.3923923923924, 92.4924924924925, 92.5925925925926, 92.6926926926927, 92.7927927927928, 92.8928928928929, 92.992992992993, 93.0930930930931, 93.1931931931932, 93.2932932932933, 93.3933933933934, 93.4934934934935, 93.5935935935936, 93.6936936936937, 93.7937937937938, 93.8938938938939, 93.993993993994, 94.0940940940941, 94.1941941941942, 94.2942942942943, 94.3943943943944, 94.4944944944945, 94.5945945945946, 94.6946946946947, 94.7947947947948, 94.8948948948949, 94.994994994995, 95.0950950950951, 95.1951951951952, 95.2952952952953, 95.3953953953954, 95.4954954954955, 95.5955955955956, 95.6956956956957, 95.7957957957958, 95.8958958958959, 95.995995995996, 96.0960960960961, 96.1961961961962, 96.2962962962963, 96.3963963963964, 96.4964964964965, 96.5965965965966, 96.6966966966967, 96.7967967967968, 96.8968968968969, 96.996996996997, 97.0970970970971, 97.1971971971972, 97.2972972972973, 97.3973973973974, 97.4974974974975, 97.5975975975976, 97.6976976976977, 97.7977977977978, 97.8978978978979, 97.997997997998, 98.0980980980981, 98.1981981981982, 98.2982982982983, 98.3983983983984, 98.4984984984985, 98.5985985985986, 98.6986986986987, 98.7987987987988, 98.8988988988989, 98.998998998999, 99.0990990990991, 99.1991991991992, 99.2992992992993, 99.3993993993994, 99.4994994994995, 99.5995995995996, 99.6996996996997, 99.7997997997998, 99.8998998998999, 100.0]}, {\"marker\": {\"size\": 5, \"symbol\": \"square\"}, \"mode\": \"markers\", \"name\": \"95% confidence\", \"type\": \"scatter\", \"x\": [0.0, 18.06642, 0.903321, 36.13284, 90.33210000000001, 0.5419926, 9.03321, 1.806642, 45.166050000000006, 0.4516605, 1.0839852, 3.613284, 4.516605, 0.0, 18.06642, 0.903321, 36.13284, 90.33210000000001, 0.5419926, 9.03321, 1.806642, 45.166050000000006, 0.4516605, 1.0839852, 3.613284, 4.516605], \"y\": [-2.9464406399709637, 10.493082909076072, -2.1986774631475683, 24.83262466346009, 67.85080878239846, -2.383205145336268, 4.443518680042871, -1.2357591641086683, 47.445103401092055, -0.7238624216052565, -1.6878733834184043, 0.09198890233323764, 1.66117846643751, 6.026263882724589, 20.0895743599629, 7.672195411356341, 36.34818937752101, 91.28192250492438, 5.570979630028157, 11.941865991685166, 7.572670490824979, 53.61960451470958, 5.618567571207954, 4.363796585212041, 6.150867811377056, 7.955330682331494]}],\n",
              "                        {\"template\": {\"data\": {\"bar\": [{\"error_x\": {\"color\": \"#2a3f5f\"}, \"error_y\": {\"color\": \"#2a3f5f\"}, \"marker\": {\"line\": {\"color\": \"#E5ECF6\", \"width\": 0.5}}, \"type\": \"bar\"}], \"barpolar\": [{\"marker\": {\"line\": {\"color\": \"#E5ECF6\", \"width\": 0.5}}, \"type\": \"barpolar\"}], \"carpet\": [{\"aaxis\": {\"endlinecolor\": \"#2a3f5f\", \"gridcolor\": \"white\", \"linecolor\": \"white\", \"minorgridcolor\": \"white\", \"startlinecolor\": \"#2a3f5f\"}, \"baxis\": {\"endlinecolor\": \"#2a3f5f\", \"gridcolor\": \"white\", \"linecolor\": \"white\", \"minorgridcolor\": \"white\", \"startlinecolor\": \"#2a3f5f\"}, \"type\": \"carpet\"}], \"choropleth\": [{\"colorbar\": {\"outlinewidth\": 0, \"ticks\": \"\"}, \"type\": \"choropleth\"}], \"contour\": [{\"colorbar\": {\"outlinewidth\": 0, \"ticks\": \"\"}, \"colorscale\": [[0.0, \"#0d0887\"], [0.1111111111111111, \"#46039f\"], [0.2222222222222222, \"#7201a8\"], [0.3333333333333333, \"#9c179e\"], [0.4444444444444444, \"#bd3786\"], [0.5555555555555556, \"#d8576b\"], [0.6666666666666666, \"#ed7953\"], [0.7777777777777778, \"#fb9f3a\"], [0.8888888888888888, \"#fdca26\"], [1.0, \"#f0f921\"]], \"type\": \"contour\"}], \"contourcarpet\": [{\"colorbar\": {\"outlinewidth\": 0, \"ticks\": \"\"}, \"type\": \"contourcarpet\"}], \"heatmap\": [{\"colorbar\": {\"outlinewidth\": 0, \"ticks\": \"\"}, \"colorscale\": [[0.0, \"#0d0887\"], [0.1111111111111111, \"#46039f\"], [0.2222222222222222, \"#7201a8\"], [0.3333333333333333, \"#9c179e\"], [0.4444444444444444, \"#bd3786\"], [0.5555555555555556, \"#d8576b\"], [0.6666666666666666, \"#ed7953\"], [0.7777777777777778, \"#fb9f3a\"], [0.8888888888888888, \"#fdca26\"], [1.0, \"#f0f921\"]], \"type\": \"heatmap\"}], \"heatmapgl\": [{\"colorbar\": {\"outlinewidth\": 0, \"ticks\": \"\"}, \"colorscale\": [[0.0, \"#0d0887\"], [0.1111111111111111, \"#46039f\"], [0.2222222222222222, \"#7201a8\"], [0.3333333333333333, \"#9c179e\"], [0.4444444444444444, \"#bd3786\"], [0.5555555555555556, \"#d8576b\"], [0.6666666666666666, \"#ed7953\"], [0.7777777777777778, \"#fb9f3a\"], [0.8888888888888888, \"#fdca26\"], [1.0, \"#f0f921\"]], \"type\": \"heatmapgl\"}], \"histogram\": [{\"marker\": {\"colorbar\": {\"outlinewidth\": 0, \"ticks\": \"\"}}, \"type\": \"histogram\"}], \"histogram2d\": [{\"colorbar\": {\"outlinewidth\": 0, \"ticks\": \"\"}, \"colorscale\": [[0.0, \"#0d0887\"], [0.1111111111111111, \"#46039f\"], [0.2222222222222222, \"#7201a8\"], [0.3333333333333333, \"#9c179e\"], [0.4444444444444444, \"#bd3786\"], [0.5555555555555556, \"#d8576b\"], [0.6666666666666666, \"#ed7953\"], [0.7777777777777778, \"#fb9f3a\"], [0.8888888888888888, \"#fdca26\"], [1.0, \"#f0f921\"]], \"type\": \"histogram2d\"}], \"histogram2dcontour\": [{\"colorbar\": {\"outlinewidth\": 0, \"ticks\": \"\"}, \"colorscale\": [[0.0, \"#0d0887\"], [0.1111111111111111, \"#46039f\"], [0.2222222222222222, \"#7201a8\"], [0.3333333333333333, \"#9c179e\"], [0.4444444444444444, \"#bd3786\"], [0.5555555555555556, \"#d8576b\"], [0.6666666666666666, \"#ed7953\"], [0.7777777777777778, \"#fb9f3a\"], [0.8888888888888888, \"#fdca26\"], [1.0, \"#f0f921\"]], \"type\": \"histogram2dcontour\"}], \"mesh3d\": [{\"colorbar\": {\"outlinewidth\": 0, \"ticks\": \"\"}, \"type\": \"mesh3d\"}], \"parcoords\": [{\"line\": {\"colorbar\": {\"outlinewidth\": 0, \"ticks\": \"\"}}, \"type\": \"parcoords\"}], \"pie\": [{\"automargin\": true, \"type\": \"pie\"}], \"scatter\": [{\"marker\": {\"colorbar\": {\"outlinewidth\": 0, \"ticks\": \"\"}}, \"type\": \"scatter\"}], \"scatter3d\": [{\"line\": {\"colorbar\": {\"outlinewidth\": 0, \"ticks\": \"\"}}, \"marker\": {\"colorbar\": {\"outlinewidth\": 0, \"ticks\": \"\"}}, \"type\": \"scatter3d\"}], \"scattercarpet\": [{\"marker\": {\"colorbar\": {\"outlinewidth\": 0, \"ticks\": \"\"}}, \"type\": \"scattercarpet\"}], \"scattergeo\": [{\"marker\": {\"colorbar\": {\"outlinewidth\": 0, \"ticks\": \"\"}}, \"type\": \"scattergeo\"}], \"scattergl\": [{\"marker\": {\"colorbar\": {\"outlinewidth\": 0, \"ticks\": \"\"}}, \"type\": \"scattergl\"}], \"scattermapbox\": [{\"marker\": {\"colorbar\": {\"outlinewidth\": 0, \"ticks\": \"\"}}, \"type\": \"scattermapbox\"}], \"scatterpolar\": [{\"marker\": {\"colorbar\": {\"outlinewidth\": 0, \"ticks\": \"\"}}, \"type\": \"scatterpolar\"}], \"scatterpolargl\": [{\"marker\": {\"colorbar\": {\"outlinewidth\": 0, \"ticks\": \"\"}}, \"type\": \"scatterpolargl\"}], \"scatterternary\": [{\"marker\": {\"colorbar\": {\"outlinewidth\": 0, \"ticks\": \"\"}}, \"type\": \"scatterternary\"}], \"surface\": [{\"colorbar\": {\"outlinewidth\": 0, \"ticks\": \"\"}, \"colorscale\": [[0.0, \"#0d0887\"], [0.1111111111111111, \"#46039f\"], [0.2222222222222222, \"#7201a8\"], [0.3333333333333333, \"#9c179e\"], [0.4444444444444444, \"#bd3786\"], [0.5555555555555556, \"#d8576b\"], [0.6666666666666666, \"#ed7953\"], [0.7777777777777778, \"#fb9f3a\"], [0.8888888888888888, \"#fdca26\"], [1.0, \"#f0f921\"]], \"type\": \"surface\"}], \"table\": [{\"cells\": {\"fill\": {\"color\": \"#EBF0F8\"}, \"line\": {\"color\": \"white\"}}, \"header\": {\"fill\": {\"color\": \"#C8D4E3\"}, \"line\": {\"color\": \"white\"}}, \"type\": \"table\"}]}, \"layout\": {\"annotationdefaults\": {\"arrowcolor\": \"#2a3f5f\", \"arrowhead\": 0, \"arrowwidth\": 1}, \"coloraxis\": {\"colorbar\": {\"outlinewidth\": 0, \"ticks\": \"\"}}, \"colorscale\": {\"diverging\": [[0, \"#8e0152\"], [0.1, \"#c51b7d\"], [0.2, \"#de77ae\"], [0.3, \"#f1b6da\"], [0.4, \"#fde0ef\"], [0.5, \"#f7f7f7\"], [0.6, \"#e6f5d0\"], [0.7, \"#b8e186\"], [0.8, \"#7fbc41\"], [0.9, \"#4d9221\"], [1, \"#276419\"]], \"sequential\": [[0.0, \"#0d0887\"], [0.1111111111111111, \"#46039f\"], [0.2222222222222222, \"#7201a8\"], [0.3333333333333333, \"#9c179e\"], [0.4444444444444444, \"#bd3786\"], [0.5555555555555556, \"#d8576b\"], [0.6666666666666666, \"#ed7953\"], [0.7777777777777778, \"#fb9f3a\"], [0.8888888888888888, \"#fdca26\"], [1.0, \"#f0f921\"]], \"sequentialminus\": [[0.0, \"#0d0887\"], [0.1111111111111111, \"#46039f\"], [0.2222222222222222, \"#7201a8\"], [0.3333333333333333, \"#9c179e\"], [0.4444444444444444, \"#bd3786\"], [0.5555555555555556, \"#d8576b\"], [0.6666666666666666, \"#ed7953\"], [0.7777777777777778, \"#fb9f3a\"], [0.8888888888888888, \"#fdca26\"], [1.0, \"#f0f921\"]]}, \"colorway\": [\"#636efa\", \"#EF553B\", \"#00cc96\", \"#ab63fa\", \"#FFA15A\", \"#19d3f3\", \"#FF6692\", \"#B6E880\", \"#FF97FF\", \"#FECB52\"], \"font\": {\"color\": \"#2a3f5f\"}, \"geo\": {\"bgcolor\": \"white\", \"lakecolor\": \"white\", \"landcolor\": \"#E5ECF6\", \"showlakes\": true, \"showland\": true, \"subunitcolor\": \"white\"}, \"hoverlabel\": {\"align\": \"left\"}, \"hovermode\": \"closest\", \"mapbox\": {\"style\": \"light\"}, \"paper_bgcolor\": \"white\", \"plot_bgcolor\": \"#E5ECF6\", \"polar\": {\"angularaxis\": {\"gridcolor\": \"white\", \"linecolor\": \"white\", \"ticks\": \"\"}, \"bgcolor\": \"#E5ECF6\", \"radialaxis\": {\"gridcolor\": \"white\", \"linecolor\": \"white\", \"ticks\": \"\"}}, \"scene\": {\"xaxis\": {\"backgroundcolor\": \"#E5ECF6\", \"gridcolor\": \"white\", \"gridwidth\": 2, \"linecolor\": \"white\", \"showbackground\": true, \"ticks\": \"\", \"zerolinecolor\": \"white\"}, \"yaxis\": {\"backgroundcolor\": \"#E5ECF6\", \"gridcolor\": \"white\", \"gridwidth\": 2, \"linecolor\": \"white\", \"showbackground\": true, \"ticks\": \"\", \"zerolinecolor\": \"white\"}, \"zaxis\": {\"backgroundcolor\": \"#E5ECF6\", \"gridcolor\": \"white\", \"gridwidth\": 2, \"linecolor\": \"white\", \"showbackground\": true, \"ticks\": \"\", \"zerolinecolor\": \"white\"}}, \"shapedefaults\": {\"line\": {\"color\": \"#2a3f5f\"}}, \"ternary\": {\"aaxis\": {\"gridcolor\": \"white\", \"linecolor\": \"white\", \"ticks\": \"\"}, \"baxis\": {\"gridcolor\": \"white\", \"linecolor\": \"white\", \"ticks\": \"\"}, \"bgcolor\": \"#E5ECF6\", \"caxis\": {\"gridcolor\": \"white\", \"linecolor\": \"white\", \"ticks\": \"\"}}, \"title\": {\"x\": 0.05}, \"xaxis\": {\"automargin\": true, \"gridcolor\": \"white\", \"linecolor\": \"white\", \"ticks\": \"\", \"title\": {\"standoff\": 15}, \"zerolinecolor\": \"white\", \"zerolinewidth\": 2}, \"yaxis\": {\"automargin\": true, \"gridcolor\": \"white\", \"linecolor\": \"white\", \"ticks\": \"\", \"title\": {\"standoff\": 15}, \"zerolinecolor\": \"white\", \"zerolinewidth\": 2}}}, \"title\": {\"text\": \"GP_reg predicted v actual\"}},\n",
              "                        {\"responsive\": true}\n",
              "                    ).then(function(){\n",
              "                            \n",
              "var gd = document.getElementById('fae80c25-5cf3-4e8a-88b0-7cab282ec794');\n",
              "var x = new MutationObserver(function (mutations, observer) {{\n",
              "        var display = window.getComputedStyle(gd).display;\n",
              "        if (!display || display === 'none') {{\n",
              "            console.log([gd, 'removed!']);\n",
              "            Plotly.purge(gd);\n",
              "            observer.disconnect();\n",
              "        }}\n",
              "}});\n",
              "\n",
              "// Listen for the removal of the full notebook cells\n",
              "var notebookContainer = gd.closest('#notebook-container');\n",
              "if (notebookContainer) {{\n",
              "    x.observe(notebookContainer, {childList: true});\n",
              "}}\n",
              "\n",
              "// Listen for the clearing of the current output cell\n",
              "var outputEl = gd.closest('.output');\n",
              "if (outputEl) {{\n",
              "    x.observe(outputEl, {childList: true});\n",
              "}}\n",
              "\n",
              "                        })\n",
              "                };\n",
              "                \n",
              "            </script>\n",
              "        </div>\n",
              "</body>\n",
              "</html>"
            ]
          },
          "metadata": {
            "tags": []
          }
        }
      ]
    }
  ]
}