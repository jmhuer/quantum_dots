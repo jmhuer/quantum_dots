{
  "nbformat": 4,
  "nbformat_minor": 0,
  "metadata": {
    "colab": {
      "name": "Untitled12.ipynb",
      "provenance": [],
      "authorship_tag": "ABX9TyOw0fy53Hz65OdaOaAUOVbH",
      "include_colab_link": true
    },
    "kernelspec": {
      "display_name": "Python 3",
      "name": "python3"
    },
    "language_info": {
      "name": "python"
    }
  },
  "cells": [
    {
      "cell_type": "markdown",
      "metadata": {
        "id": "view-in-github",
        "colab_type": "text"
      },
      "source": [
        "<a href=\"https://colab.research.google.com/github/jmhuer/quantum_dots/blob/main/quantum_dots_data.ipynb\" target=\"_parent\"><img src=\"https://colab.research.google.com/assets/colab-badge.svg\" alt=\"Open In Colab\"/></a>"
      ]
    },
    {
      "cell_type": "markdown",
      "metadata": {
        "id": "NyiZYk_GcXQE"
      },
      "source": [
        "# Load data from excell\n"
      ]
    },
    {
      "cell_type": "code",
      "metadata": {
        "colab": {
          "base_uri": "https://localhost:8080/"
        },
        "id": "yFF6ShtM2arX",
        "outputId": "0f88fb17-c1b0-4ec4-bae0-53730e372b4d"
      },
      "source": [
        "!pip install skorch\n",
        "!pip install tqdm\n",
        "!git clone https://github.com/jmhuer/optimization_tools\n",
        "\n",
        "from optimization_tools.utils import download_gdrive\n",
        "data = '14mee8d0GDbwNzIprVSJoWdojGtqO_aTX' ##google drive id of excell \n",
        "download_gdrive(data)"
      ],
      "execution_count": 1,
      "outputs": [
        {
          "output_type": "stream",
          "name": "stdout",
          "text": [
            "Looking in indexes: https://pypi.org/simple, https://us-python.pkg.dev/colab-wheels/public/simple/\n",
            "Collecting skorch\n",
            "  Downloading skorch-0.11.0-py3-none-any.whl (155 kB)\n",
            "\u001b[K     |████████████████████████████████| 155 kB 4.5 MB/s \n",
            "\u001b[?25hRequirement already satisfied: scipy>=1.1.0 in /usr/local/lib/python3.7/dist-packages (from skorch) (1.7.3)\n",
            "Requirement already satisfied: tabulate>=0.7.7 in /usr/local/lib/python3.7/dist-packages (from skorch) (0.8.10)\n",
            "Requirement already satisfied: scikit-learn>=0.19.1 in /usr/local/lib/python3.7/dist-packages (from skorch) (1.0.2)\n",
            "Requirement already satisfied: numpy>=1.13.3 in /usr/local/lib/python3.7/dist-packages (from skorch) (1.21.6)\n",
            "Requirement already satisfied: tqdm>=4.14.0 in /usr/local/lib/python3.7/dist-packages (from skorch) (4.64.0)\n",
            "Requirement already satisfied: joblib>=0.11 in /usr/local/lib/python3.7/dist-packages (from scikit-learn>=0.19.1->skorch) (1.1.0)\n",
            "Requirement already satisfied: threadpoolctl>=2.0.0 in /usr/local/lib/python3.7/dist-packages (from scikit-learn>=0.19.1->skorch) (3.1.0)\n",
            "Installing collected packages: skorch\n",
            "Successfully installed skorch-0.11.0\n",
            "Looking in indexes: https://pypi.org/simple, https://us-python.pkg.dev/colab-wheels/public/simple/\n",
            "Requirement already satisfied: tqdm in /usr/local/lib/python3.7/dist-packages (4.64.0)\n",
            "Cloning into 'optimization_tools'...\n",
            "remote: Enumerating objects: 46, done.\u001b[K\n",
            "remote: Counting objects: 100% (46/46), done.\u001b[K\n",
            "remote: Compressing objects: 100% (33/33), done.\u001b[K\n",
            "remote: Total 46 (delta 12), reused 39 (delta 8), pack-reused 0\u001b[K\n",
            "Unpacking objects: 100% (46/46), done.\n",
            "Downloading...\n",
            "From: https://drive.google.com/uc?id=14mee8d0GDbwNzIprVSJoWdojGtqO_aTX\n",
            "To: /content/QDots data - Juan.xlsx\n",
            "100%|██████████| 96.2k/96.2k [00:00<00:00, 25.9MB/s]\n",
            "\n"
          ]
        }
      ]
    },
    {
      "cell_type": "code",
      "metadata": {
        "id": "hHStJWQsbRg1"
      },
      "source": [
        "import pandas as pd\n",
        "\n",
        "def open_excel(filename):\n",
        "    excell = pd.ExcelFile(filename)\n",
        "    excell.sheet_names\n",
        "    df = excell.parse(\"Sheet1\")\n",
        "    df.columns = df.columns.map(str)\n",
        "    df = df.dropna().reset_index(drop=True)\n",
        "    return df\n",
        "\n",
        "df = open_excel(\"/content/QDots data - Juan.xlsx\")"
      ],
      "execution_count": 2,
      "outputs": []
    },
    {
      "cell_type": "code",
      "metadata": {
        "id": "sq5mC4EgpAne",
        "colab": {
          "base_uri": "https://localhost:8080/",
          "height": 396
        },
        "outputId": "b62bf2a2-e177-40b8-db77-5d70b5973808"
      },
      "source": [
        "df.head()"
      ],
      "execution_count": 3,
      "outputs": [
        {
          "output_type": "execute_result",
          "data": {
            "text/plain": [
              "  Unnamed: 0  Time (min)    μL  nM λ1  nM λ2  λ1 (nm)  λ2 (nm)  \\\n",
              "0 2021-04-12         0.0   0.0    0.0    0.0    620.0    560.0   \n",
              "1 2021-04-12         0.0  30.0   50.0    0.0    620.0    560.0   \n",
              "2 2021-04-12         1.0  30.0   50.0    0.0    620.0    560.0   \n",
              "3 2021-04-12         2.0  30.0   50.0    0.0    620.0    560.0   \n",
              "4 2021-04-12         3.0  30.0   50.0    0.0    620.0    560.0   \n",
              "\n",
              "   # emitters λ1 (x1010)  # emitters λ2 (x1010)  415.0  445.0  480.0  515.0  \\\n",
              "0                 0.0000                    0.0    0.0    0.0    0.0    1.0   \n",
              "1                90.3321                    0.0    9.0   20.0   21.0   67.0   \n",
              "2                90.3321                    0.0    9.0   21.0   22.0   69.0   \n",
              "3                90.3321                    0.0    9.0   21.0   22.0   69.0   \n",
              "4                90.3321                    0.0    9.0   21.0   22.0   69.0   \n",
              "\n",
              "   555.0  590.0   630.0  680.0  \n",
              "0    0.0    0.0     4.0    0.0  \n",
              "1  106.0  666.0  4320.0   24.0  \n",
              "2  107.0  675.0  4413.0   25.0  \n",
              "3  107.0  677.0  4439.0   25.0  \n",
              "4  106.0  678.0  4457.0   25.0  "
            ],
            "text/html": [
              "\n",
              "  <div id=\"df-2efa153e-672c-40e4-8b94-3531f67684b0\">\n",
              "    <div class=\"colab-df-container\">\n",
              "      <div>\n",
              "<style scoped>\n",
              "    .dataframe tbody tr th:only-of-type {\n",
              "        vertical-align: middle;\n",
              "    }\n",
              "\n",
              "    .dataframe tbody tr th {\n",
              "        vertical-align: top;\n",
              "    }\n",
              "\n",
              "    .dataframe thead th {\n",
              "        text-align: right;\n",
              "    }\n",
              "</style>\n",
              "<table border=\"1\" class=\"dataframe\">\n",
              "  <thead>\n",
              "    <tr style=\"text-align: right;\">\n",
              "      <th></th>\n",
              "      <th>Unnamed: 0</th>\n",
              "      <th>Time (min)</th>\n",
              "      <th>μL</th>\n",
              "      <th>nM λ1</th>\n",
              "      <th>nM λ2</th>\n",
              "      <th>λ1 (nm)</th>\n",
              "      <th>λ2 (nm)</th>\n",
              "      <th># emitters λ1 (x1010)</th>\n",
              "      <th># emitters λ2 (x1010)</th>\n",
              "      <th>415.0</th>\n",
              "      <th>445.0</th>\n",
              "      <th>480.0</th>\n",
              "      <th>515.0</th>\n",
              "      <th>555.0</th>\n",
              "      <th>590.0</th>\n",
              "      <th>630.0</th>\n",
              "      <th>680.0</th>\n",
              "    </tr>\n",
              "  </thead>\n",
              "  <tbody>\n",
              "    <tr>\n",
              "      <th>0</th>\n",
              "      <td>2021-04-12</td>\n",
              "      <td>0.0</td>\n",
              "      <td>0.0</td>\n",
              "      <td>0.0</td>\n",
              "      <td>0.0</td>\n",
              "      <td>620.0</td>\n",
              "      <td>560.0</td>\n",
              "      <td>0.0000</td>\n",
              "      <td>0.0</td>\n",
              "      <td>0.0</td>\n",
              "      <td>0.0</td>\n",
              "      <td>0.0</td>\n",
              "      <td>1.0</td>\n",
              "      <td>0.0</td>\n",
              "      <td>0.0</td>\n",
              "      <td>4.0</td>\n",
              "      <td>0.0</td>\n",
              "    </tr>\n",
              "    <tr>\n",
              "      <th>1</th>\n",
              "      <td>2021-04-12</td>\n",
              "      <td>0.0</td>\n",
              "      <td>30.0</td>\n",
              "      <td>50.0</td>\n",
              "      <td>0.0</td>\n",
              "      <td>620.0</td>\n",
              "      <td>560.0</td>\n",
              "      <td>90.3321</td>\n",
              "      <td>0.0</td>\n",
              "      <td>9.0</td>\n",
              "      <td>20.0</td>\n",
              "      <td>21.0</td>\n",
              "      <td>67.0</td>\n",
              "      <td>106.0</td>\n",
              "      <td>666.0</td>\n",
              "      <td>4320.0</td>\n",
              "      <td>24.0</td>\n",
              "    </tr>\n",
              "    <tr>\n",
              "      <th>2</th>\n",
              "      <td>2021-04-12</td>\n",
              "      <td>1.0</td>\n",
              "      <td>30.0</td>\n",
              "      <td>50.0</td>\n",
              "      <td>0.0</td>\n",
              "      <td>620.0</td>\n",
              "      <td>560.0</td>\n",
              "      <td>90.3321</td>\n",
              "      <td>0.0</td>\n",
              "      <td>9.0</td>\n",
              "      <td>21.0</td>\n",
              "      <td>22.0</td>\n",
              "      <td>69.0</td>\n",
              "      <td>107.0</td>\n",
              "      <td>675.0</td>\n",
              "      <td>4413.0</td>\n",
              "      <td>25.0</td>\n",
              "    </tr>\n",
              "    <tr>\n",
              "      <th>3</th>\n",
              "      <td>2021-04-12</td>\n",
              "      <td>2.0</td>\n",
              "      <td>30.0</td>\n",
              "      <td>50.0</td>\n",
              "      <td>0.0</td>\n",
              "      <td>620.0</td>\n",
              "      <td>560.0</td>\n",
              "      <td>90.3321</td>\n",
              "      <td>0.0</td>\n",
              "      <td>9.0</td>\n",
              "      <td>21.0</td>\n",
              "      <td>22.0</td>\n",
              "      <td>69.0</td>\n",
              "      <td>107.0</td>\n",
              "      <td>677.0</td>\n",
              "      <td>4439.0</td>\n",
              "      <td>25.0</td>\n",
              "    </tr>\n",
              "    <tr>\n",
              "      <th>4</th>\n",
              "      <td>2021-04-12</td>\n",
              "      <td>3.0</td>\n",
              "      <td>30.0</td>\n",
              "      <td>50.0</td>\n",
              "      <td>0.0</td>\n",
              "      <td>620.0</td>\n",
              "      <td>560.0</td>\n",
              "      <td>90.3321</td>\n",
              "      <td>0.0</td>\n",
              "      <td>9.0</td>\n",
              "      <td>21.0</td>\n",
              "      <td>22.0</td>\n",
              "      <td>69.0</td>\n",
              "      <td>106.0</td>\n",
              "      <td>678.0</td>\n",
              "      <td>4457.0</td>\n",
              "      <td>25.0</td>\n",
              "    </tr>\n",
              "  </tbody>\n",
              "</table>\n",
              "</div>\n",
              "      <button class=\"colab-df-convert\" onclick=\"convertToInteractive('df-2efa153e-672c-40e4-8b94-3531f67684b0')\"\n",
              "              title=\"Convert this dataframe to an interactive table.\"\n",
              "              style=\"display:none;\">\n",
              "        \n",
              "  <svg xmlns=\"http://www.w3.org/2000/svg\" height=\"24px\"viewBox=\"0 0 24 24\"\n",
              "       width=\"24px\">\n",
              "    <path d=\"M0 0h24v24H0V0z\" fill=\"none\"/>\n",
              "    <path d=\"M18.56 5.44l.94 2.06.94-2.06 2.06-.94-2.06-.94-.94-2.06-.94 2.06-2.06.94zm-11 1L8.5 8.5l.94-2.06 2.06-.94-2.06-.94L8.5 2.5l-.94 2.06-2.06.94zm10 10l.94 2.06.94-2.06 2.06-.94-2.06-.94-.94-2.06-.94 2.06-2.06.94z\"/><path d=\"M17.41 7.96l-1.37-1.37c-.4-.4-.92-.59-1.43-.59-.52 0-1.04.2-1.43.59L10.3 9.45l-7.72 7.72c-.78.78-.78 2.05 0 2.83L4 21.41c.39.39.9.59 1.41.59.51 0 1.02-.2 1.41-.59l7.78-7.78 2.81-2.81c.8-.78.8-2.07 0-2.86zM5.41 20L4 18.59l7.72-7.72 1.47 1.35L5.41 20z\"/>\n",
              "  </svg>\n",
              "      </button>\n",
              "      \n",
              "  <style>\n",
              "    .colab-df-container {\n",
              "      display:flex;\n",
              "      flex-wrap:wrap;\n",
              "      gap: 12px;\n",
              "    }\n",
              "\n",
              "    .colab-df-convert {\n",
              "      background-color: #E8F0FE;\n",
              "      border: none;\n",
              "      border-radius: 50%;\n",
              "      cursor: pointer;\n",
              "      display: none;\n",
              "      fill: #1967D2;\n",
              "      height: 32px;\n",
              "      padding: 0 0 0 0;\n",
              "      width: 32px;\n",
              "    }\n",
              "\n",
              "    .colab-df-convert:hover {\n",
              "      background-color: #E2EBFA;\n",
              "      box-shadow: 0px 1px 2px rgba(60, 64, 67, 0.3), 0px 1px 3px 1px rgba(60, 64, 67, 0.15);\n",
              "      fill: #174EA6;\n",
              "    }\n",
              "\n",
              "    [theme=dark] .colab-df-convert {\n",
              "      background-color: #3B4455;\n",
              "      fill: #D2E3FC;\n",
              "    }\n",
              "\n",
              "    [theme=dark] .colab-df-convert:hover {\n",
              "      background-color: #434B5C;\n",
              "      box-shadow: 0px 1px 3px 1px rgba(0, 0, 0, 0.15);\n",
              "      filter: drop-shadow(0px 1px 2px rgba(0, 0, 0, 0.3));\n",
              "      fill: #FFFFFF;\n",
              "    }\n",
              "  </style>\n",
              "\n",
              "      <script>\n",
              "        const buttonEl =\n",
              "          document.querySelector('#df-2efa153e-672c-40e4-8b94-3531f67684b0 button.colab-df-convert');\n",
              "        buttonEl.style.display =\n",
              "          google.colab.kernel.accessAllowed ? 'block' : 'none';\n",
              "\n",
              "        async function convertToInteractive(key) {\n",
              "          const element = document.querySelector('#df-2efa153e-672c-40e4-8b94-3531f67684b0');\n",
              "          const dataTable =\n",
              "            await google.colab.kernel.invokeFunction('convertToInteractive',\n",
              "                                                     [key], {});\n",
              "          if (!dataTable) return;\n",
              "\n",
              "          const docLinkHtml = 'Like what you see? Visit the ' +\n",
              "            '<a target=\"_blank\" href=https://colab.research.google.com/notebooks/data_table.ipynb>data table notebook</a>'\n",
              "            + ' to learn more about interactive tables.';\n",
              "          element.innerHTML = '';\n",
              "          dataTable['output_type'] = 'display_data';\n",
              "          await google.colab.output.renderOutput(dataTable, element);\n",
              "          const docLink = document.createElement('div');\n",
              "          docLink.innerHTML = docLinkHtml;\n",
              "          element.appendChild(docLink);\n",
              "        }\n",
              "      </script>\n",
              "    </div>\n",
              "  </div>\n",
              "  "
            ]
          },
          "metadata": {},
          "execution_count": 3
        }
      ]
    },
    {
      "cell_type": "code",
      "source": [
        "for col in df.columns:\n",
        "    print(col)"
      ],
      "metadata": {
        "id": "evmSz3bPvq4L",
        "outputId": "7662d0e0-afe7-4471-b638-3588907726f9",
        "colab": {
          "base_uri": "https://localhost:8080/"
        }
      },
      "execution_count": 11,
      "outputs": [
        {
          "output_type": "stream",
          "name": "stdout",
          "text": [
            "Unnamed: 0\n",
            "Time (min)\n",
            "μL\n",
            "nM λ1\n",
            "nM λ2\n",
            "λ1 (nm)\n",
            "λ2 (nm)\n",
            "# emitters λ1 (x1010)\n",
            "# emitters λ2 (x1010)\n",
            "415.0\n",
            "445.0\n",
            "480.0\n",
            "515.0\n",
            "555.0\n",
            "590.0\n",
            "630.0\n",
            "680.0\n"
          ]
        }
      ]
    },
    {
      "cell_type": "markdown",
      "metadata": {
        "id": "6xg_ANKQ0JCa"
      },
      "source": [
        "# Ploting utils"
      ]
    },
    {
      "cell_type": "code",
      "metadata": {
        "id": "GudKpHXc0MBg"
      },
      "source": [
        "import plotly.graph_objects as graph\n",
        "def plot(all_history:list, title:str, log = False, error_bars = []):\n",
        "    \"\"\"\n",
        "    input:\n",
        "        all_history: list of dicts to plot\n",
        "    ret:\n",
        "        None: show plotly fig\n",
        "    \"\"\"\n",
        "    symbol_sequence= ['circle-open', 'circle', 'circle-open-dot', 'square']\n",
        "    fig = graph.Figure(layout = graph.Layout(title=graph.layout.Title(text=title))) \n",
        "    for i in range(len(all_history)):\n",
        "        fig.add_trace(graph.Scatter(x = all_history[i][\"x\"], \n",
        "                                    y = all_history[i][\"y\"],\n",
        "                                    name = all_history[i][\"legend\"],\n",
        "                                    mode='markers',\n",
        "                                    marker_size=5,\n",
        "                                    marker_symbol=all_history[i][\"marker_symbol\"],\n",
        "                                    error_y = dict(type = 'data', # value of error bar given in data coordinates\n",
        "                                                   array   = error_bars,\n",
        "                                                   visible = True)))\n",
        "    if log: fig.update_xaxes(type=\"log\")\n",
        "    fig.show()\n",
        "\n",
        "def plotline(all_history:list, title:str, log = False, error_bars = []):\n",
        "    \"\"\"\n",
        "    input:\n",
        "        all_history: list of dicts to plot\n",
        "    ret:\n",
        "        None: show plotly fig\n",
        "    \"\"\"\n",
        "    fig = graph.Figure(layout = graph.Layout(title=graph.layout.Title(text=title))) \n",
        "    for i in range(len(all_history)):\n",
        "        fig.add_trace(graph.Scatter(x       = all_history[i][\"x\"], \n",
        "                                    y       = all_history[i][\"y\"],\n",
        "                                    name    = all_history[i][\"legend\"])) \n",
        "    if log: fig.update_xaxes(type=\"log\")\n",
        "    fig.show()"
      ],
      "execution_count": 13,
      "outputs": []
    },
    {
      "cell_type": "markdown",
      "metadata": {
        "id": "xQd7hHq4qytX"
      },
      "source": [
        "#Pre-processing + model defenitions before training"
      ]
    },
    {
      "cell_type": "markdown",
      "metadata": {
        "id": "Urln5aH3iL_l"
      },
      "source": [
        "## Mixture model for feature extraction "
      ]
    },
    {
      "cell_type": "code",
      "metadata": {
        "colab": {
          "base_uri": "https://localhost:8080/",
          "height": 281
        },
        "id": "lXgc2qKU3pDQ",
        "outputId": "fa5f850b-183b-422e-e932-a38398bfdf62"
      },
      "source": [
        "from sklearn.mixture import GaussianMixture\n",
        "import numpy as np\n",
        "X_columns  = [\"415.0\",\"445.0\",\"480.0\", \"515.0\", \"555.0\", \"590.0\", \"630.0\", \"680.0\"]\n",
        "Y1_columns = [\"# emitters λ1 (x1010)\"]\n",
        "Y2_columns = [\"# emitters λ2 (x1010)\"]\n",
        "Y_columns  = [\"# emitters λ1 (x1010)\", \"# emitters λ2 (x1010)\"]\n",
        "\n",
        "row = 120\n",
        "\n",
        "X_train, X_test = df.loc[row, X_columns], df.loc[row, X_columns]\n",
        "Y_train, Y_test = df.loc[row, Y2_columns], df.loc[row, Y2_columns]\n",
        "Y_train_both, Y_test_both = df.loc[row, Y_columns], df.loc[row, Y_columns]\n",
        "wavelenght = list(map(float, list(X_train.keys())))\n",
        "X_data = np.split(np.array(wavelenght), len(wavelenght))\n",
        "\n",
        "l = []\n",
        "for a,b in zip(X_data, X_train.values):\n",
        "    l.extend([a]*(int(b)+1))\n",
        "f = np.array(l)\n",
        "g = GaussianMixture(n_components=2, random_state=0).fit(l)\n",
        "\n",
        "from matplotlib import rc\n",
        "from sklearn import mixture\n",
        "import matplotlib.pyplot as plt\n",
        "import numpy as np\n",
        "import matplotlib\n",
        "import matplotlib.ticker as tkr\n",
        "import scipy.stats as stats\n",
        "\n",
        "weights = g.weights_\n",
        "means = g.means_\n",
        "covars = g.covariances_\n",
        "print(\"mu1: {} \\t mu2: {}\".format(means[0] , means[1]))\n",
        "plt.hist(f, bins=10, histtype='bar', density=True, ec='red', alpha=0.5)\n",
        "\n",
        "f_axis = f.copy().ravel()\n",
        "f_axis.sort()\n",
        "plt.plot(f_axis,weights[0]*stats.norm.pdf(f_axis,means[0],np.sqrt(covars[0])).ravel(), c='red')\n",
        "plt.plot(f_axis,weights[1]*stats.norm.pdf(f_axis,means[1],np.sqrt(covars[1])).ravel(), c='blue')\n",
        "\n",
        "plt.rcParams['agg.path.chunksize'] = 10\n",
        "\n",
        "plt.grid()\n",
        "plt.show()\n",
        "\n"
      ],
      "execution_count": 15,
      "outputs": [
        {
          "output_type": "stream",
          "name": "stdout",
          "text": [
            "mu1: [632.72196216] \t mu2: [492.87303096]\n"
          ]
        },
        {
          "output_type": "display_data",
          "data": {
            "text/plain": [
              "<Figure size 432x288 with 1 Axes>"
            ],
            "image/png": "[encoded data removed]"
          },
          "metadata": {
            "needs_background": "light"
          }
        }
      ]
    },
    {
      "cell_type": "code",
      "metadata": {
        "colab": {
          "base_uri": "https://localhost:8080/",
          "height": 424
        },
        "id": "AyzzfiqBlZoF",
        "outputId": "60673be3-a2e6-44a7-e423-a09e6cf65d85"
      },
      "source": [
        "for row in range(len(df)):\n",
        "    X_train, X_test = df.loc[row, X_columns], df.loc[row, X_columns]\n",
        "    new_X_data = [a*b for a,b in zip(X_data, X_train.values)]\n",
        "    l = []\n",
        "    for a,b in zip(X_data, X_train.values):\n",
        "        l.extend([a]*(int(b)+1))\n",
        "    f = np.array(l)\n",
        "    g = GaussianMixture(n_components=2, random_state=0).fit(l)\n",
        "\n",
        "    weights = g.weights_\n",
        "    means = g.means_\n",
        "    covars = g.covariances_\n",
        "    # print(\"mu1: {} \\t \\t \\t mu2: {}\".format(round(float(means[0]),2) , round(float(means[1]),2)))\n",
        "    df.loc[row, \"mu1\"] = round(float(means[0]),2)\n",
        "    df.loc[row, \"mu2\"] = round(float(means[1]),2)\n",
        "    df.loc[row, \"co1\"] = round(float(covars[0]),2)\n",
        "    df.loc[row, \"co2\"] = round(float(covars[1]),2)\n",
        "\n",
        "\n",
        "df.head()\n"
      ],
      "execution_count": 16,
      "outputs": [
        {
          "output_type": "execute_result",
          "data": {
            "text/plain": [
              "  Unnamed: 0  Time (min)    μL  nM λ1  nM λ2  λ1 (nm)  λ2 (nm)  \\\n",
              "0 2021-04-12         0.0   0.0    0.0    0.0    620.0    560.0   \n",
              "1 2021-04-12         0.0  30.0   50.0    0.0    620.0    560.0   \n",
              "2 2021-04-12         1.0  30.0   50.0    0.0    620.0    560.0   \n",
              "3 2021-04-12         2.0  30.0   50.0    0.0    620.0    560.0   \n",
              "4 2021-04-12         3.0  30.0   50.0    0.0    620.0    560.0   \n",
              "\n",
              "   # emitters λ1 (x1010)  # emitters λ2 (x1010)  415.0  ...  480.0  515.0  \\\n",
              "0                 0.0000                    0.0    0.0  ...    0.0    1.0   \n",
              "1                90.3321                    0.0    9.0  ...   21.0   67.0   \n",
              "2                90.3321                    0.0    9.0  ...   22.0   69.0   \n",
              "3                90.3321                    0.0    9.0  ...   22.0   69.0   \n",
              "4                90.3321                    0.0    9.0  ...   22.0   69.0   \n",
              "\n",
              "   555.0  590.0   630.0  680.0     mu1     mu2     co1      co2  \n",
              "0    0.0    0.0     4.0    0.0  632.72  492.87  561.81  2689.91  \n",
              "1  106.0  666.0  4320.0   24.0  630.00  574.99    0.00  1655.18  \n",
              "2  107.0  675.0  4413.0   25.0  630.00  574.86    0.00  1678.42  \n",
              "3  107.0  677.0  4439.0   25.0  630.00  574.89    0.00  1675.32  \n",
              "4  106.0  678.0  4457.0   25.0  630.00  574.93    0.00  1675.14  \n",
              "\n",
              "[5 rows x 21 columns]"
            ],
            "text/html": [
              "\n",
              "  <div id=\"df-005f48aa-1475-4c85-981d-c0d38caa05d6\">\n",
              "    <div class=\"colab-df-container\">\n",
              "      <div>\n",
              "<style scoped>\n",
              "    .dataframe tbody tr th:only-of-type {\n",
              "        vertical-align: middle;\n",
              "    }\n",
              "\n",
              "    .dataframe tbody tr th {\n",
              "        vertical-align: top;\n",
              "    }\n",
              "\n",
              "    .dataframe thead th {\n",
              "        text-align: right;\n",
              "    }\n",
              "</style>\n",
              "<table border=\"1\" class=\"dataframe\">\n",
              "  <thead>\n",
              "    <tr style=\"text-align: right;\">\n",
              "      <th></th>\n",
              "      <th>Unnamed: 0</th>\n",
              "      <th>Time (min)</th>\n",
              "      <th>μL</th>\n",
              "      <th>nM λ1</th>\n",
              "      <th>nM λ2</th>\n",
              "      <th>λ1 (nm)</th>\n",
              "      <th>λ2 (nm)</th>\n",
              "      <th># emitters λ1 (x1010)</th>\n",
              "      <th># emitters λ2 (x1010)</th>\n",
              "      <th>415.0</th>\n",
              "      <th>...</th>\n",
              "      <th>480.0</th>\n",
              "      <th>515.0</th>\n",
              "      <th>555.0</th>\n",
              "      <th>590.0</th>\n",
              "      <th>630.0</th>\n",
              "      <th>680.0</th>\n",
              "      <th>mu1</th>\n",
              "      <th>mu2</th>\n",
              "      <th>co1</th>\n",
              "      <th>co2</th>\n",
              "    </tr>\n",
              "  </thead>\n",
              "  <tbody>\n",
              "    <tr>\n",
              "      <th>0</th>\n",
              "      <td>2021-04-12</td>\n",
              "      <td>0.0</td>\n",
              "      <td>0.0</td>\n",
              "      <td>0.0</td>\n",
              "      <td>0.0</td>\n",
              "      <td>620.0</td>\n",
              "      <td>560.0</td>\n",
              "      <td>0.0000</td>\n",
              "      <td>0.0</td>\n",
              "      <td>0.0</td>\n",
              "      <td>...</td>\n",
              "      <td>0.0</td>\n",
              "      <td>1.0</td>\n",
              "      <td>0.0</td>\n",
              "      <td>0.0</td>\n",
              "      <td>4.0</td>\n",
              "      <td>0.0</td>\n",
              "      <td>632.72</td>\n",
              "      <td>492.87</td>\n",
              "      <td>561.81</td>\n",
              "      <td>2689.91</td>\n",
              "    </tr>\n",
              "    <tr>\n",
              "      <th>1</th>\n",
              "      <td>2021-04-12</td>\n",
              "      <td>0.0</td>\n",
              "      <td>30.0</td>\n",
              "      <td>50.0</td>\n",
              "      <td>0.0</td>\n",
              "      <td>620.0</td>\n",
              "      <td>560.0</td>\n",
              "      <td>90.3321</td>\n",
              "      <td>0.0</td>\n",
              "      <td>9.0</td>\n",
              "      <td>...</td>\n",
              "      <td>21.0</td>\n",
              "      <td>67.0</td>\n",
              "      <td>106.0</td>\n",
              "      <td>666.0</td>\n",
              "      <td>4320.0</td>\n",
              "      <td>24.0</td>\n",
              "      <td>630.00</td>\n",
              "      <td>574.99</td>\n",
              "      <td>0.00</td>\n",
              "      <td>1655.18</td>\n",
              "    </tr>\n",
              "    <tr>\n",
              "      <th>2</th>\n",
              "      <td>2021-04-12</td>\n",
              "      <td>1.0</td>\n",
              "      <td>30.0</td>\n",
              "      <td>50.0</td>\n",
              "      <td>0.0</td>\n",
              "      <td>620.0</td>\n",
              "      <td>560.0</td>\n",
              "      <td>90.3321</td>\n",
              "      <td>0.0</td>\n",
              "      <td>9.0</td>\n",
              "      <td>...</td>\n",
              "      <td>22.0</td>\n",
              "      <td>69.0</td>\n",
              "      <td>107.0</td>\n",
              "      <td>675.0</td>\n",
              "      <td>4413.0</td>\n",
              "      <td>25.0</td>\n",
              "      <td>630.00</td>\n",
              "      <td>574.86</td>\n",
              "      <td>0.00</td>\n",
              "      <td>1678.42</td>\n",
              "    </tr>\n",
              "    <tr>\n",
              "      <th>3</th>\n",
              "      <td>2021-04-12</td>\n",
              "      <td>2.0</td>\n",
              "      <td>30.0</td>\n",
              "      <td>50.0</td>\n",
              "      <td>0.0</td>\n",
              "      <td>620.0</td>\n",
              "      <td>560.0</td>\n",
              "      <td>90.3321</td>\n",
              "      <td>0.0</td>\n",
              "      <td>9.0</td>\n",
              "      <td>...</td>\n",
              "      <td>22.0</td>\n",
              "      <td>69.0</td>\n",
              "      <td>107.0</td>\n",
              "      <td>677.0</td>\n",
              "      <td>4439.0</td>\n",
              "      <td>25.0</td>\n",
              "      <td>630.00</td>\n",
              "      <td>574.89</td>\n",
              "      <td>0.00</td>\n",
              "      <td>1675.32</td>\n",
              "    </tr>\n",
              "    <tr>\n",
              "      <th>4</th>\n",
              "      <td>2021-04-12</td>\n",
              "      <td>3.0</td>\n",
              "      <td>30.0</td>\n",
              "      <td>50.0</td>\n",
              "      <td>0.0</td>\n",
              "      <td>620.0</td>\n",
              "      <td>560.0</td>\n",
              "      <td>90.3321</td>\n",
              "      <td>0.0</td>\n",
              "      <td>9.0</td>\n",
              "      <td>...</td>\n",
              "      <td>22.0</td>\n",
              "      <td>69.0</td>\n",
              "      <td>106.0</td>\n",
              "      <td>678.0</td>\n",
              "      <td>4457.0</td>\n",
              "      <td>25.0</td>\n",
              "      <td>630.00</td>\n",
              "      <td>574.93</td>\n",
              "      <td>0.00</td>\n",
              "      <td>1675.14</td>\n",
              "    </tr>\n",
              "  </tbody>\n",
              "</table>\n",
              "<p>5 rows × 21 columns</p>\n",
              "</div>\n",
              "      <button class=\"colab-df-convert\" onclick=\"convertToInteractive('df-005f48aa-1475-4c85-981d-c0d38caa05d6')\"\n",
              "              title=\"Convert this dataframe to an interactive table.\"\n",
              "              style=\"display:none;\">\n",
              "        \n",
              "  <svg xmlns=\"http://www.w3.org/2000/svg\" height=\"24px\"viewBox=\"0 0 24 24\"\n",
              "       width=\"24px\">\n",
              "    <path d=\"M0 0h24v24H0V0z\" fill=\"none\"/>\n",
              "    <path d=\"M18.56 5.44l.94 2.06.94-2.06 2.06-.94-2.06-.94-.94-2.06-.94 2.06-2.06.94zm-11 1L8.5 8.5l.94-2.06 2.06-.94-2.06-.94L8.5 2.5l-.94 2.06-2.06.94zm10 10l.94 2.06.94-2.06 2.06-.94-2.06-.94-.94-2.06-.94 2.06-2.06.94z\"/><path d=\"M17.41 7.96l-1.37-1.37c-.4-.4-.92-.59-1.43-.59-.52 0-1.04.2-1.43.59L10.3 9.45l-7.72 7.72c-.78.78-.78 2.05 0 2.83L4 21.41c.39.39.9.59 1.41.59.51 0 1.02-.2 1.41-.59l7.78-7.78 2.81-2.81c.8-.78.8-2.07 0-2.86zM5.41 20L4 18.59l7.72-7.72 1.47 1.35L5.41 20z\"/>\n",
              "  </svg>\n",
              "      </button>\n",
              "      \n",
              "  <style>\n",
              "    .colab-df-container {\n",
              "      display:flex;\n",
              "      flex-wrap:wrap;\n",
              "      gap: 12px;\n",
              "    }\n",
              "\n",
              "    .colab-df-convert {\n",
              "      background-color: #E8F0FE;\n",
              "      border: none;\n",
              "      border-radius: 50%;\n",
              "      cursor: pointer;\n",
              "      display: none;\n",
              "      fill: #1967D2;\n",
              "      height: 32px;\n",
              "      padding: 0 0 0 0;\n",
              "      width: 32px;\n",
              "    }\n",
              "\n",
              "    .colab-df-convert:hover {\n",
              "      background-color: #E2EBFA;\n",
              "      box-shadow: 0px 1px 2px rgba(60, 64, 67, 0.3), 0px 1px 3px 1px rgba(60, 64, 67, 0.15);\n",
              "      fill: #174EA6;\n",
              "    }\n",
              "\n",
              "    [theme=dark] .colab-df-convert {\n",
              "      background-color: #3B4455;\n",
              "      fill: #D2E3FC;\n",
              "    }\n",
              "\n",
              "    [theme=dark] .colab-df-convert:hover {\n",
              "      background-color: #434B5C;\n",
              "      box-shadow: 0px 1px 3px 1px rgba(0, 0, 0, 0.15);\n",
              "      filter: drop-shadow(0px 1px 2px rgba(0, 0, 0, 0.3));\n",
              "      fill: #FFFFFF;\n",
              "    }\n",
              "  </style>\n",
              "\n",
              "      <script>\n",
              "        const buttonEl =\n",
              "          document.querySelector('#df-005f48aa-1475-4c85-981d-c0d38caa05d6 button.colab-df-convert');\n",
              "        buttonEl.style.display =\n",
              "          google.colab.kernel.accessAllowed ? 'block' : 'none';\n",
              "\n",
              "        async function convertToInteractive(key) {\n",
              "          const element = document.querySelector('#df-005f48aa-1475-4c85-981d-c0d38caa05d6');\n",
              "          const dataTable =\n",
              "            await google.colab.kernel.invokeFunction('convertToInteractive',\n",
              "                                                     [key], {});\n",
              "          if (!dataTable) return;\n",
              "\n",
              "          const docLinkHtml = 'Like what you see? Visit the ' +\n",
              "            '<a target=\"_blank\" href=https://colab.research.google.com/notebooks/data_table.ipynb>data table notebook</a>'\n",
              "            + ' to learn more about interactive tables.';\n",
              "          element.innerHTML = '';\n",
              "          dataTable['output_type'] = 'display_data';\n",
              "          await google.colab.output.renderOutput(dataTable, element);\n",
              "          const docLink = document.createElement('div');\n",
              "          docLink.innerHTML = docLinkHtml;\n",
              "          element.appendChild(docLink);\n",
              "        }\n",
              "      </script>\n",
              "    </div>\n",
              "  </div>\n",
              "  "
            ]
          },
          "metadata": {},
          "execution_count": 16
        }
      ]
    },
    {
      "cell_type": "markdown",
      "metadata": {
        "id": "PZrb324ah0y7"
      },
      "source": [
        "## Define models"
      ]
    },
    {
      "cell_type": "code",
      "metadata": {
        "id": "VBw-MgBYqyF1"
      },
      "source": [
        "from sklearn.model_selection import KFold\n",
        "from sklearn.linear_model import LinearRegression\n",
        "from sklearn.metrics import mean_squared_error\n",
        "from sklearn.metrics import mean_absolute_error\n",
        "\n",
        "from sklearn.preprocessing import StandardScaler\n",
        "from sklearn.pipeline import make_pipeline\n",
        "from sklearn.model_selection import GridSearchCV\n",
        "from sklearn.ensemble import RandomForestRegressor\n",
        "from sklearn.svm import SVR\n",
        "from sklearn.gaussian_process.kernels import RBF, ConstantKernel \n",
        "from sklearn.gaussian_process import GaussianProcessRegressor\n",
        "\n",
        "\n",
        "##LINEAR REGRESSION\n",
        "lr_reg = make_pipeline(LinearRegression())\n",
        "\n",
        "##RandomForestRegressor\n",
        "rf_reg = make_pipeline(StandardScaler(), RandomForestRegressor())\n",
        "parameters = {'randomforestregressor__max_depth':[1,2,3,4,5]}\n",
        "rf_reg = GridSearchCV(rf_reg, parameters)\n",
        "  \n",
        "##SVM\n",
        "svr = make_pipeline(StandardScaler(), SVR(kernel='linear'))\n",
        "parameters = {'svr__kernel':['linear', 'rbf'], 'svr__epsilon':[0.1, 0.2, 0.3,0.6], 'svr__C': [0.1,0.5,1,2,3]}\n",
        "svr = GridSearchCV(svr, parameters)\n",
        "\n",
        "##guassian process \n",
        "# Instantiate a Gaussian Process model\n",
        "gp = make_pipeline(StandardScaler(), GaussianProcessRegressor( n_restarts_optimizer=20, normalize_y=True, copy_X_train=False))\n",
        "parameters = {'gaussianprocessregressor__kernel':[RBF() + RBF() + RBF()+ RBF(), \n",
        "                                                  ]}\n",
        "gp = GridSearchCV(gp, parameters)\n",
        "\n"
      ],
      "execution_count": 17,
      "outputs": []
    },
    {
      "cell_type": "markdown",
      "metadata": {
        "id": "DbVTXkEnydv3"
      },
      "source": [
        "## NN stuff here"
      ]
    },
    {
      "cell_type": "code",
      "metadata": {
        "id": "CY5agDS6ydI7"
      },
      "source": [
        "from torch import nn\n",
        "from skorch import NeuralNetRegressor\n",
        "\n",
        "class MultivariateLinearRegression(nn.Module):\n",
        "    def __init__(self, input = 8, output=1, num_units=10, nonlin=nn.LeakyReLU()):\n",
        "          super(MultivariateLinearRegression, self).__init__()\n",
        "          self.dense0 = nn.Linear(input, num_units)\n",
        "          self.nonlin = nonlin\n",
        "          self.dropout = nn.Dropout(0.1)\n",
        "          self.output = nn.Linear(num_units, output)\n",
        "    def forward(self, X):\n",
        "          X = self.nonlin(self.dense0(X))\n",
        "          X = self.dropout(X)\n",
        "          X = self.output(X)\n",
        "          return X\n",
        "    def num_parameters(self):\n",
        "      return sum(p.numel() for p in self.parameters() if p.requires_grad) #only trainable params\n",
        "      \n",
        "\n",
        "\n",
        "## single variable \n",
        "net = NeuralNetRegressor(\n",
        "    MultivariateLinearRegression().double(),\n",
        "    iterator_train__shuffle = False,\n",
        "    train_split = False,\n",
        "    verbose = 0)\n",
        "\n",
        "myNN_reg = make_pipeline(StandardScaler(), net)\n",
        "\n",
        "params = {\n",
        "    'neuralnetregressor__lr': [0.001, 0.002, 0.003],\n",
        "    'neuralnetregressor__max_epochs': [10, 20, 30]\n",
        "}\n",
        "myNN_reg = GridSearchCV(myNN_reg, params)\n",
        "\n",
        "\n",
        "\n",
        "\n",
        "## multivariate variable \n",
        "net2 = NeuralNetRegressor(\n",
        "    MultivariateLinearRegression(output=2).double(),\n",
        "    iterator_train__shuffle = False,\n",
        "    train_split = False,\n",
        "    verbose = 0)\n",
        "\n",
        "myNN_reg2 = make_pipeline(StandardScaler(), net2)\n",
        "\n",
        "params = {\n",
        "    'neuralnetregressor__lr': [0.001, 0.002, 0.003],\n",
        "    'neuralnetregressor__max_epochs': [10, 20, 30]\n",
        "}\n",
        "myNN_reg2 = GridSearchCV(myNN_reg2, params)\n"
      ],
      "execution_count": 18,
      "outputs": []
    },
    {
      "cell_type": "markdown",
      "metadata": {
        "id": "SZT2JZe0Kg8Z"
      },
      "source": [
        "## overfit criteria "
      ]
    },
    {
      "cell_type": "code",
      "metadata": {
        "id": "3Q2dD_a2Kgfy"
      },
      "source": [
        "# calculate aic for regression\n",
        "def calculate_aic(n, mse, num_params):\n",
        "\taic = n * log(mse) + 2 * num_params\n",
        "\treturn aic\n",
        "\n",
        "\n",
        "# calculate bic for regression\n",
        "def calculate_bic(n, mse, num_params):\n",
        "\tbic = n * log(mse) + num_params * log(n)\n",
        "\treturn bic"
      ],
      "execution_count": 19,
      "outputs": []
    },
    {
      "cell_type": "markdown",
      "metadata": {
        "id": "n0PMkxpX5zOk"
      },
      "source": [
        "# Training loop w/ cross-validation "
      ]
    },
    {
      "cell_type": "code",
      "metadata": {
        "colab": {
          "base_uri": "https://localhost:8080/"
        },
        "id": "pkC4fqXe5yVG",
        "outputId": "d93fccc9-088a-4040-bd65-ee0a3eae85e6"
      },
      "source": [
        "from tqdm import tqdm\n",
        "import warnings\n",
        "from sklearn.exceptions import ConvergenceWarning\n",
        "warnings.filterwarnings(\"ignore\", category=FutureWarning)\n",
        "warnings.filterwarnings(\"ignore\", category=ConvergenceWarning)\n",
        "warnings.filterwarnings(\"ignore\", category=UserWarning)\n",
        "\n",
        "##function to help store history and metrics of each cross validation run\n",
        "history = dict()\n",
        "\n",
        "def append_history(history, algorithm, name, X_test, Y_test, num_parameters):\n",
        "    #calculate performance metrics\n",
        "    Y_pred = algorithm.predict(X_test)\n",
        "    score = algorithm.score(X_test, Y_test)\n",
        "    #if dict does not contain current alg, create a key\n",
        "    if name not in history.keys(): \n",
        "        history[name] = {\"num_parameters\": num_parameters, \"mse\": [],\"mae\": [], \"Rmse\":[], \"r2\": [], \"sigmas\":[], \"predictions\": [], \"actual\": []}\n",
        "    #store preformance metrics & history\n",
        "    history[name][\"mse\"].append(mean_squared_error(Y_test, Y_pred))\n",
        "    history[name][\"Rmse\"].append(mean_squared_error(Y_test, Y_pred, squared=False))\n",
        "    history[name][\"mae\"].append(mean_absolute_error(Y_test, Y_pred))\n",
        "    history[name][\"r2\"].append(score)\n",
        "    history[name][\"predictions\"].append(Y_pred)\n",
        "    history[name][\"actual\"].append(Y_test)\n",
        "    if name == \"Uni_GP\":  \n",
        "        #MANUALLY SCALE\n",
        "        scalX_test = algorithm.best_estimator_[0].transform(X_test)\n",
        "        print(scalX_test.shape)\n",
        "        _, sigma = algorithm.best_estimator_[1].predict(scalX_test, return_std=True)\n",
        "        history[name][\"sigmas\"].append(sigma)\n",
        "    return history\n",
        "\n",
        "\n",
        "\n",
        "X_columns  = [\"415.0\",\"445.0\",\"480.0\", \"515.0\", \"555.0\", \"590.0\", \"630.0\", \"680.0\"]\n",
        "# X_columns  = [\"mu1\",\"mu2\",\"co1\", \"co2\"]\n",
        "Y1_columns = [\"# emitters λ1 (x1010)\"]\n",
        "Y2_columns = [\"# emitters λ2 (x1010)\"]\n",
        "Y_columns  = [\"# emitters λ1 (x1010)\", \"# emitters λ2 (x1010)\"]\n",
        "\n",
        "##For Cross validations \n",
        "n_splits = 10\n",
        "kf = KFold(n_splits=n_splits, random_state=42, shuffle=True) # Define the split - into 10 folds \n",
        "\n",
        "##A progress bar because Im fancy\n",
        "pbar = tqdm(total=100,position=0, leave=True)\n",
        "\n",
        "##MAIN LOOP\n",
        "for train_index, test_index in kf.split(df):\n",
        "    X_train, X_test = df.loc[train_index, X_columns], df.loc[test_index, X_columns]\n",
        "    Y_train, Y_test = df.loc[train_index, Y2_columns], df.loc[test_index, Y2_columns]\n",
        "    Y_train_both, Y_test_both = df.loc[train_index, Y_columns], df.loc[test_index, Y_columns]\n",
        "\n",
        "    ### Gaussian process regression \n",
        "    # Fit to data using Maximum Likelihood Estimation of the parameters\n",
        "    gp.fit(X_train, Y_train.values)\n",
        "    history = append_history(history, gp, \"Uni_GP\", X_test, Y_test, num_parameters = len(gp.best_estimator_[1].kernel.hyperparameters) + 1)\n",
        "\n",
        "    ##NN Regressor multivariate\n",
        "    myNN_reg2.fit(X_train, Y_train_both.values)\n",
        "    history = append_history(history, myNN_reg2, \"Multi_NN\", X_test, Y_test_both, num_parameters = myNN_reg2.best_estimator_[1].module_.num_parameters() + 1)\n",
        "    ##LINEAR REGRESSION\n",
        "    lr_reg.fit(X_train, Y_train.values.ravel())\n",
        "    history = append_history(history, lr_reg, \"Uni_LR\", X_test, Y_test, num_parameters = len(lr_reg[0].coef_) + 1)\n",
        "\n",
        "    ##RandomForestRegressor\n",
        "    rf_reg.fit(X_train, Y_train.values.ravel())\n",
        "    history = append_history(history, rf_reg, \"rf_reg\", X_test, Y_test, num_parameters = 1 + 1)\n",
        "\n",
        "    ##Support Vecotor Regressor \n",
        "    svr.fit(X_train, Y_train.values.ravel())\n",
        "    history = append_history(history, svr, \"Uni_SVR\", X_test, Y_test, num_parameters = len(svr.best_estimator_[1].coef_) + 1)\n",
        "\n",
        "    ##NN Regressor\n",
        "    myNN_reg.fit(X_train, Y_train.values)\n",
        "    history = append_history(history, myNN_reg, \"Uni_NN\", X_test, Y_test, num_parameters = myNN_reg.best_estimator_[1].module_.num_parameters()  + 1)\n",
        "\n",
        "\n",
        "\n",
        "    pbar.update(10)\n",
        "pbar.close()\n",
        "\n",
        "print('\\n')\n",
        "for i in history.keys():\n",
        "    print('\\n', i,\" : \", sum(history[i][\"mse\"]) / len(history[i][\"mse\"]))\n",
        "    print('\\n', i,\" : \", sum(history[i][\"mae\"]) / len(history[i][\"mae\"]))\n",
        "    print('\\n', i,\" : \", sum(history[i][\"r2\"]) / len(history[i][\"r2\"]))\n",
        "    print('\\n', i,\" : \", sum(history[i][\"Rmse\"]) / len(history[i][\"Rmse\"]))\n",
        "\n",
        "    print(\"---\")\n",
        "\n",
        "# num_params = len(gp.best_estimator_[1].coef_) + 1\n",
        "# print(calculate_bic(len(Y_test), history[\"linear_regression\"][\"mse\"], num_params))\n",
        "\n",
        "# print(gp.params)\n",
        "\n"
      ],
      "execution_count": 20,
      "outputs": [
        {
          "metadata": {
            "tags": null
          },
          "name": "stderr",
          "output_type": "stream",
          "text": [
            "  0%|          | 0/100 [02:46<?, ?it/s]\n"
          ]
        },
        {
          "metadata": {
            "tags": null
          },
          "name": "stdout",
          "output_type": "stream",
          "text": [
            "(34, 8)\n"
          ]
        },
        {
          "metadata": {
            "tags": null
          },
          "name": "stderr",
          "output_type": "stream",
          "text": [
            "\r 10%|█         | 10/100 [02:21<21:15, 14.17s/it]"
          ]
        },
        {
          "metadata": {
            "tags": null
          },
          "name": "stdout",
          "output_type": "stream",
          "text": [
            "(34, 8)\n"
          ]
        },
        {
          "metadata": {
            "tags": null
          },
          "name": "stderr",
          "output_type": "stream",
          "text": [
            "\r 20%|██        | 20/100 [04:46<19:06, 14.33s/it]"
          ]
        },
        {
          "metadata": {
            "tags": null
          },
          "name": "stdout",
          "output_type": "stream",
          "text": [
            "(33, 8)\n"
          ]
        },
        {
          "metadata": {
            "tags": null
          },
          "name": "stderr",
          "output_type": "stream",
          "text": [
            "\r 30%|███       | 30/100 [07:09<16:42, 14.32s/it]"
          ]
        },
        {
          "metadata": {
            "tags": null
          },
          "name": "stdout",
          "output_type": "stream",
          "text": [
            "(33, 8)\n"
          ]
        },
        {
          "metadata": {
            "tags": null
          },
          "name": "stderr",
          "output_type": "stream",
          "text": [
            "\r 40%|████      | 40/100 [09:40<14:37, 14.63s/it]"
          ]
        },
        {
          "metadata": {
            "tags": null
          },
          "name": "stdout",
          "output_type": "stream",
          "text": [
            "(33, 8)\n"
          ]
        },
        {
          "metadata": {
            "tags": null
          },
          "name": "stderr",
          "output_type": "stream",
          "text": [
            "\r 50%|█████     | 50/100 [12:02<12:04, 14.49s/it]"
          ]
        },
        {
          "metadata": {
            "tags": null
          },
          "name": "stdout",
          "output_type": "stream",
          "text": [
            "(33, 8)\n"
          ]
        },
        {
          "metadata": {
            "tags": null
          },
          "name": "stderr",
          "output_type": "stream",
          "text": [
            "\r 60%|██████    | 60/100 [14:29<09:41, 14.55s/it]"
          ]
        },
        {
          "output_type": "stream",
          "name": "stdout",
          "text": [
            "(33, 8)\n"
          ]
        },
        {
          "output_type": "stream",
          "name": "stderr",
          "text": [
            "\r 70%|███████   | 70/100 [16:59<07:21, 14.70s/it]"
          ]
        },
        {
          "output_type": "stream",
          "name": "stdout",
          "text": [
            "(33, 8)\n"
          ]
        },
        {
          "output_type": "stream",
          "name": "stderr",
          "text": [
            "\r 80%|████████  | 80/100 [19:22<04:51, 14.57s/it]"
          ]
        },
        {
          "output_type": "stream",
          "name": "stdout",
          "text": [
            "(33, 8)\n"
          ]
        },
        {
          "output_type": "stream",
          "name": "stderr",
          "text": [
            "\r 90%|█████████ | 90/100 [22:02<02:30, 15.03s/it]"
          ]
        },
        {
          "output_type": "stream",
          "name": "stdout",
          "text": [
            "(33, 8)\n"
          ]
        },
        {
          "output_type": "stream",
          "name": "stderr",
          "text": [
            "100%|██████████| 100/100 [24:42<00:00, 14.82s/it]"
          ]
        },
        {
          "output_type": "stream",
          "name": "stdout",
          "text": [
            "\n",
            "\n",
            "\n",
            " Uni_GP  :  3.78843069783983\n",
            "\n",
            " Uni_GP  :  0.8674333208987817\n",
            "\n",
            " Uni_GP  :  0.9949122468785359\n",
            "\n",
            " Uni_GP  :  1.8237732200197505\n",
            "---\n",
            "\n",
            " Multi_NN  :  15.895522409126007\n",
            "\n",
            " Multi_NN  :  2.5732787031809687\n",
            "\n",
            " Multi_NN  :  0.9786479066346114\n",
            "\n",
            " Multi_NN  :  3.868087747845908\n",
            "---\n",
            "\n",
            " Uni_LR  :  5.957619245882973\n",
            "\n",
            " Uni_LR  :  1.2718875420382432\n",
            "\n",
            " Uni_LR  :  0.9902745201030335\n",
            "\n",
            " Uni_LR  :  2.26787410184278\n",
            "---\n",
            "\n",
            " rf_reg  :  1.539985745422815\n",
            "\n",
            " rf_reg  :  0.4748780190422841\n",
            "\n",
            " rf_reg  :  0.9975749274472203\n",
            "\n",
            " rf_reg  :  1.1049754304205712\n",
            "---\n",
            "\n",
            " Uni_SVR  :  4.504633291936926\n",
            "\n",
            " Uni_SVR  :  1.0518447184768338\n",
            "\n",
            " Uni_SVR  :  0.9933959007325381\n",
            "\n",
            " Uni_SVR  :  2.0264944394690922\n",
            "---\n",
            "\n",
            " Uni_NN  :  8.778374225709381\n",
            "\n",
            " Uni_NN  :  1.9300583717714317\n",
            "\n",
            " Uni_NN  :  0.9874301985922098\n",
            "\n",
            " Uni_NN  :  2.8826234929062995\n",
            "---\n"
          ]
        },
        {
          "output_type": "stream",
          "name": "stderr",
          "text": [
            "\n"
          ]
        }
      ]
    },
    {
      "cell_type": "code",
      "metadata": {
        "colab": {
          "base_uri": "https://localhost:8080/"
        },
        "id": "w5owxRd0b5hN",
        "outputId": "c126d373-30ad-48c7-84d3-d26b8a1f0c62"
      },
      "source": [
        "gp.best_estimator_[1]"
      ],
      "execution_count": 21,
      "outputs": [
        {
          "output_type": "execute_result",
          "data": {
            "text/plain": [
              "GaussianProcessRegressor(copy_X_train=False,\n",
              "                         kernel=RBF(length_scale=1) + RBF(length_scale=1) + RBF(length_scale=1) + RBF(length_scale=1),\n",
              "                         n_restarts_optimizer=20, normalize_y=True)"
            ]
          },
          "metadata": {},
          "execution_count": 21
        }
      ]
    },
    {
      "cell_type": "code",
      "metadata": {
        "colab": {
          "base_uri": "https://localhost:8080/",
          "height": 389
        },
        "id": "tH-Nf9sZfZHR",
        "outputId": "5a2f809e-3162-4e20-edac-c3b51fc37312"
      },
      "source": [
        "def export_results(history):\n",
        "    #initialize\n",
        "    d = {}\n",
        "    columns = [\"mse\", \"r2\", \"num_parameters\"]\n",
        "    #do\n",
        "    for c in columns:\n",
        "        d[c] = []\n",
        "        for name in history.keys():\n",
        "            d[c].append(sum(history[name][c]) / len(history[name][c]))\n",
        "    return d\n",
        "\n",
        "# print(history.keys())\n",
        "\n",
        "d = export_results(history)\n",
        "\n",
        "\n",
        "#manually add best estimators since each model requires different call\n",
        "d[\"best_estimator\"] = [str(gp.best_estimator_[1]).replace(\"\\n\",\"\").replace(\" \",\"\"),\n",
        "                       str(myNN_reg.best_estimator_[1].module_).replace(\"\\n\",\"\").replace(\" \",\"\"),\n",
        "                       str(myNN_reg2.best_estimator_[1].module_).replace(\"\\n\",\"\").replace(\" \",\"\"),\n",
        "                       str(lr_reg[0]).replace(\"\\n\",\"\").replace(\" \",\"\"),\n",
        "                       str(svr.best_estimator_[1]).replace(\"\\n\",\"\").replace(\" \",\"\"),\n",
        "                       str(rf_reg.best_estimator_[1]).replace(\"\\n\",\"\").replace(\" \",\"\")]\n",
        "\n",
        "\n",
        "Mdf = pd.DataFrame(data=d, index=list(history.keys()))\n",
        "\n",
        "Mdf.to_excel(\"tet.xlsx\")\n",
        "\n",
        "Mdf"
      ],
      "execution_count": 22,
      "outputs": [
        {
          "output_type": "error",
          "ename": "TypeError",
          "evalue": "ignored",
          "traceback": [
            "\u001b[0;31m---------------------------------------------------------------------------\u001b[0m",
            "\u001b[0;31mTypeError\u001b[0m                                 Traceback (most recent call last)",
            "\u001b[0;32m<ipython-input-22-dbfb27094d8a>\u001b[0m in \u001b[0;36m<module>\u001b[0;34m()\u001b[0m\n\u001b[1;32m     12\u001b[0m \u001b[0;31m# print(history.keys())\u001b[0m\u001b[0;34m\u001b[0m\u001b[0;34m\u001b[0m\u001b[0;34m\u001b[0m\u001b[0m\n\u001b[1;32m     13\u001b[0m \u001b[0;34m\u001b[0m\u001b[0m\n\u001b[0;32m---> 14\u001b[0;31m \u001b[0md\u001b[0m \u001b[0;34m=\u001b[0m \u001b[0mexport_results\u001b[0m\u001b[0;34m(\u001b[0m\u001b[0mhistory\u001b[0m\u001b[0;34m)\u001b[0m\u001b[0;34m\u001b[0m\u001b[0;34m\u001b[0m\u001b[0m\n\u001b[0m\u001b[1;32m     15\u001b[0m \u001b[0;34m\u001b[0m\u001b[0m\n\u001b[1;32m     16\u001b[0m \u001b[0;34m\u001b[0m\u001b[0m\n",
            "\u001b[0;32m<ipython-input-22-dbfb27094d8a>\u001b[0m in \u001b[0;36mexport_results\u001b[0;34m(history)\u001b[0m\n\u001b[1;32m      7\u001b[0m         \u001b[0md\u001b[0m\u001b[0;34m[\u001b[0m\u001b[0mc\u001b[0m\u001b[0;34m]\u001b[0m \u001b[0;34m=\u001b[0m \u001b[0;34m[\u001b[0m\u001b[0;34m]\u001b[0m\u001b[0;34m\u001b[0m\u001b[0;34m\u001b[0m\u001b[0m\n\u001b[1;32m      8\u001b[0m         \u001b[0;32mfor\u001b[0m \u001b[0mname\u001b[0m \u001b[0;32min\u001b[0m \u001b[0mhistory\u001b[0m\u001b[0;34m.\u001b[0m\u001b[0mkeys\u001b[0m\u001b[0;34m(\u001b[0m\u001b[0;34m)\u001b[0m\u001b[0;34m:\u001b[0m\u001b[0;34m\u001b[0m\u001b[0;34m\u001b[0m\u001b[0m\n\u001b[0;32m----> 9\u001b[0;31m             \u001b[0md\u001b[0m\u001b[0;34m[\u001b[0m\u001b[0mc\u001b[0m\u001b[0;34m]\u001b[0m\u001b[0;34m.\u001b[0m\u001b[0mappend\u001b[0m\u001b[0;34m(\u001b[0m\u001b[0msum\u001b[0m\u001b[0;34m(\u001b[0m\u001b[0mhistory\u001b[0m\u001b[0;34m[\u001b[0m\u001b[0mname\u001b[0m\u001b[0;34m]\u001b[0m\u001b[0;34m[\u001b[0m\u001b[0mc\u001b[0m\u001b[0;34m]\u001b[0m\u001b[0;34m)\u001b[0m \u001b[0;34m/\u001b[0m \u001b[0mlen\u001b[0m\u001b[0;34m(\u001b[0m\u001b[0mhistory\u001b[0m\u001b[0;34m[\u001b[0m\u001b[0mname\u001b[0m\u001b[0;34m]\u001b[0m\u001b[0;34m[\u001b[0m\u001b[0mc\u001b[0m\u001b[0;34m]\u001b[0m\u001b[0;34m)\u001b[0m\u001b[0;34m)\u001b[0m\u001b[0;34m\u001b[0m\u001b[0;34m\u001b[0m\u001b[0m\n\u001b[0m\u001b[1;32m     10\u001b[0m     \u001b[0;32mreturn\u001b[0m \u001b[0md\u001b[0m\u001b[0;34m\u001b[0m\u001b[0;34m\u001b[0m\u001b[0m\n\u001b[1;32m     11\u001b[0m \u001b[0;34m\u001b[0m\u001b[0m\n",
            "\u001b[0;31mTypeError\u001b[0m: 'int' object is not iterable"
          ]
        }
      ]
    },
    {
      "cell_type": "markdown",
      "metadata": {
        "id": "sRwyDtwtGKiJ"
      },
      "source": [
        "# Plot each CV split validation on same plot predicted vs actual"
      ]
    },
    {
      "cell_type": "code",
      "metadata": {
        "id": "VSJR4Z6x54T2",
        "colab": {
          "base_uri": "https://localhost:8080/",
          "height": 1000
        },
        "outputId": "d19c2bc6-42f3-4698-de92-e211a4cf58a9"
      },
      "source": [
        "import numpy as np\n",
        "names = list(history.keys())\n",
        "\n",
        "n_splits = 10\n",
        "\n",
        "#perfect plot\n",
        "perfect_plot = {\"legend\": \"actuals\", \n",
        "                \"x\": list(np.linspace(0, 100, num=1000, endpoint=True)), \n",
        "                \"y\": list(np.linspace(0, 100, num=1000, endpoint=True)),\n",
        "                \"marker_symbol\": 'line-ne-open'}\n",
        "for alg in names:\n",
        "  X,Y = [], []           \n",
        "  for i in range(n_splits):\n",
        "      X = X + list(history[alg][\"actual\"][i].values.ravel())\n",
        "      Y = Y + list(history[alg][\"predictions\"][i].ravel())\n",
        "\n",
        "  current_plot = {\"legend\": \"predictions\", \n",
        "                  \"x\": X, \n",
        "                  \"y\": Y,\n",
        "                  \"marker_symbol\": 'star'}\n",
        "  \n",
        "  np.savetxt(\"X_\" + alg + \".csv\", X, delimiter=\",\")\n",
        "  np.savetxt(\"Y_\" + alg + \".csv\", Y, delimiter=\",\")\n",
        "\n",
        "  plot([current_plot, perfect_plot], alg + \" predicted v actual\")\n",
        "\n",
        "  print(\"pred size x \" + str(len(X)) + \" pred size y: \" + str(len(Y)))"
      ],
      "execution_count": 23,
      "outputs": [
        {
          "output_type": "display_data",
          "data": {
            "text/html": [
              "<html>\n",
              "<head><meta charset=\"utf-8\" /></head>\n",
              "<body>\n",
              "    <div>            <script src=\"https://cdnjs.cloudflare.com/ajax/libs/mathjax/2.7.5/MathJax.js?config=TeX-AMS-MML_SVG\"></script><script type=\"text/javascript\">if (window.MathJax) {MathJax.Hub.Config({SVG: {font: \"STIX-Web\"}});}</script>                <script type=\"text/javascript\">window.PlotlyConfig = {MathJaxConfig: 'local'};</script>\n",
              "        <script src=\"https://cdn.plot.ly/plotly-2.8.3.min.js\"></script>                <div id=\"2f7ecb4c-1fa9-4beb-99a0-b939638028a4\" class=\"plotly-graph-div\" style=\"height:525px; width:100%;\"></div>            <script type=\"text/javascript\">                                    window.PLOTLYENV=window.PLOTLYENV || {};                                    if (document.getElementById(\"2f7ecb4c-1fa9-4beb-99a0-b939638028a4\")) {                    Plotly.newPlot(                        \"2f7ecb4c-1fa9-4beb-99a0-b939638028a4\",                        [{\"error_y\":{\"array\":[],\"type\":\"data\",\"visible\":true},\"marker\":{\"size\":5,\"symbol\":\"star\"},\"mode\":\"markers\",\"name\":\"predictions\",\"x\":[0.0,0.0,0.0,0.0,0.903321,18.06642,0.0,9.03321,0.903321,0.0,0.0,0.0,0.0,0.0,1.0839852,90.3321,90.3321,0.0,90.3321,0.0,9.03321,0.0,18.06642,0.0,0.0,0.0,0.4516605,0.0,0.0,0.0,58.715865,27.09963,27.09963,27.09963,0.0,0.0,0.0,0.0,90.3321,18.06642,18.06642,1.806642,0.903321,18.06642,9.03321,0.0,0.0,0.0,0.0,0.0,90.3321,0.5419926,0.0,0.903321,0.0,90.3321,0.5419926,0.0,0.5419926,0.0,0.5419926,1.806642,9.03321,45.16605,18.06642,9.03321,3.613284,54.19926,0.0,0.0,0.0,0.0,0.0,0.0,0.0,0.903321,9.03321,1.806642,0.5419926,0.0,0.0,0.0,0.0,36.13284,0.0,90.3321,0.0,0.5419926,0.903321,0.5419926,0.5419926,0.903321,18.06642,4.516605,4.516605,4.516605,0.0,54.19926,58.715865,27.09963,72.26568,0.0,0.0,0.0,90.3321,1.806642,90.3321,90.3321,90.3321,0.0,1.806642,0.0,0.0,0.0,0.0,0.0,0.0,0.0,90.3321,90.3321,90.3321,0.0,18.06642,0.5419926,0.0,0.0,0.5419926,0.5419926,18.06642,1.806642,18.06642,0.0,58.715865,58.715865,0.0,0.0,0.0,90.3321,0.903321,0.0,0.0,0.0,0.0,0.0,0.0,90.3321,0.0,90.3321,0.0,90.3321,0.0,18.06642,0.5419926,0.5419926,0.5419926,0.903321,9.03321,18.06642,0.0,0.0,0.0,1.806642,18.06642,18.06642,0.903321,0.0,27.09963,0.0,0.0,0.0,0.0,0.0,18.06642,0.0,0.0,18.06642,0.0,0.903321,0.0,0.0,0.0,0.0,0.0,0.0,36.13284,0.0,0.0,90.3321,0.903321,1.806642,0.5419926,0.0,0.0,45.16605,4.516605,18.06642,9.03321,0.0,54.19926,27.09963,0.0,0.0,0.0,90.3321,18.06642,9.03321,0.0,0.5419926,0.0,0.0,0.0,0.0,0.0,1.0839852,36.13284,90.3321,90.3321,0.5419926,9.03321,90.3321,0.0,0.5419926,0.5419926,0.0,90.3321,0.0,0.0,18.06642,3.613284,0.0,0.903321,54.19926,27.09963,0.0,0.0,0.0,0.0,0.0,0.0,90.3321,0.903321,0.903321,0.0,0.0,1.0839852,0.0,90.3321,90.3321,0.0,0.5419926,0.5419926,0.5419926,0.5419926,1.806642,9.03321,0.0,90.3321,4.516605,0.4516605,0.0,0.0,0.0,3.613284,0.0,54.19926,72.26568,0.0,0.0,0.0,0.0,9.03321,0.0,1.806642,1.806642,0.5419926,0.0,0.0,0.0,90.3321,90.3321,0.0,90.3321,0.0,0.5419926,0.5419926,0.5419926,0.903321,1.806642,0.0,0.0,4.516605,0.0,0.0,0.4516605,0.903321,0.0,27.09963,27.09963,27.09963,0.0,0.0,0.0,9.03321,1.806642,0.903321,18.06642,0.0,0.0,0.0,0.0,0.0,0.0,0.0,90.3321,0.0,0.0,0.0,1.806642,1.806642,0.0,9.03321,0.0,0.0,0.0,90.3321,45.16605,0.0,1.806642,9.03321,0.0,0.0,0.0],\"y\":[-0.029264679869321242,-5.1142839296858256e-08,-0.00900095789269173,-0.3740380592768222,0.3943111009849751,18.07843419337131,-3.945926430048985e-08,9.027834122700924,1.1558270667775385,-0.0059208251877667095,-0.013563467318771671,0.0062639714056604845,0.0001229621847738116,-1.0242107500480966,1.0839843837425764,92.33537377495497,92.95038471743044,1.1707119540460553e-07,92.58438699712586,1.1707119540460553e-07,10.265448351430056,1.1707119540460553e-07,19.082909018258764,1.1707119540460553e-07,1.1707119540460553e-07,1.1707119540460553e-07,1.4630597194032635,0.8282063636384862,0.9199073717370752,0.9354141511926528,58.27106466528569,27.92994894710752,28.587889515520118,27.919911055647564,-0.08844326068864028,2.8279716713374796,2.4614054074830296,3.8163992206463604e-05,84.13189204984528,17.909014445516085,18.13652978562237,1.7674048923933388,0.9033234383167965,17.98120080866865,9.014998373661921,0.28370443184049066,0.890252253080698,0.28156349461038843,-0.02931722923969282,0.12934848857548964,90.65220865344409,2.4629867563239127,1.8332781159813294e-07,3.5475215300844596,1.8332781159813294e-07,85.36453000282404,0.33160435736171934,1.8332781159813294e-07,2.5292890395818173,1.8332781159813294e-07,2.048944218577452,0.5655020599135288,9.223151130809597,47.18912584832678,17.342244394584252,9.420526694862874,2.9845342410151954,52.569036089276516,0.38725163544431673,1.7311521867447368,-8.821910313372427e-08,0.2816424819236971,-0.017645935105438326,-0.00021507868008008302,-0.017010609066529625,0.903321624294378,9.059118043722492,1.798445366391345,0.5454572653831207,0.49281621601296877,4.189829031275849e-06,0.12846800206217068,0.10688073554725541,28.141010390400773,-8.47472946752248e-06,92.41793588562162,1.3992817162744586e-06,3.5486725801162997,3.219576735501029,0.8641976751211917,0.4897557740292964,1.3604912318479734,17.648233557326638,4.545504224020506,4.777760280967584,4.8729882310077315,-0.03478119654062617,52.72622908157385,58.10337808914359,26.043571079717005,59.420678092180395,0.07552029139229965,0.028408083705242504,1.3312164077096753,89.86888012279714,1.7635126115653161,90.43550802651548,84.3903172507937,82.9783195562951,4.78842840934135e-07,1.8229904907141492,1.4792290785820938,4.78842840934135e-07,0.14419119201326325,0.04285180925024257,0.19149022013810502,-9.309623365538755e-07,4.80410207615023e-07,90.5884987741304,87.99504800365972,91.06934500887746,3.794121194999889e-07,19.5771959757273,0.7047468758279365,3.794121194999889e-07,3.794121194999889e-07,1.8942513450858005,0.5546091141599039,15.01958784841249,1.7106767128342213,16.39884441877995,0.018692509796347068,59.57129098816353,59.29970590057614,3.5537134124297154e-08,0.08480133915464094,-5.04747196927724e-07,86.79109249094273,0.9033210012699282,0.042727879117054,-0.1230275438976971,-5.04747196927724e-07,-2.6593917290540503e-07,2.372553744578454e-07,2.372553744578454e-07,90.1989217637936,-5.04747196927724e-07,89.49810581323266,2.372553744578454e-07,84.15960465433841,2.889863477406607e-07,19.680767108406027,0.5094437290638894,0.8137386828944901,2.0147553053057443,0.926598787492571,9.228965900279913,17.92806306971202,2.372553744578454e-07,2.372553744578454e-07,1.200623884756169e-06,3.14696187211047,16.6626887479647,17.04505577169444,2.0647906518143984,1.8025894361318748,27.17449681438449,0.47558098249179004,0.48014048976757806,5.57703341286242e-08,0.0001901212399939567,-0.10202777440971467,17.691619043612345,6.8328951030594e-07,6.8328951030594e-07,17.564314501600194,5.57703341286242e-08,3.242875516569237,-1.7608798827950523e-06,4.353915414867515e-07,5.57703341286242e-08,0.13695964431003738,0.18947796913892923,1.1290239737784251,35.23878687089798,-2.426719937886901e-06,4.353915414867515e-07,85.7293671384284,4.368988888694565,4.398619745872361,1.6711225819957285,4.353915414867515e-07,4.353915414867515e-07,46.605041381169954,6.043609392685459,17.11522039026678,9.8104358324486,1.5445524862223206,50.7345500451405,24.920645365252334,-9.424965270454777e-07,0.0177780507819989,-0.11157616692930006,85.9420283978572,17.699511975915364,9.033256654218015,2.185978722479831e-07,0.5706234805435884,1.1103841000890657,1.2692381151443985,-0.08396022247397283,0.0017638942202982122,-0.13408510886990577,1.0839835993354026,35.867418681696314,90.81801059175292,78.01125014564408,2.747587091707084,9.276331678182117,84.75248599333223,-7.319191190902075e-07,0.4321377554747752,0.678127233656971,-7.319191190902075e-07,88.68461997630106,0.2832620327907165,0.1350372041308745,17.201695469156977,4.008564851675967,-0.003981419309621259,2.4611482272672642,53.501368739449234,26.33549605939679,0.11799931617037984,3.4034687569870083,0.002309408097152854,0.5254133860835513,0.010159026331502119,-0.0002781390560269159,87.02197396648843,0.3666380394284534,0.8685802180375042,0.6132578970260774,0.00011665626900203563,-0.03960419761012446,3.4703620066522944e-07,90.178689367712,91.35761807190188,3.683660967368496e-07,0.9305355179783934,1.1968940563195432,2.0332724637593653,0.5279369781235008,2.7325379377226557,8.748615351071212,3.683660967368496e-07,86.90232603390659,6.061830407203777,2.0337007662914033,0.005750654474962147,0.002163365574881837,0.02324193780009054,3.3515279680050174,2.4234152663908013,53.82883894121405,57.950181497999324,2.2075767894550165,2.316036716392194,-2.3677101506081044e-06,6.477786183012313e-07,9.065583440559418,6.477786183012313e-07,1.8463487715645766,6.7433686022688,0.4050536204510884,-2.3677101506081044e-06,0.5101031877614925,-2.3677101506081044e-06,91.74584387492736,93.13853294149267,-5.898734496412317e-07,82.44116850348784,-5.865552683559372e-07,0.595561263378741,0.540149044638655,0.40307539378687807,0.7749748964406677,0.6714722423291448,-5.898734496412317e-07,-1.6068176353911667e-06,4.465504614668747,0.03532362426684088,-1.6068176353911667e-06,1.2188480164139381,0.3128082158154317,1.746430431289136,27.389799525200644,25.980162313143097,26.807852346371988,0.19890391796172047,0.6144077946670627,1.0350753498755694e-07,9.012480167016259,1.7668297595151206,0.9033210045257078,15.669168689746638,-3.541918900396013e-07,0.2587502492628051,-3.541918900396013e-07,0.07839823709033489,0.343566032605791,1.0350753498755694e-07,3.217637924990413e-07,90.7965441670422,8.659519679099503e-08,-4.5539133619598715e-06,-4.5539133619598715e-06,3.481092077032981,4.006208854916647,-4.5539133619598715e-06,9.914601786991277,3.217637924990413e-07,3.217637924990413e-07,-3.541918900396013e-07,89.92771439028215,46.41037916668444,3.217637924990413e-07,2.237109166057337,8.613368725145337,1.612145017430068,0.49919631625484406,-0.8526506816892265],\"type\":\"scatter\"},{\"error_y\":{\"array\":[],\"type\":\"data\",\"visible\":true},\"marker\":{\"size\":5,\"symbol\":\"line-ne-open\"},\"mode\":\"markers\",\"name\":\"actuals\",\"x\":[0.0,0.1001001001001001,0.2002002002002002,0.3003003003003003,0.4004004004004004,0.5005005005005005,0.6006006006006006,0.7007007007007008,0.8008008008008008,0.9009009009009009,1.001001001001001,1.1011011011011012,1.2012012012012012,1.3013013013013013,1.4014014014014016,1.5015015015015016,1.6016016016016017,1.7017017017017018,1.8018018018018018,1.9019019019019021,2.002002002002002,2.1021021021021022,2.2022022022022023,2.3023023023023024,2.4024024024024024,2.5025025025025025,2.6026026026026026,2.702702702702703,2.802802802802803,2.902902902902903,3.0030030030030033,3.1031031031031033,3.2032032032032034,3.3033033033033035,3.4034034034034035,3.5035035035035036,3.6036036036036037,3.7037037037037037,3.8038038038038042,3.9039039039039043,4.004004004004004,4.104104104104104,4.2042042042042045,4.3043043043043046,4.404404404404405,4.504504504504505,4.604604604604605,4.704704704704705,4.804804804804805,4.904904904904905,5.005005005005005,5.105105105105105,5.205205205205205,5.305305305305305,5.405405405405406,5.505505505505506,5.605605605605606,5.705705705705706,5.805805805805806,5.9059059059059065,6.0060060060060065,6.106106106106107,6.206206206206207,6.306306306306307,6.406406406406407,6.506506506506507,6.606606606606607,6.706706706706707,6.806806806806807,6.906906906906907,7.007007007007007,7.107107107107107,7.207207207207207,7.307307307307307,7.407407407407407,7.507507507507508,7.6076076076076085,7.7077077077077085,7.807807807807809,7.907907907907909,8.008008008008009,8.108108108108109,8.208208208208209,8.308308308308309,8.408408408408409,8.508508508508509,8.608608608608609,8.70870870870871,8.80880880880881,8.90890890890891,9.00900900900901,9.10910910910911,9.20920920920921,9.30930930930931,9.40940940940941,9.50950950950951,9.60960960960961,9.70970970970971,9.80980980980981,9.90990990990991,10.01001001001001,10.11011011011011,10.21021021021021,10.31031031031031,10.41041041041041,10.51051051051051,10.61061061061061,10.710710710710712,10.810810810810812,10.910910910910912,11.011011011011012,11.111111111111112,11.211211211211213,11.311311311311313,11.411411411411413,11.511511511511513,11.611611611611613,11.711711711711713,11.811811811811813,11.911911911911913,12.012012012012013,12.112112112112113,12.212212212212213,12.312312312312313,12.412412412412413,12.512512512512513,12.612612612612613,12.712712712712714,12.812812812812814,12.912912912912914,13.013013013013014,13.113113113113114,13.213213213213214,13.313313313313314,13.413413413413414,13.513513513513514,13.613613613613614,13.713713713713714,13.813813813813814,13.913913913913914,14.014014014014014,14.114114114114114,14.214214214214214,14.314314314314315,14.414414414414415,14.514514514514515,14.614614614614615,14.714714714714715,14.814814814814815,14.914914914914915,15.015015015015017,15.115115115115117,15.215215215215217,15.315315315315317,15.415415415415417,15.515515515515517,15.615615615615617,15.715715715715717,15.815815815815817,15.915915915915917,16.016016016016017,16.116116116116117,16.216216216216218,16.316316316316318,16.416416416416418,16.516516516516518,16.616616616616618,16.716716716716718,16.816816816816818,16.916916916916918,17.017017017017018,17.117117117117118,17.217217217217218,17.31731731731732,17.41741741741742,17.51751751751752,17.61761761761762,17.71771771771772,17.81781781781782,17.91791791791792,18.01801801801802,18.11811811811812,18.21821821821822,18.31831831831832,18.41841841841842,18.51851851851852,18.61861861861862,18.71871871871872,18.81881881881882,18.91891891891892,19.01901901901902,19.11911911911912,19.21921921921922,19.31931931931932,19.41941941941942,19.51951951951952,19.61961961961962,19.71971971971972,19.81981981981982,19.91991991991992,20.02002002002002,20.12012012012012,20.22022022022022,20.32032032032032,20.42042042042042,20.52052052052052,20.62062062062062,20.72072072072072,20.82082082082082,20.92092092092092,21.02102102102102,21.12112112112112,21.22122122122122,21.32132132132132,21.421421421421424,21.521521521521525,21.621621621621625,21.721721721721725,21.821821821821825,21.921921921921925,22.022022022022025,22.122122122122125,22.222222222222225,22.322322322322325,22.422422422422425,22.522522522522525,22.622622622622625,22.722722722722725,22.822822822822825,22.922922922922925,23.023023023023026,23.123123123123126,23.223223223223226,23.323323323323326,23.423423423423426,23.523523523523526,23.623623623623626,23.723723723723726,23.823823823823826,23.923923923923926,24.024024024024026,24.124124124124126,24.224224224224226,24.324324324324326,24.424424424424426,24.524524524524526,24.624624624624627,24.724724724724727,24.824824824824827,24.924924924924927,25.025025025025027,25.125125125125127,25.225225225225227,25.325325325325327,25.425425425425427,25.525525525525527,25.625625625625627,25.725725725725727,25.825825825825827,25.925925925925927,26.026026026026027,26.126126126126128,26.226226226226228,26.326326326326328,26.426426426426428,26.526526526526528,26.626626626626628,26.726726726726728,26.826826826826828,26.926926926926928,27.027027027027028,27.127127127127128,27.227227227227228,27.32732732732733,27.42742742742743,27.52752752752753,27.62762762762763,27.72772772772773,27.82782782782783,27.92792792792793,28.02802802802803,28.12812812812813,28.22822822822823,28.32832832832833,28.42842842842843,28.52852852852853,28.62862862862863,28.72872872872873,28.82882882882883,28.92892892892893,29.02902902902903,29.12912912912913,29.22922922922923,29.32932932932933,29.42942942942943,29.52952952952953,29.62962962962963,29.72972972972973,29.82982982982983,29.929929929929934,30.030030030030034,30.130130130130134,30.230230230230234,30.330330330330334,30.430430430430434,30.530530530530534,30.630630630630634,30.730730730730734,30.830830830830834,30.930930930930934,31.031031031031034,31.131131131131134,31.231231231231234,31.331331331331334,31.431431431431434,31.531531531531535,31.631631631631635,31.731731731731735,31.831831831831835,31.931931931931935,32.032032032032035,32.132132132132135,32.232232232232235,32.332332332332335,32.432432432432435,32.532532532532535,32.632632632632635,32.732732732732735,32.832832832832835,32.932932932932935,33.033033033033036,33.133133133133136,33.233233233233236,33.333333333333336,33.433433433433436,33.533533533533536,33.633633633633636,33.733733733733736,33.833833833833836,33.933933933933936,34.034034034034036,34.134134134134136,34.234234234234236,34.334334334334336,34.434434434434436,34.53453453453454,34.63463463463464,34.73473473473474,34.83483483483484,34.93493493493494,35.03503503503504,35.13513513513514,35.23523523523524,35.33533533533534,35.43543543543544,35.53553553553554,35.63563563563564,35.73573573573574,35.83583583583584,35.93593593593594,36.03603603603604,36.13613613613614,36.23623623623624,36.33633633633634,36.43643643643644,36.53653653653654,36.63663663663664,36.73673673673674,36.83683683683684,36.93693693693694,37.03703703703704,37.13713713713714,37.23723723723724,37.33733733733734,37.43743743743744,37.53753753753754,37.63763763763764,37.73773773773774,37.83783783783784,37.93793793793794,38.03803803803804,38.13813813813814,38.23823823823824,38.33833833833834,38.43843843843844,38.53853853853854,38.63863863863864,38.73873873873874,38.83883883883884,38.93893893893894,39.03903903903904,39.13913913913914,39.23923923923924,39.33933933933934,39.43943943943944,39.53953953953954,39.63963963963964,39.73973973973974,39.83983983983984,39.93993993993994,40.04004004004004,40.14014014014014,40.24024024024024,40.34034034034034,40.44044044044044,40.54054054054054,40.64064064064064,40.74074074074074,40.84084084084084,40.94094094094094,41.04104104104104,41.14114114114114,41.24124124124124,41.34134134134134,41.44144144144144,41.54154154154154,41.64164164164164,41.74174174174174,41.84184184184184,41.94194194194194,42.04204204204204,42.14214214214214,42.24224224224224,42.34234234234234,42.44244244244244,42.54254254254254,42.64264264264264,42.74274274274275,42.84284284284285,42.94294294294295,43.04304304304305,43.14314314314315,43.24324324324325,43.34334334334335,43.44344344344345,43.54354354354355,43.64364364364365,43.74374374374375,43.84384384384385,43.94394394394395,44.04404404404405,44.14414414414415,44.24424424424425,44.34434434434435,44.44444444444445,44.54454454454455,44.64464464464465,44.74474474474475,44.84484484484485,44.94494494494495,45.04504504504505,45.14514514514515,45.24524524524525,45.34534534534535,45.44544544544545,45.54554554554555,45.64564564564565,45.74574574574575,45.84584584584585,45.94594594594595,46.04604604604605,46.14614614614615,46.24624624624625,46.34634634634635,46.44644644644645,46.54654654654655,46.64664664664665,46.74674674674675,46.84684684684685,46.94694694694695,47.04704704704705,47.14714714714715,47.24724724724725,47.34734734734735,47.44744744744745,47.54754754754755,47.64764764764765,47.74774774774775,47.84784784784785,47.94794794794795,48.04804804804805,48.14814814814815,48.24824824824825,48.34834834834835,48.44844844844845,48.54854854854855,48.64864864864865,48.74874874874875,48.84884884884885,48.94894894894895,49.04904904904905,49.14914914914915,49.24924924924925,49.34934934934935,49.44944944944945,49.54954954954955,49.64964964964965,49.74974974974975,49.84984984984985,49.94994994994995,50.050050050050054,50.150150150150154,50.250250250250254,50.350350350350354,50.450450450450454,50.550550550550554,50.650650650650654,50.750750750750754,50.850850850850854,50.950950950950954,51.051051051051054,51.151151151151154,51.251251251251254,51.351351351351354,51.451451451451454,51.551551551551555,51.651651651651655,51.751751751751755,51.851851851851855,51.951951951951955,52.052052052052055,52.152152152152155,52.252252252252255,52.352352352352355,52.452452452452455,52.552552552552555,52.652652652652655,52.752752752752755,52.852852852852855,52.952952952952955,53.053053053053056,53.153153153153156,53.253253253253256,53.353353353353356,53.453453453453456,53.553553553553556,53.653653653653656,53.753753753753756,53.853853853853856,53.953953953953956,54.054054054054056,54.154154154154156,54.254254254254256,54.354354354354356,54.454454454454456,54.55455455455456,54.65465465465466,54.75475475475476,54.85485485485486,54.95495495495496,55.05505505505506,55.15515515515516,55.25525525525526,55.35535535535536,55.45545545545546,55.55555555555556,55.65565565565566,55.75575575575576,55.85585585585586,55.95595595595596,56.05605605605606,56.15615615615616,56.25625625625626,56.35635635635636,56.45645645645646,56.55655655655656,56.65665665665666,56.75675675675676,56.85685685685686,56.95695695695696,57.05705705705706,57.15715715715716,57.25725725725726,57.35735735735736,57.45745745745746,57.55755755755756,57.65765765765766,57.75775775775776,57.85785785785786,57.95795795795796,58.05805805805806,58.15815815815816,58.25825825825826,58.35835835835836,58.45845845845846,58.55855855855856,58.65865865865866,58.75875875875876,58.85885885885886,58.95895895895896,59.05905905905906,59.15915915915916,59.25925925925926,59.35935935935936,59.45945945945946,59.55955955955956,59.65965965965966,59.75975975975976,59.85985985985987,59.95995995995997,60.06006006006007,60.16016016016017,60.26026026026027,60.36036036036037,60.46046046046047,60.56056056056057,60.66066066066067,60.76076076076077,60.86086086086087,60.96096096096097,61.06106106106107,61.16116116116117,61.26126126126127,61.36136136136137,61.46146146146147,61.56156156156157,61.66166166166167,61.76176176176177,61.86186186186187,61.96196196196197,62.06206206206207,62.16216216216217,62.26226226226227,62.36236236236237,62.46246246246247,62.56256256256257,62.66266266266267,62.76276276276277,62.86286286286287,62.96296296296297,63.06306306306307,63.16316316316317,63.26326326326327,63.36336336336337,63.46346346346347,63.56356356356357,63.66366366366367,63.76376376376377,63.86386386386387,63.96396396396397,64.06406406406407,64.16416416416416,64.26426426426427,64.36436436436436,64.46446446446447,64.56456456456456,64.66466466466467,64.76476476476476,64.86486486486487,64.96496496496496,65.06506506506507,65.16516516516516,65.26526526526527,65.36536536536536,65.46546546546547,65.56556556556556,65.66566566566567,65.76576576576576,65.86586586586587,65.96596596596596,66.06606606606607,66.16616616616616,66.26626626626627,66.36636636636636,66.46646646646647,66.56656656656656,66.66666666666667,66.76676676676676,66.86686686686687,66.96696696696696,67.06706706706707,67.16716716716716,67.26726726726727,67.36736736736736,67.46746746746747,67.56756756756756,67.66766766766767,67.76776776776777,67.86786786786787,67.96796796796797,68.06806806806807,68.16816816816817,68.26826826826827,68.36836836836838,68.46846846846847,68.56856856856858,68.66866866866867,68.76876876876878,68.86886886886887,68.96896896896898,69.06906906906907,69.16916916916918,69.26926926926927,69.36936936936938,69.46946946946947,69.56956956956958,69.66966966966967,69.76976976976978,69.86986986986987,69.96996996996998,70.07007007007007,70.17017017017018,70.27027027027027,70.37037037037038,70.47047047047047,70.57057057057058,70.67067067067067,70.77077077077078,70.87087087087087,70.97097097097098,71.07107107107107,71.17117117117118,71.27127127127127,71.37137137137138,71.47147147147147,71.57157157157158,71.67167167167167,71.77177177177178,71.87187187187187,71.97197197197198,72.07207207207207,72.17217217217218,72.27227227227228,72.37237237237238,72.47247247247248,72.57257257257258,72.67267267267268,72.77277277277278,72.87287287287288,72.97297297297298,73.07307307307308,73.17317317317318,73.27327327327328,73.37337337337338,73.47347347347348,73.57357357357358,73.67367367367368,73.77377377377378,73.87387387387388,73.97397397397398,74.07407407407408,74.17417417417418,74.27427427427428,74.37437437437438,74.47447447447448,74.57457457457458,74.67467467467468,74.77477477477478,74.87487487487488,74.97497497497498,75.07507507507508,75.17517517517518,75.27527527527528,75.37537537537538,75.47547547547548,75.57557557557558,75.67567567567568,75.77577577577578,75.87587587587588,75.97597597597598,76.07607607607608,76.17617617617618,76.27627627627628,76.37637637637638,76.47647647647648,76.57657657657658,76.67667667667668,76.77677677677679,76.87687687687688,76.97697697697699,77.07707707707708,77.17717717717719,77.27727727727728,77.37737737737739,77.47747747747748,77.57757757757759,77.67767767767768,77.77777777777779,77.87787787787788,77.97797797797799,78.07807807807808,78.17817817817819,78.27827827827828,78.37837837837839,78.47847847847848,78.57857857857859,78.67867867867868,78.77877877877879,78.87887887887888,78.97897897897899,79.07907907907908,79.17917917917919,79.27927927927928,79.37937937937939,79.47947947947948,79.57957957957959,79.67967967967968,79.77977977977979,79.87987987987988,79.97997997997999,80.08008008008008,80.18018018018019,80.28028028028028,80.38038038038039,80.48048048048048,80.58058058058059,80.68068068068068,80.78078078078079,80.88088088088088,80.98098098098099,81.08108108108108,81.18118118118119,81.28128128128128,81.38138138138139,81.48148148148148,81.58158158158159,81.68168168168168,81.78178178178179,81.88188188188188,81.98198198198199,82.08208208208208,82.18218218218219,82.28228228228228,82.38238238238239,82.48248248248248,82.58258258258259,82.68268268268268,82.78278278278279,82.88288288288288,82.98298298298299,83.08308308308308,83.18318318318319,83.28328328328328,83.38338338338339,83.48348348348348,83.58358358358359,83.68368368368368,83.78378378378379,83.88388388388388,83.98398398398399,84.08408408408408,84.18418418418419,84.28428428428428,84.38438438438439,84.48448448448448,84.58458458458459,84.68468468468468,84.78478478478479,84.88488488488488,84.98498498498499,85.08508508508508,85.18518518518519,85.28528528528528,85.38538538538539,85.4854854854855,85.58558558558559,85.6856856856857,85.78578578578579,85.8858858858859,85.98598598598599,86.0860860860861,86.18618618618619,86.2862862862863,86.38638638638639,86.4864864864865,86.58658658658659,86.6866866866867,86.78678678678679,86.8868868868869,86.98698698698699,87.0870870870871,87.18718718718719,87.2872872872873,87.38738738738739,87.4874874874875,87.58758758758759,87.6876876876877,87.78778778778779,87.8878878878879,87.98798798798799,88.0880880880881,88.18818818818819,88.2882882882883,88.38838838838839,88.4884884884885,88.58858858858859,88.6886886886887,88.78878878878879,88.8888888888889,88.988988988989,89.0890890890891,89.1891891891892,89.2892892892893,89.3893893893894,89.4894894894895,89.5895895895896,89.6896896896897,89.7897897897898,89.8898898898899,89.98998998999,90.0900900900901,90.1901901901902,90.2902902902903,90.3903903903904,90.4904904904905,90.5905905905906,90.6906906906907,90.7907907907908,90.8908908908909,90.990990990991,91.0910910910911,91.1911911911912,91.2912912912913,91.3913913913914,91.4914914914915,91.5915915915916,91.6916916916917,91.7917917917918,91.8918918918919,91.991991991992,92.0920920920921,92.1921921921922,92.2922922922923,92.3923923923924,92.4924924924925,92.5925925925926,92.6926926926927,92.7927927927928,92.8928928928929,92.992992992993,93.0930930930931,93.1931931931932,93.2932932932933,93.3933933933934,93.4934934934935,93.5935935935936,93.6936936936937,93.7937937937938,93.8938938938939,93.993993993994,94.0940940940941,94.1941941941942,94.2942942942943,94.3943943943944,94.4944944944945,94.5945945945946,94.6946946946947,94.7947947947948,94.8948948948949,94.994994994995,95.0950950950951,95.1951951951952,95.2952952952953,95.3953953953954,95.4954954954955,95.5955955955956,95.6956956956957,95.7957957957958,95.8958958958959,95.995995995996,96.0960960960961,96.1961961961962,96.2962962962963,96.3963963963964,96.4964964964965,96.5965965965966,96.6966966966967,96.7967967967968,96.8968968968969,96.996996996997,97.0970970970971,97.1971971971972,97.2972972972973,97.3973973973974,97.4974974974975,97.5975975975976,97.6976976976977,97.7977977977978,97.8978978978979,97.997997997998,98.0980980980981,98.1981981981982,98.2982982982983,98.3983983983984,98.4984984984985,98.5985985985986,98.6986986986987,98.7987987987988,98.8988988988989,98.998998998999,99.0990990990991,99.1991991991992,99.2992992992993,99.3993993993994,99.4994994994995,99.5995995995996,99.6996996996997,99.7997997997998,99.8998998998999,100.0],\"y\":[0.0,0.1001001001001001,0.2002002002002002,0.3003003003003003,0.4004004004004004,0.5005005005005005,0.6006006006006006,0.7007007007007008,0.8008008008008008,0.9009009009009009,1.001001001001001,1.1011011011011012,1.2012012012012012,1.3013013013013013,1.4014014014014016,1.5015015015015016,1.6016016016016017,1.7017017017017018,1.8018018018018018,1.9019019019019021,2.002002002002002,2.1021021021021022,2.2022022022022023,2.3023023023023024,2.4024024024024024,2.5025025025025025,2.6026026026026026,2.702702702702703,2.802802802802803,2.902902902902903,3.0030030030030033,3.1031031031031033,3.2032032032032034,3.3033033033033035,3.4034034034034035,3.5035035035035036,3.6036036036036037,3.7037037037037037,3.8038038038038042,3.9039039039039043,4.004004004004004,4.104104104104104,4.2042042042042045,4.3043043043043046,4.404404404404405,4.504504504504505,4.604604604604605,4.704704704704705,4.804804804804805,4.904904904904905,5.005005005005005,5.105105105105105,5.205205205205205,5.305305305305305,5.405405405405406,5.505505505505506,5.605605605605606,5.705705705705706,5.805805805805806,5.9059059059059065,6.0060060060060065,6.106106106106107,6.206206206206207,6.306306306306307,6.406406406406407,6.506506506506507,6.606606606606607,6.706706706706707,6.806806806806807,6.906906906906907,7.007007007007007,7.107107107107107,7.207207207207207,7.307307307307307,7.407407407407407,7.507507507507508,7.6076076076076085,7.7077077077077085,7.807807807807809,7.907907907907909,8.008008008008009,8.108108108108109,8.208208208208209,8.308308308308309,8.408408408408409,8.508508508508509,8.608608608608609,8.70870870870871,8.80880880880881,8.90890890890891,9.00900900900901,9.10910910910911,9.20920920920921,9.30930930930931,9.40940940940941,9.50950950950951,9.60960960960961,9.70970970970971,9.80980980980981,9.90990990990991,10.01001001001001,10.11011011011011,10.21021021021021,10.31031031031031,10.41041041041041,10.51051051051051,10.61061061061061,10.710710710710712,10.810810810810812,10.910910910910912,11.011011011011012,11.111111111111112,11.211211211211213,11.311311311311313,11.411411411411413,11.511511511511513,11.611611611611613,11.711711711711713,11.811811811811813,11.911911911911913,12.012012012012013,12.112112112112113,12.212212212212213,12.312312312312313,12.412412412412413,12.512512512512513,12.612612612612613,12.712712712712714,12.812812812812814,12.912912912912914,13.013013013013014,13.113113113113114,13.213213213213214,13.313313313313314,13.413413413413414,13.513513513513514,13.613613613613614,13.713713713713714,13.813813813813814,13.913913913913914,14.014014014014014,14.114114114114114,14.214214214214214,14.314314314314315,14.414414414414415,14.514514514514515,14.614614614614615,14.714714714714715,14.814814814814815,14.914914914914915,15.015015015015017,15.115115115115117,15.215215215215217,15.315315315315317,15.415415415415417,15.515515515515517,15.615615615615617,15.715715715715717,15.815815815815817,15.915915915915917,16.016016016016017,16.116116116116117,16.216216216216218,16.316316316316318,16.416416416416418,16.516516516516518,16.616616616616618,16.716716716716718,16.816816816816818,16.916916916916918,17.017017017017018,17.117117117117118,17.217217217217218,17.31731731731732,17.41741741741742,17.51751751751752,17.61761761761762,17.71771771771772,17.81781781781782,17.91791791791792,18.01801801801802,18.11811811811812,18.21821821821822,18.31831831831832,18.41841841841842,18.51851851851852,18.61861861861862,18.71871871871872,18.81881881881882,18.91891891891892,19.01901901901902,19.11911911911912,19.21921921921922,19.31931931931932,19.41941941941942,19.51951951951952,19.61961961961962,19.71971971971972,19.81981981981982,19.91991991991992,20.02002002002002,20.12012012012012,20.22022022022022,20.32032032032032,20.42042042042042,20.52052052052052,20.62062062062062,20.72072072072072,20.82082082082082,20.92092092092092,21.02102102102102,21.12112112112112,21.22122122122122,21.32132132132132,21.421421421421424,21.521521521521525,21.621621621621625,21.721721721721725,21.821821821821825,21.921921921921925,22.022022022022025,22.122122122122125,22.222222222222225,22.322322322322325,22.422422422422425,22.522522522522525,22.622622622622625,22.722722722722725,22.822822822822825,22.922922922922925,23.023023023023026,23.123123123123126,23.223223223223226,23.323323323323326,23.423423423423426,23.523523523523526,23.623623623623626,23.723723723723726,23.823823823823826,23.923923923923926,24.024024024024026,24.124124124124126,24.224224224224226,24.324324324324326,24.424424424424426,24.524524524524526,24.624624624624627,24.724724724724727,24.824824824824827,24.924924924924927,25.025025025025027,25.125125125125127,25.225225225225227,25.325325325325327,25.425425425425427,25.525525525525527,25.625625625625627,25.725725725725727,25.825825825825827,25.925925925925927,26.026026026026027,26.126126126126128,26.226226226226228,26.326326326326328,26.426426426426428,26.526526526526528,26.626626626626628,26.726726726726728,26.826826826826828,26.926926926926928,27.027027027027028,27.127127127127128,27.227227227227228,27.32732732732733,27.42742742742743,27.52752752752753,27.62762762762763,27.72772772772773,27.82782782782783,27.92792792792793,28.02802802802803,28.12812812812813,28.22822822822823,28.32832832832833,28.42842842842843,28.52852852852853,28.62862862862863,28.72872872872873,28.82882882882883,28.92892892892893,29.02902902902903,29.12912912912913,29.22922922922923,29.32932932932933,29.42942942942943,29.52952952952953,29.62962962962963,29.72972972972973,29.82982982982983,29.929929929929934,30.030030030030034,30.130130130130134,30.230230230230234,30.330330330330334,30.430430430430434,30.530530530530534,30.630630630630634,30.730730730730734,30.830830830830834,30.930930930930934,31.031031031031034,31.131131131131134,31.231231231231234,31.331331331331334,31.431431431431434,31.531531531531535,31.631631631631635,31.731731731731735,31.831831831831835,31.931931931931935,32.032032032032035,32.132132132132135,32.232232232232235,32.332332332332335,32.432432432432435,32.532532532532535,32.632632632632635,32.732732732732735,32.832832832832835,32.932932932932935,33.033033033033036,33.133133133133136,33.233233233233236,33.333333333333336,33.433433433433436,33.533533533533536,33.633633633633636,33.733733733733736,33.833833833833836,33.933933933933936,34.034034034034036,34.134134134134136,34.234234234234236,34.334334334334336,34.434434434434436,34.53453453453454,34.63463463463464,34.73473473473474,34.83483483483484,34.93493493493494,35.03503503503504,35.13513513513514,35.23523523523524,35.33533533533534,35.43543543543544,35.53553553553554,35.63563563563564,35.73573573573574,35.83583583583584,35.93593593593594,36.03603603603604,36.13613613613614,36.23623623623624,36.33633633633634,36.43643643643644,36.53653653653654,36.63663663663664,36.73673673673674,36.83683683683684,36.93693693693694,37.03703703703704,37.13713713713714,37.23723723723724,37.33733733733734,37.43743743743744,37.53753753753754,37.63763763763764,37.73773773773774,37.83783783783784,37.93793793793794,38.03803803803804,38.13813813813814,38.23823823823824,38.33833833833834,38.43843843843844,38.53853853853854,38.63863863863864,38.73873873873874,38.83883883883884,38.93893893893894,39.03903903903904,39.13913913913914,39.23923923923924,39.33933933933934,39.43943943943944,39.53953953953954,39.63963963963964,39.73973973973974,39.83983983983984,39.93993993993994,40.04004004004004,40.14014014014014,40.24024024024024,40.34034034034034,40.44044044044044,40.54054054054054,40.64064064064064,40.74074074074074,40.84084084084084,40.94094094094094,41.04104104104104,41.14114114114114,41.24124124124124,41.34134134134134,41.44144144144144,41.54154154154154,41.64164164164164,41.74174174174174,41.84184184184184,41.94194194194194,42.04204204204204,42.14214214214214,42.24224224224224,42.34234234234234,42.44244244244244,42.54254254254254,42.64264264264264,42.74274274274275,42.84284284284285,42.94294294294295,43.04304304304305,43.14314314314315,43.24324324324325,43.34334334334335,43.44344344344345,43.54354354354355,43.64364364364365,43.74374374374375,43.84384384384385,43.94394394394395,44.04404404404405,44.14414414414415,44.24424424424425,44.34434434434435,44.44444444444445,44.54454454454455,44.64464464464465,44.74474474474475,44.84484484484485,44.94494494494495,45.04504504504505,45.14514514514515,45.24524524524525,45.34534534534535,45.44544544544545,45.54554554554555,45.64564564564565,45.74574574574575,45.84584584584585,45.94594594594595,46.04604604604605,46.14614614614615,46.24624624624625,46.34634634634635,46.44644644644645,46.54654654654655,46.64664664664665,46.74674674674675,46.84684684684685,46.94694694694695,47.04704704704705,47.14714714714715,47.24724724724725,47.34734734734735,47.44744744744745,47.54754754754755,47.64764764764765,47.74774774774775,47.84784784784785,47.94794794794795,48.04804804804805,48.14814814814815,48.24824824824825,48.34834834834835,48.44844844844845,48.54854854854855,48.64864864864865,48.74874874874875,48.84884884884885,48.94894894894895,49.04904904904905,49.14914914914915,49.24924924924925,49.34934934934935,49.44944944944945,49.54954954954955,49.64964964964965,49.74974974974975,49.84984984984985,49.94994994994995,50.050050050050054,50.150150150150154,50.250250250250254,50.350350350350354,50.450450450450454,50.550550550550554,50.650650650650654,50.750750750750754,50.850850850850854,50.950950950950954,51.051051051051054,51.151151151151154,51.251251251251254,51.351351351351354,51.451451451451454,51.551551551551555,51.651651651651655,51.751751751751755,51.851851851851855,51.951951951951955,52.052052052052055,52.152152152152155,52.252252252252255,52.352352352352355,52.452452452452455,52.552552552552555,52.652652652652655,52.752752752752755,52.852852852852855,52.952952952952955,53.053053053053056,53.153153153153156,53.253253253253256,53.353353353353356,53.453453453453456,53.553553553553556,53.653653653653656,53.753753753753756,53.853853853853856,53.953953953953956,54.054054054054056,54.154154154154156,54.254254254254256,54.354354354354356,54.454454454454456,54.55455455455456,54.65465465465466,54.75475475475476,54.85485485485486,54.95495495495496,55.05505505505506,55.15515515515516,55.25525525525526,55.35535535535536,55.45545545545546,55.55555555555556,55.65565565565566,55.75575575575576,55.85585585585586,55.95595595595596,56.05605605605606,56.15615615615616,56.25625625625626,56.35635635635636,56.45645645645646,56.55655655655656,56.65665665665666,56.75675675675676,56.85685685685686,56.95695695695696,57.05705705705706,57.15715715715716,57.25725725725726,57.35735735735736,57.45745745745746,57.55755755755756,57.65765765765766,57.75775775775776,57.85785785785786,57.95795795795796,58.05805805805806,58.15815815815816,58.25825825825826,58.35835835835836,58.45845845845846,58.55855855855856,58.65865865865866,58.75875875875876,58.85885885885886,58.95895895895896,59.05905905905906,59.15915915915916,59.25925925925926,59.35935935935936,59.45945945945946,59.55955955955956,59.65965965965966,59.75975975975976,59.85985985985987,59.95995995995997,60.06006006006007,60.16016016016017,60.26026026026027,60.36036036036037,60.46046046046047,60.56056056056057,60.66066066066067,60.76076076076077,60.86086086086087,60.96096096096097,61.06106106106107,61.16116116116117,61.26126126126127,61.36136136136137,61.46146146146147,61.56156156156157,61.66166166166167,61.76176176176177,61.86186186186187,61.96196196196197,62.06206206206207,62.16216216216217,62.26226226226227,62.36236236236237,62.46246246246247,62.56256256256257,62.66266266266267,62.76276276276277,62.86286286286287,62.96296296296297,63.06306306306307,63.16316316316317,63.26326326326327,63.36336336336337,63.46346346346347,63.56356356356357,63.66366366366367,63.76376376376377,63.86386386386387,63.96396396396397,64.06406406406407,64.16416416416416,64.26426426426427,64.36436436436436,64.46446446446447,64.56456456456456,64.66466466466467,64.76476476476476,64.86486486486487,64.96496496496496,65.06506506506507,65.16516516516516,65.26526526526527,65.36536536536536,65.46546546546547,65.56556556556556,65.66566566566567,65.76576576576576,65.86586586586587,65.96596596596596,66.06606606606607,66.16616616616616,66.26626626626627,66.36636636636636,66.46646646646647,66.56656656656656,66.66666666666667,66.76676676676676,66.86686686686687,66.96696696696696,67.06706706706707,67.16716716716716,67.26726726726727,67.36736736736736,67.46746746746747,67.56756756756756,67.66766766766767,67.76776776776777,67.86786786786787,67.96796796796797,68.06806806806807,68.16816816816817,68.26826826826827,68.36836836836838,68.46846846846847,68.56856856856858,68.66866866866867,68.76876876876878,68.86886886886887,68.96896896896898,69.06906906906907,69.16916916916918,69.26926926926927,69.36936936936938,69.46946946946947,69.56956956956958,69.66966966966967,69.76976976976978,69.86986986986987,69.96996996996998,70.07007007007007,70.17017017017018,70.27027027027027,70.37037037037038,70.47047047047047,70.57057057057058,70.67067067067067,70.77077077077078,70.87087087087087,70.97097097097098,71.07107107107107,71.17117117117118,71.27127127127127,71.37137137137138,71.47147147147147,71.57157157157158,71.67167167167167,71.77177177177178,71.87187187187187,71.97197197197198,72.07207207207207,72.17217217217218,72.27227227227228,72.37237237237238,72.47247247247248,72.57257257257258,72.67267267267268,72.77277277277278,72.87287287287288,72.97297297297298,73.07307307307308,73.17317317317318,73.27327327327328,73.37337337337338,73.47347347347348,73.57357357357358,73.67367367367368,73.77377377377378,73.87387387387388,73.97397397397398,74.07407407407408,74.17417417417418,74.27427427427428,74.37437437437438,74.47447447447448,74.57457457457458,74.67467467467468,74.77477477477478,74.87487487487488,74.97497497497498,75.07507507507508,75.17517517517518,75.27527527527528,75.37537537537538,75.47547547547548,75.57557557557558,75.67567567567568,75.77577577577578,75.87587587587588,75.97597597597598,76.07607607607608,76.17617617617618,76.27627627627628,76.37637637637638,76.47647647647648,76.57657657657658,76.67667667667668,76.77677677677679,76.87687687687688,76.97697697697699,77.07707707707708,77.17717717717719,77.27727727727728,77.37737737737739,77.47747747747748,77.57757757757759,77.67767767767768,77.77777777777779,77.87787787787788,77.97797797797799,78.07807807807808,78.17817817817819,78.27827827827828,78.37837837837839,78.47847847847848,78.57857857857859,78.67867867867868,78.77877877877879,78.87887887887888,78.97897897897899,79.07907907907908,79.17917917917919,79.27927927927928,79.37937937937939,79.47947947947948,79.57957957957959,79.67967967967968,79.77977977977979,79.87987987987988,79.97997997997999,80.08008008008008,80.18018018018019,80.28028028028028,80.38038038038039,80.48048048048048,80.58058058058059,80.68068068068068,80.78078078078079,80.88088088088088,80.98098098098099,81.08108108108108,81.18118118118119,81.28128128128128,81.38138138138139,81.48148148148148,81.58158158158159,81.68168168168168,81.78178178178179,81.88188188188188,81.98198198198199,82.08208208208208,82.18218218218219,82.28228228228228,82.38238238238239,82.48248248248248,82.58258258258259,82.68268268268268,82.78278278278279,82.88288288288288,82.98298298298299,83.08308308308308,83.18318318318319,83.28328328328328,83.38338338338339,83.48348348348348,83.58358358358359,83.68368368368368,83.78378378378379,83.88388388388388,83.98398398398399,84.08408408408408,84.18418418418419,84.28428428428428,84.38438438438439,84.48448448448448,84.58458458458459,84.68468468468468,84.78478478478479,84.88488488488488,84.98498498498499,85.08508508508508,85.18518518518519,85.28528528528528,85.38538538538539,85.4854854854855,85.58558558558559,85.6856856856857,85.78578578578579,85.8858858858859,85.98598598598599,86.0860860860861,86.18618618618619,86.2862862862863,86.38638638638639,86.4864864864865,86.58658658658659,86.6866866866867,86.78678678678679,86.8868868868869,86.98698698698699,87.0870870870871,87.18718718718719,87.2872872872873,87.38738738738739,87.4874874874875,87.58758758758759,87.6876876876877,87.78778778778779,87.8878878878879,87.98798798798799,88.0880880880881,88.18818818818819,88.2882882882883,88.38838838838839,88.4884884884885,88.58858858858859,88.6886886886887,88.78878878878879,88.8888888888889,88.988988988989,89.0890890890891,89.1891891891892,89.2892892892893,89.3893893893894,89.4894894894895,89.5895895895896,89.6896896896897,89.7897897897898,89.8898898898899,89.98998998999,90.0900900900901,90.1901901901902,90.2902902902903,90.3903903903904,90.4904904904905,90.5905905905906,90.6906906906907,90.7907907907908,90.8908908908909,90.990990990991,91.0910910910911,91.1911911911912,91.2912912912913,91.3913913913914,91.4914914914915,91.5915915915916,91.6916916916917,91.7917917917918,91.8918918918919,91.991991991992,92.0920920920921,92.1921921921922,92.2922922922923,92.3923923923924,92.4924924924925,92.5925925925926,92.6926926926927,92.7927927927928,92.8928928928929,92.992992992993,93.0930930930931,93.1931931931932,93.2932932932933,93.3933933933934,93.4934934934935,93.5935935935936,93.6936936936937,93.7937937937938,93.8938938938939,93.993993993994,94.0940940940941,94.1941941941942,94.2942942942943,94.3943943943944,94.4944944944945,94.5945945945946,94.6946946946947,94.7947947947948,94.8948948948949,94.994994994995,95.0950950950951,95.1951951951952,95.2952952952953,95.3953953953954,95.4954954954955,95.5955955955956,95.6956956956957,95.7957957957958,95.8958958958959,95.995995995996,96.0960960960961,96.1961961961962,96.2962962962963,96.3963963963964,96.4964964964965,96.5965965965966,96.6966966966967,96.7967967967968,96.8968968968969,96.996996996997,97.0970970970971,97.1971971971972,97.2972972972973,97.3973973973974,97.4974974974975,97.5975975975976,97.6976976976977,97.7977977977978,97.8978978978979,97.997997997998,98.0980980980981,98.1981981981982,98.2982982982983,98.3983983983984,98.4984984984985,98.5985985985986,98.6986986986987,98.7987987987988,98.8988988988989,98.998998998999,99.0990990990991,99.1991991991992,99.2992992992993,99.3993993993994,99.4994994994995,99.5995995995996,99.6996996996997,99.7997997997998,99.8998998998999,100.0],\"type\":\"scatter\"}],                        {\"title\":{\"text\":\"Uni_GP predicted v actual\"},\"template\":{\"data\":{\"bar\":[{\"error_x\":{\"color\":\"#2a3f5f\"},\"error_y\":{\"color\":\"#2a3f5f\"},\"marker\":{\"line\":{\"color\":\"#E5ECF6\",\"width\":0.5},\"pattern\":{\"fillmode\":\"overlay\",\"size\":10,\"solidity\":0.2}},\"type\":\"bar\"}],\"barpolar\":[{\"marker\":{\"line\":{\"color\":\"#E5ECF6\",\"width\":0.5},\"pattern\":{\"fillmode\":\"overlay\",\"size\":10,\"solidity\":0.2}},\"type\":\"barpolar\"}],\"carpet\":[{\"aaxis\":{\"endlinecolor\":\"#2a3f5f\",\"gridcolor\":\"white\",\"linecolor\":\"white\",\"minorgridcolor\":\"white\",\"startlinecolor\":\"#2a3f5f\"},\"baxis\":{\"endlinecolor\":\"#2a3f5f\",\"gridcolor\":\"white\",\"linecolor\":\"white\",\"minorgridcolor\":\"white\",\"startlinecolor\":\"#2a3f5f\"},\"type\":\"carpet\"}],\"choropleth\":[{\"colorbar\":{\"outlinewidth\":0,\"ticks\":\"\"},\"type\":\"choropleth\"}],\"contour\":[{\"colorbar\":{\"outlinewidth\":0,\"ticks\":\"\"},\"colorscale\":[[0.0,\"#0d0887\"],[0.1111111111111111,\"#46039f\"],[0.2222222222222222,\"#7201a8\"],[0.3333333333333333,\"#9c179e\"],[0.4444444444444444,\"#bd3786\"],[0.5555555555555556,\"#d8576b\"],[0.6666666666666666,\"#ed7953\"],[0.7777777777777778,\"#fb9f3a\"],[0.8888888888888888,\"#fdca26\"],[1.0,\"#f0f921\"]],\"type\":\"contour\"}],\"contourcarpet\":[{\"colorbar\":{\"outlinewidth\":0,\"ticks\":\"\"},\"type\":\"contourcarpet\"}],\"heatmap\":[{\"colorbar\":{\"outlinewidth\":0,\"ticks\":\"\"},\"colorscale\":[[0.0,\"#0d0887\"],[0.1111111111111111,\"#46039f\"],[0.2222222222222222,\"#7201a8\"],[0.3333333333333333,\"#9c179e\"],[0.4444444444444444,\"#bd3786\"],[0.5555555555555556,\"#d8576b\"],[0.6666666666666666,\"#ed7953\"],[0.7777777777777778,\"#fb9f3a\"],[0.8888888888888888,\"#fdca26\"],[1.0,\"#f0f921\"]],\"type\":\"heatmap\"}],\"heatmapgl\":[{\"colorbar\":{\"outlinewidth\":0,\"ticks\":\"\"},\"colorscale\":[[0.0,\"#0d0887\"],[0.1111111111111111,\"#46039f\"],[0.2222222222222222,\"#7201a8\"],[0.3333333333333333,\"#9c179e\"],[0.4444444444444444,\"#bd3786\"],[0.5555555555555556,\"#d8576b\"],[0.6666666666666666,\"#ed7953\"],[0.7777777777777778,\"#fb9f3a\"],[0.8888888888888888,\"#fdca26\"],[1.0,\"#f0f921\"]],\"type\":\"heatmapgl\"}],\"histogram\":[{\"marker\":{\"pattern\":{\"fillmode\":\"overlay\",\"size\":10,\"solidity\":0.2}},\"type\":\"histogram\"}],\"histogram2d\":[{\"colorbar\":{\"outlinewidth\":0,\"ticks\":\"\"},\"colorscale\":[[0.0,\"#0d0887\"],[0.1111111111111111,\"#46039f\"],[0.2222222222222222,\"#7201a8\"],[0.3333333333333333,\"#9c179e\"],[0.4444444444444444,\"#bd3786\"],[0.5555555555555556,\"#d8576b\"],[0.6666666666666666,\"#ed7953\"],[0.7777777777777778,\"#fb9f3a\"],[0.8888888888888888,\"#fdca26\"],[1.0,\"#f0f921\"]],\"type\":\"histogram2d\"}],\"histogram2dcontour\":[{\"colorbar\":{\"outlinewidth\":0,\"ticks\":\"\"},\"colorscale\":[[0.0,\"#0d0887\"],[0.1111111111111111,\"#46039f\"],[0.2222222222222222,\"#7201a8\"],[0.3333333333333333,\"#9c179e\"],[0.4444444444444444,\"#bd3786\"],[0.5555555555555556,\"#d8576b\"],[0.6666666666666666,\"#ed7953\"],[0.7777777777777778,\"#fb9f3a\"],[0.8888888888888888,\"#fdca26\"],[1.0,\"#f0f921\"]],\"type\":\"histogram2dcontour\"}],\"mesh3d\":[{\"colorbar\":{\"outlinewidth\":0,\"ticks\":\"\"},\"type\":\"mesh3d\"}],\"parcoords\":[{\"line\":{\"colorbar\":{\"outlinewidth\":0,\"ticks\":\"\"}},\"type\":\"parcoords\"}],\"pie\":[{\"automargin\":true,\"type\":\"pie\"}],\"scatter\":[{\"marker\":{\"colorbar\":{\"outlinewidth\":0,\"ticks\":\"\"}},\"type\":\"scatter\"}],\"scatter3d\":[{\"line\":{\"colorbar\":{\"outlinewidth\":0,\"ticks\":\"\"}},\"marker\":{\"colorbar\":{\"outlinewidth\":0,\"ticks\":\"\"}},\"type\":\"scatter3d\"}],\"scattercarpet\":[{\"marker\":{\"colorbar\":{\"outlinewidth\":0,\"ticks\":\"\"}},\"type\":\"scattercarpet\"}],\"scattergeo\":[{\"marker\":{\"colorbar\":{\"outlinewidth\":0,\"ticks\":\"\"}},\"type\":\"scattergeo\"}],\"scattergl\":[{\"marker\":{\"colorbar\":{\"outlinewidth\":0,\"ticks\":\"\"}},\"type\":\"scattergl\"}],\"scattermapbox\":[{\"marker\":{\"colorbar\":{\"outlinewidth\":0,\"ticks\":\"\"}},\"type\":\"scattermapbox\"}],\"scatterpolar\":[{\"marker\":{\"colorbar\":{\"outlinewidth\":0,\"ticks\":\"\"}},\"type\":\"scatterpolar\"}],\"scatterpolargl\":[{\"marker\":{\"colorbar\":{\"outlinewidth\":0,\"ticks\":\"\"}},\"type\":\"scatterpolargl\"}],\"scatterternary\":[{\"marker\":{\"colorbar\":{\"outlinewidth\":0,\"ticks\":\"\"}},\"type\":\"scatterternary\"}],\"surface\":[{\"colorbar\":{\"outlinewidth\":0,\"ticks\":\"\"},\"colorscale\":[[0.0,\"#0d0887\"],[0.1111111111111111,\"#46039f\"],[0.2222222222222222,\"#7201a8\"],[0.3333333333333333,\"#9c179e\"],[0.4444444444444444,\"#bd3786\"],[0.5555555555555556,\"#d8576b\"],[0.6666666666666666,\"#ed7953\"],[0.7777777777777778,\"#fb9f3a\"],[0.8888888888888888,\"#fdca26\"],[1.0,\"#f0f921\"]],\"type\":\"surface\"}],\"table\":[{\"cells\":{\"fill\":{\"color\":\"#EBF0F8\"},\"line\":{\"color\":\"white\"}},\"header\":{\"fill\":{\"color\":\"#C8D4E3\"},\"line\":{\"color\":\"white\"}},\"type\":\"table\"}]},\"layout\":{\"annotationdefaults\":{\"arrowcolor\":\"#2a3f5f\",\"arrowhead\":0,\"arrowwidth\":1},\"autotypenumbers\":\"strict\",\"coloraxis\":{\"colorbar\":{\"outlinewidth\":0,\"ticks\":\"\"}},\"colorscale\":{\"diverging\":[[0,\"#8e0152\"],[0.1,\"#c51b7d\"],[0.2,\"#de77ae\"],[0.3,\"#f1b6da\"],[0.4,\"#fde0ef\"],[0.5,\"#f7f7f7\"],[0.6,\"#e6f5d0\"],[0.7,\"#b8e186\"],[0.8,\"#7fbc41\"],[0.9,\"#4d9221\"],[1,\"#276419\"]],\"sequential\":[[0.0,\"#0d0887\"],[0.1111111111111111,\"#46039f\"],[0.2222222222222222,\"#7201a8\"],[0.3333333333333333,\"#9c179e\"],[0.4444444444444444,\"#bd3786\"],[0.5555555555555556,\"#d8576b\"],[0.6666666666666666,\"#ed7953\"],[0.7777777777777778,\"#fb9f3a\"],[0.8888888888888888,\"#fdca26\"],[1.0,\"#f0f921\"]],\"sequentialminus\":[[0.0,\"#0d0887\"],[0.1111111111111111,\"#46039f\"],[0.2222222222222222,\"#7201a8\"],[0.3333333333333333,\"#9c179e\"],[0.4444444444444444,\"#bd3786\"],[0.5555555555555556,\"#d8576b\"],[0.6666666666666666,\"#ed7953\"],[0.7777777777777778,\"#fb9f3a\"],[0.8888888888888888,\"#fdca26\"],[1.0,\"#f0f921\"]]},\"colorway\":[\"#636efa\",\"#EF553B\",\"#00cc96\",\"#ab63fa\",\"#FFA15A\",\"#19d3f3\",\"#FF6692\",\"#B6E880\",\"#FF97FF\",\"#FECB52\"],\"font\":{\"color\":\"#2a3f5f\"},\"geo\":{\"bgcolor\":\"white\",\"lakecolor\":\"white\",\"landcolor\":\"#E5ECF6\",\"showlakes\":true,\"showland\":true,\"subunitcolor\":\"white\"},\"hoverlabel\":{\"align\":\"left\"},\"hovermode\":\"closest\",\"mapbox\":{\"style\":\"light\"},\"paper_bgcolor\":\"white\",\"plot_bgcolor\":\"#E5ECF6\",\"polar\":{\"angularaxis\":{\"gridcolor\":\"white\",\"linecolor\":\"white\",\"ticks\":\"\"},\"bgcolor\":\"#E5ECF6\",\"radialaxis\":{\"gridcolor\":\"white\",\"linecolor\":\"white\",\"ticks\":\"\"}},\"scene\":{\"xaxis\":{\"backgroundcolor\":\"#E5ECF6\",\"gridcolor\":\"white\",\"gridwidth\":2,\"linecolor\":\"white\",\"showbackground\":true,\"ticks\":\"\",\"zerolinecolor\":\"white\"},\"yaxis\":{\"backgroundcolor\":\"#E5ECF6\",\"gridcolor\":\"white\",\"gridwidth\":2,\"linecolor\":\"white\",\"showbackground\":true,\"ticks\":\"\",\"zerolinecolor\":\"white\"},\"zaxis\":{\"backgroundcolor\":\"#E5ECF6\",\"gridcolor\":\"white\",\"gridwidth\":2,\"linecolor\":\"white\",\"showbackground\":true,\"ticks\":\"\",\"zerolinecolor\":\"white\"}},\"shapedefaults\":{\"line\":{\"color\":\"#2a3f5f\"}},\"ternary\":{\"aaxis\":{\"gridcolor\":\"white\",\"linecolor\":\"white\",\"ticks\":\"\"},\"baxis\":{\"gridcolor\":\"white\",\"linecolor\":\"white\",\"ticks\":\"\"},\"bgcolor\":\"#E5ECF6\",\"caxis\":{\"gridcolor\":\"white\",\"linecolor\":\"white\",\"ticks\":\"\"}},\"title\":{\"x\":0.05},\"xaxis\":{\"automargin\":true,\"gridcolor\":\"white\",\"linecolor\":\"white\",\"ticks\":\"\",\"title\":{\"standoff\":15},\"zerolinecolor\":\"white\",\"zerolinewidth\":2},\"yaxis\":{\"automargin\":true,\"gridcolor\":\"white\",\"linecolor\":\"white\",\"ticks\":\"\",\"title\":{\"standoff\":15},\"zerolinecolor\":\"white\",\"zerolinewidth\":2}}}},                        {\"responsive\": true}                    ).then(function(){\n",
              "                            \n",
              "var gd = document.getElementById('2f7ecb4c-1fa9-4beb-99a0-b939638028a4');\n",
              "var x = new MutationObserver(function (mutations, observer) {{\n",
              "        var display = window.getComputedStyle(gd).display;\n",
              "        if (!display || display === 'none') {{\n",
              "            console.log([gd, 'removed!']);\n",
              "            Plotly.purge(gd);\n",
              "            observer.disconnect();\n",
              "        }}\n",
              "}});\n",
              "\n",
              "// Listen for the removal of the full notebook cells\n",
              "var notebookContainer = gd.closest('#notebook-container');\n",
              "if (notebookContainer) {{\n",
              "    x.observe(notebookContainer, {childList: true});\n",
              "}}\n",
              "\n",
              "// Listen for the clearing of the current output cell\n",
              "var outputEl = gd.closest('.output');\n",
              "if (outputEl) {{\n",
              "    x.observe(outputEl, {childList: true});\n",
              "}}\n",
              "\n",
              "                        })                };                            </script>        </div>\n",
              "</body>\n",
              "</html>"
            ]
          },
          "metadata": {}
        },
        {
          "output_type": "stream",
          "name": "stdout",
          "text": [
            "pred size x 332 pred size y: 332\n"
          ]
        },
        {
          "output_type": "display_data",
          "data": {
            "text/html": [
              "<html>\n",
              "<head><meta charset=\"utf-8\" /></head>\n",
              "<body>\n",
              "    <div>            <script src=\"https://cdnjs.cloudflare.com/ajax/libs/mathjax/2.7.5/MathJax.js?config=TeX-AMS-MML_SVG\"></script><script type=\"text/javascript\">if (window.MathJax) {MathJax.Hub.Config({SVG: {font: \"STIX-Web\"}});}</script>                <script type=\"text/javascript\">window.PlotlyConfig = {MathJaxConfig: 'local'};</script>\n",
              "        <script src=\"https://cdn.plot.ly/plotly-2.8.3.min.js\"></script>                <div id=\"4eb77e99-bfe4-4373-bdac-49f0ec9c93cb\" class=\"plotly-graph-div\" style=\"height:525px; width:100%;\"></div>            <script type=\"text/javascript\">                                    window.PLOTLYENV=window.PLOTLYENV || {};                                    if (document.getElementById(\"4eb77e99-bfe4-4373-bdac-49f0ec9c93cb\")) {                    Plotly.newPlot(                        \"4eb77e99-bfe4-4373-bdac-49f0ec9c93cb\",                        [{\"error_y\":{\"array\":[],\"type\":\"data\",\"visible\":true},\"marker\":{\"size\":5,\"symbol\":\"star\"},\"mode\":\"markers\",\"name\":\"predictions\",\"x\":[90.3321,0.0,0.0,0.0,1.806642,0.0,0.0,0.0,0.0,0.903321,0.0,18.06642,0.0,0.0,0.0,9.03321,0.0,0.903321,1.806642,0.0,1.806642,0.0,0.903321,0.0,1.0839852,0.0,3.613284,0.0,0.0,1.0839852,0.5419926,90.3321,9.03321,90.3321,0.0,0.0,18.06642,90.3321,0.0,0.0,90.3321,9.03321,0.0,0.0,90.3321,18.06642,0.0,0.0,0.0,0.0,0.0,0.0,9.03321,0.4516605,0.0,0.0,0.0,0.0,0.0,0.0,27.09963,58.715865,58.715865,27.09963,58.715865,27.09963,58.715865,27.09963,90.3321,0.0,90.3321,0.0,18.06642,0.0,0.903321,0.0,0.0,90.3321,0.0,18.06642,0.0,18.06642,0.0,1.806642,0.0,0.903321,0.0,18.06642,0.0,9.03321,90.3321,0.0,18.06642,0.0,1.806642,0.0,0.903321,0.0,0.5419926,0.0,0.5419926,90.3321,90.3321,0.5419926,0.0,0.0,90.3321,0.903321,0.0,0.0,90.3321,90.3321,9.03321,0.5419926,0.0,0.0,90.3321,0.5419926,0.0,0.0,18.06642,0.5419926,0.5419926,1.806642,0.5419926,9.03321,18.06642,45.16605,4.516605,18.06642,1.806642,9.03321,0.0,3.613284,0.0,54.19926,90.3321,0.0,18.06642,0.0,0.0,0.0,9.03321,0.0,1.806642,0.0,0.903321,0.0,0.903321,0.0,0.0,0.903321,0.0,9.03321,0.0,1.806642,0.0,0.5419926,90.3321,0.0,0.0,0.0,0.5419926,0.0,0.0,0.0,0.0,36.13284,0.0,0.0,0.5419926,90.3321,0.0,0.0,90.3321,0.5419926,90.3321,0.903321,18.06642,0.5419926,0.5419926,0.5419926,0.5419926,0.903321,0.5419926,18.06642,0.4516605,4.516605,0.903321,4.516605,0.903321,4.516605,0.0,0.0,0.0,54.19926,27.09963,58.715865,27.09963,27.09963,0.0,72.26568,18.06642,0.0,9.03321,0.0,9.03321,0.0,0.0,90.3321,0.0,1.806642,0.0,90.3321,0.0,90.3321,0.0,90.3321,0.0,0.0,0.0,1.806642,90.3321,0.0,0.0,0.0,18.06642,0.0,9.03321,0.0,36.13284,0.0,0.0,0.0,0.0,0.0,1.806642,90.3321,1.806642,90.3321,18.06642,90.3321,0.0,0.0,90.3321,18.06642,0.5419926,0.5419926,0.0,0.0,0.0,0.0,90.3321,0.5419926,0.5419926,0.5419926,0.5419926,18.06642,9.03321,1.806642,1.806642,18.06642,0.0,0.0,27.09963,58.715865,27.09963,58.715865,0.0,0.0,0.5419926,0.0,0.0,0.0,0.0,90.3321,0.0,0.903321,0.903321,0.0,0.5419926,0.0,0.0,0.0,0.0,0.0,0.0,0.0,0.0,0.0,0.903321,90.3321,0.0,0.0,1.806642,90.3321,0.0,0.0,90.3321,90.3321,0.0,0.0,90.3321,18.06642,0.903321,0.5419926,9.03321,0.5419926,9.03321,0.5419926,0.5419926,0.903321,0.5419926,9.03321,0.5419926,18.06642,0.0,0.0,0.0,0.0,0.0,0.0,9.03321,1.806642,1.806642,18.06642,1.806642,18.06642,0.4516605,0.903321,54.19926,0.0,58.715865,27.09963,90.3321,0.0,18.06642,0.0,0.0,0.0,0.903321,0.0,0.5419926,0.0,0.0,18.06642,0.0,0.0,0.0,0.0,0.0,18.06642,0.0,0.0,0.0,0.903321,0.0,0.0,0.0,0.0,0.0,0.0,1.0839852,0.0,3.613284,0.0,3.613284,0.0,0.0,36.13284,0.0,0.0,0.0,0.0,90.3321,90.3321,90.3321,0.903321,90.3321,1.806642,90.3321,0.5419926,0.0,0.0,0.0,0.0,18.06642,45.16605,0.903321,4.516605,4.516605,18.06642,1.806642,9.03321,54.19926,0.0,0.0,54.19926,27.09963,27.09963,0.0,0.0,1.806642,0.0,0.5419926,0.0,0.0,90.3321,0.0,18.06642,0.0,9.03321,0.0,0.0,0.0,0.5419926,90.3321,0.0,18.06642,0.0,18.06642,0.0,9.03321,0.0,36.13284,0.0,0.0,1.0839852,0.0,36.13284,0.903321,90.3321,90.3321,90.3321,90.3321,0.5419926,90.3321,9.03321,90.3321,90.3321,0.0,0.0,0.5419926,0.5419926,0.903321,0.5419926,0.0,0.0,0.5419926,90.3321,0.0,0.0,0.0,0.0,4.516605,18.06642,0.0,3.613284,0.0,0.0,0.4516605,0.903321,0.0,54.19926,27.09963,27.09963,90.3321,0.0,90.3321,0.0,18.06642,0.0,18.06642,0.0,1.806642,0.0,0.903321,0.0,0.0,90.3321,0.0,0.903321,0.0,0.903321,36.13284,0.0,1.0839852,0.0,0.0,1.0839852,0.0,0.0,1.806642,90.3321,9.03321,90.3321,0.0,0.0,1.806642,0.5419926,1.806642,0.5419926,18.06642,0.5419926,0.5419926,0.5419926,0.5419926,1.806642,0.5419926,9.03321,0.0,0.0,0.5419926,90.3321,0.4516605,4.516605,9.03321,0.4516605,0.0,0.0,0.0,0.0,0.0,0.0,0.0,3.613284,54.19926,0.0,0.0,54.19926,0.0,72.26568,90.3321,0.0,18.06642,0.0,0.0,0.0,0.0,0.0,0.0,9.03321,0.0,0.0,0.0,1.806642,0.0,1.806642,0.0,0.5419926,0.0,0.0,9.03321,0.0,0.0,0.0,9.03321,90.3321,18.06642,90.3321,0.0,0.0,90.3321,90.3321,0.0,0.0,0.5419926,0.5419926,0.903321,0.5419926,1.806642,0.5419926,0.5419926,0.903321,0.5419926,1.806642,0.0,0.0,0.0,0.0,0.4516605,4.516605,0.0,0.0,0.0,0.0,9.03321,0.4516605,0.4516605,0.903321,54.19926,0.0,58.715865,27.09963,27.09963,27.09963,27.09963,27.09963,9.03321,0.0,9.03321,0.0,0.0,0.0,0.0,9.03321,0.0,1.806642,0.0,0.903321,0.0,18.06642,0.0,0.0,18.06642,0.0,0.0,0.0,9.03321,0.0,36.13284,0.0,0.0,0.0,0.0,0.0,0.903321,90.3321,0.0,0.0,0.0,0.0,0.0,0.0,90.3321,1.806642,90.3321,1.806642,0.0,0.0,90.3321,9.03321,0.0,0.0,0.0,0.0,0.0,0.0,0.5419926,90.3321,18.06642,45.16605,0.0,0.0,9.03321,1.806642,1.806642,9.03321,54.19926,0.0,72.26568,0.0,72.26568,0.0],\"y\":[89.22756962203927,3.8552273065475893,1.0753876293601172,1.054821220312208,1.0951969475619916,1.0649994744895193,1.075305220833233,1.0550294260194177,1.0757556608251608,1.1211969800708976,-0.7908817842093936,12.822598608288503,1.0750417580103155,1.0560165705037432,0.1958170449009734,5.852446177431223,0.9689304327702211,1.5274960847525412,1.096171843891507,1.0644874978685714,1.0962542524183911,1.0642792921613617,1.0765698929122411,1.0570915713825144,1.0769956379991128,1.055831037448331,1.0833015745885262,1.0512555308268474,1.0734447242607768,1.0618258937443203,4.494183275154015,94.54677295931357,10.664566373889764,94.41122137439254,1.0750392232205013,1.0561595924683047,16.706598452955443,92.95694431668656,1.0750392232205013,1.0561595924683047,88.76306188985758,6.073368378738725,1.0750392232205013,1.0561595924683047,89.14513963662273,12.752900830700204,1.0750392232205013,1.0561595924683047,1.0750392232205013,1.0561595924683047,1.0750392232205013,1.0561595924683047,1.7668937108910256,0.8326160500376956,1.0843360598026721,1.0635221014453171,1.0844447980427703,1.0654695633033195,1.0858283366552568,1.066379493530642,29.22618932984032,55.310681050238415,50.27060999297085,25.33847082099995,56.12266318353052,26.267623368821667,56.148532559060726,25.412702392168676,88.54252612459295,5.240554753072463,93.97099286267421,5.719828776485851,3.2965071086986226,0.33155258391268694,1.0311495774603112,0.9763453063274513,3.173872054505757,83.45802600922613,-0.8195861858972973,11.320105283390195,-0.8566202886343008,11.560160613416937,0.8397862668451879,1.7083591727811331,1.0282090540035052,0.9812102618821134,-0.9510178637394078,12.153963778872717,0.16950072127076699,4.720407629164825,81.4107305946312,5.165993512123883,9.379463429533036,0.07454580248539522,1.0498563193241621,0.985234232244332,1.0460064294071036,0.9889466930028583,1.0302962637652457,0.976999959980897,3.9136962088279468,93.07330413314173,82.20036192767596,4.341036493127038,1.029394128826426,0.9767011772532707,88.70008265596974,5.069313001572905,1.029394128826426,0.9767011772532707,95.26995702827934,91.55801407857379,1.6077279475406636,0.7676866327966545,1.029394128826426,0.9767011772532707,83.98156288241728,4.621809800947903,1.029394128826426,0.9767011772532707,6.5504589281288235,-0.035074959170665165,1.0124755571315678,1.037348121716941,0.12370314750051525,5.0393235261140275,15.429159367343274,44.34208878505792,-0.9819926527859804,13.398486222581353,0.07646059198193789,5.821956414369533,0.8863485951794101,1.4921786343984516,0.22101942008218511,48.79470810509676,88.08534527725374,6.401848617355025,6.025990007709162,0.24320807671618172,1.0697351642129158,1.0322726825108837,1.121700106190069,1.0454038658924814,1.0253060074724227,1.2628756771618224,1.0711627731578293,1.0334663479131416,1.0611976038150952,1.0680593809311707,1.0137699627080194,1.2266877362872464,0.11984679606307669,4.927371908217189,0.8421750973625339,1.8841498712351448,1.0483855825145638,1.1064671085408486,80.53452518951917,5.87782849038039,1.0693530743573056,1.033484691324521,1.0684644648106636,1.0386857227019144,1.0698147521260226,1.0322097708037181,-2.3021355359623143,25.221731151091877,1.0694326622704124,1.0334217796173555,4.499189519712993,95.5124678225053,1.0693522357398721,1.033626930732937,82.25448450706878,5.907200377044033,91.81443856850797,6.775878240978759,7.450096888172654,0.04942957505076939,1.0360934967770956,1.1519584968728085,0.9995458497943606,1.2803179455100162,-1.0954914265441247,13.186520384696818,0.599250542530426,2.7408172696789865,0.5813636551920485,2.8040016649882515,0.5757681996651964,2.8274510022785875,1.0111467688399005,1.2963084283444808,0.7741927505839459,48.375317079554264,27.173911158214587,55.681189133741135,20.64554302808932,22.350720240050176,7.613700886307092,56.384872084268046,6.857083518125814,0.012036352900402392,1.0947400917163925,1.0032828937652492,1.080841164958942,0.9905964764752453,4.235379572205939,96.65500960696431,0.9411182465288734,1.4380549278046684,4.403390792928083,97.44970570154399,3.2785555612200175,88.19550183313672,3.673338736176747,86.22681913554905,1.0484142376775376,0.9900410033071262,0.9120631766854004,1.5405019689911028,76.63400400024007,4.004271280601008,1.0484142376775376,0.9900410033071262,7.142042803944724,-0.03568374081215664,1.104631252159104,1.0100766627328779,22.441538573580495,0.7072952476268854,1.048491430392185,0.989979501231705,1.0484142376775376,0.9900410033071262,5.023982239831247,98.11980611510003,5.867761521517538,93.31853843034935,16.732306823947322,97.28985551480059,1.0484065646332597,0.9902053403624238,88.13333808235258,16.752903765558727,1.0493482634525761,0.992119347201123,1.0484065646332597,0.9902053403624238,1.0484065646332597,0.9902053403624238,82.86772971497108,4.331590483473275,1.0487636339025819,0.9931579170215687,-1.0187044696468863,12.896536771166442,1.8055496880207738,0.6935309130885765,-1.115863262677507,14.196727081897585,1.0635466924977675,1.0040940485821075,25.403066421335545,59.975332258281526,27.194976455489268,59.54819625247956,1.0848584009749462,1.0522484964073857,1.085451543120672,1.0528432061491042,1.0844609886719223,1.0534471935296044,2.825776873473462,85.50785161190252,0.951744811791772,1.5470949317801481,1.0260174533252147,1.3096454068857777,1.0852635796163062,1.0539315085801757,1.0844609886719223,1.0534471935296044,1.0845396583438864,1.0533831831041995,1.0844553976023719,1.0535937050943007,1.0844553976023719,1.0535937050943007,4.107651924717012,90.99596581519013,1.0844609886719223,1.0534471935296044,4.466872661996261,89.93321397501894,1.0844553976023719,1.0535937050943007,80.72531028006834,75.80587099266317,1.0843767279304075,1.0536577155197058,89.6421245549061,12.967521697318093,1.0724646235688327,1.0978823376315385,1.4276975673262573,0.9439269401545529,1.7874888471431332,0.7890076417328677,0.9503459271020159,1.5552891867666103,-0.07228560470664758,5.936446621928452,-1.2849118260386625,13.389441309430852,1.0844553976023719,1.0535937050943007,1.0844553976023719,1.0535937050943007,1.0846592553314793,1.05362982196785,2.0427428887087213,0.6911132000277196,-1.2249066012753569,13.645503445102149,-1.2125145743068155,13.898492040780209,0.921944607924023,1.6561203802001072,46.67553761623739,2.847164176552725,52.90892014316599,25.0796607771628,88.05578118158898,4.278246600220638,7.505446575666911,-0.07794984058434418,1.0529902154484663,1.0265791495382008,1.0543565698153323,1.0275879522347107,1.0533654649507989,1.0273162046993312,-1.1930884125341146,11.968524439135315,1.052585486922784,1.027777759719683,1.052585486922784,1.027777759719683,-1.09226935559766,11.436146270098728,1.0529902154484663,1.0265791495382008,1.0339969108100016,1.0975070490093422,1.0526677139437137,1.0277076312370987,1.0525851555467383,1.0279217692902507,1.0529902154484663,1.0265791495382008,1.0546858092750973,1.0271634287338056,1.060065416706546,1.0231386146505206,1.0597429152017934,1.0242670963494185,-2.8816422267975366,25.42033060439861,1.0525029285258083,1.027991897772835,1.0525851555467383,1.0279217692902507,81.01057464765657,79.70810790274257,90.46898717171463,4.068743763877691,89.46932672990103,4.008501860130443,80.12313551890524,3.156331849047847,1.0525851555467383,1.0279217692902507,1.0525851555467383,1.0279217692902507,10.355628044842813,44.386781592451044,0.5659347097074973,2.6842546412257846,-1.3188917560949391,13.536391959923769,-0.14845679835925418,6.56193967989868,46.31538867881223,2.4206251802422094,0.7328987608928479,49.371403166129596,21.361684500198095,22.445302698419802,1.0440599320381072,1.0157347643788242,1.0636898897543425,1.0266720947936026,1.0441453745397928,1.0176010023351658,2.942942987571794,85.44489821364958,-1.302675274579518,11.943392566385384,0.002872190101357308,5.039076984216786,1.0437281439075867,1.0168799908845756,1.042936311081762,1.0194414583888698,79.43840429832473,4.195448354161524,7.268304830426555,-0.36715487594718765,8.284512409980763,-0.36233831151781937,1.0878503711212326,1.0305386427441006,21.676728530595295,0.37580010146198206,1.0418905105550573,1.0227787429589572,-3.747973696228723,25.320338206806344,3.4622024874596,93.48875153530642,79.01898905098935,79.70169616991276,83.3402293035058,4.02356090623911,84.71041239744328,6.563300734581345,92.26621638925954,91.18445128196493,1.043644935032207,1.0170900577809052,1.0438779329280006,1.0191897982920277,1.0454515445503507,1.0187274929594177,1.043644935032207,1.0170900577809052,3.898295380296791,90.01521422379156,1.0500470713328725,1.0229250513093895,1.048355737555919,1.0203058847596225,-1.619720652076949,14.536212014675026,0.788573464250899,1.8584680315172308,1.0578939830016643,1.0315837414290125,0.9359436121355846,1.4374556496221462,0.48191280457943764,49.64184329864069,20.500282980453417,22.946258691628277,90.98139721618192,4.237860966754846,96.62046514769996,4.758271600530443,7.081562613736576,0.24055165876789264,7.377184888144312,0.25985510269822065,1.1096874276496553,1.0451971141795304,1.091054375116748,1.0357655558346435,2.567156933426845,84.70789404736172,1.088387161316279,1.0391871229264449,1.0153983803062234,1.3686710308146348,22.29778956673342,0.6546391442219441,1.0911344912145755,1.0357070785898357,1.0871057116198815,1.0426268734978217,1.0892662586733748,1.035724115949861,4.245599580923745,89.0656308767231,8.555442790799006,91.53297135475444,1.0892634894815079,1.0358680030441971,1.0924775439256311,1.035957792018716,1.0935592270940653,1.0352277534463752,6.898209041301966,0.2533723176296856,1.0895863652873519,1.0385726598137937,1.0703565184815627,1.1050559847509214,0.21164931946819898,5.489562788590739,1.0892634894815079,1.0358680030441971,2.503001323365482,84.62241189758223,0.5444791928040431,3.5922292768047317,2.508582424784333,0.7696769499040491,1.0531137439329277,1.2707124048266207,1.1044531583907224,1.048887833695137,1.0945346706779604,1.0400630153687762,0.8780844414544402,1.8455355971559215,48.99653747035717,2.7853243156359357,1.0726601917052774,49.50702298311788,6.91517744713299,53.42048244033906,83.83844386256732,5.753200090929079,7.340230937564835,-0.029387524434755896,1.0546208297960096,1.0175852499468732,1.0549957957194067,1.0163492453385463,0.1283301155911134,4.826998416189008,1.0549957957194067,1.0163492453385463,0.8197794007476309,1.9392475505630906,0.9468694161740406,1.4051999941975988,1.0541185666233497,1.0198558366582164,1.0546208297960096,1.0175852499468732,1.1079008535505737,1.0311546252718102,1.0546208297960096,1.0175852499468732,8.215559529718911,96.15229389724604,14.494658042191679,96.56293007693787,1.0546171270084066,1.0177316140391997,90.04866508211751,95.84489135623714,1.0546171270084066,1.0177316140391997,1.055318942284201,1.0196256245698632,1.0563212379439537,1.0197742117886741,1.059015064074409,1.0178610924847673,1.0540965996070584,1.0227531712437468,1.0339144041106123,1.096566416153727,1.0546171270084066,1.0177316140391997,1.0548250876657261,1.0177836060015228,0.6362983793682416,2.6048819596062107,0.9815416863793561,1.388072901174262,1.0548250876657261,1.0177836060015228,1.787038258773026,0.7431640949371163,0.9257406248653481,1.5778679048412063,44.11302509352195,3.1739127425271993,52.61345664639722,27.168619425136473,18.369732110184884,23.153719575164335,20.2430232478456,22.720748091013274,1.0831648680195678,1.0521920529992852,1.085024089253232,1.0506899079167233,1.0383319733551286,1.0303859030193097,0.16405422461536012,4.742676356325686,0.8864908538925206,1.6204759355919118,1.051165391152728,1.0559095108262266,-1.2291679497214818,12.72388209384991,1.0379877586142627,1.0313955172930358,8.858533483747491,0.04596251846559629,1.0379877586142627,1.0313955172930358,1.0915513908819947,1.0702747790075589,19.190201598632,0.7408202258642456,1.0383319733551286,1.0303859030193097,1.0379083439783126,1.0316407213139578,2.710607245001249,92.95443222539501,1.0379110267223055,1.0314867284954687,1.0378316120863553,1.0317319325163907,1.0378316120863553,1.0317319325163907,91.37606654925735,7.619046955622351,91.11376291114702,7.18288779933548,1.0378316120863553,1.0317319325163907,84.29051693405192,8.96759418675447,1.0379083439783126,1.0316407213139578,1.0379083439783126,1.0316407213139578,1.0379877586142627,1.0313955172930358,2.1082112803261612,91.70832043128306,11.581830239938022,43.1251910382064,1.0379083439783126,1.0316407213139578,2.316978040007233,0.7218153148168513,0.0234468853247487,5.797554067971588,46.31845934134515,4.181089214168968,83.72745870371831,6.617182166416944,73.88965364522402,5.512669044451469],\"type\":\"scatter\"},{\"error_y\":{\"array\":[],\"type\":\"data\",\"visible\":true},\"marker\":{\"size\":5,\"symbol\":\"line-ne-open\"},\"mode\":\"markers\",\"name\":\"actuals\",\"x\":[0.0,0.1001001001001001,0.2002002002002002,0.3003003003003003,0.4004004004004004,0.5005005005005005,0.6006006006006006,0.7007007007007008,0.8008008008008008,0.9009009009009009,1.001001001001001,1.1011011011011012,1.2012012012012012,1.3013013013013013,1.4014014014014016,1.5015015015015016,1.6016016016016017,1.7017017017017018,1.8018018018018018,1.9019019019019021,2.002002002002002,2.1021021021021022,2.2022022022022023,2.3023023023023024,2.4024024024024024,2.5025025025025025,2.6026026026026026,2.702702702702703,2.802802802802803,2.902902902902903,3.0030030030030033,3.1031031031031033,3.2032032032032034,3.3033033033033035,3.4034034034034035,3.5035035035035036,3.6036036036036037,3.7037037037037037,3.8038038038038042,3.9039039039039043,4.004004004004004,4.104104104104104,4.2042042042042045,4.3043043043043046,4.404404404404405,4.504504504504505,4.604604604604605,4.704704704704705,4.804804804804805,4.904904904904905,5.005005005005005,5.105105105105105,5.205205205205205,5.305305305305305,5.405405405405406,5.505505505505506,5.605605605605606,5.705705705705706,5.805805805805806,5.9059059059059065,6.0060060060060065,6.106106106106107,6.206206206206207,6.306306306306307,6.406406406406407,6.506506506506507,6.606606606606607,6.706706706706707,6.806806806806807,6.906906906906907,7.007007007007007,7.107107107107107,7.207207207207207,7.307307307307307,7.407407407407407,7.507507507507508,7.6076076076076085,7.7077077077077085,7.807807807807809,7.907907907907909,8.008008008008009,8.108108108108109,8.208208208208209,8.308308308308309,8.408408408408409,8.508508508508509,8.608608608608609,8.70870870870871,8.80880880880881,8.90890890890891,9.00900900900901,9.10910910910911,9.20920920920921,9.30930930930931,9.40940940940941,9.50950950950951,9.60960960960961,9.70970970970971,9.80980980980981,9.90990990990991,10.01001001001001,10.11011011011011,10.21021021021021,10.31031031031031,10.41041041041041,10.51051051051051,10.61061061061061,10.710710710710712,10.810810810810812,10.910910910910912,11.011011011011012,11.111111111111112,11.211211211211213,11.311311311311313,11.411411411411413,11.511511511511513,11.611611611611613,11.711711711711713,11.811811811811813,11.911911911911913,12.012012012012013,12.112112112112113,12.212212212212213,12.312312312312313,12.412412412412413,12.512512512512513,12.612612612612613,12.712712712712714,12.812812812812814,12.912912912912914,13.013013013013014,13.113113113113114,13.213213213213214,13.313313313313314,13.413413413413414,13.513513513513514,13.613613613613614,13.713713713713714,13.813813813813814,13.913913913913914,14.014014014014014,14.114114114114114,14.214214214214214,14.314314314314315,14.414414414414415,14.514514514514515,14.614614614614615,14.714714714714715,14.814814814814815,14.914914914914915,15.015015015015017,15.115115115115117,15.215215215215217,15.315315315315317,15.415415415415417,15.515515515515517,15.615615615615617,15.715715715715717,15.815815815815817,15.915915915915917,16.016016016016017,16.116116116116117,16.216216216216218,16.316316316316318,16.416416416416418,16.516516516516518,16.616616616616618,16.716716716716718,16.816816816816818,16.916916916916918,17.017017017017018,17.117117117117118,17.217217217217218,17.31731731731732,17.41741741741742,17.51751751751752,17.61761761761762,17.71771771771772,17.81781781781782,17.91791791791792,18.01801801801802,18.11811811811812,18.21821821821822,18.31831831831832,18.41841841841842,18.51851851851852,18.61861861861862,18.71871871871872,18.81881881881882,18.91891891891892,19.01901901901902,19.11911911911912,19.21921921921922,19.31931931931932,19.41941941941942,19.51951951951952,19.61961961961962,19.71971971971972,19.81981981981982,19.91991991991992,20.02002002002002,20.12012012012012,20.22022022022022,20.32032032032032,20.42042042042042,20.52052052052052,20.62062062062062,20.72072072072072,20.82082082082082,20.92092092092092,21.02102102102102,21.12112112112112,21.22122122122122,21.32132132132132,21.421421421421424,21.521521521521525,21.621621621621625,21.721721721721725,21.821821821821825,21.921921921921925,22.022022022022025,22.122122122122125,22.222222222222225,22.322322322322325,22.422422422422425,22.522522522522525,22.622622622622625,22.722722722722725,22.822822822822825,22.922922922922925,23.023023023023026,23.123123123123126,23.223223223223226,23.323323323323326,23.423423423423426,23.523523523523526,23.623623623623626,23.723723723723726,23.823823823823826,23.923923923923926,24.024024024024026,24.124124124124126,24.224224224224226,24.324324324324326,24.424424424424426,24.524524524524526,24.624624624624627,24.724724724724727,24.824824824824827,24.924924924924927,25.025025025025027,25.125125125125127,25.225225225225227,25.325325325325327,25.425425425425427,25.525525525525527,25.625625625625627,25.725725725725727,25.825825825825827,25.925925925925927,26.026026026026027,26.126126126126128,26.226226226226228,26.326326326326328,26.426426426426428,26.526526526526528,26.626626626626628,26.726726726726728,26.826826826826828,26.926926926926928,27.027027027027028,27.127127127127128,27.227227227227228,27.32732732732733,27.42742742742743,27.52752752752753,27.62762762762763,27.72772772772773,27.82782782782783,27.92792792792793,28.02802802802803,28.12812812812813,28.22822822822823,28.32832832832833,28.42842842842843,28.52852852852853,28.62862862862863,28.72872872872873,28.82882882882883,28.92892892892893,29.02902902902903,29.12912912912913,29.22922922922923,29.32932932932933,29.42942942942943,29.52952952952953,29.62962962962963,29.72972972972973,29.82982982982983,29.929929929929934,30.030030030030034,30.130130130130134,30.230230230230234,30.330330330330334,30.430430430430434,30.530530530530534,30.630630630630634,30.730730730730734,30.830830830830834,30.930930930930934,31.031031031031034,31.131131131131134,31.231231231231234,31.331331331331334,31.431431431431434,31.531531531531535,31.631631631631635,31.731731731731735,31.831831831831835,31.931931931931935,32.032032032032035,32.132132132132135,32.232232232232235,32.332332332332335,32.432432432432435,32.532532532532535,32.632632632632635,32.732732732732735,32.832832832832835,32.932932932932935,33.033033033033036,33.133133133133136,33.233233233233236,33.333333333333336,33.433433433433436,33.533533533533536,33.633633633633636,33.733733733733736,33.833833833833836,33.933933933933936,34.034034034034036,34.134134134134136,34.234234234234236,34.334334334334336,34.434434434434436,34.53453453453454,34.63463463463464,34.73473473473474,34.83483483483484,34.93493493493494,35.03503503503504,35.13513513513514,35.23523523523524,35.33533533533534,35.43543543543544,35.53553553553554,35.63563563563564,35.73573573573574,35.83583583583584,35.93593593593594,36.03603603603604,36.13613613613614,36.23623623623624,36.33633633633634,36.43643643643644,36.53653653653654,36.63663663663664,36.73673673673674,36.83683683683684,36.93693693693694,37.03703703703704,37.13713713713714,37.23723723723724,37.33733733733734,37.43743743743744,37.53753753753754,37.63763763763764,37.73773773773774,37.83783783783784,37.93793793793794,38.03803803803804,38.13813813813814,38.23823823823824,38.33833833833834,38.43843843843844,38.53853853853854,38.63863863863864,38.73873873873874,38.83883883883884,38.93893893893894,39.03903903903904,39.13913913913914,39.23923923923924,39.33933933933934,39.43943943943944,39.53953953953954,39.63963963963964,39.73973973973974,39.83983983983984,39.93993993993994,40.04004004004004,40.14014014014014,40.24024024024024,40.34034034034034,40.44044044044044,40.54054054054054,40.64064064064064,40.74074074074074,40.84084084084084,40.94094094094094,41.04104104104104,41.14114114114114,41.24124124124124,41.34134134134134,41.44144144144144,41.54154154154154,41.64164164164164,41.74174174174174,41.84184184184184,41.94194194194194,42.04204204204204,42.14214214214214,42.24224224224224,42.34234234234234,42.44244244244244,42.54254254254254,42.64264264264264,42.74274274274275,42.84284284284285,42.94294294294295,43.04304304304305,43.14314314314315,43.24324324324325,43.34334334334335,43.44344344344345,43.54354354354355,43.64364364364365,43.74374374374375,43.84384384384385,43.94394394394395,44.04404404404405,44.14414414414415,44.24424424424425,44.34434434434435,44.44444444444445,44.54454454454455,44.64464464464465,44.74474474474475,44.84484484484485,44.94494494494495,45.04504504504505,45.14514514514515,45.24524524524525,45.34534534534535,45.44544544544545,45.54554554554555,45.64564564564565,45.74574574574575,45.84584584584585,45.94594594594595,46.04604604604605,46.14614614614615,46.24624624624625,46.34634634634635,46.44644644644645,46.54654654654655,46.64664664664665,46.74674674674675,46.84684684684685,46.94694694694695,47.04704704704705,47.14714714714715,47.24724724724725,47.34734734734735,47.44744744744745,47.54754754754755,47.64764764764765,47.74774774774775,47.84784784784785,47.94794794794795,48.04804804804805,48.14814814814815,48.24824824824825,48.34834834834835,48.44844844844845,48.54854854854855,48.64864864864865,48.74874874874875,48.84884884884885,48.94894894894895,49.04904904904905,49.14914914914915,49.24924924924925,49.34934934934935,49.44944944944945,49.54954954954955,49.64964964964965,49.74974974974975,49.84984984984985,49.94994994994995,50.050050050050054,50.150150150150154,50.250250250250254,50.350350350350354,50.450450450450454,50.550550550550554,50.650650650650654,50.750750750750754,50.850850850850854,50.950950950950954,51.051051051051054,51.151151151151154,51.251251251251254,51.351351351351354,51.451451451451454,51.551551551551555,51.651651651651655,51.751751751751755,51.851851851851855,51.951951951951955,52.052052052052055,52.152152152152155,52.252252252252255,52.352352352352355,52.452452452452455,52.552552552552555,52.652652652652655,52.752752752752755,52.852852852852855,52.952952952952955,53.053053053053056,53.153153153153156,53.253253253253256,53.353353353353356,53.453453453453456,53.553553553553556,53.653653653653656,53.753753753753756,53.853853853853856,53.953953953953956,54.054054054054056,54.154154154154156,54.254254254254256,54.354354354354356,54.454454454454456,54.55455455455456,54.65465465465466,54.75475475475476,54.85485485485486,54.95495495495496,55.05505505505506,55.15515515515516,55.25525525525526,55.35535535535536,55.45545545545546,55.55555555555556,55.65565565565566,55.75575575575576,55.85585585585586,55.95595595595596,56.05605605605606,56.15615615615616,56.25625625625626,56.35635635635636,56.45645645645646,56.55655655655656,56.65665665665666,56.75675675675676,56.85685685685686,56.95695695695696,57.05705705705706,57.15715715715716,57.25725725725726,57.35735735735736,57.45745745745746,57.55755755755756,57.65765765765766,57.75775775775776,57.85785785785786,57.95795795795796,58.05805805805806,58.15815815815816,58.25825825825826,58.35835835835836,58.45845845845846,58.55855855855856,58.65865865865866,58.75875875875876,58.85885885885886,58.95895895895896,59.05905905905906,59.15915915915916,59.25925925925926,59.35935935935936,59.45945945945946,59.55955955955956,59.65965965965966,59.75975975975976,59.85985985985987,59.95995995995997,60.06006006006007,60.16016016016017,60.26026026026027,60.36036036036037,60.46046046046047,60.56056056056057,60.66066066066067,60.76076076076077,60.86086086086087,60.96096096096097,61.06106106106107,61.16116116116117,61.26126126126127,61.36136136136137,61.46146146146147,61.56156156156157,61.66166166166167,61.76176176176177,61.86186186186187,61.96196196196197,62.06206206206207,62.16216216216217,62.26226226226227,62.36236236236237,62.46246246246247,62.56256256256257,62.66266266266267,62.76276276276277,62.86286286286287,62.96296296296297,63.06306306306307,63.16316316316317,63.26326326326327,63.36336336336337,63.46346346346347,63.56356356356357,63.66366366366367,63.76376376376377,63.86386386386387,63.96396396396397,64.06406406406407,64.16416416416416,64.26426426426427,64.36436436436436,64.46446446446447,64.56456456456456,64.66466466466467,64.76476476476476,64.86486486486487,64.96496496496496,65.06506506506507,65.16516516516516,65.26526526526527,65.36536536536536,65.46546546546547,65.56556556556556,65.66566566566567,65.76576576576576,65.86586586586587,65.96596596596596,66.06606606606607,66.16616616616616,66.26626626626627,66.36636636636636,66.46646646646647,66.56656656656656,66.66666666666667,66.76676676676676,66.86686686686687,66.96696696696696,67.06706706706707,67.16716716716716,67.26726726726727,67.36736736736736,67.46746746746747,67.56756756756756,67.66766766766767,67.76776776776777,67.86786786786787,67.96796796796797,68.06806806806807,68.16816816816817,68.26826826826827,68.36836836836838,68.46846846846847,68.56856856856858,68.66866866866867,68.76876876876878,68.86886886886887,68.96896896896898,69.06906906906907,69.16916916916918,69.26926926926927,69.36936936936938,69.46946946946947,69.56956956956958,69.66966966966967,69.76976976976978,69.86986986986987,69.96996996996998,70.07007007007007,70.17017017017018,70.27027027027027,70.37037037037038,70.47047047047047,70.57057057057058,70.67067067067067,70.77077077077078,70.87087087087087,70.97097097097098,71.07107107107107,71.17117117117118,71.27127127127127,71.37137137137138,71.47147147147147,71.57157157157158,71.67167167167167,71.77177177177178,71.87187187187187,71.97197197197198,72.07207207207207,72.17217217217218,72.27227227227228,72.37237237237238,72.47247247247248,72.57257257257258,72.67267267267268,72.77277277277278,72.87287287287288,72.97297297297298,73.07307307307308,73.17317317317318,73.27327327327328,73.37337337337338,73.47347347347348,73.57357357357358,73.67367367367368,73.77377377377378,73.87387387387388,73.97397397397398,74.07407407407408,74.17417417417418,74.27427427427428,74.37437437437438,74.47447447447448,74.57457457457458,74.67467467467468,74.77477477477478,74.87487487487488,74.97497497497498,75.07507507507508,75.17517517517518,75.27527527527528,75.37537537537538,75.47547547547548,75.57557557557558,75.67567567567568,75.77577577577578,75.87587587587588,75.97597597597598,76.07607607607608,76.17617617617618,76.27627627627628,76.37637637637638,76.47647647647648,76.57657657657658,76.67667667667668,76.77677677677679,76.87687687687688,76.97697697697699,77.07707707707708,77.17717717717719,77.27727727727728,77.37737737737739,77.47747747747748,77.57757757757759,77.67767767767768,77.77777777777779,77.87787787787788,77.97797797797799,78.07807807807808,78.17817817817819,78.27827827827828,78.37837837837839,78.47847847847848,78.57857857857859,78.67867867867868,78.77877877877879,78.87887887887888,78.97897897897899,79.07907907907908,79.17917917917919,79.27927927927928,79.37937937937939,79.47947947947948,79.57957957957959,79.67967967967968,79.77977977977979,79.87987987987988,79.97997997997999,80.08008008008008,80.18018018018019,80.28028028028028,80.38038038038039,80.48048048048048,80.58058058058059,80.68068068068068,80.78078078078079,80.88088088088088,80.98098098098099,81.08108108108108,81.18118118118119,81.28128128128128,81.38138138138139,81.48148148148148,81.58158158158159,81.68168168168168,81.78178178178179,81.88188188188188,81.98198198198199,82.08208208208208,82.18218218218219,82.28228228228228,82.38238238238239,82.48248248248248,82.58258258258259,82.68268268268268,82.78278278278279,82.88288288288288,82.98298298298299,83.08308308308308,83.18318318318319,83.28328328328328,83.38338338338339,83.48348348348348,83.58358358358359,83.68368368368368,83.78378378378379,83.88388388388388,83.98398398398399,84.08408408408408,84.18418418418419,84.28428428428428,84.38438438438439,84.48448448448448,84.58458458458459,84.68468468468468,84.78478478478479,84.88488488488488,84.98498498498499,85.08508508508508,85.18518518518519,85.28528528528528,85.38538538538539,85.4854854854855,85.58558558558559,85.6856856856857,85.78578578578579,85.8858858858859,85.98598598598599,86.0860860860861,86.18618618618619,86.2862862862863,86.38638638638639,86.4864864864865,86.58658658658659,86.6866866866867,86.78678678678679,86.8868868868869,86.98698698698699,87.0870870870871,87.18718718718719,87.2872872872873,87.38738738738739,87.4874874874875,87.58758758758759,87.6876876876877,87.78778778778779,87.8878878878879,87.98798798798799,88.0880880880881,88.18818818818819,88.2882882882883,88.38838838838839,88.4884884884885,88.58858858858859,88.6886886886887,88.78878878878879,88.8888888888889,88.988988988989,89.0890890890891,89.1891891891892,89.2892892892893,89.3893893893894,89.4894894894895,89.5895895895896,89.6896896896897,89.7897897897898,89.8898898898899,89.98998998999,90.0900900900901,90.1901901901902,90.2902902902903,90.3903903903904,90.4904904904905,90.5905905905906,90.6906906906907,90.7907907907908,90.8908908908909,90.990990990991,91.0910910910911,91.1911911911912,91.2912912912913,91.3913913913914,91.4914914914915,91.5915915915916,91.6916916916917,91.7917917917918,91.8918918918919,91.991991991992,92.0920920920921,92.1921921921922,92.2922922922923,92.3923923923924,92.4924924924925,92.5925925925926,92.6926926926927,92.7927927927928,92.8928928928929,92.992992992993,93.0930930930931,93.1931931931932,93.2932932932933,93.3933933933934,93.4934934934935,93.5935935935936,93.6936936936937,93.7937937937938,93.8938938938939,93.993993993994,94.0940940940941,94.1941941941942,94.2942942942943,94.3943943943944,94.4944944944945,94.5945945945946,94.6946946946947,94.7947947947948,94.8948948948949,94.994994994995,95.0950950950951,95.1951951951952,95.2952952952953,95.3953953953954,95.4954954954955,95.5955955955956,95.6956956956957,95.7957957957958,95.8958958958959,95.995995995996,96.0960960960961,96.1961961961962,96.2962962962963,96.3963963963964,96.4964964964965,96.5965965965966,96.6966966966967,96.7967967967968,96.8968968968969,96.996996996997,97.0970970970971,97.1971971971972,97.2972972972973,97.3973973973974,97.4974974974975,97.5975975975976,97.6976976976977,97.7977977977978,97.8978978978979,97.997997997998,98.0980980980981,98.1981981981982,98.2982982982983,98.3983983983984,98.4984984984985,98.5985985985986,98.6986986986987,98.7987987987988,98.8988988988989,98.998998998999,99.0990990990991,99.1991991991992,99.2992992992993,99.3993993993994,99.4994994994995,99.5995995995996,99.6996996996997,99.7997997997998,99.8998998998999,100.0],\"y\":[0.0,0.1001001001001001,0.2002002002002002,0.3003003003003003,0.4004004004004004,0.5005005005005005,0.6006006006006006,0.7007007007007008,0.8008008008008008,0.9009009009009009,1.001001001001001,1.1011011011011012,1.2012012012012012,1.3013013013013013,1.4014014014014016,1.5015015015015016,1.6016016016016017,1.7017017017017018,1.8018018018018018,1.9019019019019021,2.002002002002002,2.1021021021021022,2.2022022022022023,2.3023023023023024,2.4024024024024024,2.5025025025025025,2.6026026026026026,2.702702702702703,2.802802802802803,2.902902902902903,3.0030030030030033,3.1031031031031033,3.2032032032032034,3.3033033033033035,3.4034034034034035,3.5035035035035036,3.6036036036036037,3.7037037037037037,3.8038038038038042,3.9039039039039043,4.004004004004004,4.104104104104104,4.2042042042042045,4.3043043043043046,4.404404404404405,4.504504504504505,4.604604604604605,4.704704704704705,4.804804804804805,4.904904904904905,5.005005005005005,5.105105105105105,5.205205205205205,5.305305305305305,5.405405405405406,5.505505505505506,5.605605605605606,5.705705705705706,5.805805805805806,5.9059059059059065,6.0060060060060065,6.106106106106107,6.206206206206207,6.306306306306307,6.406406406406407,6.506506506506507,6.606606606606607,6.706706706706707,6.806806806806807,6.906906906906907,7.007007007007007,7.107107107107107,7.207207207207207,7.307307307307307,7.407407407407407,7.507507507507508,7.6076076076076085,7.7077077077077085,7.807807807807809,7.907907907907909,8.008008008008009,8.108108108108109,8.208208208208209,8.308308308308309,8.408408408408409,8.508508508508509,8.608608608608609,8.70870870870871,8.80880880880881,8.90890890890891,9.00900900900901,9.10910910910911,9.20920920920921,9.30930930930931,9.40940940940941,9.50950950950951,9.60960960960961,9.70970970970971,9.80980980980981,9.90990990990991,10.01001001001001,10.11011011011011,10.21021021021021,10.31031031031031,10.41041041041041,10.51051051051051,10.61061061061061,10.710710710710712,10.810810810810812,10.910910910910912,11.011011011011012,11.111111111111112,11.211211211211213,11.311311311311313,11.411411411411413,11.511511511511513,11.611611611611613,11.711711711711713,11.811811811811813,11.911911911911913,12.012012012012013,12.112112112112113,12.212212212212213,12.312312312312313,12.412412412412413,12.512512512512513,12.612612612612613,12.712712712712714,12.812812812812814,12.912912912912914,13.013013013013014,13.113113113113114,13.213213213213214,13.313313313313314,13.413413413413414,13.513513513513514,13.613613613613614,13.713713713713714,13.813813813813814,13.913913913913914,14.014014014014014,14.114114114114114,14.214214214214214,14.314314314314315,14.414414414414415,14.514514514514515,14.614614614614615,14.714714714714715,14.814814814814815,14.914914914914915,15.015015015015017,15.115115115115117,15.215215215215217,15.315315315315317,15.415415415415417,15.515515515515517,15.615615615615617,15.715715715715717,15.815815815815817,15.915915915915917,16.016016016016017,16.116116116116117,16.216216216216218,16.316316316316318,16.416416416416418,16.516516516516518,16.616616616616618,16.716716716716718,16.816816816816818,16.916916916916918,17.017017017017018,17.117117117117118,17.217217217217218,17.31731731731732,17.41741741741742,17.51751751751752,17.61761761761762,17.71771771771772,17.81781781781782,17.91791791791792,18.01801801801802,18.11811811811812,18.21821821821822,18.31831831831832,18.41841841841842,18.51851851851852,18.61861861861862,18.71871871871872,18.81881881881882,18.91891891891892,19.01901901901902,19.11911911911912,19.21921921921922,19.31931931931932,19.41941941941942,19.51951951951952,19.61961961961962,19.71971971971972,19.81981981981982,19.91991991991992,20.02002002002002,20.12012012012012,20.22022022022022,20.32032032032032,20.42042042042042,20.52052052052052,20.62062062062062,20.72072072072072,20.82082082082082,20.92092092092092,21.02102102102102,21.12112112112112,21.22122122122122,21.32132132132132,21.421421421421424,21.521521521521525,21.621621621621625,21.721721721721725,21.821821821821825,21.921921921921925,22.022022022022025,22.122122122122125,22.222222222222225,22.322322322322325,22.422422422422425,22.522522522522525,22.622622622622625,22.722722722722725,22.822822822822825,22.922922922922925,23.023023023023026,23.123123123123126,23.223223223223226,23.323323323323326,23.423423423423426,23.523523523523526,23.623623623623626,23.723723723723726,23.823823823823826,23.923923923923926,24.024024024024026,24.124124124124126,24.224224224224226,24.324324324324326,24.424424424424426,24.524524524524526,24.624624624624627,24.724724724724727,24.824824824824827,24.924924924924927,25.025025025025027,25.125125125125127,25.225225225225227,25.325325325325327,25.425425425425427,25.525525525525527,25.625625625625627,25.725725725725727,25.825825825825827,25.925925925925927,26.026026026026027,26.126126126126128,26.226226226226228,26.326326326326328,26.426426426426428,26.526526526526528,26.626626626626628,26.726726726726728,26.826826826826828,26.926926926926928,27.027027027027028,27.127127127127128,27.227227227227228,27.32732732732733,27.42742742742743,27.52752752752753,27.62762762762763,27.72772772772773,27.82782782782783,27.92792792792793,28.02802802802803,28.12812812812813,28.22822822822823,28.32832832832833,28.42842842842843,28.52852852852853,28.62862862862863,28.72872872872873,28.82882882882883,28.92892892892893,29.02902902902903,29.12912912912913,29.22922922922923,29.32932932932933,29.42942942942943,29.52952952952953,29.62962962962963,29.72972972972973,29.82982982982983,29.929929929929934,30.030030030030034,30.130130130130134,30.230230230230234,30.330330330330334,30.430430430430434,30.530530530530534,30.630630630630634,30.730730730730734,30.830830830830834,30.930930930930934,31.031031031031034,31.131131131131134,31.231231231231234,31.331331331331334,31.431431431431434,31.531531531531535,31.631631631631635,31.731731731731735,31.831831831831835,31.931931931931935,32.032032032032035,32.132132132132135,32.232232232232235,32.332332332332335,32.432432432432435,32.532532532532535,32.632632632632635,32.732732732732735,32.832832832832835,32.932932932932935,33.033033033033036,33.133133133133136,33.233233233233236,33.333333333333336,33.433433433433436,33.533533533533536,33.633633633633636,33.733733733733736,33.833833833833836,33.933933933933936,34.034034034034036,34.134134134134136,34.234234234234236,34.334334334334336,34.434434434434436,34.53453453453454,34.63463463463464,34.73473473473474,34.83483483483484,34.93493493493494,35.03503503503504,35.13513513513514,35.23523523523524,35.33533533533534,35.43543543543544,35.53553553553554,35.63563563563564,35.73573573573574,35.83583583583584,35.93593593593594,36.03603603603604,36.13613613613614,36.23623623623624,36.33633633633634,36.43643643643644,36.53653653653654,36.63663663663664,36.73673673673674,36.83683683683684,36.93693693693694,37.03703703703704,37.13713713713714,37.23723723723724,37.33733733733734,37.43743743743744,37.53753753753754,37.63763763763764,37.73773773773774,37.83783783783784,37.93793793793794,38.03803803803804,38.13813813813814,38.23823823823824,38.33833833833834,38.43843843843844,38.53853853853854,38.63863863863864,38.73873873873874,38.83883883883884,38.93893893893894,39.03903903903904,39.13913913913914,39.23923923923924,39.33933933933934,39.43943943943944,39.53953953953954,39.63963963963964,39.73973973973974,39.83983983983984,39.93993993993994,40.04004004004004,40.14014014014014,40.24024024024024,40.34034034034034,40.44044044044044,40.54054054054054,40.64064064064064,40.74074074074074,40.84084084084084,40.94094094094094,41.04104104104104,41.14114114114114,41.24124124124124,41.34134134134134,41.44144144144144,41.54154154154154,41.64164164164164,41.74174174174174,41.84184184184184,41.94194194194194,42.04204204204204,42.14214214214214,42.24224224224224,42.34234234234234,42.44244244244244,42.54254254254254,42.64264264264264,42.74274274274275,42.84284284284285,42.94294294294295,43.04304304304305,43.14314314314315,43.24324324324325,43.34334334334335,43.44344344344345,43.54354354354355,43.64364364364365,43.74374374374375,43.84384384384385,43.94394394394395,44.04404404404405,44.14414414414415,44.24424424424425,44.34434434434435,44.44444444444445,44.54454454454455,44.64464464464465,44.74474474474475,44.84484484484485,44.94494494494495,45.04504504504505,45.14514514514515,45.24524524524525,45.34534534534535,45.44544544544545,45.54554554554555,45.64564564564565,45.74574574574575,45.84584584584585,45.94594594594595,46.04604604604605,46.14614614614615,46.24624624624625,46.34634634634635,46.44644644644645,46.54654654654655,46.64664664664665,46.74674674674675,46.84684684684685,46.94694694694695,47.04704704704705,47.14714714714715,47.24724724724725,47.34734734734735,47.44744744744745,47.54754754754755,47.64764764764765,47.74774774774775,47.84784784784785,47.94794794794795,48.04804804804805,48.14814814814815,48.24824824824825,48.34834834834835,48.44844844844845,48.54854854854855,48.64864864864865,48.74874874874875,48.84884884884885,48.94894894894895,49.04904904904905,49.14914914914915,49.24924924924925,49.34934934934935,49.44944944944945,49.54954954954955,49.64964964964965,49.74974974974975,49.84984984984985,49.94994994994995,50.050050050050054,50.150150150150154,50.250250250250254,50.350350350350354,50.450450450450454,50.550550550550554,50.650650650650654,50.750750750750754,50.850850850850854,50.950950950950954,51.051051051051054,51.151151151151154,51.251251251251254,51.351351351351354,51.451451451451454,51.551551551551555,51.651651651651655,51.751751751751755,51.851851851851855,51.951951951951955,52.052052052052055,52.152152152152155,52.252252252252255,52.352352352352355,52.452452452452455,52.552552552552555,52.652652652652655,52.752752752752755,52.852852852852855,52.952952952952955,53.053053053053056,53.153153153153156,53.253253253253256,53.353353353353356,53.453453453453456,53.553553553553556,53.653653653653656,53.753753753753756,53.853853853853856,53.953953953953956,54.054054054054056,54.154154154154156,54.254254254254256,54.354354354354356,54.454454454454456,54.55455455455456,54.65465465465466,54.75475475475476,54.85485485485486,54.95495495495496,55.05505505505506,55.15515515515516,55.25525525525526,55.35535535535536,55.45545545545546,55.55555555555556,55.65565565565566,55.75575575575576,55.85585585585586,55.95595595595596,56.05605605605606,56.15615615615616,56.25625625625626,56.35635635635636,56.45645645645646,56.55655655655656,56.65665665665666,56.75675675675676,56.85685685685686,56.95695695695696,57.05705705705706,57.15715715715716,57.25725725725726,57.35735735735736,57.45745745745746,57.55755755755756,57.65765765765766,57.75775775775776,57.85785785785786,57.95795795795796,58.05805805805806,58.15815815815816,58.25825825825826,58.35835835835836,58.45845845845846,58.55855855855856,58.65865865865866,58.75875875875876,58.85885885885886,58.95895895895896,59.05905905905906,59.15915915915916,59.25925925925926,59.35935935935936,59.45945945945946,59.55955955955956,59.65965965965966,59.75975975975976,59.85985985985987,59.95995995995997,60.06006006006007,60.16016016016017,60.26026026026027,60.36036036036037,60.46046046046047,60.56056056056057,60.66066066066067,60.76076076076077,60.86086086086087,60.96096096096097,61.06106106106107,61.16116116116117,61.26126126126127,61.36136136136137,61.46146146146147,61.56156156156157,61.66166166166167,61.76176176176177,61.86186186186187,61.96196196196197,62.06206206206207,62.16216216216217,62.26226226226227,62.36236236236237,62.46246246246247,62.56256256256257,62.66266266266267,62.76276276276277,62.86286286286287,62.96296296296297,63.06306306306307,63.16316316316317,63.26326326326327,63.36336336336337,63.46346346346347,63.56356356356357,63.66366366366367,63.76376376376377,63.86386386386387,63.96396396396397,64.06406406406407,64.16416416416416,64.26426426426427,64.36436436436436,64.46446446446447,64.56456456456456,64.66466466466467,64.76476476476476,64.86486486486487,64.96496496496496,65.06506506506507,65.16516516516516,65.26526526526527,65.36536536536536,65.46546546546547,65.56556556556556,65.66566566566567,65.76576576576576,65.86586586586587,65.96596596596596,66.06606606606607,66.16616616616616,66.26626626626627,66.36636636636636,66.46646646646647,66.56656656656656,66.66666666666667,66.76676676676676,66.86686686686687,66.96696696696696,67.06706706706707,67.16716716716716,67.26726726726727,67.36736736736736,67.46746746746747,67.56756756756756,67.66766766766767,67.76776776776777,67.86786786786787,67.96796796796797,68.06806806806807,68.16816816816817,68.26826826826827,68.36836836836838,68.46846846846847,68.56856856856858,68.66866866866867,68.76876876876878,68.86886886886887,68.96896896896898,69.06906906906907,69.16916916916918,69.26926926926927,69.36936936936938,69.46946946946947,69.56956956956958,69.66966966966967,69.76976976976978,69.86986986986987,69.96996996996998,70.07007007007007,70.17017017017018,70.27027027027027,70.37037037037038,70.47047047047047,70.57057057057058,70.67067067067067,70.77077077077078,70.87087087087087,70.97097097097098,71.07107107107107,71.17117117117118,71.27127127127127,71.37137137137138,71.47147147147147,71.57157157157158,71.67167167167167,71.77177177177178,71.87187187187187,71.97197197197198,72.07207207207207,72.17217217217218,72.27227227227228,72.37237237237238,72.47247247247248,72.57257257257258,72.67267267267268,72.77277277277278,72.87287287287288,72.97297297297298,73.07307307307308,73.17317317317318,73.27327327327328,73.37337337337338,73.47347347347348,73.57357357357358,73.67367367367368,73.77377377377378,73.87387387387388,73.97397397397398,74.07407407407408,74.17417417417418,74.27427427427428,74.37437437437438,74.47447447447448,74.57457457457458,74.67467467467468,74.77477477477478,74.87487487487488,74.97497497497498,75.07507507507508,75.17517517517518,75.27527527527528,75.37537537537538,75.47547547547548,75.57557557557558,75.67567567567568,75.77577577577578,75.87587587587588,75.97597597597598,76.07607607607608,76.17617617617618,76.27627627627628,76.37637637637638,76.47647647647648,76.57657657657658,76.67667667667668,76.77677677677679,76.87687687687688,76.97697697697699,77.07707707707708,77.17717717717719,77.27727727727728,77.37737737737739,77.47747747747748,77.57757757757759,77.67767767767768,77.77777777777779,77.87787787787788,77.97797797797799,78.07807807807808,78.17817817817819,78.27827827827828,78.37837837837839,78.47847847847848,78.57857857857859,78.67867867867868,78.77877877877879,78.87887887887888,78.97897897897899,79.07907907907908,79.17917917917919,79.27927927927928,79.37937937937939,79.47947947947948,79.57957957957959,79.67967967967968,79.77977977977979,79.87987987987988,79.97997997997999,80.08008008008008,80.18018018018019,80.28028028028028,80.38038038038039,80.48048048048048,80.58058058058059,80.68068068068068,80.78078078078079,80.88088088088088,80.98098098098099,81.08108108108108,81.18118118118119,81.28128128128128,81.38138138138139,81.48148148148148,81.58158158158159,81.68168168168168,81.78178178178179,81.88188188188188,81.98198198198199,82.08208208208208,82.18218218218219,82.28228228228228,82.38238238238239,82.48248248248248,82.58258258258259,82.68268268268268,82.78278278278279,82.88288288288288,82.98298298298299,83.08308308308308,83.18318318318319,83.28328328328328,83.38338338338339,83.48348348348348,83.58358358358359,83.68368368368368,83.78378378378379,83.88388388388388,83.98398398398399,84.08408408408408,84.18418418418419,84.28428428428428,84.38438438438439,84.48448448448448,84.58458458458459,84.68468468468468,84.78478478478479,84.88488488488488,84.98498498498499,85.08508508508508,85.18518518518519,85.28528528528528,85.38538538538539,85.4854854854855,85.58558558558559,85.6856856856857,85.78578578578579,85.8858858858859,85.98598598598599,86.0860860860861,86.18618618618619,86.2862862862863,86.38638638638639,86.4864864864865,86.58658658658659,86.6866866866867,86.78678678678679,86.8868868868869,86.98698698698699,87.0870870870871,87.18718718718719,87.2872872872873,87.38738738738739,87.4874874874875,87.58758758758759,87.6876876876877,87.78778778778779,87.8878878878879,87.98798798798799,88.0880880880881,88.18818818818819,88.2882882882883,88.38838838838839,88.4884884884885,88.58858858858859,88.6886886886887,88.78878878878879,88.8888888888889,88.988988988989,89.0890890890891,89.1891891891892,89.2892892892893,89.3893893893894,89.4894894894895,89.5895895895896,89.6896896896897,89.7897897897898,89.8898898898899,89.98998998999,90.0900900900901,90.1901901901902,90.2902902902903,90.3903903903904,90.4904904904905,90.5905905905906,90.6906906906907,90.7907907907908,90.8908908908909,90.990990990991,91.0910910910911,91.1911911911912,91.2912912912913,91.3913913913914,91.4914914914915,91.5915915915916,91.6916916916917,91.7917917917918,91.8918918918919,91.991991991992,92.0920920920921,92.1921921921922,92.2922922922923,92.3923923923924,92.4924924924925,92.5925925925926,92.6926926926927,92.7927927927928,92.8928928928929,92.992992992993,93.0930930930931,93.1931931931932,93.2932932932933,93.3933933933934,93.4934934934935,93.5935935935936,93.6936936936937,93.7937937937938,93.8938938938939,93.993993993994,94.0940940940941,94.1941941941942,94.2942942942943,94.3943943943944,94.4944944944945,94.5945945945946,94.6946946946947,94.7947947947948,94.8948948948949,94.994994994995,95.0950950950951,95.1951951951952,95.2952952952953,95.3953953953954,95.4954954954955,95.5955955955956,95.6956956956957,95.7957957957958,95.8958958958959,95.995995995996,96.0960960960961,96.1961961961962,96.2962962962963,96.3963963963964,96.4964964964965,96.5965965965966,96.6966966966967,96.7967967967968,96.8968968968969,96.996996996997,97.0970970970971,97.1971971971972,97.2972972972973,97.3973973973974,97.4974974974975,97.5975975975976,97.6976976976977,97.7977977977978,97.8978978978979,97.997997997998,98.0980980980981,98.1981981981982,98.2982982982983,98.3983983983984,98.4984984984985,98.5985985985986,98.6986986986987,98.7987987987988,98.8988988988989,98.998998998999,99.0990990990991,99.1991991991992,99.2992992992993,99.3993993993994,99.4994994994995,99.5995995995996,99.6996996996997,99.7997997997998,99.8998998998999,100.0],\"type\":\"scatter\"}],                        {\"title\":{\"text\":\"Multi_NN predicted v actual\"},\"template\":{\"data\":{\"bar\":[{\"error_x\":{\"color\":\"#2a3f5f\"},\"error_y\":{\"color\":\"#2a3f5f\"},\"marker\":{\"line\":{\"color\":\"#E5ECF6\",\"width\":0.5},\"pattern\":{\"fillmode\":\"overlay\",\"size\":10,\"solidity\":0.2}},\"type\":\"bar\"}],\"barpolar\":[{\"marker\":{\"line\":{\"color\":\"#E5ECF6\",\"width\":0.5},\"pattern\":{\"fillmode\":\"overlay\",\"size\":10,\"solidity\":0.2}},\"type\":\"barpolar\"}],\"carpet\":[{\"aaxis\":{\"endlinecolor\":\"#2a3f5f\",\"gridcolor\":\"white\",\"linecolor\":\"white\",\"minorgridcolor\":\"white\",\"startlinecolor\":\"#2a3f5f\"},\"baxis\":{\"endlinecolor\":\"#2a3f5f\",\"gridcolor\":\"white\",\"linecolor\":\"white\",\"minorgridcolor\":\"white\",\"startlinecolor\":\"#2a3f5f\"},\"type\":\"carpet\"}],\"choropleth\":[{\"colorbar\":{\"outlinewidth\":0,\"ticks\":\"\"},\"type\":\"choropleth\"}],\"contour\":[{\"colorbar\":{\"outlinewidth\":0,\"ticks\":\"\"},\"colorscale\":[[0.0,\"#0d0887\"],[0.1111111111111111,\"#46039f\"],[0.2222222222222222,\"#7201a8\"],[0.3333333333333333,\"#9c179e\"],[0.4444444444444444,\"#bd3786\"],[0.5555555555555556,\"#d8576b\"],[0.6666666666666666,\"#ed7953\"],[0.7777777777777778,\"#fb9f3a\"],[0.8888888888888888,\"#fdca26\"],[1.0,\"#f0f921\"]],\"type\":\"contour\"}],\"contourcarpet\":[{\"colorbar\":{\"outlinewidth\":0,\"ticks\":\"\"},\"type\":\"contourcarpet\"}],\"heatmap\":[{\"colorbar\":{\"outlinewidth\":0,\"ticks\":\"\"},\"colorscale\":[[0.0,\"#0d0887\"],[0.1111111111111111,\"#46039f\"],[0.2222222222222222,\"#7201a8\"],[0.3333333333333333,\"#9c179e\"],[0.4444444444444444,\"#bd3786\"],[0.5555555555555556,\"#d8576b\"],[0.6666666666666666,\"#ed7953\"],[0.7777777777777778,\"#fb9f3a\"],[0.8888888888888888,\"#fdca26\"],[1.0,\"#f0f921\"]],\"type\":\"heatmap\"}],\"heatmapgl\":[{\"colorbar\":{\"outlinewidth\":0,\"ticks\":\"\"},\"colorscale\":[[0.0,\"#0d0887\"],[0.1111111111111111,\"#46039f\"],[0.2222222222222222,\"#7201a8\"],[0.3333333333333333,\"#9c179e\"],[0.4444444444444444,\"#bd3786\"],[0.5555555555555556,\"#d8576b\"],[0.6666666666666666,\"#ed7953\"],[0.7777777777777778,\"#fb9f3a\"],[0.8888888888888888,\"#fdca26\"],[1.0,\"#f0f921\"]],\"type\":\"heatmapgl\"}],\"histogram\":[{\"marker\":{\"pattern\":{\"fillmode\":\"overlay\",\"size\":10,\"solidity\":0.2}},\"type\":\"histogram\"}],\"histogram2d\":[{\"colorbar\":{\"outlinewidth\":0,\"ticks\":\"\"},\"colorscale\":[[0.0,\"#0d0887\"],[0.1111111111111111,\"#46039f\"],[0.2222222222222222,\"#7201a8\"],[0.3333333333333333,\"#9c179e\"],[0.4444444444444444,\"#bd3786\"],[0.5555555555555556,\"#d8576b\"],[0.6666666666666666,\"#ed7953\"],[0.7777777777777778,\"#fb9f3a\"],[0.8888888888888888,\"#fdca26\"],[1.0,\"#f0f921\"]],\"type\":\"histogram2d\"}],\"histogram2dcontour\":[{\"colorbar\":{\"outlinewidth\":0,\"ticks\":\"\"},\"colorscale\":[[0.0,\"#0d0887\"],[0.1111111111111111,\"#46039f\"],[0.2222222222222222,\"#7201a8\"],[0.3333333333333333,\"#9c179e\"],[0.4444444444444444,\"#bd3786\"],[0.5555555555555556,\"#d8576b\"],[0.6666666666666666,\"#ed7953\"],[0.7777777777777778,\"#fb9f3a\"],[0.8888888888888888,\"#fdca26\"],[1.0,\"#f0f921\"]],\"type\":\"histogram2dcontour\"}],\"mesh3d\":[{\"colorbar\":{\"outlinewidth\":0,\"ticks\":\"\"},\"type\":\"mesh3d\"}],\"parcoords\":[{\"line\":{\"colorbar\":{\"outlinewidth\":0,\"ticks\":\"\"}},\"type\":\"parcoords\"}],\"pie\":[{\"automargin\":true,\"type\":\"pie\"}],\"scatter\":[{\"marker\":{\"colorbar\":{\"outlinewidth\":0,\"ticks\":\"\"}},\"type\":\"scatter\"}],\"scatter3d\":[{\"line\":{\"colorbar\":{\"outlinewidth\":0,\"ticks\":\"\"}},\"marker\":{\"colorbar\":{\"outlinewidth\":0,\"ticks\":\"\"}},\"type\":\"scatter3d\"}],\"scattercarpet\":[{\"marker\":{\"colorbar\":{\"outlinewidth\":0,\"ticks\":\"\"}},\"type\":\"scattercarpet\"}],\"scattergeo\":[{\"marker\":{\"colorbar\":{\"outlinewidth\":0,\"ticks\":\"\"}},\"type\":\"scattergeo\"}],\"scattergl\":[{\"marker\":{\"colorbar\":{\"outlinewidth\":0,\"ticks\":\"\"}},\"type\":\"scattergl\"}],\"scattermapbox\":[{\"marker\":{\"colorbar\":{\"outlinewidth\":0,\"ticks\":\"\"}},\"type\":\"scattermapbox\"}],\"scatterpolar\":[{\"marker\":{\"colorbar\":{\"outlinewidth\":0,\"ticks\":\"\"}},\"type\":\"scatterpolar\"}],\"scatterpolargl\":[{\"marker\":{\"colorbar\":{\"outlinewidth\":0,\"ticks\":\"\"}},\"type\":\"scatterpolargl\"}],\"scatterternary\":[{\"marker\":{\"colorbar\":{\"outlinewidth\":0,\"ticks\":\"\"}},\"type\":\"scatterternary\"}],\"surface\":[{\"colorbar\":{\"outlinewidth\":0,\"ticks\":\"\"},\"colorscale\":[[0.0,\"#0d0887\"],[0.1111111111111111,\"#46039f\"],[0.2222222222222222,\"#7201a8\"],[0.3333333333333333,\"#9c179e\"],[0.4444444444444444,\"#bd3786\"],[0.5555555555555556,\"#d8576b\"],[0.6666666666666666,\"#ed7953\"],[0.7777777777777778,\"#fb9f3a\"],[0.8888888888888888,\"#fdca26\"],[1.0,\"#f0f921\"]],\"type\":\"surface\"}],\"table\":[{\"cells\":{\"fill\":{\"color\":\"#EBF0F8\"},\"line\":{\"color\":\"white\"}},\"header\":{\"fill\":{\"color\":\"#C8D4E3\"},\"line\":{\"color\":\"white\"}},\"type\":\"table\"}]},\"layout\":{\"annotationdefaults\":{\"arrowcolor\":\"#2a3f5f\",\"arrowhead\":0,\"arrowwidth\":1},\"autotypenumbers\":\"strict\",\"coloraxis\":{\"colorbar\":{\"outlinewidth\":0,\"ticks\":\"\"}},\"colorscale\":{\"diverging\":[[0,\"#8e0152\"],[0.1,\"#c51b7d\"],[0.2,\"#de77ae\"],[0.3,\"#f1b6da\"],[0.4,\"#fde0ef\"],[0.5,\"#f7f7f7\"],[0.6,\"#e6f5d0\"],[0.7,\"#b8e186\"],[0.8,\"#7fbc41\"],[0.9,\"#4d9221\"],[1,\"#276419\"]],\"sequential\":[[0.0,\"#0d0887\"],[0.1111111111111111,\"#46039f\"],[0.2222222222222222,\"#7201a8\"],[0.3333333333333333,\"#9c179e\"],[0.4444444444444444,\"#bd3786\"],[0.5555555555555556,\"#d8576b\"],[0.6666666666666666,\"#ed7953\"],[0.7777777777777778,\"#fb9f3a\"],[0.8888888888888888,\"#fdca26\"],[1.0,\"#f0f921\"]],\"sequentialminus\":[[0.0,\"#0d0887\"],[0.1111111111111111,\"#46039f\"],[0.2222222222222222,\"#7201a8\"],[0.3333333333333333,\"#9c179e\"],[0.4444444444444444,\"#bd3786\"],[0.5555555555555556,\"#d8576b\"],[0.6666666666666666,\"#ed7953\"],[0.7777777777777778,\"#fb9f3a\"],[0.8888888888888888,\"#fdca26\"],[1.0,\"#f0f921\"]]},\"colorway\":[\"#636efa\",\"#EF553B\",\"#00cc96\",\"#ab63fa\",\"#FFA15A\",\"#19d3f3\",\"#FF6692\",\"#B6E880\",\"#FF97FF\",\"#FECB52\"],\"font\":{\"color\":\"#2a3f5f\"},\"geo\":{\"bgcolor\":\"white\",\"lakecolor\":\"white\",\"landcolor\":\"#E5ECF6\",\"showlakes\":true,\"showland\":true,\"subunitcolor\":\"white\"},\"hoverlabel\":{\"align\":\"left\"},\"hovermode\":\"closest\",\"mapbox\":{\"style\":\"light\"},\"paper_bgcolor\":\"white\",\"plot_bgcolor\":\"#E5ECF6\",\"polar\":{\"angularaxis\":{\"gridcolor\":\"white\",\"linecolor\":\"white\",\"ticks\":\"\"},\"bgcolor\":\"#E5ECF6\",\"radialaxis\":{\"gridcolor\":\"white\",\"linecolor\":\"white\",\"ticks\":\"\"}},\"scene\":{\"xaxis\":{\"backgroundcolor\":\"#E5ECF6\",\"gridcolor\":\"white\",\"gridwidth\":2,\"linecolor\":\"white\",\"showbackground\":true,\"ticks\":\"\",\"zerolinecolor\":\"white\"},\"yaxis\":{\"backgroundcolor\":\"#E5ECF6\",\"gridcolor\":\"white\",\"gridwidth\":2,\"linecolor\":\"white\",\"showbackground\":true,\"ticks\":\"\",\"zerolinecolor\":\"white\"},\"zaxis\":{\"backgroundcolor\":\"#E5ECF6\",\"gridcolor\":\"white\",\"gridwidth\":2,\"linecolor\":\"white\",\"showbackground\":true,\"ticks\":\"\",\"zerolinecolor\":\"white\"}},\"shapedefaults\":{\"line\":{\"color\":\"#2a3f5f\"}},\"ternary\":{\"aaxis\":{\"gridcolor\":\"white\",\"linecolor\":\"white\",\"ticks\":\"\"},\"baxis\":{\"gridcolor\":\"white\",\"linecolor\":\"white\",\"ticks\":\"\"},\"bgcolor\":\"#E5ECF6\",\"caxis\":{\"gridcolor\":\"white\",\"linecolor\":\"white\",\"ticks\":\"\"}},\"title\":{\"x\":0.05},\"xaxis\":{\"automargin\":true,\"gridcolor\":\"white\",\"linecolor\":\"white\",\"ticks\":\"\",\"title\":{\"standoff\":15},\"zerolinecolor\":\"white\",\"zerolinewidth\":2},\"yaxis\":{\"automargin\":true,\"gridcolor\":\"white\",\"linecolor\":\"white\",\"ticks\":\"\",\"title\":{\"standoff\":15},\"zerolinecolor\":\"white\",\"zerolinewidth\":2}}}},                        {\"responsive\": true}                    ).then(function(){\n",
              "                            \n",
              "var gd = document.getElementById('4eb77e99-bfe4-4373-bdac-49f0ec9c93cb');\n",
              "var x = new MutationObserver(function (mutations, observer) {{\n",
              "        var display = window.getComputedStyle(gd).display;\n",
              "        if (!display || display === 'none') {{\n",
              "            console.log([gd, 'removed!']);\n",
              "            Plotly.purge(gd);\n",
              "            observer.disconnect();\n",
              "        }}\n",
              "}});\n",
              "\n",
              "// Listen for the removal of the full notebook cells\n",
              "var notebookContainer = gd.closest('#notebook-container');\n",
              "if (notebookContainer) {{\n",
              "    x.observe(notebookContainer, {childList: true});\n",
              "}}\n",
              "\n",
              "// Listen for the clearing of the current output cell\n",
              "var outputEl = gd.closest('.output');\n",
              "if (outputEl) {{\n",
              "    x.observe(outputEl, {childList: true});\n",
              "}}\n",
              "\n",
              "                        })                };                            </script>        </div>\n",
              "</body>\n",
              "</html>"
            ]
          },
          "metadata": {}
        },
        {
          "output_type": "stream",
          "name": "stdout",
          "text": [
            "pred size x 664 pred size y: 664\n"
          ]
        },
        {
          "output_type": "display_data",
          "data": {
            "text/html": [
              "<html>\n",
              "<head><meta charset=\"utf-8\" /></head>\n",
              "<body>\n",
              "    <div>            <script src=\"https://cdnjs.cloudflare.com/ajax/libs/mathjax/2.7.5/MathJax.js?config=TeX-AMS-MML_SVG\"></script><script type=\"text/javascript\">if (window.MathJax) {MathJax.Hub.Config({SVG: {font: \"STIX-Web\"}});}</script>                <script type=\"text/javascript\">window.PlotlyConfig = {MathJaxConfig: 'local'};</script>\n",
              "        <script src=\"https://cdn.plot.ly/plotly-2.8.3.min.js\"></script>                <div id=\"006ca7dd-e231-4d12-84c6-e790733f8c5e\" class=\"plotly-graph-div\" style=\"height:525px; width:100%;\"></div>            <script type=\"text/javascript\">                                    window.PLOTLYENV=window.PLOTLYENV || {};                                    if (document.getElementById(\"006ca7dd-e231-4d12-84c6-e790733f8c5e\")) {                    Plotly.newPlot(                        \"006ca7dd-e231-4d12-84c6-e790733f8c5e\",                        [{\"error_y\":{\"array\":[],\"type\":\"data\",\"visible\":true},\"marker\":{\"size\":5,\"symbol\":\"star\"},\"mode\":\"markers\",\"name\":\"predictions\",\"x\":[0.0,0.0,0.0,0.0,0.903321,18.06642,0.0,9.03321,0.903321,0.0,0.0,0.0,0.0,0.0,1.0839852,90.3321,90.3321,0.0,90.3321,0.0,9.03321,0.0,18.06642,0.0,0.0,0.0,0.4516605,0.0,0.0,0.0,58.715865,27.09963,27.09963,27.09963,0.0,0.0,0.0,0.0,90.3321,18.06642,18.06642,1.806642,0.903321,18.06642,9.03321,0.0,0.0,0.0,0.0,0.0,90.3321,0.5419926,0.0,0.903321,0.0,90.3321,0.5419926,0.0,0.5419926,0.0,0.5419926,1.806642,9.03321,45.16605,18.06642,9.03321,3.613284,54.19926,0.0,0.0,0.0,0.0,0.0,0.0,0.0,0.903321,9.03321,1.806642,0.5419926,0.0,0.0,0.0,0.0,36.13284,0.0,90.3321,0.0,0.5419926,0.903321,0.5419926,0.5419926,0.903321,18.06642,4.516605,4.516605,4.516605,0.0,54.19926,58.715865,27.09963,72.26568,0.0,0.0,0.0,90.3321,1.806642,90.3321,90.3321,90.3321,0.0,1.806642,0.0,0.0,0.0,0.0,0.0,0.0,0.0,90.3321,90.3321,90.3321,0.0,18.06642,0.5419926,0.0,0.0,0.5419926,0.5419926,18.06642,1.806642,18.06642,0.0,58.715865,58.715865,0.0,0.0,0.0,90.3321,0.903321,0.0,0.0,0.0,0.0,0.0,0.0,90.3321,0.0,90.3321,0.0,90.3321,0.0,18.06642,0.5419926,0.5419926,0.5419926,0.903321,9.03321,18.06642,0.0,0.0,0.0,1.806642,18.06642,18.06642,0.903321,0.0,27.09963,0.0,0.0,0.0,0.0,0.0,18.06642,0.0,0.0,18.06642,0.0,0.903321,0.0,0.0,0.0,0.0,0.0,0.0,36.13284,0.0,0.0,90.3321,0.903321,1.806642,0.5419926,0.0,0.0,45.16605,4.516605,18.06642,9.03321,0.0,54.19926,27.09963,0.0,0.0,0.0,90.3321,18.06642,9.03321,0.0,0.5419926,0.0,0.0,0.0,0.0,0.0,1.0839852,36.13284,90.3321,90.3321,0.5419926,9.03321,90.3321,0.0,0.5419926,0.5419926,0.0,90.3321,0.0,0.0,18.06642,3.613284,0.0,0.903321,54.19926,27.09963,0.0,0.0,0.0,0.0,0.0,0.0,90.3321,0.903321,0.903321,0.0,0.0,1.0839852,0.0,90.3321,90.3321,0.0,0.5419926,0.5419926,0.5419926,0.5419926,1.806642,9.03321,0.0,90.3321,4.516605,0.4516605,0.0,0.0,0.0,3.613284,0.0,54.19926,72.26568,0.0,0.0,0.0,0.0,9.03321,0.0,1.806642,1.806642,0.5419926,0.0,0.0,0.0,90.3321,90.3321,0.0,90.3321,0.0,0.5419926,0.5419926,0.5419926,0.903321,1.806642,0.0,0.0,4.516605,0.0,0.0,0.4516605,0.903321,0.0,27.09963,27.09963,27.09963,0.0,0.0,0.0,9.03321,1.806642,0.903321,18.06642,0.0,0.0,0.0,0.0,0.0,0.0,0.0,90.3321,0.0,0.0,0.0,1.806642,1.806642,0.0,9.03321,0.0,0.0,0.0,90.3321,45.16605,0.0,1.806642,9.03321,0.0,0.0,0.0],\"y\":[-1.063469230277045,0.4121151762262227,-0.4038404006828681,0.4419098422389118,0.1693079941492962,16.630300655299166,0.3620284593393105,7.899601190235044,1.8500293446695313,-0.41738258061805367,-0.44717724663074276,0.13877327789901445,0.17709341370892284,-0.30218507808467443,0.8254216543080379,94.77688998820372,93.48257247934467,0.3800565442749958,92.2640694295319,0.3800565442749958,9.097997827893542,0.3800565442749958,17.658626483160575,0.3800565442749958,0.3800565442749958,0.3800565442749958,1.0040039837478378,0.659160031236318,0.9677831061913832,0.9918253602449534,59.85640621535372,25.833120959372522,26.40379848100445,26.33287680547034,-0.7880679547892715,-6.367041136499525,-1.322207002355679,0.1677024338773614,87.1259549949832,14.913286804479293,16.439432928357988,2.33333714951133,0.655060088085855,16.627341877553356,7.8919632481361575,1.2813664137233243,-1.150965427125401,-0.4112520623836471,-0.22688077801647188,0.24341988029474454,93.71901367629123,4.21808581432081,0.3681632989336492,4.089360623395125,0.3681632989336492,91.00658230593132,0.5169658011080416,0.3681632989336492,2.4006642238776283,0.3681632989336492,1.5332541318119421,0.9061080172409893,8.303432093482488,46.544961088439045,17.018040464186605,8.824324899664122,1.9591447044320636,56.893995051212926,-1.2371762196301699,-0.6389294064047837,0.32570435504584333,-0.015733879796431927,-0.21064928867572863,0.14621996583428354,0.10157556302277715,0.6470406686612167,7.887420177659656,1.161544868670354,0.4699200551463928,2.119516877893945,0.292799441631569,0.2239296515583923,0.3139648656486113,30.148415541439064,0.281059952234337,95.4780592003048,0.31031886343510506,4.358503054176902,4.061269840035932,0.0834921362012877,0.41800290299416976,0.6528949304433234,16.783481946803292,3.6909367571934313,3.6690249247091824,3.5291514143700313,0.9400979709423044,56.46531343237962,60.07622874115687,25.22099357969533,65.32225213135736,-0.8949420276822471,0.006544401443570047,0.2007880757499585,92.75200615900864,0.9134043847430865,93.88220272415218,86.63040257677102,85.50355234956477,0.32104724147367736,0.9555823400118133,1.7582783579297043,0.32104724147367736,-0.9777505663170443,1.4453112065827827,-0.40609462507826066,0.3092628798735497,0.32104724147367736,93.06210899956615,89.48996192855783,91.27725309019986,0.33955119710187565,18.365927068227393,0.4507115971464917,0.33955119710187565,0.33955119710187565,1.3660707128928706,0.32838956532165875,15.17234151628187,1.2683271352192218,17.1504790486259,1.2527763428247878,61.6254567566493,61.89387229462666,0.4238592327445798,0.30414958824124794,0.3691951320429929,89.06841960400385,0.310808866390232,-0.12317503096807547,0.2692162098526291,0.3691951320429929,0.3586774849799659,0.3895953365585504,0.3895953365585504,92.25818897470647,0.3691951320429929,91.40864596408424,0.3895953365585504,78.96515697962089,0.40011298362157743,18.719607423788798,0.40669754283841103,0.8820748910914347,0.8438486644678358,0.4292963780443187,6.811552131901654,16.79495254267448,0.3895953365585504,0.3895953365585504,0.42972626338707587,1.4007966795763032,16.99435877338713,16.966060098689216,1.253882929630191,1.201907897078648,25.980704205448056,0.041576274735367846,0.6472259203339874,0.41899650023986656,0.18463616714489967,0.3189201472220239,15.0502529126481,0.3558056993889944,0.3558056993889944,14.863338244480808,0.41899650023986656,2.270885975566732,0.3447387518282079,0.37526166940287853,0.41899650023986656,0.12091240688786947,-0.24295533080344245,-0.3172130792151011,30.28145039259762,0.38632861696366505,0.37526166940287853,79.76705934284264,4.5151227539818795,4.125129101804694,2.3588603232176713,0.37526166940287853,0.37526166940287853,45.181269166118504,5.405250891477271,17.316629054668674,9.339244357016725,0.7754830963427732,55.65727652798367,24.7416402223461,0.3909843469551205,-0.28514569036995097,0.21278979470276005,88.41330405082293,16.39993468524429,7.46359860648283,0.31698501540442137,0.5003396529567454,1.2374859426172797,0.25483139227775276,-0.1401912129356404,0.20905542416235356,0.2636493994225173,0.8017416822062586,30.317235195778512,92.99156856113294,80.28777685159902,2.6235571293002273,9.537947282020795,90.23364274061696,0.3491273102503426,0.5352208956197143,0.2833593258563364,0.3491273102503426,89.72548483716564,0.6533103123282934,0.35264396606530957,17.18608615753765,2.690200238883068,1.1828975219192768,1.1492592006883997,58.30606424220328,25.446401945831223,-1.2727484393462731,-8.629643531065987,-1.391956416981932,-0.4503923277285473,-0.4710660868292127,0.19606338610189966,90.55016756776112,0.4752252331332603,1.7980221757317731,0.773190891255993,0.18179232687172364,0.7767103494470147,0.404465679129541,92.36408850829841,93.91394155524728,0.4159245275245428,0.29048121264436166,0.16559315151713988,1.1852398653521963,0.40816067003593076,0.8832206256467388,6.703209391167089,0.4159245275245428,89.57643798986929,5.358187327958213,2.2317829711766706,2.176276527973866,1.4838824458818838,0.801999864012856,2.6380456678872557,2.1647702404179867,58.10198029977023,63.40807582984029,-1.0974192470598645,0.261423612219585,0.3776880264750209,0.42538166029318547,7.5817171472404015,0.42538166029318547,2.503072534104743,1.2754661880030915,0.4977678270931989,0.3776880264750209,-0.19703611969436885,0.3776880264750209,94.8970963273187,94.68195674074559,0.3935489926914491,92.07247101924595,0.3935489926914491,0.48722370075562993,0.32532519113121894,0.08038565320034563,0.7486270665460785,0.908463633745385,0.3935489926914491,0.4333057592725777,3.6937821228821175,1.864587822989147,0.4333057592725777,0.5328050165123894,1.4517826934315954,1.3579347682115888,25.777974508093408,25.4176434236177,25.04505909464305,-0.786742999085891,-1.0001205495305612,0.5492156346515021,7.240507941013819,2.481902646402604,0.5599430911707802,16.83636127123239,0.4909559253836629,-0.19359933127525775,0.4909559253836629,1.2427677694178265,-0.33945854169828227,0.5492156346515021,0.5212961580253115,91.77959037256052,0.5038132211149173,0.534153453756566,0.534153453756566,3.0690248314827997,3.3995772521995917,0.534153453756566,10.52021225805981,0.5212961580253115,0.5212961580253115,0.4909559253836629,90.84974256723304,45.307834643609155,0.5212961580253115,2.7051575355032402,8.12986067377958,1.344773081924128,19.37644975364904,17.821746620324504],\"type\":\"scatter\"},{\"error_y\":{\"array\":[],\"type\":\"data\",\"visible\":true},\"marker\":{\"size\":5,\"symbol\":\"line-ne-open\"},\"mode\":\"markers\",\"name\":\"actuals\",\"x\":[0.0,0.1001001001001001,0.2002002002002002,0.3003003003003003,0.4004004004004004,0.5005005005005005,0.6006006006006006,0.7007007007007008,0.8008008008008008,0.9009009009009009,1.001001001001001,1.1011011011011012,1.2012012012012012,1.3013013013013013,1.4014014014014016,1.5015015015015016,1.6016016016016017,1.7017017017017018,1.8018018018018018,1.9019019019019021,2.002002002002002,2.1021021021021022,2.2022022022022023,2.3023023023023024,2.4024024024024024,2.5025025025025025,2.6026026026026026,2.702702702702703,2.802802802802803,2.902902902902903,3.0030030030030033,3.1031031031031033,3.2032032032032034,3.3033033033033035,3.4034034034034035,3.5035035035035036,3.6036036036036037,3.7037037037037037,3.8038038038038042,3.9039039039039043,4.004004004004004,4.104104104104104,4.2042042042042045,4.3043043043043046,4.404404404404405,4.504504504504505,4.604604604604605,4.704704704704705,4.804804804804805,4.904904904904905,5.005005005005005,5.105105105105105,5.205205205205205,5.305305305305305,5.405405405405406,5.505505505505506,5.605605605605606,5.705705705705706,5.805805805805806,5.9059059059059065,6.0060060060060065,6.106106106106107,6.206206206206207,6.306306306306307,6.406406406406407,6.506506506506507,6.606606606606607,6.706706706706707,6.806806806806807,6.906906906906907,7.007007007007007,7.107107107107107,7.207207207207207,7.307307307307307,7.407407407407407,7.507507507507508,7.6076076076076085,7.7077077077077085,7.807807807807809,7.907907907907909,8.008008008008009,8.108108108108109,8.208208208208209,8.308308308308309,8.408408408408409,8.508508508508509,8.608608608608609,8.70870870870871,8.80880880880881,8.90890890890891,9.00900900900901,9.10910910910911,9.20920920920921,9.30930930930931,9.40940940940941,9.50950950950951,9.60960960960961,9.70970970970971,9.80980980980981,9.90990990990991,10.01001001001001,10.11011011011011,10.21021021021021,10.31031031031031,10.41041041041041,10.51051051051051,10.61061061061061,10.710710710710712,10.810810810810812,10.910910910910912,11.011011011011012,11.111111111111112,11.211211211211213,11.311311311311313,11.411411411411413,11.511511511511513,11.611611611611613,11.711711711711713,11.811811811811813,11.911911911911913,12.012012012012013,12.112112112112113,12.212212212212213,12.312312312312313,12.412412412412413,12.512512512512513,12.612612612612613,12.712712712712714,12.812812812812814,12.912912912912914,13.013013013013014,13.113113113113114,13.213213213213214,13.313313313313314,13.413413413413414,13.513513513513514,13.613613613613614,13.713713713713714,13.813813813813814,13.913913913913914,14.014014014014014,14.114114114114114,14.214214214214214,14.314314314314315,14.414414414414415,14.514514514514515,14.614614614614615,14.714714714714715,14.814814814814815,14.914914914914915,15.015015015015017,15.115115115115117,15.215215215215217,15.315315315315317,15.415415415415417,15.515515515515517,15.615615615615617,15.715715715715717,15.815815815815817,15.915915915915917,16.016016016016017,16.116116116116117,16.216216216216218,16.316316316316318,16.416416416416418,16.516516516516518,16.616616616616618,16.716716716716718,16.816816816816818,16.916916916916918,17.017017017017018,17.117117117117118,17.217217217217218,17.31731731731732,17.41741741741742,17.51751751751752,17.61761761761762,17.71771771771772,17.81781781781782,17.91791791791792,18.01801801801802,18.11811811811812,18.21821821821822,18.31831831831832,18.41841841841842,18.51851851851852,18.61861861861862,18.71871871871872,18.81881881881882,18.91891891891892,19.01901901901902,19.11911911911912,19.21921921921922,19.31931931931932,19.41941941941942,19.51951951951952,19.61961961961962,19.71971971971972,19.81981981981982,19.91991991991992,20.02002002002002,20.12012012012012,20.22022022022022,20.32032032032032,20.42042042042042,20.52052052052052,20.62062062062062,20.72072072072072,20.82082082082082,20.92092092092092,21.02102102102102,21.12112112112112,21.22122122122122,21.32132132132132,21.421421421421424,21.521521521521525,21.621621621621625,21.721721721721725,21.821821821821825,21.921921921921925,22.022022022022025,22.122122122122125,22.222222222222225,22.322322322322325,22.422422422422425,22.522522522522525,22.622622622622625,22.722722722722725,22.822822822822825,22.922922922922925,23.023023023023026,23.123123123123126,23.223223223223226,23.323323323323326,23.423423423423426,23.523523523523526,23.623623623623626,23.723723723723726,23.823823823823826,23.923923923923926,24.024024024024026,24.124124124124126,24.224224224224226,24.324324324324326,24.424424424424426,24.524524524524526,24.624624624624627,24.724724724724727,24.824824824824827,24.924924924924927,25.025025025025027,25.125125125125127,25.225225225225227,25.325325325325327,25.425425425425427,25.525525525525527,25.625625625625627,25.725725725725727,25.825825825825827,25.925925925925927,26.026026026026027,26.126126126126128,26.226226226226228,26.326326326326328,26.426426426426428,26.526526526526528,26.626626626626628,26.726726726726728,26.826826826826828,26.926926926926928,27.027027027027028,27.127127127127128,27.227227227227228,27.32732732732733,27.42742742742743,27.52752752752753,27.62762762762763,27.72772772772773,27.82782782782783,27.92792792792793,28.02802802802803,28.12812812812813,28.22822822822823,28.32832832832833,28.42842842842843,28.52852852852853,28.62862862862863,28.72872872872873,28.82882882882883,28.92892892892893,29.02902902902903,29.12912912912913,29.22922922922923,29.32932932932933,29.42942942942943,29.52952952952953,29.62962962962963,29.72972972972973,29.82982982982983,29.929929929929934,30.030030030030034,30.130130130130134,30.230230230230234,30.330330330330334,30.430430430430434,30.530530530530534,30.630630630630634,30.730730730730734,30.830830830830834,30.930930930930934,31.031031031031034,31.131131131131134,31.231231231231234,31.331331331331334,31.431431431431434,31.531531531531535,31.631631631631635,31.731731731731735,31.831831831831835,31.931931931931935,32.032032032032035,32.132132132132135,32.232232232232235,32.332332332332335,32.432432432432435,32.532532532532535,32.632632632632635,32.732732732732735,32.832832832832835,32.932932932932935,33.033033033033036,33.133133133133136,33.233233233233236,33.333333333333336,33.433433433433436,33.533533533533536,33.633633633633636,33.733733733733736,33.833833833833836,33.933933933933936,34.034034034034036,34.134134134134136,34.234234234234236,34.334334334334336,34.434434434434436,34.53453453453454,34.63463463463464,34.73473473473474,34.83483483483484,34.93493493493494,35.03503503503504,35.13513513513514,35.23523523523524,35.33533533533534,35.43543543543544,35.53553553553554,35.63563563563564,35.73573573573574,35.83583583583584,35.93593593593594,36.03603603603604,36.13613613613614,36.23623623623624,36.33633633633634,36.43643643643644,36.53653653653654,36.63663663663664,36.73673673673674,36.83683683683684,36.93693693693694,37.03703703703704,37.13713713713714,37.23723723723724,37.33733733733734,37.43743743743744,37.53753753753754,37.63763763763764,37.73773773773774,37.83783783783784,37.93793793793794,38.03803803803804,38.13813813813814,38.23823823823824,38.33833833833834,38.43843843843844,38.53853853853854,38.63863863863864,38.73873873873874,38.83883883883884,38.93893893893894,39.03903903903904,39.13913913913914,39.23923923923924,39.33933933933934,39.43943943943944,39.53953953953954,39.63963963963964,39.73973973973974,39.83983983983984,39.93993993993994,40.04004004004004,40.14014014014014,40.24024024024024,40.34034034034034,40.44044044044044,40.54054054054054,40.64064064064064,40.74074074074074,40.84084084084084,40.94094094094094,41.04104104104104,41.14114114114114,41.24124124124124,41.34134134134134,41.44144144144144,41.54154154154154,41.64164164164164,41.74174174174174,41.84184184184184,41.94194194194194,42.04204204204204,42.14214214214214,42.24224224224224,42.34234234234234,42.44244244244244,42.54254254254254,42.64264264264264,42.74274274274275,42.84284284284285,42.94294294294295,43.04304304304305,43.14314314314315,43.24324324324325,43.34334334334335,43.44344344344345,43.54354354354355,43.64364364364365,43.74374374374375,43.84384384384385,43.94394394394395,44.04404404404405,44.14414414414415,44.24424424424425,44.34434434434435,44.44444444444445,44.54454454454455,44.64464464464465,44.74474474474475,44.84484484484485,44.94494494494495,45.04504504504505,45.14514514514515,45.24524524524525,45.34534534534535,45.44544544544545,45.54554554554555,45.64564564564565,45.74574574574575,45.84584584584585,45.94594594594595,46.04604604604605,46.14614614614615,46.24624624624625,46.34634634634635,46.44644644644645,46.54654654654655,46.64664664664665,46.74674674674675,46.84684684684685,46.94694694694695,47.04704704704705,47.14714714714715,47.24724724724725,47.34734734734735,47.44744744744745,47.54754754754755,47.64764764764765,47.74774774774775,47.84784784784785,47.94794794794795,48.04804804804805,48.14814814814815,48.24824824824825,48.34834834834835,48.44844844844845,48.54854854854855,48.64864864864865,48.74874874874875,48.84884884884885,48.94894894894895,49.04904904904905,49.14914914914915,49.24924924924925,49.34934934934935,49.44944944944945,49.54954954954955,49.64964964964965,49.74974974974975,49.84984984984985,49.94994994994995,50.050050050050054,50.150150150150154,50.250250250250254,50.350350350350354,50.450450450450454,50.550550550550554,50.650650650650654,50.750750750750754,50.850850850850854,50.950950950950954,51.051051051051054,51.151151151151154,51.251251251251254,51.351351351351354,51.451451451451454,51.551551551551555,51.651651651651655,51.751751751751755,51.851851851851855,51.951951951951955,52.052052052052055,52.152152152152155,52.252252252252255,52.352352352352355,52.452452452452455,52.552552552552555,52.652652652652655,52.752752752752755,52.852852852852855,52.952952952952955,53.053053053053056,53.153153153153156,53.253253253253256,53.353353353353356,53.453453453453456,53.553553553553556,53.653653653653656,53.753753753753756,53.853853853853856,53.953953953953956,54.054054054054056,54.154154154154156,54.254254254254256,54.354354354354356,54.454454454454456,54.55455455455456,54.65465465465466,54.75475475475476,54.85485485485486,54.95495495495496,55.05505505505506,55.15515515515516,55.25525525525526,55.35535535535536,55.45545545545546,55.55555555555556,55.65565565565566,55.75575575575576,55.85585585585586,55.95595595595596,56.05605605605606,56.15615615615616,56.25625625625626,56.35635635635636,56.45645645645646,56.55655655655656,56.65665665665666,56.75675675675676,56.85685685685686,56.95695695695696,57.05705705705706,57.15715715715716,57.25725725725726,57.35735735735736,57.45745745745746,57.55755755755756,57.65765765765766,57.75775775775776,57.85785785785786,57.95795795795796,58.05805805805806,58.15815815815816,58.25825825825826,58.35835835835836,58.45845845845846,58.55855855855856,58.65865865865866,58.75875875875876,58.85885885885886,58.95895895895896,59.05905905905906,59.15915915915916,59.25925925925926,59.35935935935936,59.45945945945946,59.55955955955956,59.65965965965966,59.75975975975976,59.85985985985987,59.95995995995997,60.06006006006007,60.16016016016017,60.26026026026027,60.36036036036037,60.46046046046047,60.56056056056057,60.66066066066067,60.76076076076077,60.86086086086087,60.96096096096097,61.06106106106107,61.16116116116117,61.26126126126127,61.36136136136137,61.46146146146147,61.56156156156157,61.66166166166167,61.76176176176177,61.86186186186187,61.96196196196197,62.06206206206207,62.16216216216217,62.26226226226227,62.36236236236237,62.46246246246247,62.56256256256257,62.66266266266267,62.76276276276277,62.86286286286287,62.96296296296297,63.06306306306307,63.16316316316317,63.26326326326327,63.36336336336337,63.46346346346347,63.56356356356357,63.66366366366367,63.76376376376377,63.86386386386387,63.96396396396397,64.06406406406407,64.16416416416416,64.26426426426427,64.36436436436436,64.46446446446447,64.56456456456456,64.66466466466467,64.76476476476476,64.86486486486487,64.96496496496496,65.06506506506507,65.16516516516516,65.26526526526527,65.36536536536536,65.46546546546547,65.56556556556556,65.66566566566567,65.76576576576576,65.86586586586587,65.96596596596596,66.06606606606607,66.16616616616616,66.26626626626627,66.36636636636636,66.46646646646647,66.56656656656656,66.66666666666667,66.76676676676676,66.86686686686687,66.96696696696696,67.06706706706707,67.16716716716716,67.26726726726727,67.36736736736736,67.46746746746747,67.56756756756756,67.66766766766767,67.76776776776777,67.86786786786787,67.96796796796797,68.06806806806807,68.16816816816817,68.26826826826827,68.36836836836838,68.46846846846847,68.56856856856858,68.66866866866867,68.76876876876878,68.86886886886887,68.96896896896898,69.06906906906907,69.16916916916918,69.26926926926927,69.36936936936938,69.46946946946947,69.56956956956958,69.66966966966967,69.76976976976978,69.86986986986987,69.96996996996998,70.07007007007007,70.17017017017018,70.27027027027027,70.37037037037038,70.47047047047047,70.57057057057058,70.67067067067067,70.77077077077078,70.87087087087087,70.97097097097098,71.07107107107107,71.17117117117118,71.27127127127127,71.37137137137138,71.47147147147147,71.57157157157158,71.67167167167167,71.77177177177178,71.87187187187187,71.97197197197198,72.07207207207207,72.17217217217218,72.27227227227228,72.37237237237238,72.47247247247248,72.57257257257258,72.67267267267268,72.77277277277278,72.87287287287288,72.97297297297298,73.07307307307308,73.17317317317318,73.27327327327328,73.37337337337338,73.47347347347348,73.57357357357358,73.67367367367368,73.77377377377378,73.87387387387388,73.97397397397398,74.07407407407408,74.17417417417418,74.27427427427428,74.37437437437438,74.47447447447448,74.57457457457458,74.67467467467468,74.77477477477478,74.87487487487488,74.97497497497498,75.07507507507508,75.17517517517518,75.27527527527528,75.37537537537538,75.47547547547548,75.57557557557558,75.67567567567568,75.77577577577578,75.87587587587588,75.97597597597598,76.07607607607608,76.17617617617618,76.27627627627628,76.37637637637638,76.47647647647648,76.57657657657658,76.67667667667668,76.77677677677679,76.87687687687688,76.97697697697699,77.07707707707708,77.17717717717719,77.27727727727728,77.37737737737739,77.47747747747748,77.57757757757759,77.67767767767768,77.77777777777779,77.87787787787788,77.97797797797799,78.07807807807808,78.17817817817819,78.27827827827828,78.37837837837839,78.47847847847848,78.57857857857859,78.67867867867868,78.77877877877879,78.87887887887888,78.97897897897899,79.07907907907908,79.17917917917919,79.27927927927928,79.37937937937939,79.47947947947948,79.57957957957959,79.67967967967968,79.77977977977979,79.87987987987988,79.97997997997999,80.08008008008008,80.18018018018019,80.28028028028028,80.38038038038039,80.48048048048048,80.58058058058059,80.68068068068068,80.78078078078079,80.88088088088088,80.98098098098099,81.08108108108108,81.18118118118119,81.28128128128128,81.38138138138139,81.48148148148148,81.58158158158159,81.68168168168168,81.78178178178179,81.88188188188188,81.98198198198199,82.08208208208208,82.18218218218219,82.28228228228228,82.38238238238239,82.48248248248248,82.58258258258259,82.68268268268268,82.78278278278279,82.88288288288288,82.98298298298299,83.08308308308308,83.18318318318319,83.28328328328328,83.38338338338339,83.48348348348348,83.58358358358359,83.68368368368368,83.78378378378379,83.88388388388388,83.98398398398399,84.08408408408408,84.18418418418419,84.28428428428428,84.38438438438439,84.48448448448448,84.58458458458459,84.68468468468468,84.78478478478479,84.88488488488488,84.98498498498499,85.08508508508508,85.18518518518519,85.28528528528528,85.38538538538539,85.4854854854855,85.58558558558559,85.6856856856857,85.78578578578579,85.8858858858859,85.98598598598599,86.0860860860861,86.18618618618619,86.2862862862863,86.38638638638639,86.4864864864865,86.58658658658659,86.6866866866867,86.78678678678679,86.8868868868869,86.98698698698699,87.0870870870871,87.18718718718719,87.2872872872873,87.38738738738739,87.4874874874875,87.58758758758759,87.6876876876877,87.78778778778779,87.8878878878879,87.98798798798799,88.0880880880881,88.18818818818819,88.2882882882883,88.38838838838839,88.4884884884885,88.58858858858859,88.6886886886887,88.78878878878879,88.8888888888889,88.988988988989,89.0890890890891,89.1891891891892,89.2892892892893,89.3893893893894,89.4894894894895,89.5895895895896,89.6896896896897,89.7897897897898,89.8898898898899,89.98998998999,90.0900900900901,90.1901901901902,90.2902902902903,90.3903903903904,90.4904904904905,90.5905905905906,90.6906906906907,90.7907907907908,90.8908908908909,90.990990990991,91.0910910910911,91.1911911911912,91.2912912912913,91.3913913913914,91.4914914914915,91.5915915915916,91.6916916916917,91.7917917917918,91.8918918918919,91.991991991992,92.0920920920921,92.1921921921922,92.2922922922923,92.3923923923924,92.4924924924925,92.5925925925926,92.6926926926927,92.7927927927928,92.8928928928929,92.992992992993,93.0930930930931,93.1931931931932,93.2932932932933,93.3933933933934,93.4934934934935,93.5935935935936,93.6936936936937,93.7937937937938,93.8938938938939,93.993993993994,94.0940940940941,94.1941941941942,94.2942942942943,94.3943943943944,94.4944944944945,94.5945945945946,94.6946946946947,94.7947947947948,94.8948948948949,94.994994994995,95.0950950950951,95.1951951951952,95.2952952952953,95.3953953953954,95.4954954954955,95.5955955955956,95.6956956956957,95.7957957957958,95.8958958958959,95.995995995996,96.0960960960961,96.1961961961962,96.2962962962963,96.3963963963964,96.4964964964965,96.5965965965966,96.6966966966967,96.7967967967968,96.8968968968969,96.996996996997,97.0970970970971,97.1971971971972,97.2972972972973,97.3973973973974,97.4974974974975,97.5975975975976,97.6976976976977,97.7977977977978,97.8978978978979,97.997997997998,98.0980980980981,98.1981981981982,98.2982982982983,98.3983983983984,98.4984984984985,98.5985985985986,98.6986986986987,98.7987987987988,98.8988988988989,98.998998998999,99.0990990990991,99.1991991991992,99.2992992992993,99.3993993993994,99.4994994994995,99.5995995995996,99.6996996996997,99.7997997997998,99.8998998998999,100.0],\"y\":[0.0,0.1001001001001001,0.2002002002002002,0.3003003003003003,0.4004004004004004,0.5005005005005005,0.6006006006006006,0.7007007007007008,0.8008008008008008,0.9009009009009009,1.001001001001001,1.1011011011011012,1.2012012012012012,1.3013013013013013,1.4014014014014016,1.5015015015015016,1.6016016016016017,1.7017017017017018,1.8018018018018018,1.9019019019019021,2.002002002002002,2.1021021021021022,2.2022022022022023,2.3023023023023024,2.4024024024024024,2.5025025025025025,2.6026026026026026,2.702702702702703,2.802802802802803,2.902902902902903,3.0030030030030033,3.1031031031031033,3.2032032032032034,3.3033033033033035,3.4034034034034035,3.5035035035035036,3.6036036036036037,3.7037037037037037,3.8038038038038042,3.9039039039039043,4.004004004004004,4.104104104104104,4.2042042042042045,4.3043043043043046,4.404404404404405,4.504504504504505,4.604604604604605,4.704704704704705,4.804804804804805,4.904904904904905,5.005005005005005,5.105105105105105,5.205205205205205,5.305305305305305,5.405405405405406,5.505505505505506,5.605605605605606,5.705705705705706,5.805805805805806,5.9059059059059065,6.0060060060060065,6.106106106106107,6.206206206206207,6.306306306306307,6.406406406406407,6.506506506506507,6.606606606606607,6.706706706706707,6.806806806806807,6.906906906906907,7.007007007007007,7.107107107107107,7.207207207207207,7.307307307307307,7.407407407407407,7.507507507507508,7.6076076076076085,7.7077077077077085,7.807807807807809,7.907907907907909,8.008008008008009,8.108108108108109,8.208208208208209,8.308308308308309,8.408408408408409,8.508508508508509,8.608608608608609,8.70870870870871,8.80880880880881,8.90890890890891,9.00900900900901,9.10910910910911,9.20920920920921,9.30930930930931,9.40940940940941,9.50950950950951,9.60960960960961,9.70970970970971,9.80980980980981,9.90990990990991,10.01001001001001,10.11011011011011,10.21021021021021,10.31031031031031,10.41041041041041,10.51051051051051,10.61061061061061,10.710710710710712,10.810810810810812,10.910910910910912,11.011011011011012,11.111111111111112,11.211211211211213,11.311311311311313,11.411411411411413,11.511511511511513,11.611611611611613,11.711711711711713,11.811811811811813,11.911911911911913,12.012012012012013,12.112112112112113,12.212212212212213,12.312312312312313,12.412412412412413,12.512512512512513,12.612612612612613,12.712712712712714,12.812812812812814,12.912912912912914,13.013013013013014,13.113113113113114,13.213213213213214,13.313313313313314,13.413413413413414,13.513513513513514,13.613613613613614,13.713713713713714,13.813813813813814,13.913913913913914,14.014014014014014,14.114114114114114,14.214214214214214,14.314314314314315,14.414414414414415,14.514514514514515,14.614614614614615,14.714714714714715,14.814814814814815,14.914914914914915,15.015015015015017,15.115115115115117,15.215215215215217,15.315315315315317,15.415415415415417,15.515515515515517,15.615615615615617,15.715715715715717,15.815815815815817,15.915915915915917,16.016016016016017,16.116116116116117,16.216216216216218,16.316316316316318,16.416416416416418,16.516516516516518,16.616616616616618,16.716716716716718,16.816816816816818,16.916916916916918,17.017017017017018,17.117117117117118,17.217217217217218,17.31731731731732,17.41741741741742,17.51751751751752,17.61761761761762,17.71771771771772,17.81781781781782,17.91791791791792,18.01801801801802,18.11811811811812,18.21821821821822,18.31831831831832,18.41841841841842,18.51851851851852,18.61861861861862,18.71871871871872,18.81881881881882,18.91891891891892,19.01901901901902,19.11911911911912,19.21921921921922,19.31931931931932,19.41941941941942,19.51951951951952,19.61961961961962,19.71971971971972,19.81981981981982,19.91991991991992,20.02002002002002,20.12012012012012,20.22022022022022,20.32032032032032,20.42042042042042,20.52052052052052,20.62062062062062,20.72072072072072,20.82082082082082,20.92092092092092,21.02102102102102,21.12112112112112,21.22122122122122,21.32132132132132,21.421421421421424,21.521521521521525,21.621621621621625,21.721721721721725,21.821821821821825,21.921921921921925,22.022022022022025,22.122122122122125,22.222222222222225,22.322322322322325,22.422422422422425,22.522522522522525,22.622622622622625,22.722722722722725,22.822822822822825,22.922922922922925,23.023023023023026,23.123123123123126,23.223223223223226,23.323323323323326,23.423423423423426,23.523523523523526,23.623623623623626,23.723723723723726,23.823823823823826,23.923923923923926,24.024024024024026,24.124124124124126,24.224224224224226,24.324324324324326,24.424424424424426,24.524524524524526,24.624624624624627,24.724724724724727,24.824824824824827,24.924924924924927,25.025025025025027,25.125125125125127,25.225225225225227,25.325325325325327,25.425425425425427,25.525525525525527,25.625625625625627,25.725725725725727,25.825825825825827,25.925925925925927,26.026026026026027,26.126126126126128,26.226226226226228,26.326326326326328,26.426426426426428,26.526526526526528,26.626626626626628,26.726726726726728,26.826826826826828,26.926926926926928,27.027027027027028,27.127127127127128,27.227227227227228,27.32732732732733,27.42742742742743,27.52752752752753,27.62762762762763,27.72772772772773,27.82782782782783,27.92792792792793,28.02802802802803,28.12812812812813,28.22822822822823,28.32832832832833,28.42842842842843,28.52852852852853,28.62862862862863,28.72872872872873,28.82882882882883,28.92892892892893,29.02902902902903,29.12912912912913,29.22922922922923,29.32932932932933,29.42942942942943,29.52952952952953,29.62962962962963,29.72972972972973,29.82982982982983,29.929929929929934,30.030030030030034,30.130130130130134,30.230230230230234,30.330330330330334,30.430430430430434,30.530530530530534,30.630630630630634,30.730730730730734,30.830830830830834,30.930930930930934,31.031031031031034,31.131131131131134,31.231231231231234,31.331331331331334,31.431431431431434,31.531531531531535,31.631631631631635,31.731731731731735,31.831831831831835,31.931931931931935,32.032032032032035,32.132132132132135,32.232232232232235,32.332332332332335,32.432432432432435,32.532532532532535,32.632632632632635,32.732732732732735,32.832832832832835,32.932932932932935,33.033033033033036,33.133133133133136,33.233233233233236,33.333333333333336,33.433433433433436,33.533533533533536,33.633633633633636,33.733733733733736,33.833833833833836,33.933933933933936,34.034034034034036,34.134134134134136,34.234234234234236,34.334334334334336,34.434434434434436,34.53453453453454,34.63463463463464,34.73473473473474,34.83483483483484,34.93493493493494,35.03503503503504,35.13513513513514,35.23523523523524,35.33533533533534,35.43543543543544,35.53553553553554,35.63563563563564,35.73573573573574,35.83583583583584,35.93593593593594,36.03603603603604,36.13613613613614,36.23623623623624,36.33633633633634,36.43643643643644,36.53653653653654,36.63663663663664,36.73673673673674,36.83683683683684,36.93693693693694,37.03703703703704,37.13713713713714,37.23723723723724,37.33733733733734,37.43743743743744,37.53753753753754,37.63763763763764,37.73773773773774,37.83783783783784,37.93793793793794,38.03803803803804,38.13813813813814,38.23823823823824,38.33833833833834,38.43843843843844,38.53853853853854,38.63863863863864,38.73873873873874,38.83883883883884,38.93893893893894,39.03903903903904,39.13913913913914,39.23923923923924,39.33933933933934,39.43943943943944,39.53953953953954,39.63963963963964,39.73973973973974,39.83983983983984,39.93993993993994,40.04004004004004,40.14014014014014,40.24024024024024,40.34034034034034,40.44044044044044,40.54054054054054,40.64064064064064,40.74074074074074,40.84084084084084,40.94094094094094,41.04104104104104,41.14114114114114,41.24124124124124,41.34134134134134,41.44144144144144,41.54154154154154,41.64164164164164,41.74174174174174,41.84184184184184,41.94194194194194,42.04204204204204,42.14214214214214,42.24224224224224,42.34234234234234,42.44244244244244,42.54254254254254,42.64264264264264,42.74274274274275,42.84284284284285,42.94294294294295,43.04304304304305,43.14314314314315,43.24324324324325,43.34334334334335,43.44344344344345,43.54354354354355,43.64364364364365,43.74374374374375,43.84384384384385,43.94394394394395,44.04404404404405,44.14414414414415,44.24424424424425,44.34434434434435,44.44444444444445,44.54454454454455,44.64464464464465,44.74474474474475,44.84484484484485,44.94494494494495,45.04504504504505,45.14514514514515,45.24524524524525,45.34534534534535,45.44544544544545,45.54554554554555,45.64564564564565,45.74574574574575,45.84584584584585,45.94594594594595,46.04604604604605,46.14614614614615,46.24624624624625,46.34634634634635,46.44644644644645,46.54654654654655,46.64664664664665,46.74674674674675,46.84684684684685,46.94694694694695,47.04704704704705,47.14714714714715,47.24724724724725,47.34734734734735,47.44744744744745,47.54754754754755,47.64764764764765,47.74774774774775,47.84784784784785,47.94794794794795,48.04804804804805,48.14814814814815,48.24824824824825,48.34834834834835,48.44844844844845,48.54854854854855,48.64864864864865,48.74874874874875,48.84884884884885,48.94894894894895,49.04904904904905,49.14914914914915,49.24924924924925,49.34934934934935,49.44944944944945,49.54954954954955,49.64964964964965,49.74974974974975,49.84984984984985,49.94994994994995,50.050050050050054,50.150150150150154,50.250250250250254,50.350350350350354,50.450450450450454,50.550550550550554,50.650650650650654,50.750750750750754,50.850850850850854,50.950950950950954,51.051051051051054,51.151151151151154,51.251251251251254,51.351351351351354,51.451451451451454,51.551551551551555,51.651651651651655,51.751751751751755,51.851851851851855,51.951951951951955,52.052052052052055,52.152152152152155,52.252252252252255,52.352352352352355,52.452452452452455,52.552552552552555,52.652652652652655,52.752752752752755,52.852852852852855,52.952952952952955,53.053053053053056,53.153153153153156,53.253253253253256,53.353353353353356,53.453453453453456,53.553553553553556,53.653653653653656,53.753753753753756,53.853853853853856,53.953953953953956,54.054054054054056,54.154154154154156,54.254254254254256,54.354354354354356,54.454454454454456,54.55455455455456,54.65465465465466,54.75475475475476,54.85485485485486,54.95495495495496,55.05505505505506,55.15515515515516,55.25525525525526,55.35535535535536,55.45545545545546,55.55555555555556,55.65565565565566,55.75575575575576,55.85585585585586,55.95595595595596,56.05605605605606,56.15615615615616,56.25625625625626,56.35635635635636,56.45645645645646,56.55655655655656,56.65665665665666,56.75675675675676,56.85685685685686,56.95695695695696,57.05705705705706,57.15715715715716,57.25725725725726,57.35735735735736,57.45745745745746,57.55755755755756,57.65765765765766,57.75775775775776,57.85785785785786,57.95795795795796,58.05805805805806,58.15815815815816,58.25825825825826,58.35835835835836,58.45845845845846,58.55855855855856,58.65865865865866,58.75875875875876,58.85885885885886,58.95895895895896,59.05905905905906,59.15915915915916,59.25925925925926,59.35935935935936,59.45945945945946,59.55955955955956,59.65965965965966,59.75975975975976,59.85985985985987,59.95995995995997,60.06006006006007,60.16016016016017,60.26026026026027,60.36036036036037,60.46046046046047,60.56056056056057,60.66066066066067,60.76076076076077,60.86086086086087,60.96096096096097,61.06106106106107,61.16116116116117,61.26126126126127,61.36136136136137,61.46146146146147,61.56156156156157,61.66166166166167,61.76176176176177,61.86186186186187,61.96196196196197,62.06206206206207,62.16216216216217,62.26226226226227,62.36236236236237,62.46246246246247,62.56256256256257,62.66266266266267,62.76276276276277,62.86286286286287,62.96296296296297,63.06306306306307,63.16316316316317,63.26326326326327,63.36336336336337,63.46346346346347,63.56356356356357,63.66366366366367,63.76376376376377,63.86386386386387,63.96396396396397,64.06406406406407,64.16416416416416,64.26426426426427,64.36436436436436,64.46446446446447,64.56456456456456,64.66466466466467,64.76476476476476,64.86486486486487,64.96496496496496,65.06506506506507,65.16516516516516,65.26526526526527,65.36536536536536,65.46546546546547,65.56556556556556,65.66566566566567,65.76576576576576,65.86586586586587,65.96596596596596,66.06606606606607,66.16616616616616,66.26626626626627,66.36636636636636,66.46646646646647,66.56656656656656,66.66666666666667,66.76676676676676,66.86686686686687,66.96696696696696,67.06706706706707,67.16716716716716,67.26726726726727,67.36736736736736,67.46746746746747,67.56756756756756,67.66766766766767,67.76776776776777,67.86786786786787,67.96796796796797,68.06806806806807,68.16816816816817,68.26826826826827,68.36836836836838,68.46846846846847,68.56856856856858,68.66866866866867,68.76876876876878,68.86886886886887,68.96896896896898,69.06906906906907,69.16916916916918,69.26926926926927,69.36936936936938,69.46946946946947,69.56956956956958,69.66966966966967,69.76976976976978,69.86986986986987,69.96996996996998,70.07007007007007,70.17017017017018,70.27027027027027,70.37037037037038,70.47047047047047,70.57057057057058,70.67067067067067,70.77077077077078,70.87087087087087,70.97097097097098,71.07107107107107,71.17117117117118,71.27127127127127,71.37137137137138,71.47147147147147,71.57157157157158,71.67167167167167,71.77177177177178,71.87187187187187,71.97197197197198,72.07207207207207,72.17217217217218,72.27227227227228,72.37237237237238,72.47247247247248,72.57257257257258,72.67267267267268,72.77277277277278,72.87287287287288,72.97297297297298,73.07307307307308,73.17317317317318,73.27327327327328,73.37337337337338,73.47347347347348,73.57357357357358,73.67367367367368,73.77377377377378,73.87387387387388,73.97397397397398,74.07407407407408,74.17417417417418,74.27427427427428,74.37437437437438,74.47447447447448,74.57457457457458,74.67467467467468,74.77477477477478,74.87487487487488,74.97497497497498,75.07507507507508,75.17517517517518,75.27527527527528,75.37537537537538,75.47547547547548,75.57557557557558,75.67567567567568,75.77577577577578,75.87587587587588,75.97597597597598,76.07607607607608,76.17617617617618,76.27627627627628,76.37637637637638,76.47647647647648,76.57657657657658,76.67667667667668,76.77677677677679,76.87687687687688,76.97697697697699,77.07707707707708,77.17717717717719,77.27727727727728,77.37737737737739,77.47747747747748,77.57757757757759,77.67767767767768,77.77777777777779,77.87787787787788,77.97797797797799,78.07807807807808,78.17817817817819,78.27827827827828,78.37837837837839,78.47847847847848,78.57857857857859,78.67867867867868,78.77877877877879,78.87887887887888,78.97897897897899,79.07907907907908,79.17917917917919,79.27927927927928,79.37937937937939,79.47947947947948,79.57957957957959,79.67967967967968,79.77977977977979,79.87987987987988,79.97997997997999,80.08008008008008,80.18018018018019,80.28028028028028,80.38038038038039,80.48048048048048,80.58058058058059,80.68068068068068,80.78078078078079,80.88088088088088,80.98098098098099,81.08108108108108,81.18118118118119,81.28128128128128,81.38138138138139,81.48148148148148,81.58158158158159,81.68168168168168,81.78178178178179,81.88188188188188,81.98198198198199,82.08208208208208,82.18218218218219,82.28228228228228,82.38238238238239,82.48248248248248,82.58258258258259,82.68268268268268,82.78278278278279,82.88288288288288,82.98298298298299,83.08308308308308,83.18318318318319,83.28328328328328,83.38338338338339,83.48348348348348,83.58358358358359,83.68368368368368,83.78378378378379,83.88388388388388,83.98398398398399,84.08408408408408,84.18418418418419,84.28428428428428,84.38438438438439,84.48448448448448,84.58458458458459,84.68468468468468,84.78478478478479,84.88488488488488,84.98498498498499,85.08508508508508,85.18518518518519,85.28528528528528,85.38538538538539,85.4854854854855,85.58558558558559,85.6856856856857,85.78578578578579,85.8858858858859,85.98598598598599,86.0860860860861,86.18618618618619,86.2862862862863,86.38638638638639,86.4864864864865,86.58658658658659,86.6866866866867,86.78678678678679,86.8868868868869,86.98698698698699,87.0870870870871,87.18718718718719,87.2872872872873,87.38738738738739,87.4874874874875,87.58758758758759,87.6876876876877,87.78778778778779,87.8878878878879,87.98798798798799,88.0880880880881,88.18818818818819,88.2882882882883,88.38838838838839,88.4884884884885,88.58858858858859,88.6886886886887,88.78878878878879,88.8888888888889,88.988988988989,89.0890890890891,89.1891891891892,89.2892892892893,89.3893893893894,89.4894894894895,89.5895895895896,89.6896896896897,89.7897897897898,89.8898898898899,89.98998998999,90.0900900900901,90.1901901901902,90.2902902902903,90.3903903903904,90.4904904904905,90.5905905905906,90.6906906906907,90.7907907907908,90.8908908908909,90.990990990991,91.0910910910911,91.1911911911912,91.2912912912913,91.3913913913914,91.4914914914915,91.5915915915916,91.6916916916917,91.7917917917918,91.8918918918919,91.991991991992,92.0920920920921,92.1921921921922,92.2922922922923,92.3923923923924,92.4924924924925,92.5925925925926,92.6926926926927,92.7927927927928,92.8928928928929,92.992992992993,93.0930930930931,93.1931931931932,93.2932932932933,93.3933933933934,93.4934934934935,93.5935935935936,93.6936936936937,93.7937937937938,93.8938938938939,93.993993993994,94.0940940940941,94.1941941941942,94.2942942942943,94.3943943943944,94.4944944944945,94.5945945945946,94.6946946946947,94.7947947947948,94.8948948948949,94.994994994995,95.0950950950951,95.1951951951952,95.2952952952953,95.3953953953954,95.4954954954955,95.5955955955956,95.6956956956957,95.7957957957958,95.8958958958959,95.995995995996,96.0960960960961,96.1961961961962,96.2962962962963,96.3963963963964,96.4964964964965,96.5965965965966,96.6966966966967,96.7967967967968,96.8968968968969,96.996996996997,97.0970970970971,97.1971971971972,97.2972972972973,97.3973973973974,97.4974974974975,97.5975975975976,97.6976976976977,97.7977977977978,97.8978978978979,97.997997997998,98.0980980980981,98.1981981981982,98.2982982982983,98.3983983983984,98.4984984984985,98.5985985985986,98.6986986986987,98.7987987987988,98.8988988988989,98.998998998999,99.0990990990991,99.1991991991992,99.2992992992993,99.3993993993994,99.4994994994995,99.5995995995996,99.6996996996997,99.7997997997998,99.8998998998999,100.0],\"type\":\"scatter\"}],                        {\"title\":{\"text\":\"Uni_LR predicted v actual\"},\"template\":{\"data\":{\"bar\":[{\"error_x\":{\"color\":\"#2a3f5f\"},\"error_y\":{\"color\":\"#2a3f5f\"},\"marker\":{\"line\":{\"color\":\"#E5ECF6\",\"width\":0.5},\"pattern\":{\"fillmode\":\"overlay\",\"size\":10,\"solidity\":0.2}},\"type\":\"bar\"}],\"barpolar\":[{\"marker\":{\"line\":{\"color\":\"#E5ECF6\",\"width\":0.5},\"pattern\":{\"fillmode\":\"overlay\",\"size\":10,\"solidity\":0.2}},\"type\":\"barpolar\"}],\"carpet\":[{\"aaxis\":{\"endlinecolor\":\"#2a3f5f\",\"gridcolor\":\"white\",\"linecolor\":\"white\",\"minorgridcolor\":\"white\",\"startlinecolor\":\"#2a3f5f\"},\"baxis\":{\"endlinecolor\":\"#2a3f5f\",\"gridcolor\":\"white\",\"linecolor\":\"white\",\"minorgridcolor\":\"white\",\"startlinecolor\":\"#2a3f5f\"},\"type\":\"carpet\"}],\"choropleth\":[{\"colorbar\":{\"outlinewidth\":0,\"ticks\":\"\"},\"type\":\"choropleth\"}],\"contour\":[{\"colorbar\":{\"outlinewidth\":0,\"ticks\":\"\"},\"colorscale\":[[0.0,\"#0d0887\"],[0.1111111111111111,\"#46039f\"],[0.2222222222222222,\"#7201a8\"],[0.3333333333333333,\"#9c179e\"],[0.4444444444444444,\"#bd3786\"],[0.5555555555555556,\"#d8576b\"],[0.6666666666666666,\"#ed7953\"],[0.7777777777777778,\"#fb9f3a\"],[0.8888888888888888,\"#fdca26\"],[1.0,\"#f0f921\"]],\"type\":\"contour\"}],\"contourcarpet\":[{\"colorbar\":{\"outlinewidth\":0,\"ticks\":\"\"},\"type\":\"contourcarpet\"}],\"heatmap\":[{\"colorbar\":{\"outlinewidth\":0,\"ticks\":\"\"},\"colorscale\":[[0.0,\"#0d0887\"],[0.1111111111111111,\"#46039f\"],[0.2222222222222222,\"#7201a8\"],[0.3333333333333333,\"#9c179e\"],[0.4444444444444444,\"#bd3786\"],[0.5555555555555556,\"#d8576b\"],[0.6666666666666666,\"#ed7953\"],[0.7777777777777778,\"#fb9f3a\"],[0.8888888888888888,\"#fdca26\"],[1.0,\"#f0f921\"]],\"type\":\"heatmap\"}],\"heatmapgl\":[{\"colorbar\":{\"outlinewidth\":0,\"ticks\":\"\"},\"colorscale\":[[0.0,\"#0d0887\"],[0.1111111111111111,\"#46039f\"],[0.2222222222222222,\"#7201a8\"],[0.3333333333333333,\"#9c179e\"],[0.4444444444444444,\"#bd3786\"],[0.5555555555555556,\"#d8576b\"],[0.6666666666666666,\"#ed7953\"],[0.7777777777777778,\"#fb9f3a\"],[0.8888888888888888,\"#fdca26\"],[1.0,\"#f0f921\"]],\"type\":\"heatmapgl\"}],\"histogram\":[{\"marker\":{\"pattern\":{\"fillmode\":\"overlay\",\"size\":10,\"solidity\":0.2}},\"type\":\"histogram\"}],\"histogram2d\":[{\"colorbar\":{\"outlinewidth\":0,\"ticks\":\"\"},\"colorscale\":[[0.0,\"#0d0887\"],[0.1111111111111111,\"#46039f\"],[0.2222222222222222,\"#7201a8\"],[0.3333333333333333,\"#9c179e\"],[0.4444444444444444,\"#bd3786\"],[0.5555555555555556,\"#d8576b\"],[0.6666666666666666,\"#ed7953\"],[0.7777777777777778,\"#fb9f3a\"],[0.8888888888888888,\"#fdca26\"],[1.0,\"#f0f921\"]],\"type\":\"histogram2d\"}],\"histogram2dcontour\":[{\"colorbar\":{\"outlinewidth\":0,\"ticks\":\"\"},\"colorscale\":[[0.0,\"#0d0887\"],[0.1111111111111111,\"#46039f\"],[0.2222222222222222,\"#7201a8\"],[0.3333333333333333,\"#9c179e\"],[0.4444444444444444,\"#bd3786\"],[0.5555555555555556,\"#d8576b\"],[0.6666666666666666,\"#ed7953\"],[0.7777777777777778,\"#fb9f3a\"],[0.8888888888888888,\"#fdca26\"],[1.0,\"#f0f921\"]],\"type\":\"histogram2dcontour\"}],\"mesh3d\":[{\"colorbar\":{\"outlinewidth\":0,\"ticks\":\"\"},\"type\":\"mesh3d\"}],\"parcoords\":[{\"line\":{\"colorbar\":{\"outlinewidth\":0,\"ticks\":\"\"}},\"type\":\"parcoords\"}],\"pie\":[{\"automargin\":true,\"type\":\"pie\"}],\"scatter\":[{\"marker\":{\"colorbar\":{\"outlinewidth\":0,\"ticks\":\"\"}},\"type\":\"scatter\"}],\"scatter3d\":[{\"line\":{\"colorbar\":{\"outlinewidth\":0,\"ticks\":\"\"}},\"marker\":{\"colorbar\":{\"outlinewidth\":0,\"ticks\":\"\"}},\"type\":\"scatter3d\"}],\"scattercarpet\":[{\"marker\":{\"colorbar\":{\"outlinewidth\":0,\"ticks\":\"\"}},\"type\":\"scattercarpet\"}],\"scattergeo\":[{\"marker\":{\"colorbar\":{\"outlinewidth\":0,\"ticks\":\"\"}},\"type\":\"scattergeo\"}],\"scattergl\":[{\"marker\":{\"colorbar\":{\"outlinewidth\":0,\"ticks\":\"\"}},\"type\":\"scattergl\"}],\"scattermapbox\":[{\"marker\":{\"colorbar\":{\"outlinewidth\":0,\"ticks\":\"\"}},\"type\":\"scattermapbox\"}],\"scatterpolar\":[{\"marker\":{\"colorbar\":{\"outlinewidth\":0,\"ticks\":\"\"}},\"type\":\"scatterpolar\"}],\"scatterpolargl\":[{\"marker\":{\"colorbar\":{\"outlinewidth\":0,\"ticks\":\"\"}},\"type\":\"scatterpolargl\"}],\"scatterternary\":[{\"marker\":{\"colorbar\":{\"outlinewidth\":0,\"ticks\":\"\"}},\"type\":\"scatterternary\"}],\"surface\":[{\"colorbar\":{\"outlinewidth\":0,\"ticks\":\"\"},\"colorscale\":[[0.0,\"#0d0887\"],[0.1111111111111111,\"#46039f\"],[0.2222222222222222,\"#7201a8\"],[0.3333333333333333,\"#9c179e\"],[0.4444444444444444,\"#bd3786\"],[0.5555555555555556,\"#d8576b\"],[0.6666666666666666,\"#ed7953\"],[0.7777777777777778,\"#fb9f3a\"],[0.8888888888888888,\"#fdca26\"],[1.0,\"#f0f921\"]],\"type\":\"surface\"}],\"table\":[{\"cells\":{\"fill\":{\"color\":\"#EBF0F8\"},\"line\":{\"color\":\"white\"}},\"header\":{\"fill\":{\"color\":\"#C8D4E3\"},\"line\":{\"color\":\"white\"}},\"type\":\"table\"}]},\"layout\":{\"annotationdefaults\":{\"arrowcolor\":\"#2a3f5f\",\"arrowhead\":0,\"arrowwidth\":1},\"autotypenumbers\":\"strict\",\"coloraxis\":{\"colorbar\":{\"outlinewidth\":0,\"ticks\":\"\"}},\"colorscale\":{\"diverging\":[[0,\"#8e0152\"],[0.1,\"#c51b7d\"],[0.2,\"#de77ae\"],[0.3,\"#f1b6da\"],[0.4,\"#fde0ef\"],[0.5,\"#f7f7f7\"],[0.6,\"#e6f5d0\"],[0.7,\"#b8e186\"],[0.8,\"#7fbc41\"],[0.9,\"#4d9221\"],[1,\"#276419\"]],\"sequential\":[[0.0,\"#0d0887\"],[0.1111111111111111,\"#46039f\"],[0.2222222222222222,\"#7201a8\"],[0.3333333333333333,\"#9c179e\"],[0.4444444444444444,\"#bd3786\"],[0.5555555555555556,\"#d8576b\"],[0.6666666666666666,\"#ed7953\"],[0.7777777777777778,\"#fb9f3a\"],[0.8888888888888888,\"#fdca26\"],[1.0,\"#f0f921\"]],\"sequentialminus\":[[0.0,\"#0d0887\"],[0.1111111111111111,\"#46039f\"],[0.2222222222222222,\"#7201a8\"],[0.3333333333333333,\"#9c179e\"],[0.4444444444444444,\"#bd3786\"],[0.5555555555555556,\"#d8576b\"],[0.6666666666666666,\"#ed7953\"],[0.7777777777777778,\"#fb9f3a\"],[0.8888888888888888,\"#fdca26\"],[1.0,\"#f0f921\"]]},\"colorway\":[\"#636efa\",\"#EF553B\",\"#00cc96\",\"#ab63fa\",\"#FFA15A\",\"#19d3f3\",\"#FF6692\",\"#B6E880\",\"#FF97FF\",\"#FECB52\"],\"font\":{\"color\":\"#2a3f5f\"},\"geo\":{\"bgcolor\":\"white\",\"lakecolor\":\"white\",\"landcolor\":\"#E5ECF6\",\"showlakes\":true,\"showland\":true,\"subunitcolor\":\"white\"},\"hoverlabel\":{\"align\":\"left\"},\"hovermode\":\"closest\",\"mapbox\":{\"style\":\"light\"},\"paper_bgcolor\":\"white\",\"plot_bgcolor\":\"#E5ECF6\",\"polar\":{\"angularaxis\":{\"gridcolor\":\"white\",\"linecolor\":\"white\",\"ticks\":\"\"},\"bgcolor\":\"#E5ECF6\",\"radialaxis\":{\"gridcolor\":\"white\",\"linecolor\":\"white\",\"ticks\":\"\"}},\"scene\":{\"xaxis\":{\"backgroundcolor\":\"#E5ECF6\",\"gridcolor\":\"white\",\"gridwidth\":2,\"linecolor\":\"white\",\"showbackground\":true,\"ticks\":\"\",\"zerolinecolor\":\"white\"},\"yaxis\":{\"backgroundcolor\":\"#E5ECF6\",\"gridcolor\":\"white\",\"gridwidth\":2,\"linecolor\":\"white\",\"showbackground\":true,\"ticks\":\"\",\"zerolinecolor\":\"white\"},\"zaxis\":{\"backgroundcolor\":\"#E5ECF6\",\"gridcolor\":\"white\",\"gridwidth\":2,\"linecolor\":\"white\",\"showbackground\":true,\"ticks\":\"\",\"zerolinecolor\":\"white\"}},\"shapedefaults\":{\"line\":{\"color\":\"#2a3f5f\"}},\"ternary\":{\"aaxis\":{\"gridcolor\":\"white\",\"linecolor\":\"white\",\"ticks\":\"\"},\"baxis\":{\"gridcolor\":\"white\",\"linecolor\":\"white\",\"ticks\":\"\"},\"bgcolor\":\"#E5ECF6\",\"caxis\":{\"gridcolor\":\"white\",\"linecolor\":\"white\",\"ticks\":\"\"}},\"title\":{\"x\":0.05},\"xaxis\":{\"automargin\":true,\"gridcolor\":\"white\",\"linecolor\":\"white\",\"ticks\":\"\",\"title\":{\"standoff\":15},\"zerolinecolor\":\"white\",\"zerolinewidth\":2},\"yaxis\":{\"automargin\":true,\"gridcolor\":\"white\",\"linecolor\":\"white\",\"ticks\":\"\",\"title\":{\"standoff\":15},\"zerolinecolor\":\"white\",\"zerolinewidth\":2}}}},                        {\"responsive\": true}                    ).then(function(){\n",
              "                            \n",
              "var gd = document.getElementById('006ca7dd-e231-4d12-84c6-e790733f8c5e');\n",
              "var x = new MutationObserver(function (mutations, observer) {{\n",
              "        var display = window.getComputedStyle(gd).display;\n",
              "        if (!display || display === 'none') {{\n",
              "            console.log([gd, 'removed!']);\n",
              "            Plotly.purge(gd);\n",
              "            observer.disconnect();\n",
              "        }}\n",
              "}});\n",
              "\n",
              "// Listen for the removal of the full notebook cells\n",
              "var notebookContainer = gd.closest('#notebook-container');\n",
              "if (notebookContainer) {{\n",
              "    x.observe(notebookContainer, {childList: true});\n",
              "}}\n",
              "\n",
              "// Listen for the clearing of the current output cell\n",
              "var outputEl = gd.closest('.output');\n",
              "if (outputEl) {{\n",
              "    x.observe(outputEl, {childList: true});\n",
              "}}\n",
              "\n",
              "                        })                };                            </script>        </div>\n",
              "</body>\n",
              "</html>"
            ]
          },
          "metadata": {}
        },
        {
          "output_type": "stream",
          "name": "stdout",
          "text": [
            "pred size x 332 pred size y: 332\n"
          ]
        },
        {
          "output_type": "display_data",
          "data": {
            "text/html": [
              "<html>\n",
              "<head><meta charset=\"utf-8\" /></head>\n",
              "<body>\n",
              "    <div>            <script src=\"https://cdnjs.cloudflare.com/ajax/libs/mathjax/2.7.5/MathJax.js?config=TeX-AMS-MML_SVG\"></script><script type=\"text/javascript\">if (window.MathJax) {MathJax.Hub.Config({SVG: {font: \"STIX-Web\"}});}</script>                <script type=\"text/javascript\">window.PlotlyConfig = {MathJaxConfig: 'local'};</script>\n",
              "        <script src=\"https://cdn.plot.ly/plotly-2.8.3.min.js\"></script>                <div id=\"3b67a8cf-fbec-4b46-88f9-b91a68ab47dd\" class=\"plotly-graph-div\" style=\"height:525px; width:100%;\"></div>            <script type=\"text/javascript\">                                    window.PLOTLYENV=window.PLOTLYENV || {};                                    if (document.getElementById(\"3b67a8cf-fbec-4b46-88f9-b91a68ab47dd\")) {                    Plotly.newPlot(                        \"3b67a8cf-fbec-4b46-88f9-b91a68ab47dd\",                        [{\"error_y\":{\"array\":[],\"type\":\"data\",\"visible\":true},\"marker\":{\"size\":5,\"symbol\":\"star\"},\"mode\":\"markers\",\"name\":\"predictions\",\"x\":[0.0,0.0,0.0,0.0,0.903321,18.06642,0.0,9.03321,0.903321,0.0,0.0,0.0,0.0,0.0,1.0839852,90.3321,90.3321,0.0,90.3321,0.0,9.03321,0.0,18.06642,0.0,0.0,0.0,0.4516605,0.0,0.0,0.0,58.715865,27.09963,27.09963,27.09963,0.0,0.0,0.0,0.0,90.3321,18.06642,18.06642,1.806642,0.903321,18.06642,9.03321,0.0,0.0,0.0,0.0,0.0,90.3321,0.5419926,0.0,0.903321,0.0,90.3321,0.5419926,0.0,0.5419926,0.0,0.5419926,1.806642,9.03321,45.16605,18.06642,9.03321,3.613284,54.19926,0.0,0.0,0.0,0.0,0.0,0.0,0.0,0.903321,9.03321,1.806642,0.5419926,0.0,0.0,0.0,0.0,36.13284,0.0,90.3321,0.0,0.5419926,0.903321,0.5419926,0.5419926,0.903321,18.06642,4.516605,4.516605,4.516605,0.0,54.19926,58.715865,27.09963,72.26568,0.0,0.0,0.0,90.3321,1.806642,90.3321,90.3321,90.3321,0.0,1.806642,0.0,0.0,0.0,0.0,0.0,0.0,0.0,90.3321,90.3321,90.3321,0.0,18.06642,0.5419926,0.0,0.0,0.5419926,0.5419926,18.06642,1.806642,18.06642,0.0,58.715865,58.715865,0.0,0.0,0.0,90.3321,0.903321,0.0,0.0,0.0,0.0,0.0,0.0,90.3321,0.0,90.3321,0.0,90.3321,0.0,18.06642,0.5419926,0.5419926,0.5419926,0.903321,9.03321,18.06642,0.0,0.0,0.0,1.806642,18.06642,18.06642,0.903321,0.0,27.09963,0.0,0.0,0.0,0.0,0.0,18.06642,0.0,0.0,18.06642,0.0,0.903321,0.0,0.0,0.0,0.0,0.0,0.0,36.13284,0.0,0.0,90.3321,0.903321,1.806642,0.5419926,0.0,0.0,45.16605,4.516605,18.06642,9.03321,0.0,54.19926,27.09963,0.0,0.0,0.0,90.3321,18.06642,9.03321,0.0,0.5419926,0.0,0.0,0.0,0.0,0.0,1.0839852,36.13284,90.3321,90.3321,0.5419926,9.03321,90.3321,0.0,0.5419926,0.5419926,0.0,90.3321,0.0,0.0,18.06642,3.613284,0.0,0.903321,54.19926,27.09963,0.0,0.0,0.0,0.0,0.0,0.0,90.3321,0.903321,0.903321,0.0,0.0,1.0839852,0.0,90.3321,90.3321,0.0,0.5419926,0.5419926,0.5419926,0.5419926,1.806642,9.03321,0.0,90.3321,4.516605,0.4516605,0.0,0.0,0.0,3.613284,0.0,54.19926,72.26568,0.0,0.0,0.0,0.0,9.03321,0.0,1.806642,1.806642,0.5419926,0.0,0.0,0.0,90.3321,90.3321,0.0,90.3321,0.0,0.5419926,0.5419926,0.5419926,0.903321,1.806642,0.0,0.0,4.516605,0.0,0.0,0.4516605,0.903321,0.0,27.09963,27.09963,27.09963,0.0,0.0,0.0,9.03321,1.806642,0.903321,18.06642,0.0,0.0,0.0,0.0,0.0,0.0,0.0,90.3321,0.0,0.0,0.0,1.806642,1.806642,0.0,9.03321,0.0,0.0,0.0,90.3321,45.16605,0.0,1.806642,9.03321,0.0,0.0,0.0],\"y\":[0.37558436662492833,0.006494944039256435,0.006494944039256435,0.006494944039256435,0.34391074944978134,18.066420000000043,0.006494944039256435,9.033210000000022,0.6304027937616665,0.006494944039256435,0.006494944039256435,0.006494944039256435,0.006494944039256435,0.006494944039256435,0.6930336184867238,90.33209999999983,90.33209999999983,0.006494944039256435,90.33209999999983,0.006494944039256435,9.033210000000022,0.006494944039256435,21.63453795000005,0.006494944039256435,0.006494944039256435,0.006494944039256435,0.5251837768947796,0.006494944039256435,0.006494944039256435,0.006494944039256435,59.48368785000006,27.55129050000003,27.55129050000003,27.09963000000002,0.3862252033056677,0.3862252033056677,0.48207500239143447,0.00626243086769342,90.01593764999983,18.066420000000043,18.066420000000043,2.5502766410046562,0.5661917281847058,18.066420000000043,9.033210000000022,0.3862252033056677,0.4656741937708512,0.00626243086769342,0.00626243086769342,0.00626243086769342,90.33209999999983,0.3862252033056677,0.00626243086769342,0.3862252033056677,0.00626243086769342,90.33209999999983,0.49398022296339944,0.00626243086769342,0.3862252033056677,0.00626243086769342,0.6077641137326144,1.4229371879234665,9.033210000000022,47.69534879999992,18.066420000000043,9.033210000000022,2.6377053403631057,54.01859580000005,0.3629242074692457,0.4231734450941061,0.00401793353184031,0.05274350227755015,0.00401793353184031,0.00401793353184031,0.00401793353184031,0.8581931816936393,9.033210000000022,2.1051326190791366,0.4478518328593423,0.3629242074692457,0.00401793353184031,0.00401793353184031,0.00401793353184031,34.77785850000007,0.00401793353184031,90.33209999999983,0.00401793353184031,0.3629242074692457,0.3629242074692457,0.5785528540312471,0.8066144572112343,0.7993155376086759,18.066420000000043,2.0034378256012184,1.9451237283760952,1.8860334585841634,0.00401793353184031,53.657267400000045,59.935348350000055,27.09963000000002,66.8457540000001,0.5011663997586673,0.09337333915168802,0.09337333915168802,90.33209999999983,2.546615731950875,90.33209999999983,89.79010739999984,89.79010739999984,0.00403366912852423,2.546615731950875,0.380525179706773,0.00403366912852423,0.5011663997586673,0.4154093394310206,0.4167558810534286,0.00403366912852423,0.00403366912852423,90.33209999999983,90.33209999999983,90.33209999999983,0.00403366912852423,22.04103240000004,0.671247616800664,0.00403366912852423,0.00403366912852423,0.380525179706773,0.6704166931121395,18.066420000000043,1.9390213971084003,18.247084200000042,0.00403366912852423,60.34184280000002,62.10331875000004,0.45328834125000256,0.45328834125000256,0.45328834125000256,90.33209999999983,0.45328834125000256,0.45328834125000256,0.45328834125000256,0.45328834125000256,0.45328834125000256,0.45328834125000256,0.45328834125000256,90.33209999999983,0.45328834125000256,90.33209999999983,0.45328834125000256,90.33209999999983,0.45328834125000256,20.62827029159095,0.45328834125000256,0.45328834125000256,0.45328834125000256,0.45328834125000256,9.033210000000022,18.066420000000043,0.45328834125000256,0.45328834125000256,0.45328834125000256,0.45328834125000256,18.066420000000043,18.066420000000043,0.45328834125000256,0.45328834125000256,29.319125574036775,0.3170398577657549,0.4633015667757745,0.005772429618498394,0.005772429618498394,0.005772429618498394,18.066420000000043,0.005772429618498394,0.005772429618498394,18.066420000000043,0.005772429618498394,0.7117610002826198,0.005772429618498394,0.005772429618498394,0.005772429618498394,0.005772429618498394,0.005772429618498394,0.005772429618498394,33.603541200000066,0.005772429618498394,0.005772429618498394,90.33209999999983,0.3170398577657549,0.405764046385755,0.3170398577657549,0.005772429618498394,0.005772429618498394,48.41800559999993,2.365069449780495,18.247084200000042,9.033210000000022,0.31638701333376584,43.223909850000034,27.18996210000002,0.4301877164100976,0.4301877164100976,0.4301877164100976,89.82021809999983,18.073646568000044,9.033210000000022,0.4301877164100976,0.4301877164100976,0.4413002690893429,0.4301877164100976,0.4301877164100976,0.4301877164100976,0.4413002690893429,0.4301877164100976,28.670759493129776,90.33209999999983,90.33209999999983,0.4413002690893429,9.033210000000022,90.33209999999983,0.4301877164100976,0.4301877164100976,0.4301877164100976,0.4301877164100976,90.33209999999983,0.4301877164100976,0.4301877164100976,18.073646568000044,0.4413002690893429,0.4301877164100976,0.4413002690893429,56.063332537828366,28.670759493129776,0.42586488738516304,0.42586488738516304,0.4026137203364537,0.4026137203364537,0.4026137203364537,0.4026137203364537,90.01593764999983,0.4026137203364537,0.4026137203364537,0.42586488738516304,0.4026137203364537,0.4026137203364537,0.4026137203364537,90.33209999999983,90.33209999999983,0.4026137203364537,0.4026137203364537,0.4026137203364537,0.42586488738516304,0.4026137203364537,0.42586488738516304,9.033210000000022,0.4026137203364537,90.33209999999983,0.42586488738516304,0.4026137203364537,0.4026137203364537,0.4026137203364537,0.4026137203364537,0.42586488738516304,0.42586488738516304,55.910799239102154,62.404840737211565,0.39961154695803913,0.4628672697295728,0.001841483942035356,0.001841483942035356,9.033210000000022,0.001841483942035356,2.6858749645025295,2.7212068598825296,0.006885026192035359,0.001841483942035356,0.45008966437972964,0.001841483942035356,90.33209999999983,90.33209999999983,0.001841483942035356,90.33209999999983,0.001841483942035356,0.6145090527328004,0.6145090527328004,0.5938322393863631,0.6884861893429401,1.2019429483387412,0.001841483942035356,0.001841483942035356,2.8141970657148283,0.001841483942035356,0.001841483942035356,0.5306710522344285,1.1393592002136295,0.40383914128598397,27.09963000000002,27.731954700000028,27.731954700000028,0.10394805953651755,0.10394805953651755,0.003395672154637285,8.895677096636383,2.3059006189631965,0.6996765683754621,18.066420000000043,0.003395672154637285,0.43906717732674705,0.003395672154637285,0.424203674309882,0.34127180634247894,0.003395672154637285,0.003395672154637285,90.33209999999983,0.003395672154637285,0.003395672154637285,0.003395672154637285,0.31068677338084877,0.399986506523706,0.003395672154637285,9.033210000000022,0.003395672154637285,0.003395672154637285,0.003395672154637285,90.33209999999983,49.185828449999924,0.003395672154637285,1.435227931258215,9.033210000000022,0.31068677338084877,0.31068677338084877,0.31068677338084877],\"type\":\"scatter\"},{\"error_y\":{\"array\":[],\"type\":\"data\",\"visible\":true},\"marker\":{\"size\":5,\"symbol\":\"line-ne-open\"},\"mode\":\"markers\",\"name\":\"actuals\",\"x\":[0.0,0.1001001001001001,0.2002002002002002,0.3003003003003003,0.4004004004004004,0.5005005005005005,0.6006006006006006,0.7007007007007008,0.8008008008008008,0.9009009009009009,1.001001001001001,1.1011011011011012,1.2012012012012012,1.3013013013013013,1.4014014014014016,1.5015015015015016,1.6016016016016017,1.7017017017017018,1.8018018018018018,1.9019019019019021,2.002002002002002,2.1021021021021022,2.2022022022022023,2.3023023023023024,2.4024024024024024,2.5025025025025025,2.6026026026026026,2.702702702702703,2.802802802802803,2.902902902902903,3.0030030030030033,3.1031031031031033,3.2032032032032034,3.3033033033033035,3.4034034034034035,3.5035035035035036,3.6036036036036037,3.7037037037037037,3.8038038038038042,3.9039039039039043,4.004004004004004,4.104104104104104,4.2042042042042045,4.3043043043043046,4.404404404404405,4.504504504504505,4.604604604604605,4.704704704704705,4.804804804804805,4.904904904904905,5.005005005005005,5.105105105105105,5.205205205205205,5.305305305305305,5.405405405405406,5.505505505505506,5.605605605605606,5.705705705705706,5.805805805805806,5.9059059059059065,6.0060060060060065,6.106106106106107,6.206206206206207,6.306306306306307,6.406406406406407,6.506506506506507,6.606606606606607,6.706706706706707,6.806806806806807,6.906906906906907,7.007007007007007,7.107107107107107,7.207207207207207,7.307307307307307,7.407407407407407,7.507507507507508,7.6076076076076085,7.7077077077077085,7.807807807807809,7.907907907907909,8.008008008008009,8.108108108108109,8.208208208208209,8.308308308308309,8.408408408408409,8.508508508508509,8.608608608608609,8.70870870870871,8.80880880880881,8.90890890890891,9.00900900900901,9.10910910910911,9.20920920920921,9.30930930930931,9.40940940940941,9.50950950950951,9.60960960960961,9.70970970970971,9.80980980980981,9.90990990990991,10.01001001001001,10.11011011011011,10.21021021021021,10.31031031031031,10.41041041041041,10.51051051051051,10.61061061061061,10.710710710710712,10.810810810810812,10.910910910910912,11.011011011011012,11.111111111111112,11.211211211211213,11.311311311311313,11.411411411411413,11.511511511511513,11.611611611611613,11.711711711711713,11.811811811811813,11.911911911911913,12.012012012012013,12.112112112112113,12.212212212212213,12.312312312312313,12.412412412412413,12.512512512512513,12.612612612612613,12.712712712712714,12.812812812812814,12.912912912912914,13.013013013013014,13.113113113113114,13.213213213213214,13.313313313313314,13.413413413413414,13.513513513513514,13.613613613613614,13.713713713713714,13.813813813813814,13.913913913913914,14.014014014014014,14.114114114114114,14.214214214214214,14.314314314314315,14.414414414414415,14.514514514514515,14.614614614614615,14.714714714714715,14.814814814814815,14.914914914914915,15.015015015015017,15.115115115115117,15.215215215215217,15.315315315315317,15.415415415415417,15.515515515515517,15.615615615615617,15.715715715715717,15.815815815815817,15.915915915915917,16.016016016016017,16.116116116116117,16.216216216216218,16.316316316316318,16.416416416416418,16.516516516516518,16.616616616616618,16.716716716716718,16.816816816816818,16.916916916916918,17.017017017017018,17.117117117117118,17.217217217217218,17.31731731731732,17.41741741741742,17.51751751751752,17.61761761761762,17.71771771771772,17.81781781781782,17.91791791791792,18.01801801801802,18.11811811811812,18.21821821821822,18.31831831831832,18.41841841841842,18.51851851851852,18.61861861861862,18.71871871871872,18.81881881881882,18.91891891891892,19.01901901901902,19.11911911911912,19.21921921921922,19.31931931931932,19.41941941941942,19.51951951951952,19.61961961961962,19.71971971971972,19.81981981981982,19.91991991991992,20.02002002002002,20.12012012012012,20.22022022022022,20.32032032032032,20.42042042042042,20.52052052052052,20.62062062062062,20.72072072072072,20.82082082082082,20.92092092092092,21.02102102102102,21.12112112112112,21.22122122122122,21.32132132132132,21.421421421421424,21.521521521521525,21.621621621621625,21.721721721721725,21.821821821821825,21.921921921921925,22.022022022022025,22.122122122122125,22.222222222222225,22.322322322322325,22.422422422422425,22.522522522522525,22.622622622622625,22.722722722722725,22.822822822822825,22.922922922922925,23.023023023023026,23.123123123123126,23.223223223223226,23.323323323323326,23.423423423423426,23.523523523523526,23.623623623623626,23.723723723723726,23.823823823823826,23.923923923923926,24.024024024024026,24.124124124124126,24.224224224224226,24.324324324324326,24.424424424424426,24.524524524524526,24.624624624624627,24.724724724724727,24.824824824824827,24.924924924924927,25.025025025025027,25.125125125125127,25.225225225225227,25.325325325325327,25.425425425425427,25.525525525525527,25.625625625625627,25.725725725725727,25.825825825825827,25.925925925925927,26.026026026026027,26.126126126126128,26.226226226226228,26.326326326326328,26.426426426426428,26.526526526526528,26.626626626626628,26.726726726726728,26.826826826826828,26.926926926926928,27.027027027027028,27.127127127127128,27.227227227227228,27.32732732732733,27.42742742742743,27.52752752752753,27.62762762762763,27.72772772772773,27.82782782782783,27.92792792792793,28.02802802802803,28.12812812812813,28.22822822822823,28.32832832832833,28.42842842842843,28.52852852852853,28.62862862862863,28.72872872872873,28.82882882882883,28.92892892892893,29.02902902902903,29.12912912912913,29.22922922922923,29.32932932932933,29.42942942942943,29.52952952952953,29.62962962962963,29.72972972972973,29.82982982982983,29.929929929929934,30.030030030030034,30.130130130130134,30.230230230230234,30.330330330330334,30.430430430430434,30.530530530530534,30.630630630630634,30.730730730730734,30.830830830830834,30.930930930930934,31.031031031031034,31.131131131131134,31.231231231231234,31.331331331331334,31.431431431431434,31.531531531531535,31.631631631631635,31.731731731731735,31.831831831831835,31.931931931931935,32.032032032032035,32.132132132132135,32.232232232232235,32.332332332332335,32.432432432432435,32.532532532532535,32.632632632632635,32.732732732732735,32.832832832832835,32.932932932932935,33.033033033033036,33.133133133133136,33.233233233233236,33.333333333333336,33.433433433433436,33.533533533533536,33.633633633633636,33.733733733733736,33.833833833833836,33.933933933933936,34.034034034034036,34.134134134134136,34.234234234234236,34.334334334334336,34.434434434434436,34.53453453453454,34.63463463463464,34.73473473473474,34.83483483483484,34.93493493493494,35.03503503503504,35.13513513513514,35.23523523523524,35.33533533533534,35.43543543543544,35.53553553553554,35.63563563563564,35.73573573573574,35.83583583583584,35.93593593593594,36.03603603603604,36.13613613613614,36.23623623623624,36.33633633633634,36.43643643643644,36.53653653653654,36.63663663663664,36.73673673673674,36.83683683683684,36.93693693693694,37.03703703703704,37.13713713713714,37.23723723723724,37.33733733733734,37.43743743743744,37.53753753753754,37.63763763763764,37.73773773773774,37.83783783783784,37.93793793793794,38.03803803803804,38.13813813813814,38.23823823823824,38.33833833833834,38.43843843843844,38.53853853853854,38.63863863863864,38.73873873873874,38.83883883883884,38.93893893893894,39.03903903903904,39.13913913913914,39.23923923923924,39.33933933933934,39.43943943943944,39.53953953953954,39.63963963963964,39.73973973973974,39.83983983983984,39.93993993993994,40.04004004004004,40.14014014014014,40.24024024024024,40.34034034034034,40.44044044044044,40.54054054054054,40.64064064064064,40.74074074074074,40.84084084084084,40.94094094094094,41.04104104104104,41.14114114114114,41.24124124124124,41.34134134134134,41.44144144144144,41.54154154154154,41.64164164164164,41.74174174174174,41.84184184184184,41.94194194194194,42.04204204204204,42.14214214214214,42.24224224224224,42.34234234234234,42.44244244244244,42.54254254254254,42.64264264264264,42.74274274274275,42.84284284284285,42.94294294294295,43.04304304304305,43.14314314314315,43.24324324324325,43.34334334334335,43.44344344344345,43.54354354354355,43.64364364364365,43.74374374374375,43.84384384384385,43.94394394394395,44.04404404404405,44.14414414414415,44.24424424424425,44.34434434434435,44.44444444444445,44.54454454454455,44.64464464464465,44.74474474474475,44.84484484484485,44.94494494494495,45.04504504504505,45.14514514514515,45.24524524524525,45.34534534534535,45.44544544544545,45.54554554554555,45.64564564564565,45.74574574574575,45.84584584584585,45.94594594594595,46.04604604604605,46.14614614614615,46.24624624624625,46.34634634634635,46.44644644644645,46.54654654654655,46.64664664664665,46.74674674674675,46.84684684684685,46.94694694694695,47.04704704704705,47.14714714714715,47.24724724724725,47.34734734734735,47.44744744744745,47.54754754754755,47.64764764764765,47.74774774774775,47.84784784784785,47.94794794794795,48.04804804804805,48.14814814814815,48.24824824824825,48.34834834834835,48.44844844844845,48.54854854854855,48.64864864864865,48.74874874874875,48.84884884884885,48.94894894894895,49.04904904904905,49.14914914914915,49.24924924924925,49.34934934934935,49.44944944944945,49.54954954954955,49.64964964964965,49.74974974974975,49.84984984984985,49.94994994994995,50.050050050050054,50.150150150150154,50.250250250250254,50.350350350350354,50.450450450450454,50.550550550550554,50.650650650650654,50.750750750750754,50.850850850850854,50.950950950950954,51.051051051051054,51.151151151151154,51.251251251251254,51.351351351351354,51.451451451451454,51.551551551551555,51.651651651651655,51.751751751751755,51.851851851851855,51.951951951951955,52.052052052052055,52.152152152152155,52.252252252252255,52.352352352352355,52.452452452452455,52.552552552552555,52.652652652652655,52.752752752752755,52.852852852852855,52.952952952952955,53.053053053053056,53.153153153153156,53.253253253253256,53.353353353353356,53.453453453453456,53.553553553553556,53.653653653653656,53.753753753753756,53.853853853853856,53.953953953953956,54.054054054054056,54.154154154154156,54.254254254254256,54.354354354354356,54.454454454454456,54.55455455455456,54.65465465465466,54.75475475475476,54.85485485485486,54.95495495495496,55.05505505505506,55.15515515515516,55.25525525525526,55.35535535535536,55.45545545545546,55.55555555555556,55.65565565565566,55.75575575575576,55.85585585585586,55.95595595595596,56.05605605605606,56.15615615615616,56.25625625625626,56.35635635635636,56.45645645645646,56.55655655655656,56.65665665665666,56.75675675675676,56.85685685685686,56.95695695695696,57.05705705705706,57.15715715715716,57.25725725725726,57.35735735735736,57.45745745745746,57.55755755755756,57.65765765765766,57.75775775775776,57.85785785785786,57.95795795795796,58.05805805805806,58.15815815815816,58.25825825825826,58.35835835835836,58.45845845845846,58.55855855855856,58.65865865865866,58.75875875875876,58.85885885885886,58.95895895895896,59.05905905905906,59.15915915915916,59.25925925925926,59.35935935935936,59.45945945945946,59.55955955955956,59.65965965965966,59.75975975975976,59.85985985985987,59.95995995995997,60.06006006006007,60.16016016016017,60.26026026026027,60.36036036036037,60.46046046046047,60.56056056056057,60.66066066066067,60.76076076076077,60.86086086086087,60.96096096096097,61.06106106106107,61.16116116116117,61.26126126126127,61.36136136136137,61.46146146146147,61.56156156156157,61.66166166166167,61.76176176176177,61.86186186186187,61.96196196196197,62.06206206206207,62.16216216216217,62.26226226226227,62.36236236236237,62.46246246246247,62.56256256256257,62.66266266266267,62.76276276276277,62.86286286286287,62.96296296296297,63.06306306306307,63.16316316316317,63.26326326326327,63.36336336336337,63.46346346346347,63.56356356356357,63.66366366366367,63.76376376376377,63.86386386386387,63.96396396396397,64.06406406406407,64.16416416416416,64.26426426426427,64.36436436436436,64.46446446446447,64.56456456456456,64.66466466466467,64.76476476476476,64.86486486486487,64.96496496496496,65.06506506506507,65.16516516516516,65.26526526526527,65.36536536536536,65.46546546546547,65.56556556556556,65.66566566566567,65.76576576576576,65.86586586586587,65.96596596596596,66.06606606606607,66.16616616616616,66.26626626626627,66.36636636636636,66.46646646646647,66.56656656656656,66.66666666666667,66.76676676676676,66.86686686686687,66.96696696696696,67.06706706706707,67.16716716716716,67.26726726726727,67.36736736736736,67.46746746746747,67.56756756756756,67.66766766766767,67.76776776776777,67.86786786786787,67.96796796796797,68.06806806806807,68.16816816816817,68.26826826826827,68.36836836836838,68.46846846846847,68.56856856856858,68.66866866866867,68.76876876876878,68.86886886886887,68.96896896896898,69.06906906906907,69.16916916916918,69.26926926926927,69.36936936936938,69.46946946946947,69.56956956956958,69.66966966966967,69.76976976976978,69.86986986986987,69.96996996996998,70.07007007007007,70.17017017017018,70.27027027027027,70.37037037037038,70.47047047047047,70.57057057057058,70.67067067067067,70.77077077077078,70.87087087087087,70.97097097097098,71.07107107107107,71.17117117117118,71.27127127127127,71.37137137137138,71.47147147147147,71.57157157157158,71.67167167167167,71.77177177177178,71.87187187187187,71.97197197197198,72.07207207207207,72.17217217217218,72.27227227227228,72.37237237237238,72.47247247247248,72.57257257257258,72.67267267267268,72.77277277277278,72.87287287287288,72.97297297297298,73.07307307307308,73.17317317317318,73.27327327327328,73.37337337337338,73.47347347347348,73.57357357357358,73.67367367367368,73.77377377377378,73.87387387387388,73.97397397397398,74.07407407407408,74.17417417417418,74.27427427427428,74.37437437437438,74.47447447447448,74.57457457457458,74.67467467467468,74.77477477477478,74.87487487487488,74.97497497497498,75.07507507507508,75.17517517517518,75.27527527527528,75.37537537537538,75.47547547547548,75.57557557557558,75.67567567567568,75.77577577577578,75.87587587587588,75.97597597597598,76.07607607607608,76.17617617617618,76.27627627627628,76.37637637637638,76.47647647647648,76.57657657657658,76.67667667667668,76.77677677677679,76.87687687687688,76.97697697697699,77.07707707707708,77.17717717717719,77.27727727727728,77.37737737737739,77.47747747747748,77.57757757757759,77.67767767767768,77.77777777777779,77.87787787787788,77.97797797797799,78.07807807807808,78.17817817817819,78.27827827827828,78.37837837837839,78.47847847847848,78.57857857857859,78.67867867867868,78.77877877877879,78.87887887887888,78.97897897897899,79.07907907907908,79.17917917917919,79.27927927927928,79.37937937937939,79.47947947947948,79.57957957957959,79.67967967967968,79.77977977977979,79.87987987987988,79.97997997997999,80.08008008008008,80.18018018018019,80.28028028028028,80.38038038038039,80.48048048048048,80.58058058058059,80.68068068068068,80.78078078078079,80.88088088088088,80.98098098098099,81.08108108108108,81.18118118118119,81.28128128128128,81.38138138138139,81.48148148148148,81.58158158158159,81.68168168168168,81.78178178178179,81.88188188188188,81.98198198198199,82.08208208208208,82.18218218218219,82.28228228228228,82.38238238238239,82.48248248248248,82.58258258258259,82.68268268268268,82.78278278278279,82.88288288288288,82.98298298298299,83.08308308308308,83.18318318318319,83.28328328328328,83.38338338338339,83.48348348348348,83.58358358358359,83.68368368368368,83.78378378378379,83.88388388388388,83.98398398398399,84.08408408408408,84.18418418418419,84.28428428428428,84.38438438438439,84.48448448448448,84.58458458458459,84.68468468468468,84.78478478478479,84.88488488488488,84.98498498498499,85.08508508508508,85.18518518518519,85.28528528528528,85.38538538538539,85.4854854854855,85.58558558558559,85.6856856856857,85.78578578578579,85.8858858858859,85.98598598598599,86.0860860860861,86.18618618618619,86.2862862862863,86.38638638638639,86.4864864864865,86.58658658658659,86.6866866866867,86.78678678678679,86.8868868868869,86.98698698698699,87.0870870870871,87.18718718718719,87.2872872872873,87.38738738738739,87.4874874874875,87.58758758758759,87.6876876876877,87.78778778778779,87.8878878878879,87.98798798798799,88.0880880880881,88.18818818818819,88.2882882882883,88.38838838838839,88.4884884884885,88.58858858858859,88.6886886886887,88.78878878878879,88.8888888888889,88.988988988989,89.0890890890891,89.1891891891892,89.2892892892893,89.3893893893894,89.4894894894895,89.5895895895896,89.6896896896897,89.7897897897898,89.8898898898899,89.98998998999,90.0900900900901,90.1901901901902,90.2902902902903,90.3903903903904,90.4904904904905,90.5905905905906,90.6906906906907,90.7907907907908,90.8908908908909,90.990990990991,91.0910910910911,91.1911911911912,91.2912912912913,91.3913913913914,91.4914914914915,91.5915915915916,91.6916916916917,91.7917917917918,91.8918918918919,91.991991991992,92.0920920920921,92.1921921921922,92.2922922922923,92.3923923923924,92.4924924924925,92.5925925925926,92.6926926926927,92.7927927927928,92.8928928928929,92.992992992993,93.0930930930931,93.1931931931932,93.2932932932933,93.3933933933934,93.4934934934935,93.5935935935936,93.6936936936937,93.7937937937938,93.8938938938939,93.993993993994,94.0940940940941,94.1941941941942,94.2942942942943,94.3943943943944,94.4944944944945,94.5945945945946,94.6946946946947,94.7947947947948,94.8948948948949,94.994994994995,95.0950950950951,95.1951951951952,95.2952952952953,95.3953953953954,95.4954954954955,95.5955955955956,95.6956956956957,95.7957957957958,95.8958958958959,95.995995995996,96.0960960960961,96.1961961961962,96.2962962962963,96.3963963963964,96.4964964964965,96.5965965965966,96.6966966966967,96.7967967967968,96.8968968968969,96.996996996997,97.0970970970971,97.1971971971972,97.2972972972973,97.3973973973974,97.4974974974975,97.5975975975976,97.6976976976977,97.7977977977978,97.8978978978979,97.997997997998,98.0980980980981,98.1981981981982,98.2982982982983,98.3983983983984,98.4984984984985,98.5985985985986,98.6986986986987,98.7987987987988,98.8988988988989,98.998998998999,99.0990990990991,99.1991991991992,99.2992992992993,99.3993993993994,99.4994994994995,99.5995995995996,99.6996996996997,99.7997997997998,99.8998998998999,100.0],\"y\":[0.0,0.1001001001001001,0.2002002002002002,0.3003003003003003,0.4004004004004004,0.5005005005005005,0.6006006006006006,0.7007007007007008,0.8008008008008008,0.9009009009009009,1.001001001001001,1.1011011011011012,1.2012012012012012,1.3013013013013013,1.4014014014014016,1.5015015015015016,1.6016016016016017,1.7017017017017018,1.8018018018018018,1.9019019019019021,2.002002002002002,2.1021021021021022,2.2022022022022023,2.3023023023023024,2.4024024024024024,2.5025025025025025,2.6026026026026026,2.702702702702703,2.802802802802803,2.902902902902903,3.0030030030030033,3.1031031031031033,3.2032032032032034,3.3033033033033035,3.4034034034034035,3.5035035035035036,3.6036036036036037,3.7037037037037037,3.8038038038038042,3.9039039039039043,4.004004004004004,4.104104104104104,4.2042042042042045,4.3043043043043046,4.404404404404405,4.504504504504505,4.604604604604605,4.704704704704705,4.804804804804805,4.904904904904905,5.005005005005005,5.105105105105105,5.205205205205205,5.305305305305305,5.405405405405406,5.505505505505506,5.605605605605606,5.705705705705706,5.805805805805806,5.9059059059059065,6.0060060060060065,6.106106106106107,6.206206206206207,6.306306306306307,6.406406406406407,6.506506506506507,6.606606606606607,6.706706706706707,6.806806806806807,6.906906906906907,7.007007007007007,7.107107107107107,7.207207207207207,7.307307307307307,7.407407407407407,7.507507507507508,7.6076076076076085,7.7077077077077085,7.807807807807809,7.907907907907909,8.008008008008009,8.108108108108109,8.208208208208209,8.308308308308309,8.408408408408409,8.508508508508509,8.608608608608609,8.70870870870871,8.80880880880881,8.90890890890891,9.00900900900901,9.10910910910911,9.20920920920921,9.30930930930931,9.40940940940941,9.50950950950951,9.60960960960961,9.70970970970971,9.80980980980981,9.90990990990991,10.01001001001001,10.11011011011011,10.21021021021021,10.31031031031031,10.41041041041041,10.51051051051051,10.61061061061061,10.710710710710712,10.810810810810812,10.910910910910912,11.011011011011012,11.111111111111112,11.211211211211213,11.311311311311313,11.411411411411413,11.511511511511513,11.611611611611613,11.711711711711713,11.811811811811813,11.911911911911913,12.012012012012013,12.112112112112113,12.212212212212213,12.312312312312313,12.412412412412413,12.512512512512513,12.612612612612613,12.712712712712714,12.812812812812814,12.912912912912914,13.013013013013014,13.113113113113114,13.213213213213214,13.313313313313314,13.413413413413414,13.513513513513514,13.613613613613614,13.713713713713714,13.813813813813814,13.913913913913914,14.014014014014014,14.114114114114114,14.214214214214214,14.314314314314315,14.414414414414415,14.514514514514515,14.614614614614615,14.714714714714715,14.814814814814815,14.914914914914915,15.015015015015017,15.115115115115117,15.215215215215217,15.315315315315317,15.415415415415417,15.515515515515517,15.615615615615617,15.715715715715717,15.815815815815817,15.915915915915917,16.016016016016017,16.116116116116117,16.216216216216218,16.316316316316318,16.416416416416418,16.516516516516518,16.616616616616618,16.716716716716718,16.816816816816818,16.916916916916918,17.017017017017018,17.117117117117118,17.217217217217218,17.31731731731732,17.41741741741742,17.51751751751752,17.61761761761762,17.71771771771772,17.81781781781782,17.91791791791792,18.01801801801802,18.11811811811812,18.21821821821822,18.31831831831832,18.41841841841842,18.51851851851852,18.61861861861862,18.71871871871872,18.81881881881882,18.91891891891892,19.01901901901902,19.11911911911912,19.21921921921922,19.31931931931932,19.41941941941942,19.51951951951952,19.61961961961962,19.71971971971972,19.81981981981982,19.91991991991992,20.02002002002002,20.12012012012012,20.22022022022022,20.32032032032032,20.42042042042042,20.52052052052052,20.62062062062062,20.72072072072072,20.82082082082082,20.92092092092092,21.02102102102102,21.12112112112112,21.22122122122122,21.32132132132132,21.421421421421424,21.521521521521525,21.621621621621625,21.721721721721725,21.821821821821825,21.921921921921925,22.022022022022025,22.122122122122125,22.222222222222225,22.322322322322325,22.422422422422425,22.522522522522525,22.622622622622625,22.722722722722725,22.822822822822825,22.922922922922925,23.023023023023026,23.123123123123126,23.223223223223226,23.323323323323326,23.423423423423426,23.523523523523526,23.623623623623626,23.723723723723726,23.823823823823826,23.923923923923926,24.024024024024026,24.124124124124126,24.224224224224226,24.324324324324326,24.424424424424426,24.524524524524526,24.624624624624627,24.724724724724727,24.824824824824827,24.924924924924927,25.025025025025027,25.125125125125127,25.225225225225227,25.325325325325327,25.425425425425427,25.525525525525527,25.625625625625627,25.725725725725727,25.825825825825827,25.925925925925927,26.026026026026027,26.126126126126128,26.226226226226228,26.326326326326328,26.426426426426428,26.526526526526528,26.626626626626628,26.726726726726728,26.826826826826828,26.926926926926928,27.027027027027028,27.127127127127128,27.227227227227228,27.32732732732733,27.42742742742743,27.52752752752753,27.62762762762763,27.72772772772773,27.82782782782783,27.92792792792793,28.02802802802803,28.12812812812813,28.22822822822823,28.32832832832833,28.42842842842843,28.52852852852853,28.62862862862863,28.72872872872873,28.82882882882883,28.92892892892893,29.02902902902903,29.12912912912913,29.22922922922923,29.32932932932933,29.42942942942943,29.52952952952953,29.62962962962963,29.72972972972973,29.82982982982983,29.929929929929934,30.030030030030034,30.130130130130134,30.230230230230234,30.330330330330334,30.430430430430434,30.530530530530534,30.630630630630634,30.730730730730734,30.830830830830834,30.930930930930934,31.031031031031034,31.131131131131134,31.231231231231234,31.331331331331334,31.431431431431434,31.531531531531535,31.631631631631635,31.731731731731735,31.831831831831835,31.931931931931935,32.032032032032035,32.132132132132135,32.232232232232235,32.332332332332335,32.432432432432435,32.532532532532535,32.632632632632635,32.732732732732735,32.832832832832835,32.932932932932935,33.033033033033036,33.133133133133136,33.233233233233236,33.333333333333336,33.433433433433436,33.533533533533536,33.633633633633636,33.733733733733736,33.833833833833836,33.933933933933936,34.034034034034036,34.134134134134136,34.234234234234236,34.334334334334336,34.434434434434436,34.53453453453454,34.63463463463464,34.73473473473474,34.83483483483484,34.93493493493494,35.03503503503504,35.13513513513514,35.23523523523524,35.33533533533534,35.43543543543544,35.53553553553554,35.63563563563564,35.73573573573574,35.83583583583584,35.93593593593594,36.03603603603604,36.13613613613614,36.23623623623624,36.33633633633634,36.43643643643644,36.53653653653654,36.63663663663664,36.73673673673674,36.83683683683684,36.93693693693694,37.03703703703704,37.13713713713714,37.23723723723724,37.33733733733734,37.43743743743744,37.53753753753754,37.63763763763764,37.73773773773774,37.83783783783784,37.93793793793794,38.03803803803804,38.13813813813814,38.23823823823824,38.33833833833834,38.43843843843844,38.53853853853854,38.63863863863864,38.73873873873874,38.83883883883884,38.93893893893894,39.03903903903904,39.13913913913914,39.23923923923924,39.33933933933934,39.43943943943944,39.53953953953954,39.63963963963964,39.73973973973974,39.83983983983984,39.93993993993994,40.04004004004004,40.14014014014014,40.24024024024024,40.34034034034034,40.44044044044044,40.54054054054054,40.64064064064064,40.74074074074074,40.84084084084084,40.94094094094094,41.04104104104104,41.14114114114114,41.24124124124124,41.34134134134134,41.44144144144144,41.54154154154154,41.64164164164164,41.74174174174174,41.84184184184184,41.94194194194194,42.04204204204204,42.14214214214214,42.24224224224224,42.34234234234234,42.44244244244244,42.54254254254254,42.64264264264264,42.74274274274275,42.84284284284285,42.94294294294295,43.04304304304305,43.14314314314315,43.24324324324325,43.34334334334335,43.44344344344345,43.54354354354355,43.64364364364365,43.74374374374375,43.84384384384385,43.94394394394395,44.04404404404405,44.14414414414415,44.24424424424425,44.34434434434435,44.44444444444445,44.54454454454455,44.64464464464465,44.74474474474475,44.84484484484485,44.94494494494495,45.04504504504505,45.14514514514515,45.24524524524525,45.34534534534535,45.44544544544545,45.54554554554555,45.64564564564565,45.74574574574575,45.84584584584585,45.94594594594595,46.04604604604605,46.14614614614615,46.24624624624625,46.34634634634635,46.44644644644645,46.54654654654655,46.64664664664665,46.74674674674675,46.84684684684685,46.94694694694695,47.04704704704705,47.14714714714715,47.24724724724725,47.34734734734735,47.44744744744745,47.54754754754755,47.64764764764765,47.74774774774775,47.84784784784785,47.94794794794795,48.04804804804805,48.14814814814815,48.24824824824825,48.34834834834835,48.44844844844845,48.54854854854855,48.64864864864865,48.74874874874875,48.84884884884885,48.94894894894895,49.04904904904905,49.14914914914915,49.24924924924925,49.34934934934935,49.44944944944945,49.54954954954955,49.64964964964965,49.74974974974975,49.84984984984985,49.94994994994995,50.050050050050054,50.150150150150154,50.250250250250254,50.350350350350354,50.450450450450454,50.550550550550554,50.650650650650654,50.750750750750754,50.850850850850854,50.950950950950954,51.051051051051054,51.151151151151154,51.251251251251254,51.351351351351354,51.451451451451454,51.551551551551555,51.651651651651655,51.751751751751755,51.851851851851855,51.951951951951955,52.052052052052055,52.152152152152155,52.252252252252255,52.352352352352355,52.452452452452455,52.552552552552555,52.652652652652655,52.752752752752755,52.852852852852855,52.952952952952955,53.053053053053056,53.153153153153156,53.253253253253256,53.353353353353356,53.453453453453456,53.553553553553556,53.653653653653656,53.753753753753756,53.853853853853856,53.953953953953956,54.054054054054056,54.154154154154156,54.254254254254256,54.354354354354356,54.454454454454456,54.55455455455456,54.65465465465466,54.75475475475476,54.85485485485486,54.95495495495496,55.05505505505506,55.15515515515516,55.25525525525526,55.35535535535536,55.45545545545546,55.55555555555556,55.65565565565566,55.75575575575576,55.85585585585586,55.95595595595596,56.05605605605606,56.15615615615616,56.25625625625626,56.35635635635636,56.45645645645646,56.55655655655656,56.65665665665666,56.75675675675676,56.85685685685686,56.95695695695696,57.05705705705706,57.15715715715716,57.25725725725726,57.35735735735736,57.45745745745746,57.55755755755756,57.65765765765766,57.75775775775776,57.85785785785786,57.95795795795796,58.05805805805806,58.15815815815816,58.25825825825826,58.35835835835836,58.45845845845846,58.55855855855856,58.65865865865866,58.75875875875876,58.85885885885886,58.95895895895896,59.05905905905906,59.15915915915916,59.25925925925926,59.35935935935936,59.45945945945946,59.55955955955956,59.65965965965966,59.75975975975976,59.85985985985987,59.95995995995997,60.06006006006007,60.16016016016017,60.26026026026027,60.36036036036037,60.46046046046047,60.56056056056057,60.66066066066067,60.76076076076077,60.86086086086087,60.96096096096097,61.06106106106107,61.16116116116117,61.26126126126127,61.36136136136137,61.46146146146147,61.56156156156157,61.66166166166167,61.76176176176177,61.86186186186187,61.96196196196197,62.06206206206207,62.16216216216217,62.26226226226227,62.36236236236237,62.46246246246247,62.56256256256257,62.66266266266267,62.76276276276277,62.86286286286287,62.96296296296297,63.06306306306307,63.16316316316317,63.26326326326327,63.36336336336337,63.46346346346347,63.56356356356357,63.66366366366367,63.76376376376377,63.86386386386387,63.96396396396397,64.06406406406407,64.16416416416416,64.26426426426427,64.36436436436436,64.46446446446447,64.56456456456456,64.66466466466467,64.76476476476476,64.86486486486487,64.96496496496496,65.06506506506507,65.16516516516516,65.26526526526527,65.36536536536536,65.46546546546547,65.56556556556556,65.66566566566567,65.76576576576576,65.86586586586587,65.96596596596596,66.06606606606607,66.16616616616616,66.26626626626627,66.36636636636636,66.46646646646647,66.56656656656656,66.66666666666667,66.76676676676676,66.86686686686687,66.96696696696696,67.06706706706707,67.16716716716716,67.26726726726727,67.36736736736736,67.46746746746747,67.56756756756756,67.66766766766767,67.76776776776777,67.86786786786787,67.96796796796797,68.06806806806807,68.16816816816817,68.26826826826827,68.36836836836838,68.46846846846847,68.56856856856858,68.66866866866867,68.76876876876878,68.86886886886887,68.96896896896898,69.06906906906907,69.16916916916918,69.26926926926927,69.36936936936938,69.46946946946947,69.56956956956958,69.66966966966967,69.76976976976978,69.86986986986987,69.96996996996998,70.07007007007007,70.17017017017018,70.27027027027027,70.37037037037038,70.47047047047047,70.57057057057058,70.67067067067067,70.77077077077078,70.87087087087087,70.97097097097098,71.07107107107107,71.17117117117118,71.27127127127127,71.37137137137138,71.47147147147147,71.57157157157158,71.67167167167167,71.77177177177178,71.87187187187187,71.97197197197198,72.07207207207207,72.17217217217218,72.27227227227228,72.37237237237238,72.47247247247248,72.57257257257258,72.67267267267268,72.77277277277278,72.87287287287288,72.97297297297298,73.07307307307308,73.17317317317318,73.27327327327328,73.37337337337338,73.47347347347348,73.57357357357358,73.67367367367368,73.77377377377378,73.87387387387388,73.97397397397398,74.07407407407408,74.17417417417418,74.27427427427428,74.37437437437438,74.47447447447448,74.57457457457458,74.67467467467468,74.77477477477478,74.87487487487488,74.97497497497498,75.07507507507508,75.17517517517518,75.27527527527528,75.37537537537538,75.47547547547548,75.57557557557558,75.67567567567568,75.77577577577578,75.87587587587588,75.97597597597598,76.07607607607608,76.17617617617618,76.27627627627628,76.37637637637638,76.47647647647648,76.57657657657658,76.67667667667668,76.77677677677679,76.87687687687688,76.97697697697699,77.07707707707708,77.17717717717719,77.27727727727728,77.37737737737739,77.47747747747748,77.57757757757759,77.67767767767768,77.77777777777779,77.87787787787788,77.97797797797799,78.07807807807808,78.17817817817819,78.27827827827828,78.37837837837839,78.47847847847848,78.57857857857859,78.67867867867868,78.77877877877879,78.87887887887888,78.97897897897899,79.07907907907908,79.17917917917919,79.27927927927928,79.37937937937939,79.47947947947948,79.57957957957959,79.67967967967968,79.77977977977979,79.87987987987988,79.97997997997999,80.08008008008008,80.18018018018019,80.28028028028028,80.38038038038039,80.48048048048048,80.58058058058059,80.68068068068068,80.78078078078079,80.88088088088088,80.98098098098099,81.08108108108108,81.18118118118119,81.28128128128128,81.38138138138139,81.48148148148148,81.58158158158159,81.68168168168168,81.78178178178179,81.88188188188188,81.98198198198199,82.08208208208208,82.18218218218219,82.28228228228228,82.38238238238239,82.48248248248248,82.58258258258259,82.68268268268268,82.78278278278279,82.88288288288288,82.98298298298299,83.08308308308308,83.18318318318319,83.28328328328328,83.38338338338339,83.48348348348348,83.58358358358359,83.68368368368368,83.78378378378379,83.88388388388388,83.98398398398399,84.08408408408408,84.18418418418419,84.28428428428428,84.38438438438439,84.48448448448448,84.58458458458459,84.68468468468468,84.78478478478479,84.88488488488488,84.98498498498499,85.08508508508508,85.18518518518519,85.28528528528528,85.38538538538539,85.4854854854855,85.58558558558559,85.6856856856857,85.78578578578579,85.8858858858859,85.98598598598599,86.0860860860861,86.18618618618619,86.2862862862863,86.38638638638639,86.4864864864865,86.58658658658659,86.6866866866867,86.78678678678679,86.8868868868869,86.98698698698699,87.0870870870871,87.18718718718719,87.2872872872873,87.38738738738739,87.4874874874875,87.58758758758759,87.6876876876877,87.78778778778779,87.8878878878879,87.98798798798799,88.0880880880881,88.18818818818819,88.2882882882883,88.38838838838839,88.4884884884885,88.58858858858859,88.6886886886887,88.78878878878879,88.8888888888889,88.988988988989,89.0890890890891,89.1891891891892,89.2892892892893,89.3893893893894,89.4894894894895,89.5895895895896,89.6896896896897,89.7897897897898,89.8898898898899,89.98998998999,90.0900900900901,90.1901901901902,90.2902902902903,90.3903903903904,90.4904904904905,90.5905905905906,90.6906906906907,90.7907907907908,90.8908908908909,90.990990990991,91.0910910910911,91.1911911911912,91.2912912912913,91.3913913913914,91.4914914914915,91.5915915915916,91.6916916916917,91.7917917917918,91.8918918918919,91.991991991992,92.0920920920921,92.1921921921922,92.2922922922923,92.3923923923924,92.4924924924925,92.5925925925926,92.6926926926927,92.7927927927928,92.8928928928929,92.992992992993,93.0930930930931,93.1931931931932,93.2932932932933,93.3933933933934,93.4934934934935,93.5935935935936,93.6936936936937,93.7937937937938,93.8938938938939,93.993993993994,94.0940940940941,94.1941941941942,94.2942942942943,94.3943943943944,94.4944944944945,94.5945945945946,94.6946946946947,94.7947947947948,94.8948948948949,94.994994994995,95.0950950950951,95.1951951951952,95.2952952952953,95.3953953953954,95.4954954954955,95.5955955955956,95.6956956956957,95.7957957957958,95.8958958958959,95.995995995996,96.0960960960961,96.1961961961962,96.2962962962963,96.3963963963964,96.4964964964965,96.5965965965966,96.6966966966967,96.7967967967968,96.8968968968969,96.996996996997,97.0970970970971,97.1971971971972,97.2972972972973,97.3973973973974,97.4974974974975,97.5975975975976,97.6976976976977,97.7977977977978,97.8978978978979,97.997997997998,98.0980980980981,98.1981981981982,98.2982982982983,98.3983983983984,98.4984984984985,98.5985985985986,98.6986986986987,98.7987987987988,98.8988988988989,98.998998998999,99.0990990990991,99.1991991991992,99.2992992992993,99.3993993993994,99.4994994994995,99.5995995995996,99.6996996996997,99.7997997997998,99.8998998998999,100.0],\"type\":\"scatter\"}],                        {\"title\":{\"text\":\"rf_reg predicted v actual\"},\"template\":{\"data\":{\"bar\":[{\"error_x\":{\"color\":\"#2a3f5f\"},\"error_y\":{\"color\":\"#2a3f5f\"},\"marker\":{\"line\":{\"color\":\"#E5ECF6\",\"width\":0.5},\"pattern\":{\"fillmode\":\"overlay\",\"size\":10,\"solidity\":0.2}},\"type\":\"bar\"}],\"barpolar\":[{\"marker\":{\"line\":{\"color\":\"#E5ECF6\",\"width\":0.5},\"pattern\":{\"fillmode\":\"overlay\",\"size\":10,\"solidity\":0.2}},\"type\":\"barpolar\"}],\"carpet\":[{\"aaxis\":{\"endlinecolor\":\"#2a3f5f\",\"gridcolor\":\"white\",\"linecolor\":\"white\",\"minorgridcolor\":\"white\",\"startlinecolor\":\"#2a3f5f\"},\"baxis\":{\"endlinecolor\":\"#2a3f5f\",\"gridcolor\":\"white\",\"linecolor\":\"white\",\"minorgridcolor\":\"white\",\"startlinecolor\":\"#2a3f5f\"},\"type\":\"carpet\"}],\"choropleth\":[{\"colorbar\":{\"outlinewidth\":0,\"ticks\":\"\"},\"type\":\"choropleth\"}],\"contour\":[{\"colorbar\":{\"outlinewidth\":0,\"ticks\":\"\"},\"colorscale\":[[0.0,\"#0d0887\"],[0.1111111111111111,\"#46039f\"],[0.2222222222222222,\"#7201a8\"],[0.3333333333333333,\"#9c179e\"],[0.4444444444444444,\"#bd3786\"],[0.5555555555555556,\"#d8576b\"],[0.6666666666666666,\"#ed7953\"],[0.7777777777777778,\"#fb9f3a\"],[0.8888888888888888,\"#fdca26\"],[1.0,\"#f0f921\"]],\"type\":\"contour\"}],\"contourcarpet\":[{\"colorbar\":{\"outlinewidth\":0,\"ticks\":\"\"},\"type\":\"contourcarpet\"}],\"heatmap\":[{\"colorbar\":{\"outlinewidth\":0,\"ticks\":\"\"},\"colorscale\":[[0.0,\"#0d0887\"],[0.1111111111111111,\"#46039f\"],[0.2222222222222222,\"#7201a8\"],[0.3333333333333333,\"#9c179e\"],[0.4444444444444444,\"#bd3786\"],[0.5555555555555556,\"#d8576b\"],[0.6666666666666666,\"#ed7953\"],[0.7777777777777778,\"#fb9f3a\"],[0.8888888888888888,\"#fdca26\"],[1.0,\"#f0f921\"]],\"type\":\"heatmap\"}],\"heatmapgl\":[{\"colorbar\":{\"outlinewidth\":0,\"ticks\":\"\"},\"colorscale\":[[0.0,\"#0d0887\"],[0.1111111111111111,\"#46039f\"],[0.2222222222222222,\"#7201a8\"],[0.3333333333333333,\"#9c179e\"],[0.4444444444444444,\"#bd3786\"],[0.5555555555555556,\"#d8576b\"],[0.6666666666666666,\"#ed7953\"],[0.7777777777777778,\"#fb9f3a\"],[0.8888888888888888,\"#fdca26\"],[1.0,\"#f0f921\"]],\"type\":\"heatmapgl\"}],\"histogram\":[{\"marker\":{\"pattern\":{\"fillmode\":\"overlay\",\"size\":10,\"solidity\":0.2}},\"type\":\"histogram\"}],\"histogram2d\":[{\"colorbar\":{\"outlinewidth\":0,\"ticks\":\"\"},\"colorscale\":[[0.0,\"#0d0887\"],[0.1111111111111111,\"#46039f\"],[0.2222222222222222,\"#7201a8\"],[0.3333333333333333,\"#9c179e\"],[0.4444444444444444,\"#bd3786\"],[0.5555555555555556,\"#d8576b\"],[0.6666666666666666,\"#ed7953\"],[0.7777777777777778,\"#fb9f3a\"],[0.8888888888888888,\"#fdca26\"],[1.0,\"#f0f921\"]],\"type\":\"histogram2d\"}],\"histogram2dcontour\":[{\"colorbar\":{\"outlinewidth\":0,\"ticks\":\"\"},\"colorscale\":[[0.0,\"#0d0887\"],[0.1111111111111111,\"#46039f\"],[0.2222222222222222,\"#7201a8\"],[0.3333333333333333,\"#9c179e\"],[0.4444444444444444,\"#bd3786\"],[0.5555555555555556,\"#d8576b\"],[0.6666666666666666,\"#ed7953\"],[0.7777777777777778,\"#fb9f3a\"],[0.8888888888888888,\"#fdca26\"],[1.0,\"#f0f921\"]],\"type\":\"histogram2dcontour\"}],\"mesh3d\":[{\"colorbar\":{\"outlinewidth\":0,\"ticks\":\"\"},\"type\":\"mesh3d\"}],\"parcoords\":[{\"line\":{\"colorbar\":{\"outlinewidth\":0,\"ticks\":\"\"}},\"type\":\"parcoords\"}],\"pie\":[{\"automargin\":true,\"type\":\"pie\"}],\"scatter\":[{\"marker\":{\"colorbar\":{\"outlinewidth\":0,\"ticks\":\"\"}},\"type\":\"scatter\"}],\"scatter3d\":[{\"line\":{\"colorbar\":{\"outlinewidth\":0,\"ticks\":\"\"}},\"marker\":{\"colorbar\":{\"outlinewidth\":0,\"ticks\":\"\"}},\"type\":\"scatter3d\"}],\"scattercarpet\":[{\"marker\":{\"colorbar\":{\"outlinewidth\":0,\"ticks\":\"\"}},\"type\":\"scattercarpet\"}],\"scattergeo\":[{\"marker\":{\"colorbar\":{\"outlinewidth\":0,\"ticks\":\"\"}},\"type\":\"scattergeo\"}],\"scattergl\":[{\"marker\":{\"colorbar\":{\"outlinewidth\":0,\"ticks\":\"\"}},\"type\":\"scattergl\"}],\"scattermapbox\":[{\"marker\":{\"colorbar\":{\"outlinewidth\":0,\"ticks\":\"\"}},\"type\":\"scattermapbox\"}],\"scatterpolar\":[{\"marker\":{\"colorbar\":{\"outlinewidth\":0,\"ticks\":\"\"}},\"type\":\"scatterpolar\"}],\"scatterpolargl\":[{\"marker\":{\"colorbar\":{\"outlinewidth\":0,\"ticks\":\"\"}},\"type\":\"scatterpolargl\"}],\"scatterternary\":[{\"marker\":{\"colorbar\":{\"outlinewidth\":0,\"ticks\":\"\"}},\"type\":\"scatterternary\"}],\"surface\":[{\"colorbar\":{\"outlinewidth\":0,\"ticks\":\"\"},\"colorscale\":[[0.0,\"#0d0887\"],[0.1111111111111111,\"#46039f\"],[0.2222222222222222,\"#7201a8\"],[0.3333333333333333,\"#9c179e\"],[0.4444444444444444,\"#bd3786\"],[0.5555555555555556,\"#d8576b\"],[0.6666666666666666,\"#ed7953\"],[0.7777777777777778,\"#fb9f3a\"],[0.8888888888888888,\"#fdca26\"],[1.0,\"#f0f921\"]],\"type\":\"surface\"}],\"table\":[{\"cells\":{\"fill\":{\"color\":\"#EBF0F8\"},\"line\":{\"color\":\"white\"}},\"header\":{\"fill\":{\"color\":\"#C8D4E3\"},\"line\":{\"color\":\"white\"}},\"type\":\"table\"}]},\"layout\":{\"annotationdefaults\":{\"arrowcolor\":\"#2a3f5f\",\"arrowhead\":0,\"arrowwidth\":1},\"autotypenumbers\":\"strict\",\"coloraxis\":{\"colorbar\":{\"outlinewidth\":0,\"ticks\":\"\"}},\"colorscale\":{\"diverging\":[[0,\"#8e0152\"],[0.1,\"#c51b7d\"],[0.2,\"#de77ae\"],[0.3,\"#f1b6da\"],[0.4,\"#fde0ef\"],[0.5,\"#f7f7f7\"],[0.6,\"#e6f5d0\"],[0.7,\"#b8e186\"],[0.8,\"#7fbc41\"],[0.9,\"#4d9221\"],[1,\"#276419\"]],\"sequential\":[[0.0,\"#0d0887\"],[0.1111111111111111,\"#46039f\"],[0.2222222222222222,\"#7201a8\"],[0.3333333333333333,\"#9c179e\"],[0.4444444444444444,\"#bd3786\"],[0.5555555555555556,\"#d8576b\"],[0.6666666666666666,\"#ed7953\"],[0.7777777777777778,\"#fb9f3a\"],[0.8888888888888888,\"#fdca26\"],[1.0,\"#f0f921\"]],\"sequentialminus\":[[0.0,\"#0d0887\"],[0.1111111111111111,\"#46039f\"],[0.2222222222222222,\"#7201a8\"],[0.3333333333333333,\"#9c179e\"],[0.4444444444444444,\"#bd3786\"],[0.5555555555555556,\"#d8576b\"],[0.6666666666666666,\"#ed7953\"],[0.7777777777777778,\"#fb9f3a\"],[0.8888888888888888,\"#fdca26\"],[1.0,\"#f0f921\"]]},\"colorway\":[\"#636efa\",\"#EF553B\",\"#00cc96\",\"#ab63fa\",\"#FFA15A\",\"#19d3f3\",\"#FF6692\",\"#B6E880\",\"#FF97FF\",\"#FECB52\"],\"font\":{\"color\":\"#2a3f5f\"},\"geo\":{\"bgcolor\":\"white\",\"lakecolor\":\"white\",\"landcolor\":\"#E5ECF6\",\"showlakes\":true,\"showland\":true,\"subunitcolor\":\"white\"},\"hoverlabel\":{\"align\":\"left\"},\"hovermode\":\"closest\",\"mapbox\":{\"style\":\"light\"},\"paper_bgcolor\":\"white\",\"plot_bgcolor\":\"#E5ECF6\",\"polar\":{\"angularaxis\":{\"gridcolor\":\"white\",\"linecolor\":\"white\",\"ticks\":\"\"},\"bgcolor\":\"#E5ECF6\",\"radialaxis\":{\"gridcolor\":\"white\",\"linecolor\":\"white\",\"ticks\":\"\"}},\"scene\":{\"xaxis\":{\"backgroundcolor\":\"#E5ECF6\",\"gridcolor\":\"white\",\"gridwidth\":2,\"linecolor\":\"white\",\"showbackground\":true,\"ticks\":\"\",\"zerolinecolor\":\"white\"},\"yaxis\":{\"backgroundcolor\":\"#E5ECF6\",\"gridcolor\":\"white\",\"gridwidth\":2,\"linecolor\":\"white\",\"showbackground\":true,\"ticks\":\"\",\"zerolinecolor\":\"white\"},\"zaxis\":{\"backgroundcolor\":\"#E5ECF6\",\"gridcolor\":\"white\",\"gridwidth\":2,\"linecolor\":\"white\",\"showbackground\":true,\"ticks\":\"\",\"zerolinecolor\":\"white\"}},\"shapedefaults\":{\"line\":{\"color\":\"#2a3f5f\"}},\"ternary\":{\"aaxis\":{\"gridcolor\":\"white\",\"linecolor\":\"white\",\"ticks\":\"\"},\"baxis\":{\"gridcolor\":\"white\",\"linecolor\":\"white\",\"ticks\":\"\"},\"bgcolor\":\"#E5ECF6\",\"caxis\":{\"gridcolor\":\"white\",\"linecolor\":\"white\",\"ticks\":\"\"}},\"title\":{\"x\":0.05},\"xaxis\":{\"automargin\":true,\"gridcolor\":\"white\",\"linecolor\":\"white\",\"ticks\":\"\",\"title\":{\"standoff\":15},\"zerolinecolor\":\"white\",\"zerolinewidth\":2},\"yaxis\":{\"automargin\":true,\"gridcolor\":\"white\",\"linecolor\":\"white\",\"ticks\":\"\",\"title\":{\"standoff\":15},\"zerolinecolor\":\"white\",\"zerolinewidth\":2}}}},                        {\"responsive\": true}                    ).then(function(){\n",
              "                            \n",
              "var gd = document.getElementById('3b67a8cf-fbec-4b46-88f9-b91a68ab47dd');\n",
              "var x = new MutationObserver(function (mutations, observer) {{\n",
              "        var display = window.getComputedStyle(gd).display;\n",
              "        if (!display || display === 'none') {{\n",
              "            console.log([gd, 'removed!']);\n",
              "            Plotly.purge(gd);\n",
              "            observer.disconnect();\n",
              "        }}\n",
              "}});\n",
              "\n",
              "// Listen for the removal of the full notebook cells\n",
              "var notebookContainer = gd.closest('#notebook-container');\n",
              "if (notebookContainer) {{\n",
              "    x.observe(notebookContainer, {childList: true});\n",
              "}}\n",
              "\n",
              "// Listen for the clearing of the current output cell\n",
              "var outputEl = gd.closest('.output');\n",
              "if (outputEl) {{\n",
              "    x.observe(outputEl, {childList: true});\n",
              "}}\n",
              "\n",
              "                        })                };                            </script>        </div>\n",
              "</body>\n",
              "</html>"
            ]
          },
          "metadata": {}
        },
        {
          "output_type": "stream",
          "name": "stdout",
          "text": [
            "pred size x 332 pred size y: 332\n"
          ]
        },
        {
          "output_type": "display_data",
          "data": {
            "text/html": [
              "<html>\n",
              "<head><meta charset=\"utf-8\" /></head>\n",
              "<body>\n",
              "    <div>            <script src=\"https://cdnjs.cloudflare.com/ajax/libs/mathjax/2.7.5/MathJax.js?config=TeX-AMS-MML_SVG\"></script><script type=\"text/javascript\">if (window.MathJax) {MathJax.Hub.Config({SVG: {font: \"STIX-Web\"}});}</script>                <script type=\"text/javascript\">window.PlotlyConfig = {MathJaxConfig: 'local'};</script>\n",
              "        <script src=\"https://cdn.plot.ly/plotly-2.8.3.min.js\"></script>                <div id=\"153c039e-9354-411b-b41d-135b0a8bcb90\" class=\"plotly-graph-div\" style=\"height:525px; width:100%;\"></div>            <script type=\"text/javascript\">                                    window.PLOTLYENV=window.PLOTLYENV || {};                                    if (document.getElementById(\"153c039e-9354-411b-b41d-135b0a8bcb90\")) {                    Plotly.newPlot(                        \"153c039e-9354-411b-b41d-135b0a8bcb90\",                        [{\"error_y\":{\"array\":[],\"type\":\"data\",\"visible\":true},\"marker\":{\"size\":5,\"symbol\":\"star\"},\"mode\":\"markers\",\"name\":\"predictions\",\"x\":[0.0,0.0,0.0,0.0,0.903321,18.06642,0.0,9.03321,0.903321,0.0,0.0,0.0,0.0,0.0,1.0839852,90.3321,90.3321,0.0,90.3321,0.0,9.03321,0.0,18.06642,0.0,0.0,0.0,0.4516605,0.0,0.0,0.0,58.715865,27.09963,27.09963,27.09963,0.0,0.0,0.0,0.0,90.3321,18.06642,18.06642,1.806642,0.903321,18.06642,9.03321,0.0,0.0,0.0,0.0,0.0,90.3321,0.5419926,0.0,0.903321,0.0,90.3321,0.5419926,0.0,0.5419926,0.0,0.5419926,1.806642,9.03321,45.16605,18.06642,9.03321,3.613284,54.19926,0.0,0.0,0.0,0.0,0.0,0.0,0.0,0.903321,9.03321,1.806642,0.5419926,0.0,0.0,0.0,0.0,36.13284,0.0,90.3321,0.0,0.5419926,0.903321,0.5419926,0.5419926,0.903321,18.06642,4.516605,4.516605,4.516605,0.0,54.19926,58.715865,27.09963,72.26568,0.0,0.0,0.0,90.3321,1.806642,90.3321,90.3321,90.3321,0.0,1.806642,0.0,0.0,0.0,0.0,0.0,0.0,0.0,90.3321,90.3321,90.3321,0.0,18.06642,0.5419926,0.0,0.0,0.5419926,0.5419926,18.06642,1.806642,18.06642,0.0,58.715865,58.715865,0.0,0.0,0.0,90.3321,0.903321,0.0,0.0,0.0,0.0,0.0,0.0,90.3321,0.0,90.3321,0.0,90.3321,0.0,18.06642,0.5419926,0.5419926,0.5419926,0.903321,9.03321,18.06642,0.0,0.0,0.0,1.806642,18.06642,18.06642,0.903321,0.0,27.09963,0.0,0.0,0.0,0.0,0.0,18.06642,0.0,0.0,18.06642,0.0,0.903321,0.0,0.0,0.0,0.0,0.0,0.0,36.13284,0.0,0.0,90.3321,0.903321,1.806642,0.5419926,0.0,0.0,45.16605,4.516605,18.06642,9.03321,0.0,54.19926,27.09963,0.0,0.0,0.0,90.3321,18.06642,9.03321,0.0,0.5419926,0.0,0.0,0.0,0.0,0.0,1.0839852,36.13284,90.3321,90.3321,0.5419926,9.03321,90.3321,0.0,0.5419926,0.5419926,0.0,90.3321,0.0,0.0,18.06642,3.613284,0.0,0.903321,54.19926,27.09963,0.0,0.0,0.0,0.0,0.0,0.0,90.3321,0.903321,0.903321,0.0,0.0,1.0839852,0.0,90.3321,90.3321,0.0,0.5419926,0.5419926,0.5419926,0.5419926,1.806642,9.03321,0.0,90.3321,4.516605,0.4516605,0.0,0.0,0.0,3.613284,0.0,54.19926,72.26568,0.0,0.0,0.0,0.0,9.03321,0.0,1.806642,1.806642,0.5419926,0.0,0.0,0.0,90.3321,90.3321,0.0,90.3321,0.0,0.5419926,0.5419926,0.5419926,0.903321,1.806642,0.0,0.0,4.516605,0.0,0.0,0.4516605,0.903321,0.0,27.09963,27.09963,27.09963,0.0,0.0,0.0,9.03321,1.806642,0.903321,18.06642,0.0,0.0,0.0,0.0,0.0,0.0,0.0,90.3321,0.0,0.0,0.0,1.806642,1.806642,0.0,9.03321,0.0,0.0,0.0,90.3321,45.16605,0.0,1.806642,9.03321,0.0,0.0,0.0],\"y\":[0.1029693607761164,0.2037742095630275,0.21509615344038124,0.23042172971820385,0.6259192505096784,15.99793027341921,0.27384413701373944,7.729883862830624,1.3973434012272854,0.19802449218459728,0.17137697202951507,0.34312907928455694,0.26720203375134766,-0.05995976203580433,0.8850628817905353,96.04117247179144,94.16426635749109,0.2946345390863865,92.86139211056187,0.2946345390863865,7.373025286779397,0.2946345390863865,15.836099448423939,0.2946345390863865,0.2946345390863865,0.2946345390863865,0.835100996630846,0.5602775492748311,0.7105587819073484,0.7714229334546303,57.8572502398694,26.951567804859238,27.158335724375597,26.88696355505305,0.33249151186625703,-2.005940055446297,-0.08790462483475991,0.24360238566923798,86.00533880778775,15.141619673946934,15.486410976658311,2.0267490529607315,0.731052348499551,15.987740811383455,7.613387691937374,1.0635427068488834,-0.08710624503028619,0.13929997454829568,0.36157594683241534,0.2899687931646593,93.7932030336977,1.7290994103667199,0.2725904615214514,1.8059081801621542,0.2725904615214514,87.83100625895464,0.44421811547507595,0.2725904615214514,0.7798099800558784,0.2725904615214514,0.6524865822043733,1.1491314316358139,8.084331624540274,44.743857646783624,16.835187102195505,8.543024298058658,2.1873402801678896,54.602245127407926,-0.01801941775871896,0.11903519414675401,0.18877889892700317,0.29110634867376106,0.27837545562292476,0.25047108074922697,0.31049829115016614,0.7439178505364943,7.589006668136996,1.6458899577327628,0.4995006218564022,1.238288588239218,0.25508339317626927,0.3024205603257748,0.18250161507874552,30.011442457883156,0.24880610932803293,96.79417295859065,0.27537550240141684,2.077416804749543,2.1347239020112205,0.3108521663349091,0.5452420557705882,0.8426625950427074,16.78583267170754,3.6211649285663547,3.6936112311090703,3.681396852708403,0.7986976192061999,54.198817878032074,57.97981649123851,24.980135345583683,61.29560894734654,0.16650745460623995,0.7345475584021113,0.619037697492411,93.61401772082739,1.6981581958336758,94.05690607695462,86.41357683399573,84.55449766375243,0.5394245366969201,1.845130156725908,1.2411111390072858,0.5394245366969201,0.056097202557729986,1.1640815952180574,0.3627190562698086,0.5339409404660387,0.5394245366969201,94.02025614215316,89.73290770675906,91.00549945228902,0.5620775311774118,16.642268489861927,0.7934590819395488,0.5620775311774118,0.5620775311774118,0.7675487337463789,0.8016579910662216,15.982238516482461,1.3873063629659175,16.717005512091685,1.1001940686475606,59.18693473771769,58.95887502215337,0.11173410314592047,0.14492411763680124,0.1782563265372552,88.54028266200972,0.8180165223236564,0.3629263936959166,0.2133928259436253,0.1782563265372552,0.17257326068207846,0.1998082912705712,0.1998082912705712,92.63721048723592,0.1782563265372552,91.50622045029883,0.1998082912705712,76.32101902875715,0.20549135712565914,16.410873020149257,0.4505406711794677,0.48131110404491473,0.36844758359149843,0.9190693703421537,7.878103650009173,16.402767969388034,0.1998082912705712,0.1998082912705712,0.22330674091987746,1.3618651026346438,16.48401593180182,16.420137104340746,1.3673242299945745,2.11827222405552,26.759290567636956,0.6430038352501946,0.34469430224523023,0.19832050091443776,0.25276432664061943,0.23939845157204864,15.54974476859632,0.25925260831454544,0.25925260831454544,15.087622613507062,0.19832050091443776,1.3562250893396541,0.25303106973070655,0.27955360432863685,0.19832050091443776,0.20757717629127725,-0.04698635840684773,0.00772421040931448,29.63853162272001,0.2857751429124491,0.27955360432863685,77.01745360134169,2.309363743710062,2.12565095091389,0.9051801200415461,0.27955360432863685,0.27955360432863685,44.672568304555654,4.588644235593417,16.9571734614845,8.907600596944942,1.949638820987154,52.8602988470286,24.64338152438907,0.120294718567445,0.24392855592539675,0.20923925186230896,88.15254259239379,15.247464967007133,7.043805492033995,0.17244727409665472,0.4287184829554196,1.0058935326861942,0.04262863744387069,0.21779496720150426,0.5552054138370153,0.1923366805349218,0.7904174583448551,29.74671505939107,93.97872766430254,77.88904434872396,1.1266809052133695,7.60299866898044,88.20467878623043,0.20026463433165098,0.46086473411890694,0.3871607045976564,0.20026463433165098,90.57203474294755,0.4879238335729692,0.3180422334192077,17.318558995115595,2.556939391065397,0.8201099124814917,1.3516987006775167,55.37237077850337,25.21466451399324,0.16101854433729734,-2.4627301881184476,-0.2592096908691097,0.12424410854842982,0.23960677572556044,0.2462653996983999,89.89976568031713,0.5459705406569224,1.230597447316855,0.5853743137635128,0.23976024141475705,0.9155428297323489,0.26408565873576606,92.49015465507404,94.34613454558114,0.28429090068877194,0.35391053274702244,0.2869162180389342,0.8136665847116991,0.5102490525971408,1.1210938230786045,7.650558096802634,0.28429090068877194,89.13165298794785,4.800535227854768,1.4312568496959504,1.3866323241693426,0.9465704176246188,0.5107227744388165,2.6189655627115354,2.5922575592784067,56.142398495032516,59.52704790987334,0.10432613940263558,0.597208515173465,0.26790998813262057,0.20172217740475595,7.310002638760233,0.20172217740475595,2.1213892326277115,1.5943172103549887,0.48352958784567157,0.26790998813262057,0.3933541463763923,0.26790998813262057,95.5474689888794,94.09846118992289,0.28847049391626456,89.74194252655118,0.28847049391626456,0.5101338914749771,0.48814845157341047,0.3388292329386431,0.8207621167911139,1.059060925888586,0.28847049391626456,0.3111497033009041,3.5944176750634504,1.3251159881349572,0.3111497033009041,0.4300449632402419,1.5864504990834227,2.20268868346381,26.906806156980075,25.515677893795,25.001937701614022,0.7142759276319719,0.6156678476086554,0.38842327981164537,7.383667020239879,2.2955339628429723,1.0454549360610166,16.577068210146585,0.4461752460184698,0.6015517517727851,0.4461752460184698,1.1711709311735081,0.2764857216984318,0.38842327981164537,0.4731884938222173,93.0601941478484,0.45164016273047913,0.4786534105342941,0.4786534105342941,2.1030068525579715,1.7277525703389998,0.4786534105342941,8.151012832662353,0.4731884938222173,0.4731884938222173,0.4461752460184698,91.64545184702952,44.23133717236189,0.4731884938222173,2.3438417544035985,8.647628135789098,1.9915205689856759,-2.0252952307268615,-2.6074556999398517],\"type\":\"scatter\"},{\"error_y\":{\"array\":[],\"type\":\"data\",\"visible\":true},\"marker\":{\"size\":5,\"symbol\":\"line-ne-open\"},\"mode\":\"markers\",\"name\":\"actuals\",\"x\":[0.0,0.1001001001001001,0.2002002002002002,0.3003003003003003,0.4004004004004004,0.5005005005005005,0.6006006006006006,0.7007007007007008,0.8008008008008008,0.9009009009009009,1.001001001001001,1.1011011011011012,1.2012012012012012,1.3013013013013013,1.4014014014014016,1.5015015015015016,1.6016016016016017,1.7017017017017018,1.8018018018018018,1.9019019019019021,2.002002002002002,2.1021021021021022,2.2022022022022023,2.3023023023023024,2.4024024024024024,2.5025025025025025,2.6026026026026026,2.702702702702703,2.802802802802803,2.902902902902903,3.0030030030030033,3.1031031031031033,3.2032032032032034,3.3033033033033035,3.4034034034034035,3.5035035035035036,3.6036036036036037,3.7037037037037037,3.8038038038038042,3.9039039039039043,4.004004004004004,4.104104104104104,4.2042042042042045,4.3043043043043046,4.404404404404405,4.504504504504505,4.604604604604605,4.704704704704705,4.804804804804805,4.904904904904905,5.005005005005005,5.105105105105105,5.205205205205205,5.305305305305305,5.405405405405406,5.505505505505506,5.605605605605606,5.705705705705706,5.805805805805806,5.9059059059059065,6.0060060060060065,6.106106106106107,6.206206206206207,6.306306306306307,6.406406406406407,6.506506506506507,6.606606606606607,6.706706706706707,6.806806806806807,6.906906906906907,7.007007007007007,7.107107107107107,7.207207207207207,7.307307307307307,7.407407407407407,7.507507507507508,7.6076076076076085,7.7077077077077085,7.807807807807809,7.907907907907909,8.008008008008009,8.108108108108109,8.208208208208209,8.308308308308309,8.408408408408409,8.508508508508509,8.608608608608609,8.70870870870871,8.80880880880881,8.90890890890891,9.00900900900901,9.10910910910911,9.20920920920921,9.30930930930931,9.40940940940941,9.50950950950951,9.60960960960961,9.70970970970971,9.80980980980981,9.90990990990991,10.01001001001001,10.11011011011011,10.21021021021021,10.31031031031031,10.41041041041041,10.51051051051051,10.61061061061061,10.710710710710712,10.810810810810812,10.910910910910912,11.011011011011012,11.111111111111112,11.211211211211213,11.311311311311313,11.411411411411413,11.511511511511513,11.611611611611613,11.711711711711713,11.811811811811813,11.911911911911913,12.012012012012013,12.112112112112113,12.212212212212213,12.312312312312313,12.412412412412413,12.512512512512513,12.612612612612613,12.712712712712714,12.812812812812814,12.912912912912914,13.013013013013014,13.113113113113114,13.213213213213214,13.313313313313314,13.413413413413414,13.513513513513514,13.613613613613614,13.713713713713714,13.813813813813814,13.913913913913914,14.014014014014014,14.114114114114114,14.214214214214214,14.314314314314315,14.414414414414415,14.514514514514515,14.614614614614615,14.714714714714715,14.814814814814815,14.914914914914915,15.015015015015017,15.115115115115117,15.215215215215217,15.315315315315317,15.415415415415417,15.515515515515517,15.615615615615617,15.715715715715717,15.815815815815817,15.915915915915917,16.016016016016017,16.116116116116117,16.216216216216218,16.316316316316318,16.416416416416418,16.516516516516518,16.616616616616618,16.716716716716718,16.816816816816818,16.916916916916918,17.017017017017018,17.117117117117118,17.217217217217218,17.31731731731732,17.41741741741742,17.51751751751752,17.61761761761762,17.71771771771772,17.81781781781782,17.91791791791792,18.01801801801802,18.11811811811812,18.21821821821822,18.31831831831832,18.41841841841842,18.51851851851852,18.61861861861862,18.71871871871872,18.81881881881882,18.91891891891892,19.01901901901902,19.11911911911912,19.21921921921922,19.31931931931932,19.41941941941942,19.51951951951952,19.61961961961962,19.71971971971972,19.81981981981982,19.91991991991992,20.02002002002002,20.12012012012012,20.22022022022022,20.32032032032032,20.42042042042042,20.52052052052052,20.62062062062062,20.72072072072072,20.82082082082082,20.92092092092092,21.02102102102102,21.12112112112112,21.22122122122122,21.32132132132132,21.421421421421424,21.521521521521525,21.621621621621625,21.721721721721725,21.821821821821825,21.921921921921925,22.022022022022025,22.122122122122125,22.222222222222225,22.322322322322325,22.422422422422425,22.522522522522525,22.622622622622625,22.722722722722725,22.822822822822825,22.922922922922925,23.023023023023026,23.123123123123126,23.223223223223226,23.323323323323326,23.423423423423426,23.523523523523526,23.623623623623626,23.723723723723726,23.823823823823826,23.923923923923926,24.024024024024026,24.124124124124126,24.224224224224226,24.324324324324326,24.424424424424426,24.524524524524526,24.624624624624627,24.724724724724727,24.824824824824827,24.924924924924927,25.025025025025027,25.125125125125127,25.225225225225227,25.325325325325327,25.425425425425427,25.525525525525527,25.625625625625627,25.725725725725727,25.825825825825827,25.925925925925927,26.026026026026027,26.126126126126128,26.226226226226228,26.326326326326328,26.426426426426428,26.526526526526528,26.626626626626628,26.726726726726728,26.826826826826828,26.926926926926928,27.027027027027028,27.127127127127128,27.227227227227228,27.32732732732733,27.42742742742743,27.52752752752753,27.62762762762763,27.72772772772773,27.82782782782783,27.92792792792793,28.02802802802803,28.12812812812813,28.22822822822823,28.32832832832833,28.42842842842843,28.52852852852853,28.62862862862863,28.72872872872873,28.82882882882883,28.92892892892893,29.02902902902903,29.12912912912913,29.22922922922923,29.32932932932933,29.42942942942943,29.52952952952953,29.62962962962963,29.72972972972973,29.82982982982983,29.929929929929934,30.030030030030034,30.130130130130134,30.230230230230234,30.330330330330334,30.430430430430434,30.530530530530534,30.630630630630634,30.730730730730734,30.830830830830834,30.930930930930934,31.031031031031034,31.131131131131134,31.231231231231234,31.331331331331334,31.431431431431434,31.531531531531535,31.631631631631635,31.731731731731735,31.831831831831835,31.931931931931935,32.032032032032035,32.132132132132135,32.232232232232235,32.332332332332335,32.432432432432435,32.532532532532535,32.632632632632635,32.732732732732735,32.832832832832835,32.932932932932935,33.033033033033036,33.133133133133136,33.233233233233236,33.333333333333336,33.433433433433436,33.533533533533536,33.633633633633636,33.733733733733736,33.833833833833836,33.933933933933936,34.034034034034036,34.134134134134136,34.234234234234236,34.334334334334336,34.434434434434436,34.53453453453454,34.63463463463464,34.73473473473474,34.83483483483484,34.93493493493494,35.03503503503504,35.13513513513514,35.23523523523524,35.33533533533534,35.43543543543544,35.53553553553554,35.63563563563564,35.73573573573574,35.83583583583584,35.93593593593594,36.03603603603604,36.13613613613614,36.23623623623624,36.33633633633634,36.43643643643644,36.53653653653654,36.63663663663664,36.73673673673674,36.83683683683684,36.93693693693694,37.03703703703704,37.13713713713714,37.23723723723724,37.33733733733734,37.43743743743744,37.53753753753754,37.63763763763764,37.73773773773774,37.83783783783784,37.93793793793794,38.03803803803804,38.13813813813814,38.23823823823824,38.33833833833834,38.43843843843844,38.53853853853854,38.63863863863864,38.73873873873874,38.83883883883884,38.93893893893894,39.03903903903904,39.13913913913914,39.23923923923924,39.33933933933934,39.43943943943944,39.53953953953954,39.63963963963964,39.73973973973974,39.83983983983984,39.93993993993994,40.04004004004004,40.14014014014014,40.24024024024024,40.34034034034034,40.44044044044044,40.54054054054054,40.64064064064064,40.74074074074074,40.84084084084084,40.94094094094094,41.04104104104104,41.14114114114114,41.24124124124124,41.34134134134134,41.44144144144144,41.54154154154154,41.64164164164164,41.74174174174174,41.84184184184184,41.94194194194194,42.04204204204204,42.14214214214214,42.24224224224224,42.34234234234234,42.44244244244244,42.54254254254254,42.64264264264264,42.74274274274275,42.84284284284285,42.94294294294295,43.04304304304305,43.14314314314315,43.24324324324325,43.34334334334335,43.44344344344345,43.54354354354355,43.64364364364365,43.74374374374375,43.84384384384385,43.94394394394395,44.04404404404405,44.14414414414415,44.24424424424425,44.34434434434435,44.44444444444445,44.54454454454455,44.64464464464465,44.74474474474475,44.84484484484485,44.94494494494495,45.04504504504505,45.14514514514515,45.24524524524525,45.34534534534535,45.44544544544545,45.54554554554555,45.64564564564565,45.74574574574575,45.84584584584585,45.94594594594595,46.04604604604605,46.14614614614615,46.24624624624625,46.34634634634635,46.44644644644645,46.54654654654655,46.64664664664665,46.74674674674675,46.84684684684685,46.94694694694695,47.04704704704705,47.14714714714715,47.24724724724725,47.34734734734735,47.44744744744745,47.54754754754755,47.64764764764765,47.74774774774775,47.84784784784785,47.94794794794795,48.04804804804805,48.14814814814815,48.24824824824825,48.34834834834835,48.44844844844845,48.54854854854855,48.64864864864865,48.74874874874875,48.84884884884885,48.94894894894895,49.04904904904905,49.14914914914915,49.24924924924925,49.34934934934935,49.44944944944945,49.54954954954955,49.64964964964965,49.74974974974975,49.84984984984985,49.94994994994995,50.050050050050054,50.150150150150154,50.250250250250254,50.350350350350354,50.450450450450454,50.550550550550554,50.650650650650654,50.750750750750754,50.850850850850854,50.950950950950954,51.051051051051054,51.151151151151154,51.251251251251254,51.351351351351354,51.451451451451454,51.551551551551555,51.651651651651655,51.751751751751755,51.851851851851855,51.951951951951955,52.052052052052055,52.152152152152155,52.252252252252255,52.352352352352355,52.452452452452455,52.552552552552555,52.652652652652655,52.752752752752755,52.852852852852855,52.952952952952955,53.053053053053056,53.153153153153156,53.253253253253256,53.353353353353356,53.453453453453456,53.553553553553556,53.653653653653656,53.753753753753756,53.853853853853856,53.953953953953956,54.054054054054056,54.154154154154156,54.254254254254256,54.354354354354356,54.454454454454456,54.55455455455456,54.65465465465466,54.75475475475476,54.85485485485486,54.95495495495496,55.05505505505506,55.15515515515516,55.25525525525526,55.35535535535536,55.45545545545546,55.55555555555556,55.65565565565566,55.75575575575576,55.85585585585586,55.95595595595596,56.05605605605606,56.15615615615616,56.25625625625626,56.35635635635636,56.45645645645646,56.55655655655656,56.65665665665666,56.75675675675676,56.85685685685686,56.95695695695696,57.05705705705706,57.15715715715716,57.25725725725726,57.35735735735736,57.45745745745746,57.55755755755756,57.65765765765766,57.75775775775776,57.85785785785786,57.95795795795796,58.05805805805806,58.15815815815816,58.25825825825826,58.35835835835836,58.45845845845846,58.55855855855856,58.65865865865866,58.75875875875876,58.85885885885886,58.95895895895896,59.05905905905906,59.15915915915916,59.25925925925926,59.35935935935936,59.45945945945946,59.55955955955956,59.65965965965966,59.75975975975976,59.85985985985987,59.95995995995997,60.06006006006007,60.16016016016017,60.26026026026027,60.36036036036037,60.46046046046047,60.56056056056057,60.66066066066067,60.76076076076077,60.86086086086087,60.96096096096097,61.06106106106107,61.16116116116117,61.26126126126127,61.36136136136137,61.46146146146147,61.56156156156157,61.66166166166167,61.76176176176177,61.86186186186187,61.96196196196197,62.06206206206207,62.16216216216217,62.26226226226227,62.36236236236237,62.46246246246247,62.56256256256257,62.66266266266267,62.76276276276277,62.86286286286287,62.96296296296297,63.06306306306307,63.16316316316317,63.26326326326327,63.36336336336337,63.46346346346347,63.56356356356357,63.66366366366367,63.76376376376377,63.86386386386387,63.96396396396397,64.06406406406407,64.16416416416416,64.26426426426427,64.36436436436436,64.46446446446447,64.56456456456456,64.66466466466467,64.76476476476476,64.86486486486487,64.96496496496496,65.06506506506507,65.16516516516516,65.26526526526527,65.36536536536536,65.46546546546547,65.56556556556556,65.66566566566567,65.76576576576576,65.86586586586587,65.96596596596596,66.06606606606607,66.16616616616616,66.26626626626627,66.36636636636636,66.46646646646647,66.56656656656656,66.66666666666667,66.76676676676676,66.86686686686687,66.96696696696696,67.06706706706707,67.16716716716716,67.26726726726727,67.36736736736736,67.46746746746747,67.56756756756756,67.66766766766767,67.76776776776777,67.86786786786787,67.96796796796797,68.06806806806807,68.16816816816817,68.26826826826827,68.36836836836838,68.46846846846847,68.56856856856858,68.66866866866867,68.76876876876878,68.86886886886887,68.96896896896898,69.06906906906907,69.16916916916918,69.26926926926927,69.36936936936938,69.46946946946947,69.56956956956958,69.66966966966967,69.76976976976978,69.86986986986987,69.96996996996998,70.07007007007007,70.17017017017018,70.27027027027027,70.37037037037038,70.47047047047047,70.57057057057058,70.67067067067067,70.77077077077078,70.87087087087087,70.97097097097098,71.07107107107107,71.17117117117118,71.27127127127127,71.37137137137138,71.47147147147147,71.57157157157158,71.67167167167167,71.77177177177178,71.87187187187187,71.97197197197198,72.07207207207207,72.17217217217218,72.27227227227228,72.37237237237238,72.47247247247248,72.57257257257258,72.67267267267268,72.77277277277278,72.87287287287288,72.97297297297298,73.07307307307308,73.17317317317318,73.27327327327328,73.37337337337338,73.47347347347348,73.57357357357358,73.67367367367368,73.77377377377378,73.87387387387388,73.97397397397398,74.07407407407408,74.17417417417418,74.27427427427428,74.37437437437438,74.47447447447448,74.57457457457458,74.67467467467468,74.77477477477478,74.87487487487488,74.97497497497498,75.07507507507508,75.17517517517518,75.27527527527528,75.37537537537538,75.47547547547548,75.57557557557558,75.67567567567568,75.77577577577578,75.87587587587588,75.97597597597598,76.07607607607608,76.17617617617618,76.27627627627628,76.37637637637638,76.47647647647648,76.57657657657658,76.67667667667668,76.77677677677679,76.87687687687688,76.97697697697699,77.07707707707708,77.17717717717719,77.27727727727728,77.37737737737739,77.47747747747748,77.57757757757759,77.67767767767768,77.77777777777779,77.87787787787788,77.97797797797799,78.07807807807808,78.17817817817819,78.27827827827828,78.37837837837839,78.47847847847848,78.57857857857859,78.67867867867868,78.77877877877879,78.87887887887888,78.97897897897899,79.07907907907908,79.17917917917919,79.27927927927928,79.37937937937939,79.47947947947948,79.57957957957959,79.67967967967968,79.77977977977979,79.87987987987988,79.97997997997999,80.08008008008008,80.18018018018019,80.28028028028028,80.38038038038039,80.48048048048048,80.58058058058059,80.68068068068068,80.78078078078079,80.88088088088088,80.98098098098099,81.08108108108108,81.18118118118119,81.28128128128128,81.38138138138139,81.48148148148148,81.58158158158159,81.68168168168168,81.78178178178179,81.88188188188188,81.98198198198199,82.08208208208208,82.18218218218219,82.28228228228228,82.38238238238239,82.48248248248248,82.58258258258259,82.68268268268268,82.78278278278279,82.88288288288288,82.98298298298299,83.08308308308308,83.18318318318319,83.28328328328328,83.38338338338339,83.48348348348348,83.58358358358359,83.68368368368368,83.78378378378379,83.88388388388388,83.98398398398399,84.08408408408408,84.18418418418419,84.28428428428428,84.38438438438439,84.48448448448448,84.58458458458459,84.68468468468468,84.78478478478479,84.88488488488488,84.98498498498499,85.08508508508508,85.18518518518519,85.28528528528528,85.38538538538539,85.4854854854855,85.58558558558559,85.6856856856857,85.78578578578579,85.8858858858859,85.98598598598599,86.0860860860861,86.18618618618619,86.2862862862863,86.38638638638639,86.4864864864865,86.58658658658659,86.6866866866867,86.78678678678679,86.8868868868869,86.98698698698699,87.0870870870871,87.18718718718719,87.2872872872873,87.38738738738739,87.4874874874875,87.58758758758759,87.6876876876877,87.78778778778779,87.8878878878879,87.98798798798799,88.0880880880881,88.18818818818819,88.2882882882883,88.38838838838839,88.4884884884885,88.58858858858859,88.6886886886887,88.78878878878879,88.8888888888889,88.988988988989,89.0890890890891,89.1891891891892,89.2892892892893,89.3893893893894,89.4894894894895,89.5895895895896,89.6896896896897,89.7897897897898,89.8898898898899,89.98998998999,90.0900900900901,90.1901901901902,90.2902902902903,90.3903903903904,90.4904904904905,90.5905905905906,90.6906906906907,90.7907907907908,90.8908908908909,90.990990990991,91.0910910910911,91.1911911911912,91.2912912912913,91.3913913913914,91.4914914914915,91.5915915915916,91.6916916916917,91.7917917917918,91.8918918918919,91.991991991992,92.0920920920921,92.1921921921922,92.2922922922923,92.3923923923924,92.4924924924925,92.5925925925926,92.6926926926927,92.7927927927928,92.8928928928929,92.992992992993,93.0930930930931,93.1931931931932,93.2932932932933,93.3933933933934,93.4934934934935,93.5935935935936,93.6936936936937,93.7937937937938,93.8938938938939,93.993993993994,94.0940940940941,94.1941941941942,94.2942942942943,94.3943943943944,94.4944944944945,94.5945945945946,94.6946946946947,94.7947947947948,94.8948948948949,94.994994994995,95.0950950950951,95.1951951951952,95.2952952952953,95.3953953953954,95.4954954954955,95.5955955955956,95.6956956956957,95.7957957957958,95.8958958958959,95.995995995996,96.0960960960961,96.1961961961962,96.2962962962963,96.3963963963964,96.4964964964965,96.5965965965966,96.6966966966967,96.7967967967968,96.8968968968969,96.996996996997,97.0970970970971,97.1971971971972,97.2972972972973,97.3973973973974,97.4974974974975,97.5975975975976,97.6976976976977,97.7977977977978,97.8978978978979,97.997997997998,98.0980980980981,98.1981981981982,98.2982982982983,98.3983983983984,98.4984984984985,98.5985985985986,98.6986986986987,98.7987987987988,98.8988988988989,98.998998998999,99.0990990990991,99.1991991991992,99.2992992992993,99.3993993993994,99.4994994994995,99.5995995995996,99.6996996996997,99.7997997997998,99.8998998998999,100.0],\"y\":[0.0,0.1001001001001001,0.2002002002002002,0.3003003003003003,0.4004004004004004,0.5005005005005005,0.6006006006006006,0.7007007007007008,0.8008008008008008,0.9009009009009009,1.001001001001001,1.1011011011011012,1.2012012012012012,1.3013013013013013,1.4014014014014016,1.5015015015015016,1.6016016016016017,1.7017017017017018,1.8018018018018018,1.9019019019019021,2.002002002002002,2.1021021021021022,2.2022022022022023,2.3023023023023024,2.4024024024024024,2.5025025025025025,2.6026026026026026,2.702702702702703,2.802802802802803,2.902902902902903,3.0030030030030033,3.1031031031031033,3.2032032032032034,3.3033033033033035,3.4034034034034035,3.5035035035035036,3.6036036036036037,3.7037037037037037,3.8038038038038042,3.9039039039039043,4.004004004004004,4.104104104104104,4.2042042042042045,4.3043043043043046,4.404404404404405,4.504504504504505,4.604604604604605,4.704704704704705,4.804804804804805,4.904904904904905,5.005005005005005,5.105105105105105,5.205205205205205,5.305305305305305,5.405405405405406,5.505505505505506,5.605605605605606,5.705705705705706,5.805805805805806,5.9059059059059065,6.0060060060060065,6.106106106106107,6.206206206206207,6.306306306306307,6.406406406406407,6.506506506506507,6.606606606606607,6.706706706706707,6.806806806806807,6.906906906906907,7.007007007007007,7.107107107107107,7.207207207207207,7.307307307307307,7.407407407407407,7.507507507507508,7.6076076076076085,7.7077077077077085,7.807807807807809,7.907907907907909,8.008008008008009,8.108108108108109,8.208208208208209,8.308308308308309,8.408408408408409,8.508508508508509,8.608608608608609,8.70870870870871,8.80880880880881,8.90890890890891,9.00900900900901,9.10910910910911,9.20920920920921,9.30930930930931,9.40940940940941,9.50950950950951,9.60960960960961,9.70970970970971,9.80980980980981,9.90990990990991,10.01001001001001,10.11011011011011,10.21021021021021,10.31031031031031,10.41041041041041,10.51051051051051,10.61061061061061,10.710710710710712,10.810810810810812,10.910910910910912,11.011011011011012,11.111111111111112,11.211211211211213,11.311311311311313,11.411411411411413,11.511511511511513,11.611611611611613,11.711711711711713,11.811811811811813,11.911911911911913,12.012012012012013,12.112112112112113,12.212212212212213,12.312312312312313,12.412412412412413,12.512512512512513,12.612612612612613,12.712712712712714,12.812812812812814,12.912912912912914,13.013013013013014,13.113113113113114,13.213213213213214,13.313313313313314,13.413413413413414,13.513513513513514,13.613613613613614,13.713713713713714,13.813813813813814,13.913913913913914,14.014014014014014,14.114114114114114,14.214214214214214,14.314314314314315,14.414414414414415,14.514514514514515,14.614614614614615,14.714714714714715,14.814814814814815,14.914914914914915,15.015015015015017,15.115115115115117,15.215215215215217,15.315315315315317,15.415415415415417,15.515515515515517,15.615615615615617,15.715715715715717,15.815815815815817,15.915915915915917,16.016016016016017,16.116116116116117,16.216216216216218,16.316316316316318,16.416416416416418,16.516516516516518,16.616616616616618,16.716716716716718,16.816816816816818,16.916916916916918,17.017017017017018,17.117117117117118,17.217217217217218,17.31731731731732,17.41741741741742,17.51751751751752,17.61761761761762,17.71771771771772,17.81781781781782,17.91791791791792,18.01801801801802,18.11811811811812,18.21821821821822,18.31831831831832,18.41841841841842,18.51851851851852,18.61861861861862,18.71871871871872,18.81881881881882,18.91891891891892,19.01901901901902,19.11911911911912,19.21921921921922,19.31931931931932,19.41941941941942,19.51951951951952,19.61961961961962,19.71971971971972,19.81981981981982,19.91991991991992,20.02002002002002,20.12012012012012,20.22022022022022,20.32032032032032,20.42042042042042,20.52052052052052,20.62062062062062,20.72072072072072,20.82082082082082,20.92092092092092,21.02102102102102,21.12112112112112,21.22122122122122,21.32132132132132,21.421421421421424,21.521521521521525,21.621621621621625,21.721721721721725,21.821821821821825,21.921921921921925,22.022022022022025,22.122122122122125,22.222222222222225,22.322322322322325,22.422422422422425,22.522522522522525,22.622622622622625,22.722722722722725,22.822822822822825,22.922922922922925,23.023023023023026,23.123123123123126,23.223223223223226,23.323323323323326,23.423423423423426,23.523523523523526,23.623623623623626,23.723723723723726,23.823823823823826,23.923923923923926,24.024024024024026,24.124124124124126,24.224224224224226,24.324324324324326,24.424424424424426,24.524524524524526,24.624624624624627,24.724724724724727,24.824824824824827,24.924924924924927,25.025025025025027,25.125125125125127,25.225225225225227,25.325325325325327,25.425425425425427,25.525525525525527,25.625625625625627,25.725725725725727,25.825825825825827,25.925925925925927,26.026026026026027,26.126126126126128,26.226226226226228,26.326326326326328,26.426426426426428,26.526526526526528,26.626626626626628,26.726726726726728,26.826826826826828,26.926926926926928,27.027027027027028,27.127127127127128,27.227227227227228,27.32732732732733,27.42742742742743,27.52752752752753,27.62762762762763,27.72772772772773,27.82782782782783,27.92792792792793,28.02802802802803,28.12812812812813,28.22822822822823,28.32832832832833,28.42842842842843,28.52852852852853,28.62862862862863,28.72872872872873,28.82882882882883,28.92892892892893,29.02902902902903,29.12912912912913,29.22922922922923,29.32932932932933,29.42942942942943,29.52952952952953,29.62962962962963,29.72972972972973,29.82982982982983,29.929929929929934,30.030030030030034,30.130130130130134,30.230230230230234,30.330330330330334,30.430430430430434,30.530530530530534,30.630630630630634,30.730730730730734,30.830830830830834,30.930930930930934,31.031031031031034,31.131131131131134,31.231231231231234,31.331331331331334,31.431431431431434,31.531531531531535,31.631631631631635,31.731731731731735,31.831831831831835,31.931931931931935,32.032032032032035,32.132132132132135,32.232232232232235,32.332332332332335,32.432432432432435,32.532532532532535,32.632632632632635,32.732732732732735,32.832832832832835,32.932932932932935,33.033033033033036,33.133133133133136,33.233233233233236,33.333333333333336,33.433433433433436,33.533533533533536,33.633633633633636,33.733733733733736,33.833833833833836,33.933933933933936,34.034034034034036,34.134134134134136,34.234234234234236,34.334334334334336,34.434434434434436,34.53453453453454,34.63463463463464,34.73473473473474,34.83483483483484,34.93493493493494,35.03503503503504,35.13513513513514,35.23523523523524,35.33533533533534,35.43543543543544,35.53553553553554,35.63563563563564,35.73573573573574,35.83583583583584,35.93593593593594,36.03603603603604,36.13613613613614,36.23623623623624,36.33633633633634,36.43643643643644,36.53653653653654,36.63663663663664,36.73673673673674,36.83683683683684,36.93693693693694,37.03703703703704,37.13713713713714,37.23723723723724,37.33733733733734,37.43743743743744,37.53753753753754,37.63763763763764,37.73773773773774,37.83783783783784,37.93793793793794,38.03803803803804,38.13813813813814,38.23823823823824,38.33833833833834,38.43843843843844,38.53853853853854,38.63863863863864,38.73873873873874,38.83883883883884,38.93893893893894,39.03903903903904,39.13913913913914,39.23923923923924,39.33933933933934,39.43943943943944,39.53953953953954,39.63963963963964,39.73973973973974,39.83983983983984,39.93993993993994,40.04004004004004,40.14014014014014,40.24024024024024,40.34034034034034,40.44044044044044,40.54054054054054,40.64064064064064,40.74074074074074,40.84084084084084,40.94094094094094,41.04104104104104,41.14114114114114,41.24124124124124,41.34134134134134,41.44144144144144,41.54154154154154,41.64164164164164,41.74174174174174,41.84184184184184,41.94194194194194,42.04204204204204,42.14214214214214,42.24224224224224,42.34234234234234,42.44244244244244,42.54254254254254,42.64264264264264,42.74274274274275,42.84284284284285,42.94294294294295,43.04304304304305,43.14314314314315,43.24324324324325,43.34334334334335,43.44344344344345,43.54354354354355,43.64364364364365,43.74374374374375,43.84384384384385,43.94394394394395,44.04404404404405,44.14414414414415,44.24424424424425,44.34434434434435,44.44444444444445,44.54454454454455,44.64464464464465,44.74474474474475,44.84484484484485,44.94494494494495,45.04504504504505,45.14514514514515,45.24524524524525,45.34534534534535,45.44544544544545,45.54554554554555,45.64564564564565,45.74574574574575,45.84584584584585,45.94594594594595,46.04604604604605,46.14614614614615,46.24624624624625,46.34634634634635,46.44644644644645,46.54654654654655,46.64664664664665,46.74674674674675,46.84684684684685,46.94694694694695,47.04704704704705,47.14714714714715,47.24724724724725,47.34734734734735,47.44744744744745,47.54754754754755,47.64764764764765,47.74774774774775,47.84784784784785,47.94794794794795,48.04804804804805,48.14814814814815,48.24824824824825,48.34834834834835,48.44844844844845,48.54854854854855,48.64864864864865,48.74874874874875,48.84884884884885,48.94894894894895,49.04904904904905,49.14914914914915,49.24924924924925,49.34934934934935,49.44944944944945,49.54954954954955,49.64964964964965,49.74974974974975,49.84984984984985,49.94994994994995,50.050050050050054,50.150150150150154,50.250250250250254,50.350350350350354,50.450450450450454,50.550550550550554,50.650650650650654,50.750750750750754,50.850850850850854,50.950950950950954,51.051051051051054,51.151151151151154,51.251251251251254,51.351351351351354,51.451451451451454,51.551551551551555,51.651651651651655,51.751751751751755,51.851851851851855,51.951951951951955,52.052052052052055,52.152152152152155,52.252252252252255,52.352352352352355,52.452452452452455,52.552552552552555,52.652652652652655,52.752752752752755,52.852852852852855,52.952952952952955,53.053053053053056,53.153153153153156,53.253253253253256,53.353353353353356,53.453453453453456,53.553553553553556,53.653653653653656,53.753753753753756,53.853853853853856,53.953953953953956,54.054054054054056,54.154154154154156,54.254254254254256,54.354354354354356,54.454454454454456,54.55455455455456,54.65465465465466,54.75475475475476,54.85485485485486,54.95495495495496,55.05505505505506,55.15515515515516,55.25525525525526,55.35535535535536,55.45545545545546,55.55555555555556,55.65565565565566,55.75575575575576,55.85585585585586,55.95595595595596,56.05605605605606,56.15615615615616,56.25625625625626,56.35635635635636,56.45645645645646,56.55655655655656,56.65665665665666,56.75675675675676,56.85685685685686,56.95695695695696,57.05705705705706,57.15715715715716,57.25725725725726,57.35735735735736,57.45745745745746,57.55755755755756,57.65765765765766,57.75775775775776,57.85785785785786,57.95795795795796,58.05805805805806,58.15815815815816,58.25825825825826,58.35835835835836,58.45845845845846,58.55855855855856,58.65865865865866,58.75875875875876,58.85885885885886,58.95895895895896,59.05905905905906,59.15915915915916,59.25925925925926,59.35935935935936,59.45945945945946,59.55955955955956,59.65965965965966,59.75975975975976,59.85985985985987,59.95995995995997,60.06006006006007,60.16016016016017,60.26026026026027,60.36036036036037,60.46046046046047,60.56056056056057,60.66066066066067,60.76076076076077,60.86086086086087,60.96096096096097,61.06106106106107,61.16116116116117,61.26126126126127,61.36136136136137,61.46146146146147,61.56156156156157,61.66166166166167,61.76176176176177,61.86186186186187,61.96196196196197,62.06206206206207,62.16216216216217,62.26226226226227,62.36236236236237,62.46246246246247,62.56256256256257,62.66266266266267,62.76276276276277,62.86286286286287,62.96296296296297,63.06306306306307,63.16316316316317,63.26326326326327,63.36336336336337,63.46346346346347,63.56356356356357,63.66366366366367,63.76376376376377,63.86386386386387,63.96396396396397,64.06406406406407,64.16416416416416,64.26426426426427,64.36436436436436,64.46446446446447,64.56456456456456,64.66466466466467,64.76476476476476,64.86486486486487,64.96496496496496,65.06506506506507,65.16516516516516,65.26526526526527,65.36536536536536,65.46546546546547,65.56556556556556,65.66566566566567,65.76576576576576,65.86586586586587,65.96596596596596,66.06606606606607,66.16616616616616,66.26626626626627,66.36636636636636,66.46646646646647,66.56656656656656,66.66666666666667,66.76676676676676,66.86686686686687,66.96696696696696,67.06706706706707,67.16716716716716,67.26726726726727,67.36736736736736,67.46746746746747,67.56756756756756,67.66766766766767,67.76776776776777,67.86786786786787,67.96796796796797,68.06806806806807,68.16816816816817,68.26826826826827,68.36836836836838,68.46846846846847,68.56856856856858,68.66866866866867,68.76876876876878,68.86886886886887,68.96896896896898,69.06906906906907,69.16916916916918,69.26926926926927,69.36936936936938,69.46946946946947,69.56956956956958,69.66966966966967,69.76976976976978,69.86986986986987,69.96996996996998,70.07007007007007,70.17017017017018,70.27027027027027,70.37037037037038,70.47047047047047,70.57057057057058,70.67067067067067,70.77077077077078,70.87087087087087,70.97097097097098,71.07107107107107,71.17117117117118,71.27127127127127,71.37137137137138,71.47147147147147,71.57157157157158,71.67167167167167,71.77177177177178,71.87187187187187,71.97197197197198,72.07207207207207,72.17217217217218,72.27227227227228,72.37237237237238,72.47247247247248,72.57257257257258,72.67267267267268,72.77277277277278,72.87287287287288,72.97297297297298,73.07307307307308,73.17317317317318,73.27327327327328,73.37337337337338,73.47347347347348,73.57357357357358,73.67367367367368,73.77377377377378,73.87387387387388,73.97397397397398,74.07407407407408,74.17417417417418,74.27427427427428,74.37437437437438,74.47447447447448,74.57457457457458,74.67467467467468,74.77477477477478,74.87487487487488,74.97497497497498,75.07507507507508,75.17517517517518,75.27527527527528,75.37537537537538,75.47547547547548,75.57557557557558,75.67567567567568,75.77577577577578,75.87587587587588,75.97597597597598,76.07607607607608,76.17617617617618,76.27627627627628,76.37637637637638,76.47647647647648,76.57657657657658,76.67667667667668,76.77677677677679,76.87687687687688,76.97697697697699,77.07707707707708,77.17717717717719,77.27727727727728,77.37737737737739,77.47747747747748,77.57757757757759,77.67767767767768,77.77777777777779,77.87787787787788,77.97797797797799,78.07807807807808,78.17817817817819,78.27827827827828,78.37837837837839,78.47847847847848,78.57857857857859,78.67867867867868,78.77877877877879,78.87887887887888,78.97897897897899,79.07907907907908,79.17917917917919,79.27927927927928,79.37937937937939,79.47947947947948,79.57957957957959,79.67967967967968,79.77977977977979,79.87987987987988,79.97997997997999,80.08008008008008,80.18018018018019,80.28028028028028,80.38038038038039,80.48048048048048,80.58058058058059,80.68068068068068,80.78078078078079,80.88088088088088,80.98098098098099,81.08108108108108,81.18118118118119,81.28128128128128,81.38138138138139,81.48148148148148,81.58158158158159,81.68168168168168,81.78178178178179,81.88188188188188,81.98198198198199,82.08208208208208,82.18218218218219,82.28228228228228,82.38238238238239,82.48248248248248,82.58258258258259,82.68268268268268,82.78278278278279,82.88288288288288,82.98298298298299,83.08308308308308,83.18318318318319,83.28328328328328,83.38338338338339,83.48348348348348,83.58358358358359,83.68368368368368,83.78378378378379,83.88388388388388,83.98398398398399,84.08408408408408,84.18418418418419,84.28428428428428,84.38438438438439,84.48448448448448,84.58458458458459,84.68468468468468,84.78478478478479,84.88488488488488,84.98498498498499,85.08508508508508,85.18518518518519,85.28528528528528,85.38538538538539,85.4854854854855,85.58558558558559,85.6856856856857,85.78578578578579,85.8858858858859,85.98598598598599,86.0860860860861,86.18618618618619,86.2862862862863,86.38638638638639,86.4864864864865,86.58658658658659,86.6866866866867,86.78678678678679,86.8868868868869,86.98698698698699,87.0870870870871,87.18718718718719,87.2872872872873,87.38738738738739,87.4874874874875,87.58758758758759,87.6876876876877,87.78778778778779,87.8878878878879,87.98798798798799,88.0880880880881,88.18818818818819,88.2882882882883,88.38838838838839,88.4884884884885,88.58858858858859,88.6886886886887,88.78878878878879,88.8888888888889,88.988988988989,89.0890890890891,89.1891891891892,89.2892892892893,89.3893893893894,89.4894894894895,89.5895895895896,89.6896896896897,89.7897897897898,89.8898898898899,89.98998998999,90.0900900900901,90.1901901901902,90.2902902902903,90.3903903903904,90.4904904904905,90.5905905905906,90.6906906906907,90.7907907907908,90.8908908908909,90.990990990991,91.0910910910911,91.1911911911912,91.2912912912913,91.3913913913914,91.4914914914915,91.5915915915916,91.6916916916917,91.7917917917918,91.8918918918919,91.991991991992,92.0920920920921,92.1921921921922,92.2922922922923,92.3923923923924,92.4924924924925,92.5925925925926,92.6926926926927,92.7927927927928,92.8928928928929,92.992992992993,93.0930930930931,93.1931931931932,93.2932932932933,93.3933933933934,93.4934934934935,93.5935935935936,93.6936936936937,93.7937937937938,93.8938938938939,93.993993993994,94.0940940940941,94.1941941941942,94.2942942942943,94.3943943943944,94.4944944944945,94.5945945945946,94.6946946946947,94.7947947947948,94.8948948948949,94.994994994995,95.0950950950951,95.1951951951952,95.2952952952953,95.3953953953954,95.4954954954955,95.5955955955956,95.6956956956957,95.7957957957958,95.8958958958959,95.995995995996,96.0960960960961,96.1961961961962,96.2962962962963,96.3963963963964,96.4964964964965,96.5965965965966,96.6966966966967,96.7967967967968,96.8968968968969,96.996996996997,97.0970970970971,97.1971971971972,97.2972972972973,97.3973973973974,97.4974974974975,97.5975975975976,97.6976976976977,97.7977977977978,97.8978978978979,97.997997997998,98.0980980980981,98.1981981981982,98.2982982982983,98.3983983983984,98.4984984984985,98.5985985985986,98.6986986986987,98.7987987987988,98.8988988988989,98.998998998999,99.0990990990991,99.1991991991992,99.2992992992993,99.3993993993994,99.4994994994995,99.5995995995996,99.6996996996997,99.7997997997998,99.8998998998999,100.0],\"type\":\"scatter\"}],                        {\"title\":{\"text\":\"Uni_SVR predicted v actual\"},\"template\":{\"data\":{\"bar\":[{\"error_x\":{\"color\":\"#2a3f5f\"},\"error_y\":{\"color\":\"#2a3f5f\"},\"marker\":{\"line\":{\"color\":\"#E5ECF6\",\"width\":0.5},\"pattern\":{\"fillmode\":\"overlay\",\"size\":10,\"solidity\":0.2}},\"type\":\"bar\"}],\"barpolar\":[{\"marker\":{\"line\":{\"color\":\"#E5ECF6\",\"width\":0.5},\"pattern\":{\"fillmode\":\"overlay\",\"size\":10,\"solidity\":0.2}},\"type\":\"barpolar\"}],\"carpet\":[{\"aaxis\":{\"endlinecolor\":\"#2a3f5f\",\"gridcolor\":\"white\",\"linecolor\":\"white\",\"minorgridcolor\":\"white\",\"startlinecolor\":\"#2a3f5f\"},\"baxis\":{\"endlinecolor\":\"#2a3f5f\",\"gridcolor\":\"white\",\"linecolor\":\"white\",\"minorgridcolor\":\"white\",\"startlinecolor\":\"#2a3f5f\"},\"type\":\"carpet\"}],\"choropleth\":[{\"colorbar\":{\"outlinewidth\":0,\"ticks\":\"\"},\"type\":\"choropleth\"}],\"contour\":[{\"colorbar\":{\"outlinewidth\":0,\"ticks\":\"\"},\"colorscale\":[[0.0,\"#0d0887\"],[0.1111111111111111,\"#46039f\"],[0.2222222222222222,\"#7201a8\"],[0.3333333333333333,\"#9c179e\"],[0.4444444444444444,\"#bd3786\"],[0.5555555555555556,\"#d8576b\"],[0.6666666666666666,\"#ed7953\"],[0.7777777777777778,\"#fb9f3a\"],[0.8888888888888888,\"#fdca26\"],[1.0,\"#f0f921\"]],\"type\":\"contour\"}],\"contourcarpet\":[{\"colorbar\":{\"outlinewidth\":0,\"ticks\":\"\"},\"type\":\"contourcarpet\"}],\"heatmap\":[{\"colorbar\":{\"outlinewidth\":0,\"ticks\":\"\"},\"colorscale\":[[0.0,\"#0d0887\"],[0.1111111111111111,\"#46039f\"],[0.2222222222222222,\"#7201a8\"],[0.3333333333333333,\"#9c179e\"],[0.4444444444444444,\"#bd3786\"],[0.5555555555555556,\"#d8576b\"],[0.6666666666666666,\"#ed7953\"],[0.7777777777777778,\"#fb9f3a\"],[0.8888888888888888,\"#fdca26\"],[1.0,\"#f0f921\"]],\"type\":\"heatmap\"}],\"heatmapgl\":[{\"colorbar\":{\"outlinewidth\":0,\"ticks\":\"\"},\"colorscale\":[[0.0,\"#0d0887\"],[0.1111111111111111,\"#46039f\"],[0.2222222222222222,\"#7201a8\"],[0.3333333333333333,\"#9c179e\"],[0.4444444444444444,\"#bd3786\"],[0.5555555555555556,\"#d8576b\"],[0.6666666666666666,\"#ed7953\"],[0.7777777777777778,\"#fb9f3a\"],[0.8888888888888888,\"#fdca26\"],[1.0,\"#f0f921\"]],\"type\":\"heatmapgl\"}],\"histogram\":[{\"marker\":{\"pattern\":{\"fillmode\":\"overlay\",\"size\":10,\"solidity\":0.2}},\"type\":\"histogram\"}],\"histogram2d\":[{\"colorbar\":{\"outlinewidth\":0,\"ticks\":\"\"},\"colorscale\":[[0.0,\"#0d0887\"],[0.1111111111111111,\"#46039f\"],[0.2222222222222222,\"#7201a8\"],[0.3333333333333333,\"#9c179e\"],[0.4444444444444444,\"#bd3786\"],[0.5555555555555556,\"#d8576b\"],[0.6666666666666666,\"#ed7953\"],[0.7777777777777778,\"#fb9f3a\"],[0.8888888888888888,\"#fdca26\"],[1.0,\"#f0f921\"]],\"type\":\"histogram2d\"}],\"histogram2dcontour\":[{\"colorbar\":{\"outlinewidth\":0,\"ticks\":\"\"},\"colorscale\":[[0.0,\"#0d0887\"],[0.1111111111111111,\"#46039f\"],[0.2222222222222222,\"#7201a8\"],[0.3333333333333333,\"#9c179e\"],[0.4444444444444444,\"#bd3786\"],[0.5555555555555556,\"#d8576b\"],[0.6666666666666666,\"#ed7953\"],[0.7777777777777778,\"#fb9f3a\"],[0.8888888888888888,\"#fdca26\"],[1.0,\"#f0f921\"]],\"type\":\"histogram2dcontour\"}],\"mesh3d\":[{\"colorbar\":{\"outlinewidth\":0,\"ticks\":\"\"},\"type\":\"mesh3d\"}],\"parcoords\":[{\"line\":{\"colorbar\":{\"outlinewidth\":0,\"ticks\":\"\"}},\"type\":\"parcoords\"}],\"pie\":[{\"automargin\":true,\"type\":\"pie\"}],\"scatter\":[{\"marker\":{\"colorbar\":{\"outlinewidth\":0,\"ticks\":\"\"}},\"type\":\"scatter\"}],\"scatter3d\":[{\"line\":{\"colorbar\":{\"outlinewidth\":0,\"ticks\":\"\"}},\"marker\":{\"colorbar\":{\"outlinewidth\":0,\"ticks\":\"\"}},\"type\":\"scatter3d\"}],\"scattercarpet\":[{\"marker\":{\"colorbar\":{\"outlinewidth\":0,\"ticks\":\"\"}},\"type\":\"scattercarpet\"}],\"scattergeo\":[{\"marker\":{\"colorbar\":{\"outlinewidth\":0,\"ticks\":\"\"}},\"type\":\"scattergeo\"}],\"scattergl\":[{\"marker\":{\"colorbar\":{\"outlinewidth\":0,\"ticks\":\"\"}},\"type\":\"scattergl\"}],\"scattermapbox\":[{\"marker\":{\"colorbar\":{\"outlinewidth\":0,\"ticks\":\"\"}},\"type\":\"scattermapbox\"}],\"scatterpolar\":[{\"marker\":{\"colorbar\":{\"outlinewidth\":0,\"ticks\":\"\"}},\"type\":\"scatterpolar\"}],\"scatterpolargl\":[{\"marker\":{\"colorbar\":{\"outlinewidth\":0,\"ticks\":\"\"}},\"type\":\"scatterpolargl\"}],\"scatterternary\":[{\"marker\":{\"colorbar\":{\"outlinewidth\":0,\"ticks\":\"\"}},\"type\":\"scatterternary\"}],\"surface\":[{\"colorbar\":{\"outlinewidth\":0,\"ticks\":\"\"},\"colorscale\":[[0.0,\"#0d0887\"],[0.1111111111111111,\"#46039f\"],[0.2222222222222222,\"#7201a8\"],[0.3333333333333333,\"#9c179e\"],[0.4444444444444444,\"#bd3786\"],[0.5555555555555556,\"#d8576b\"],[0.6666666666666666,\"#ed7953\"],[0.7777777777777778,\"#fb9f3a\"],[0.8888888888888888,\"#fdca26\"],[1.0,\"#f0f921\"]],\"type\":\"surface\"}],\"table\":[{\"cells\":{\"fill\":{\"color\":\"#EBF0F8\"},\"line\":{\"color\":\"white\"}},\"header\":{\"fill\":{\"color\":\"#C8D4E3\"},\"line\":{\"color\":\"white\"}},\"type\":\"table\"}]},\"layout\":{\"annotationdefaults\":{\"arrowcolor\":\"#2a3f5f\",\"arrowhead\":0,\"arrowwidth\":1},\"autotypenumbers\":\"strict\",\"coloraxis\":{\"colorbar\":{\"outlinewidth\":0,\"ticks\":\"\"}},\"colorscale\":{\"diverging\":[[0,\"#8e0152\"],[0.1,\"#c51b7d\"],[0.2,\"#de77ae\"],[0.3,\"#f1b6da\"],[0.4,\"#fde0ef\"],[0.5,\"#f7f7f7\"],[0.6,\"#e6f5d0\"],[0.7,\"#b8e186\"],[0.8,\"#7fbc41\"],[0.9,\"#4d9221\"],[1,\"#276419\"]],\"sequential\":[[0.0,\"#0d0887\"],[0.1111111111111111,\"#46039f\"],[0.2222222222222222,\"#7201a8\"],[0.3333333333333333,\"#9c179e\"],[0.4444444444444444,\"#bd3786\"],[0.5555555555555556,\"#d8576b\"],[0.6666666666666666,\"#ed7953\"],[0.7777777777777778,\"#fb9f3a\"],[0.8888888888888888,\"#fdca26\"],[1.0,\"#f0f921\"]],\"sequentialminus\":[[0.0,\"#0d0887\"],[0.1111111111111111,\"#46039f\"],[0.2222222222222222,\"#7201a8\"],[0.3333333333333333,\"#9c179e\"],[0.4444444444444444,\"#bd3786\"],[0.5555555555555556,\"#d8576b\"],[0.6666666666666666,\"#ed7953\"],[0.7777777777777778,\"#fb9f3a\"],[0.8888888888888888,\"#fdca26\"],[1.0,\"#f0f921\"]]},\"colorway\":[\"#636efa\",\"#EF553B\",\"#00cc96\",\"#ab63fa\",\"#FFA15A\",\"#19d3f3\",\"#FF6692\",\"#B6E880\",\"#FF97FF\",\"#FECB52\"],\"font\":{\"color\":\"#2a3f5f\"},\"geo\":{\"bgcolor\":\"white\",\"lakecolor\":\"white\",\"landcolor\":\"#E5ECF6\",\"showlakes\":true,\"showland\":true,\"subunitcolor\":\"white\"},\"hoverlabel\":{\"align\":\"left\"},\"hovermode\":\"closest\",\"mapbox\":{\"style\":\"light\"},\"paper_bgcolor\":\"white\",\"plot_bgcolor\":\"#E5ECF6\",\"polar\":{\"angularaxis\":{\"gridcolor\":\"white\",\"linecolor\":\"white\",\"ticks\":\"\"},\"bgcolor\":\"#E5ECF6\",\"radialaxis\":{\"gridcolor\":\"white\",\"linecolor\":\"white\",\"ticks\":\"\"}},\"scene\":{\"xaxis\":{\"backgroundcolor\":\"#E5ECF6\",\"gridcolor\":\"white\",\"gridwidth\":2,\"linecolor\":\"white\",\"showbackground\":true,\"ticks\":\"\",\"zerolinecolor\":\"white\"},\"yaxis\":{\"backgroundcolor\":\"#E5ECF6\",\"gridcolor\":\"white\",\"gridwidth\":2,\"linecolor\":\"white\",\"showbackground\":true,\"ticks\":\"\",\"zerolinecolor\":\"white\"},\"zaxis\":{\"backgroundcolor\":\"#E5ECF6\",\"gridcolor\":\"white\",\"gridwidth\":2,\"linecolor\":\"white\",\"showbackground\":true,\"ticks\":\"\",\"zerolinecolor\":\"white\"}},\"shapedefaults\":{\"line\":{\"color\":\"#2a3f5f\"}},\"ternary\":{\"aaxis\":{\"gridcolor\":\"white\",\"linecolor\":\"white\",\"ticks\":\"\"},\"baxis\":{\"gridcolor\":\"white\",\"linecolor\":\"white\",\"ticks\":\"\"},\"bgcolor\":\"#E5ECF6\",\"caxis\":{\"gridcolor\":\"white\",\"linecolor\":\"white\",\"ticks\":\"\"}},\"title\":{\"x\":0.05},\"xaxis\":{\"automargin\":true,\"gridcolor\":\"white\",\"linecolor\":\"white\",\"ticks\":\"\",\"title\":{\"standoff\":15},\"zerolinecolor\":\"white\",\"zerolinewidth\":2},\"yaxis\":{\"automargin\":true,\"gridcolor\":\"white\",\"linecolor\":\"white\",\"ticks\":\"\",\"title\":{\"standoff\":15},\"zerolinecolor\":\"white\",\"zerolinewidth\":2}}}},                        {\"responsive\": true}                    ).then(function(){\n",
              "                            \n",
              "var gd = document.getElementById('153c039e-9354-411b-b41d-135b0a8bcb90');\n",
              "var x = new MutationObserver(function (mutations, observer) {{\n",
              "        var display = window.getComputedStyle(gd).display;\n",
              "        if (!display || display === 'none') {{\n",
              "            console.log([gd, 'removed!']);\n",
              "            Plotly.purge(gd);\n",
              "            observer.disconnect();\n",
              "        }}\n",
              "}});\n",
              "\n",
              "// Listen for the removal of the full notebook cells\n",
              "var notebookContainer = gd.closest('#notebook-container');\n",
              "if (notebookContainer) {{\n",
              "    x.observe(notebookContainer, {childList: true});\n",
              "}}\n",
              "\n",
              "// Listen for the clearing of the current output cell\n",
              "var outputEl = gd.closest('.output');\n",
              "if (outputEl) {{\n",
              "    x.observe(outputEl, {childList: true});\n",
              "}}\n",
              "\n",
              "                        })                };                            </script>        </div>\n",
              "</body>\n",
              "</html>"
            ]
          },
          "metadata": {}
        },
        {
          "output_type": "stream",
          "name": "stdout",
          "text": [
            "pred size x 332 pred size y: 332\n"
          ]
        },
        {
          "output_type": "display_data",
          "data": {
            "text/html": [
              "<html>\n",
              "<head><meta charset=\"utf-8\" /></head>\n",
              "<body>\n",
              "    <div>            <script src=\"https://cdnjs.cloudflare.com/ajax/libs/mathjax/2.7.5/MathJax.js?config=TeX-AMS-MML_SVG\"></script><script type=\"text/javascript\">if (window.MathJax) {MathJax.Hub.Config({SVG: {font: \"STIX-Web\"}});}</script>                <script type=\"text/javascript\">window.PlotlyConfig = {MathJaxConfig: 'local'};</script>\n",
              "        <script src=\"https://cdn.plot.ly/plotly-2.8.3.min.js\"></script>                <div id=\"e9daeb33-f66e-4102-aba0-427bfa287303\" class=\"plotly-graph-div\" style=\"height:525px; width:100%;\"></div>            <script type=\"text/javascript\">                                    window.PLOTLYENV=window.PLOTLYENV || {};                                    if (document.getElementById(\"e9daeb33-f66e-4102-aba0-427bfa287303\")) {                    Plotly.newPlot(                        \"e9daeb33-f66e-4102-aba0-427bfa287303\",                        [{\"error_y\":{\"array\":[],\"type\":\"data\",\"visible\":true},\"marker\":{\"size\":5,\"symbol\":\"star\"},\"mode\":\"markers\",\"name\":\"predictions\",\"x\":[0.0,0.0,0.0,0.0,0.903321,18.06642,0.0,9.03321,0.903321,0.0,0.0,0.0,0.0,0.0,1.0839852,90.3321,90.3321,0.0,90.3321,0.0,9.03321,0.0,18.06642,0.0,0.0,0.0,0.4516605,0.0,0.0,0.0,58.715865,27.09963,27.09963,27.09963,0.0,0.0,0.0,0.0,90.3321,18.06642,18.06642,1.806642,0.903321,18.06642,9.03321,0.0,0.0,0.0,0.0,0.0,90.3321,0.5419926,0.0,0.903321,0.0,90.3321,0.5419926,0.0,0.5419926,0.0,0.5419926,1.806642,9.03321,45.16605,18.06642,9.03321,3.613284,54.19926,0.0,0.0,0.0,0.0,0.0,0.0,0.0,0.903321,9.03321,1.806642,0.5419926,0.0,0.0,0.0,0.0,36.13284,0.0,90.3321,0.0,0.5419926,0.903321,0.5419926,0.5419926,0.903321,18.06642,4.516605,4.516605,4.516605,0.0,54.19926,58.715865,27.09963,72.26568,0.0,0.0,0.0,90.3321,1.806642,90.3321,90.3321,90.3321,0.0,1.806642,0.0,0.0,0.0,0.0,0.0,0.0,0.0,90.3321,90.3321,90.3321,0.0,18.06642,0.5419926,0.0,0.0,0.5419926,0.5419926,18.06642,1.806642,18.06642,0.0,58.715865,58.715865,0.0,0.0,0.0,90.3321,0.903321,0.0,0.0,0.0,0.0,0.0,0.0,90.3321,0.0,90.3321,0.0,90.3321,0.0,18.06642,0.5419926,0.5419926,0.5419926,0.903321,9.03321,18.06642,0.0,0.0,0.0,1.806642,18.06642,18.06642,0.903321,0.0,27.09963,0.0,0.0,0.0,0.0,0.0,18.06642,0.0,0.0,18.06642,0.0,0.903321,0.0,0.0,0.0,0.0,0.0,0.0,36.13284,0.0,0.0,90.3321,0.903321,1.806642,0.5419926,0.0,0.0,45.16605,4.516605,18.06642,9.03321,0.0,54.19926,27.09963,0.0,0.0,0.0,90.3321,18.06642,9.03321,0.0,0.5419926,0.0,0.0,0.0,0.0,0.0,1.0839852,36.13284,90.3321,90.3321,0.5419926,9.03321,90.3321,0.0,0.5419926,0.5419926,0.0,90.3321,0.0,0.0,18.06642,3.613284,0.0,0.903321,54.19926,27.09963,0.0,0.0,0.0,0.0,0.0,0.0,90.3321,0.903321,0.903321,0.0,0.0,1.0839852,0.0,90.3321,90.3321,0.0,0.5419926,0.5419926,0.5419926,0.5419926,1.806642,9.03321,0.0,90.3321,4.516605,0.4516605,0.0,0.0,0.0,3.613284,0.0,54.19926,72.26568,0.0,0.0,0.0,0.0,9.03321,0.0,1.806642,1.806642,0.5419926,0.0,0.0,0.0,90.3321,90.3321,0.0,90.3321,0.0,0.5419926,0.5419926,0.5419926,0.903321,1.806642,0.0,0.0,4.516605,0.0,0.0,0.4516605,0.903321,0.0,27.09963,27.09963,27.09963,0.0,0.0,0.0,9.03321,1.806642,0.903321,18.06642,0.0,0.0,0.0,0.0,0.0,0.0,0.0,90.3321,0.0,0.0,0.0,1.806642,1.806642,0.0,9.03321,0.0,0.0,0.0,90.3321,45.16605,0.0,1.806642,9.03321,0.0,0.0,0.0],\"y\":[1.9627352394964115,1.0104261948283684,1.3884213444791502,1.0107221534543667,1.7224541439170495,13.794115381660381,1.0119849726723626,6.772264774913098,2.240747771863451,1.3505587624068514,1.336691369944908,1.0147391547922262,1.0131590005933069,1.010625809309597,1.1646079351007173,92.24361468688356,90.82087918327295,1.0122595549434363,88.78913468257366,1.0122595549434363,6.194660540574166,1.0122595549434363,13.78115818331709,1.0122595549434363,1.0122595549434363,1.0122595549434363,1.1975651210160967,1.303179895862954,1.4064845902149792,1.4600504949062887,56.43454028981024,27.911746243351843,29.075845725621498,28.322120009723527,2.456935666324408,2.6773771126533488,1.1434822077500693,1.0432650027574244,83.45696632240265,13.003945424489705,13.3846498574341,2.666673007873729,1.2093701265607724,13.906477837496308,6.635770713267502,2.4130572354101822,1.0406784319287798,1.389778007551198,1.560556407594929,1.0700877428093514,92.11966846726413,2.21746672473989,1.0832563274575269,2.4910867006660484,1.0832563274575269,85.35782311570091,1.0274904069405264,1.0832563274575269,2.4331837322313117,1.0832563274575269,1.0346079092370943,1.313826366854667,6.900129242995406,44.12110668537941,15.54279716511472,7.882687077558771,2.074102553929324,51.25157698628466,2.614132231064603,1.079402538102495,1.0142437275169485,1.050115861006692,1.203381055632171,1.0171400417400203,1.0187279515594514,1.071066646011569,6.400273294470972,2.0194189926116772,1.0193119146927592,2.6773372621807514,1.0158525366662985,1.0174374803674802,1.0142228281870298,27.87290376970653,1.0158316373363796,96.40205112102447,1.0161231437273408,2.815132320920392,3.1856165613350873,1.0672396689802728,1.0207277818642428,1.1004805410730212,14.707873151689258,3.1710919392926638,3.2211400340228766,3.207875804582806,1.340763794547185,51.617738481435914,57.52280726227193,24.75863136191953,58.16608857952919,1.018248971485445,1.074632876517866,0.9920075042010177,96.43316176136511,1.8399167085742087,97.08850817709909,88.19565204505959,86.30619171398058,0.9723144309138506,1.9528833686137157,2.033421549676355,0.9723144309138506,1.0125547837627324,1.2049261589441747,1.0202085688426312,0.9722978371556581,0.9723144309138506,97.11524722900162,92.41226183533847,93.2277539876404,0.9726301414974337,15.455089713362177,0.9763368847589433,0.9726301414974337,0.9726301414974337,2.231789168000083,0.9775361603181827,14.332346762238256,1.0228907953667246,16.72219504262931,1.2952783818367146,61.15861859102827,60.84726963837433,1.1653386588740937,1.1805847132897118,1.2009430509048657,84.0875181483144,2.150184469805633,1.8593788230658044,1.2122594403213434,1.2009430509048657,1.1988215526438335,1.205729360899177,1.205729360899177,88.72978905042075,1.2009430509048657,87.5747252560116,1.205729360899177,70.53049815066372,1.2078508591602093,12.634617852964283,1.2950916476423655,1.2709353824067662,1.1637948351824388,2.153785081767068,7.314431393703105,14.6078487077338,1.205729360899177,1.205729360899177,1.2065860058943478,1.5946236655593329,15.409212543321347,15.814429300779,2.3647982333568978,2.285530772392221,26.63049249800577,2.8686650927895254,1.05950037870211,1.0041096496568576,1.0066430108552125,1.0055364642773288,12.30484020069589,1.0056799440376387,1.0056799440376387,11.745652944817055,1.0041096496568576,1.0249868939593298,1.0056469874035878,1.0059226455880181,1.0041096496568576,1.0062684827686288,1.0038408717782326,1.0053782095249626,27.31178838546272,1.0059556022220693,1.0059226455880181,79.81812442618462,3.097654334951442,3.0553604006088433,2.060641330675058,1.0059226455880181,1.0059226455880181,44.63145873356499,2.806942057260418,14.89292745286391,6.946077504218939,1.5243925032161076,51.7189277384156,23.872360580422455,1.011215278553714,1.3585207961542063,1.0145303698766077,87.15093837448886,13.965314281944014,6.8127202996626055,1.012873364544677,1.0519109642368158,2.1925545920238756,1.0702304650560892,1.0685439115971536,1.3189613633099835,1.05065576261539,1.1561000039786984,28.609079587757854,94.51108300645362,75.66239630879713,2.0948651138945307,4.7626858703351065,86.0085288719685,1.0131885941206682,1.038582526653284,1.0176683681236165,1.0131885941206682,90.96940455551801,1.1776971023565062,1.1048015974256473,17.34326826962259,2.562392571463051,1.639901955892629,2.2422966836381506,53.28507608061159,25.079876449370897,2.811471868315718,3.0738758871424388,1.1007002376264352,1.1560760651379136,1.6426329497417729,1.08717956927715,86.76091557724305,1.2355245564798853,2.314185076138078,1.1413999611455237,1.0852336968008043,1.443544525611892,1.0874479203831997,90.32405245336582,91.5309088722805,1.092345552226166,1.0933550644395968,1.0688152302179064,1.391580138642751,1.190993942558584,1.5296508626411702,7.119315544892791,1.092345552226166,85.98569614628107,5.785123124371593,2.343684852627584,2.424088606019303,1.8732026702744349,1.3202939657145585,2.9424428461860224,3.653457409248004,53.162468443026654,55.43028478633308,2.4940558671961806,1.1416711769462808,1.0481258784830358,1.0464388397008786,6.694398583625094,1.0464388397008786,2.5248795260254004,1.4879290627218842,1.073497604143983,1.0481258784830358,1.180665516874068,1.0481258784830358,97.19771584680846,96.10609902728469,1.0484081664796658,92.82864162228228,1.0484081664796658,1.0656920948392743,1.0698350225137505,1.0518754692457961,1.1688567289069245,1.2452316417804379,1.0484081664796658,1.048538621930823,3.316569094202008,2.097539263819204,1.048538621930823,1.099889790744484,2.1742325469996215,2.7704295958214105,29.41351160180829,25.8410887636685,25.409210660222307,1.0935939605223564,1.0928130451165243,1.04858853311018,5.967426348754692,1.9864396047341346,1.2883835021317358,14.477611900993269,1.0502581924435153,1.1500360874290252,1.0502581924435153,1.203563414533667,1.1724060840559791,1.04858853311018,1.0505677682386572,97.68331868027518,1.0502834664927831,1.050593042287925,1.050593042287925,4.534260922087954,3.8142850768976055,1.050593042287925,8.257970343084594,1.0505677682386572,1.0505677682386572,1.0502581924435153,96.42108001103308,45.26402096724357,1.0505677682386572,2.1263610998668527,7.2302632437816605,3.1387748842007213,5.659952588014894,4.679570835323145],\"type\":\"scatter\"},{\"error_y\":{\"array\":[],\"type\":\"data\",\"visible\":true},\"marker\":{\"size\":5,\"symbol\":\"line-ne-open\"},\"mode\":\"markers\",\"name\":\"actuals\",\"x\":[0.0,0.1001001001001001,0.2002002002002002,0.3003003003003003,0.4004004004004004,0.5005005005005005,0.6006006006006006,0.7007007007007008,0.8008008008008008,0.9009009009009009,1.001001001001001,1.1011011011011012,1.2012012012012012,1.3013013013013013,1.4014014014014016,1.5015015015015016,1.6016016016016017,1.7017017017017018,1.8018018018018018,1.9019019019019021,2.002002002002002,2.1021021021021022,2.2022022022022023,2.3023023023023024,2.4024024024024024,2.5025025025025025,2.6026026026026026,2.702702702702703,2.802802802802803,2.902902902902903,3.0030030030030033,3.1031031031031033,3.2032032032032034,3.3033033033033035,3.4034034034034035,3.5035035035035036,3.6036036036036037,3.7037037037037037,3.8038038038038042,3.9039039039039043,4.004004004004004,4.104104104104104,4.2042042042042045,4.3043043043043046,4.404404404404405,4.504504504504505,4.604604604604605,4.704704704704705,4.804804804804805,4.904904904904905,5.005005005005005,5.105105105105105,5.205205205205205,5.305305305305305,5.405405405405406,5.505505505505506,5.605605605605606,5.705705705705706,5.805805805805806,5.9059059059059065,6.0060060060060065,6.106106106106107,6.206206206206207,6.306306306306307,6.406406406406407,6.506506506506507,6.606606606606607,6.706706706706707,6.806806806806807,6.906906906906907,7.007007007007007,7.107107107107107,7.207207207207207,7.307307307307307,7.407407407407407,7.507507507507508,7.6076076076076085,7.7077077077077085,7.807807807807809,7.907907907907909,8.008008008008009,8.108108108108109,8.208208208208209,8.308308308308309,8.408408408408409,8.508508508508509,8.608608608608609,8.70870870870871,8.80880880880881,8.90890890890891,9.00900900900901,9.10910910910911,9.20920920920921,9.30930930930931,9.40940940940941,9.50950950950951,9.60960960960961,9.70970970970971,9.80980980980981,9.90990990990991,10.01001001001001,10.11011011011011,10.21021021021021,10.31031031031031,10.41041041041041,10.51051051051051,10.61061061061061,10.710710710710712,10.810810810810812,10.910910910910912,11.011011011011012,11.111111111111112,11.211211211211213,11.311311311311313,11.411411411411413,11.511511511511513,11.611611611611613,11.711711711711713,11.811811811811813,11.911911911911913,12.012012012012013,12.112112112112113,12.212212212212213,12.312312312312313,12.412412412412413,12.512512512512513,12.612612612612613,12.712712712712714,12.812812812812814,12.912912912912914,13.013013013013014,13.113113113113114,13.213213213213214,13.313313313313314,13.413413413413414,13.513513513513514,13.613613613613614,13.713713713713714,13.813813813813814,13.913913913913914,14.014014014014014,14.114114114114114,14.214214214214214,14.314314314314315,14.414414414414415,14.514514514514515,14.614614614614615,14.714714714714715,14.814814814814815,14.914914914914915,15.015015015015017,15.115115115115117,15.215215215215217,15.315315315315317,15.415415415415417,15.515515515515517,15.615615615615617,15.715715715715717,15.815815815815817,15.915915915915917,16.016016016016017,16.116116116116117,16.216216216216218,16.316316316316318,16.416416416416418,16.516516516516518,16.616616616616618,16.716716716716718,16.816816816816818,16.916916916916918,17.017017017017018,17.117117117117118,17.217217217217218,17.31731731731732,17.41741741741742,17.51751751751752,17.61761761761762,17.71771771771772,17.81781781781782,17.91791791791792,18.01801801801802,18.11811811811812,18.21821821821822,18.31831831831832,18.41841841841842,18.51851851851852,18.61861861861862,18.71871871871872,18.81881881881882,18.91891891891892,19.01901901901902,19.11911911911912,19.21921921921922,19.31931931931932,19.41941941941942,19.51951951951952,19.61961961961962,19.71971971971972,19.81981981981982,19.91991991991992,20.02002002002002,20.12012012012012,20.22022022022022,20.32032032032032,20.42042042042042,20.52052052052052,20.62062062062062,20.72072072072072,20.82082082082082,20.92092092092092,21.02102102102102,21.12112112112112,21.22122122122122,21.32132132132132,21.421421421421424,21.521521521521525,21.621621621621625,21.721721721721725,21.821821821821825,21.921921921921925,22.022022022022025,22.122122122122125,22.222222222222225,22.322322322322325,22.422422422422425,22.522522522522525,22.622622622622625,22.722722722722725,22.822822822822825,22.922922922922925,23.023023023023026,23.123123123123126,23.223223223223226,23.323323323323326,23.423423423423426,23.523523523523526,23.623623623623626,23.723723723723726,23.823823823823826,23.923923923923926,24.024024024024026,24.124124124124126,24.224224224224226,24.324324324324326,24.424424424424426,24.524524524524526,24.624624624624627,24.724724724724727,24.824824824824827,24.924924924924927,25.025025025025027,25.125125125125127,25.225225225225227,25.325325325325327,25.425425425425427,25.525525525525527,25.625625625625627,25.725725725725727,25.825825825825827,25.925925925925927,26.026026026026027,26.126126126126128,26.226226226226228,26.326326326326328,26.426426426426428,26.526526526526528,26.626626626626628,26.726726726726728,26.826826826826828,26.926926926926928,27.027027027027028,27.127127127127128,27.227227227227228,27.32732732732733,27.42742742742743,27.52752752752753,27.62762762762763,27.72772772772773,27.82782782782783,27.92792792792793,28.02802802802803,28.12812812812813,28.22822822822823,28.32832832832833,28.42842842842843,28.52852852852853,28.62862862862863,28.72872872872873,28.82882882882883,28.92892892892893,29.02902902902903,29.12912912912913,29.22922922922923,29.32932932932933,29.42942942942943,29.52952952952953,29.62962962962963,29.72972972972973,29.82982982982983,29.929929929929934,30.030030030030034,30.130130130130134,30.230230230230234,30.330330330330334,30.430430430430434,30.530530530530534,30.630630630630634,30.730730730730734,30.830830830830834,30.930930930930934,31.031031031031034,31.131131131131134,31.231231231231234,31.331331331331334,31.431431431431434,31.531531531531535,31.631631631631635,31.731731731731735,31.831831831831835,31.931931931931935,32.032032032032035,32.132132132132135,32.232232232232235,32.332332332332335,32.432432432432435,32.532532532532535,32.632632632632635,32.732732732732735,32.832832832832835,32.932932932932935,33.033033033033036,33.133133133133136,33.233233233233236,33.333333333333336,33.433433433433436,33.533533533533536,33.633633633633636,33.733733733733736,33.833833833833836,33.933933933933936,34.034034034034036,34.134134134134136,34.234234234234236,34.334334334334336,34.434434434434436,34.53453453453454,34.63463463463464,34.73473473473474,34.83483483483484,34.93493493493494,35.03503503503504,35.13513513513514,35.23523523523524,35.33533533533534,35.43543543543544,35.53553553553554,35.63563563563564,35.73573573573574,35.83583583583584,35.93593593593594,36.03603603603604,36.13613613613614,36.23623623623624,36.33633633633634,36.43643643643644,36.53653653653654,36.63663663663664,36.73673673673674,36.83683683683684,36.93693693693694,37.03703703703704,37.13713713713714,37.23723723723724,37.33733733733734,37.43743743743744,37.53753753753754,37.63763763763764,37.73773773773774,37.83783783783784,37.93793793793794,38.03803803803804,38.13813813813814,38.23823823823824,38.33833833833834,38.43843843843844,38.53853853853854,38.63863863863864,38.73873873873874,38.83883883883884,38.93893893893894,39.03903903903904,39.13913913913914,39.23923923923924,39.33933933933934,39.43943943943944,39.53953953953954,39.63963963963964,39.73973973973974,39.83983983983984,39.93993993993994,40.04004004004004,40.14014014014014,40.24024024024024,40.34034034034034,40.44044044044044,40.54054054054054,40.64064064064064,40.74074074074074,40.84084084084084,40.94094094094094,41.04104104104104,41.14114114114114,41.24124124124124,41.34134134134134,41.44144144144144,41.54154154154154,41.64164164164164,41.74174174174174,41.84184184184184,41.94194194194194,42.04204204204204,42.14214214214214,42.24224224224224,42.34234234234234,42.44244244244244,42.54254254254254,42.64264264264264,42.74274274274275,42.84284284284285,42.94294294294295,43.04304304304305,43.14314314314315,43.24324324324325,43.34334334334335,43.44344344344345,43.54354354354355,43.64364364364365,43.74374374374375,43.84384384384385,43.94394394394395,44.04404404404405,44.14414414414415,44.24424424424425,44.34434434434435,44.44444444444445,44.54454454454455,44.64464464464465,44.74474474474475,44.84484484484485,44.94494494494495,45.04504504504505,45.14514514514515,45.24524524524525,45.34534534534535,45.44544544544545,45.54554554554555,45.64564564564565,45.74574574574575,45.84584584584585,45.94594594594595,46.04604604604605,46.14614614614615,46.24624624624625,46.34634634634635,46.44644644644645,46.54654654654655,46.64664664664665,46.74674674674675,46.84684684684685,46.94694694694695,47.04704704704705,47.14714714714715,47.24724724724725,47.34734734734735,47.44744744744745,47.54754754754755,47.64764764764765,47.74774774774775,47.84784784784785,47.94794794794795,48.04804804804805,48.14814814814815,48.24824824824825,48.34834834834835,48.44844844844845,48.54854854854855,48.64864864864865,48.74874874874875,48.84884884884885,48.94894894894895,49.04904904904905,49.14914914914915,49.24924924924925,49.34934934934935,49.44944944944945,49.54954954954955,49.64964964964965,49.74974974974975,49.84984984984985,49.94994994994995,50.050050050050054,50.150150150150154,50.250250250250254,50.350350350350354,50.450450450450454,50.550550550550554,50.650650650650654,50.750750750750754,50.850850850850854,50.950950950950954,51.051051051051054,51.151151151151154,51.251251251251254,51.351351351351354,51.451451451451454,51.551551551551555,51.651651651651655,51.751751751751755,51.851851851851855,51.951951951951955,52.052052052052055,52.152152152152155,52.252252252252255,52.352352352352355,52.452452452452455,52.552552552552555,52.652652652652655,52.752752752752755,52.852852852852855,52.952952952952955,53.053053053053056,53.153153153153156,53.253253253253256,53.353353353353356,53.453453453453456,53.553553553553556,53.653653653653656,53.753753753753756,53.853853853853856,53.953953953953956,54.054054054054056,54.154154154154156,54.254254254254256,54.354354354354356,54.454454454454456,54.55455455455456,54.65465465465466,54.75475475475476,54.85485485485486,54.95495495495496,55.05505505505506,55.15515515515516,55.25525525525526,55.35535535535536,55.45545545545546,55.55555555555556,55.65565565565566,55.75575575575576,55.85585585585586,55.95595595595596,56.05605605605606,56.15615615615616,56.25625625625626,56.35635635635636,56.45645645645646,56.55655655655656,56.65665665665666,56.75675675675676,56.85685685685686,56.95695695695696,57.05705705705706,57.15715715715716,57.25725725725726,57.35735735735736,57.45745745745746,57.55755755755756,57.65765765765766,57.75775775775776,57.85785785785786,57.95795795795796,58.05805805805806,58.15815815815816,58.25825825825826,58.35835835835836,58.45845845845846,58.55855855855856,58.65865865865866,58.75875875875876,58.85885885885886,58.95895895895896,59.05905905905906,59.15915915915916,59.25925925925926,59.35935935935936,59.45945945945946,59.55955955955956,59.65965965965966,59.75975975975976,59.85985985985987,59.95995995995997,60.06006006006007,60.16016016016017,60.26026026026027,60.36036036036037,60.46046046046047,60.56056056056057,60.66066066066067,60.76076076076077,60.86086086086087,60.96096096096097,61.06106106106107,61.16116116116117,61.26126126126127,61.36136136136137,61.46146146146147,61.56156156156157,61.66166166166167,61.76176176176177,61.86186186186187,61.96196196196197,62.06206206206207,62.16216216216217,62.26226226226227,62.36236236236237,62.46246246246247,62.56256256256257,62.66266266266267,62.76276276276277,62.86286286286287,62.96296296296297,63.06306306306307,63.16316316316317,63.26326326326327,63.36336336336337,63.46346346346347,63.56356356356357,63.66366366366367,63.76376376376377,63.86386386386387,63.96396396396397,64.06406406406407,64.16416416416416,64.26426426426427,64.36436436436436,64.46446446446447,64.56456456456456,64.66466466466467,64.76476476476476,64.86486486486487,64.96496496496496,65.06506506506507,65.16516516516516,65.26526526526527,65.36536536536536,65.46546546546547,65.56556556556556,65.66566566566567,65.76576576576576,65.86586586586587,65.96596596596596,66.06606606606607,66.16616616616616,66.26626626626627,66.36636636636636,66.46646646646647,66.56656656656656,66.66666666666667,66.76676676676676,66.86686686686687,66.96696696696696,67.06706706706707,67.16716716716716,67.26726726726727,67.36736736736736,67.46746746746747,67.56756756756756,67.66766766766767,67.76776776776777,67.86786786786787,67.96796796796797,68.06806806806807,68.16816816816817,68.26826826826827,68.36836836836838,68.46846846846847,68.56856856856858,68.66866866866867,68.76876876876878,68.86886886886887,68.96896896896898,69.06906906906907,69.16916916916918,69.26926926926927,69.36936936936938,69.46946946946947,69.56956956956958,69.66966966966967,69.76976976976978,69.86986986986987,69.96996996996998,70.07007007007007,70.17017017017018,70.27027027027027,70.37037037037038,70.47047047047047,70.57057057057058,70.67067067067067,70.77077077077078,70.87087087087087,70.97097097097098,71.07107107107107,71.17117117117118,71.27127127127127,71.37137137137138,71.47147147147147,71.57157157157158,71.67167167167167,71.77177177177178,71.87187187187187,71.97197197197198,72.07207207207207,72.17217217217218,72.27227227227228,72.37237237237238,72.47247247247248,72.57257257257258,72.67267267267268,72.77277277277278,72.87287287287288,72.97297297297298,73.07307307307308,73.17317317317318,73.27327327327328,73.37337337337338,73.47347347347348,73.57357357357358,73.67367367367368,73.77377377377378,73.87387387387388,73.97397397397398,74.07407407407408,74.17417417417418,74.27427427427428,74.37437437437438,74.47447447447448,74.57457457457458,74.67467467467468,74.77477477477478,74.87487487487488,74.97497497497498,75.07507507507508,75.17517517517518,75.27527527527528,75.37537537537538,75.47547547547548,75.57557557557558,75.67567567567568,75.77577577577578,75.87587587587588,75.97597597597598,76.07607607607608,76.17617617617618,76.27627627627628,76.37637637637638,76.47647647647648,76.57657657657658,76.67667667667668,76.77677677677679,76.87687687687688,76.97697697697699,77.07707707707708,77.17717717717719,77.27727727727728,77.37737737737739,77.47747747747748,77.57757757757759,77.67767767767768,77.77777777777779,77.87787787787788,77.97797797797799,78.07807807807808,78.17817817817819,78.27827827827828,78.37837837837839,78.47847847847848,78.57857857857859,78.67867867867868,78.77877877877879,78.87887887887888,78.97897897897899,79.07907907907908,79.17917917917919,79.27927927927928,79.37937937937939,79.47947947947948,79.57957957957959,79.67967967967968,79.77977977977979,79.87987987987988,79.97997997997999,80.08008008008008,80.18018018018019,80.28028028028028,80.38038038038039,80.48048048048048,80.58058058058059,80.68068068068068,80.78078078078079,80.88088088088088,80.98098098098099,81.08108108108108,81.18118118118119,81.28128128128128,81.38138138138139,81.48148148148148,81.58158158158159,81.68168168168168,81.78178178178179,81.88188188188188,81.98198198198199,82.08208208208208,82.18218218218219,82.28228228228228,82.38238238238239,82.48248248248248,82.58258258258259,82.68268268268268,82.78278278278279,82.88288288288288,82.98298298298299,83.08308308308308,83.18318318318319,83.28328328328328,83.38338338338339,83.48348348348348,83.58358358358359,83.68368368368368,83.78378378378379,83.88388388388388,83.98398398398399,84.08408408408408,84.18418418418419,84.28428428428428,84.38438438438439,84.48448448448448,84.58458458458459,84.68468468468468,84.78478478478479,84.88488488488488,84.98498498498499,85.08508508508508,85.18518518518519,85.28528528528528,85.38538538538539,85.4854854854855,85.58558558558559,85.6856856856857,85.78578578578579,85.8858858858859,85.98598598598599,86.0860860860861,86.18618618618619,86.2862862862863,86.38638638638639,86.4864864864865,86.58658658658659,86.6866866866867,86.78678678678679,86.8868868868869,86.98698698698699,87.0870870870871,87.18718718718719,87.2872872872873,87.38738738738739,87.4874874874875,87.58758758758759,87.6876876876877,87.78778778778779,87.8878878878879,87.98798798798799,88.0880880880881,88.18818818818819,88.2882882882883,88.38838838838839,88.4884884884885,88.58858858858859,88.6886886886887,88.78878878878879,88.8888888888889,88.988988988989,89.0890890890891,89.1891891891892,89.2892892892893,89.3893893893894,89.4894894894895,89.5895895895896,89.6896896896897,89.7897897897898,89.8898898898899,89.98998998999,90.0900900900901,90.1901901901902,90.2902902902903,90.3903903903904,90.4904904904905,90.5905905905906,90.6906906906907,90.7907907907908,90.8908908908909,90.990990990991,91.0910910910911,91.1911911911912,91.2912912912913,91.3913913913914,91.4914914914915,91.5915915915916,91.6916916916917,91.7917917917918,91.8918918918919,91.991991991992,92.0920920920921,92.1921921921922,92.2922922922923,92.3923923923924,92.4924924924925,92.5925925925926,92.6926926926927,92.7927927927928,92.8928928928929,92.992992992993,93.0930930930931,93.1931931931932,93.2932932932933,93.3933933933934,93.4934934934935,93.5935935935936,93.6936936936937,93.7937937937938,93.8938938938939,93.993993993994,94.0940940940941,94.1941941941942,94.2942942942943,94.3943943943944,94.4944944944945,94.5945945945946,94.6946946946947,94.7947947947948,94.8948948948949,94.994994994995,95.0950950950951,95.1951951951952,95.2952952952953,95.3953953953954,95.4954954954955,95.5955955955956,95.6956956956957,95.7957957957958,95.8958958958959,95.995995995996,96.0960960960961,96.1961961961962,96.2962962962963,96.3963963963964,96.4964964964965,96.5965965965966,96.6966966966967,96.7967967967968,96.8968968968969,96.996996996997,97.0970970970971,97.1971971971972,97.2972972972973,97.3973973973974,97.4974974974975,97.5975975975976,97.6976976976977,97.7977977977978,97.8978978978979,97.997997997998,98.0980980980981,98.1981981981982,98.2982982982983,98.3983983983984,98.4984984984985,98.5985985985986,98.6986986986987,98.7987987987988,98.8988988988989,98.998998998999,99.0990990990991,99.1991991991992,99.2992992992993,99.3993993993994,99.4994994994995,99.5995995995996,99.6996996996997,99.7997997997998,99.8998998998999,100.0],\"y\":[0.0,0.1001001001001001,0.2002002002002002,0.3003003003003003,0.4004004004004004,0.5005005005005005,0.6006006006006006,0.7007007007007008,0.8008008008008008,0.9009009009009009,1.001001001001001,1.1011011011011012,1.2012012012012012,1.3013013013013013,1.4014014014014016,1.5015015015015016,1.6016016016016017,1.7017017017017018,1.8018018018018018,1.9019019019019021,2.002002002002002,2.1021021021021022,2.2022022022022023,2.3023023023023024,2.4024024024024024,2.5025025025025025,2.6026026026026026,2.702702702702703,2.802802802802803,2.902902902902903,3.0030030030030033,3.1031031031031033,3.2032032032032034,3.3033033033033035,3.4034034034034035,3.5035035035035036,3.6036036036036037,3.7037037037037037,3.8038038038038042,3.9039039039039043,4.004004004004004,4.104104104104104,4.2042042042042045,4.3043043043043046,4.404404404404405,4.504504504504505,4.604604604604605,4.704704704704705,4.804804804804805,4.904904904904905,5.005005005005005,5.105105105105105,5.205205205205205,5.305305305305305,5.405405405405406,5.505505505505506,5.605605605605606,5.705705705705706,5.805805805805806,5.9059059059059065,6.0060060060060065,6.106106106106107,6.206206206206207,6.306306306306307,6.406406406406407,6.506506506506507,6.606606606606607,6.706706706706707,6.806806806806807,6.906906906906907,7.007007007007007,7.107107107107107,7.207207207207207,7.307307307307307,7.407407407407407,7.507507507507508,7.6076076076076085,7.7077077077077085,7.807807807807809,7.907907907907909,8.008008008008009,8.108108108108109,8.208208208208209,8.308308308308309,8.408408408408409,8.508508508508509,8.608608608608609,8.70870870870871,8.80880880880881,8.90890890890891,9.00900900900901,9.10910910910911,9.20920920920921,9.30930930930931,9.40940940940941,9.50950950950951,9.60960960960961,9.70970970970971,9.80980980980981,9.90990990990991,10.01001001001001,10.11011011011011,10.21021021021021,10.31031031031031,10.41041041041041,10.51051051051051,10.61061061061061,10.710710710710712,10.810810810810812,10.910910910910912,11.011011011011012,11.111111111111112,11.211211211211213,11.311311311311313,11.411411411411413,11.511511511511513,11.611611611611613,11.711711711711713,11.811811811811813,11.911911911911913,12.012012012012013,12.112112112112113,12.212212212212213,12.312312312312313,12.412412412412413,12.512512512512513,12.612612612612613,12.712712712712714,12.812812812812814,12.912912912912914,13.013013013013014,13.113113113113114,13.213213213213214,13.313313313313314,13.413413413413414,13.513513513513514,13.613613613613614,13.713713713713714,13.813813813813814,13.913913913913914,14.014014014014014,14.114114114114114,14.214214214214214,14.314314314314315,14.414414414414415,14.514514514514515,14.614614614614615,14.714714714714715,14.814814814814815,14.914914914914915,15.015015015015017,15.115115115115117,15.215215215215217,15.315315315315317,15.415415415415417,15.515515515515517,15.615615615615617,15.715715715715717,15.815815815815817,15.915915915915917,16.016016016016017,16.116116116116117,16.216216216216218,16.316316316316318,16.416416416416418,16.516516516516518,16.616616616616618,16.716716716716718,16.816816816816818,16.916916916916918,17.017017017017018,17.117117117117118,17.217217217217218,17.31731731731732,17.41741741741742,17.51751751751752,17.61761761761762,17.71771771771772,17.81781781781782,17.91791791791792,18.01801801801802,18.11811811811812,18.21821821821822,18.31831831831832,18.41841841841842,18.51851851851852,18.61861861861862,18.71871871871872,18.81881881881882,18.91891891891892,19.01901901901902,19.11911911911912,19.21921921921922,19.31931931931932,19.41941941941942,19.51951951951952,19.61961961961962,19.71971971971972,19.81981981981982,19.91991991991992,20.02002002002002,20.12012012012012,20.22022022022022,20.32032032032032,20.42042042042042,20.52052052052052,20.62062062062062,20.72072072072072,20.82082082082082,20.92092092092092,21.02102102102102,21.12112112112112,21.22122122122122,21.32132132132132,21.421421421421424,21.521521521521525,21.621621621621625,21.721721721721725,21.821821821821825,21.921921921921925,22.022022022022025,22.122122122122125,22.222222222222225,22.322322322322325,22.422422422422425,22.522522522522525,22.622622622622625,22.722722722722725,22.822822822822825,22.922922922922925,23.023023023023026,23.123123123123126,23.223223223223226,23.323323323323326,23.423423423423426,23.523523523523526,23.623623623623626,23.723723723723726,23.823823823823826,23.923923923923926,24.024024024024026,24.124124124124126,24.224224224224226,24.324324324324326,24.424424424424426,24.524524524524526,24.624624624624627,24.724724724724727,24.824824824824827,24.924924924924927,25.025025025025027,25.125125125125127,25.225225225225227,25.325325325325327,25.425425425425427,25.525525525525527,25.625625625625627,25.725725725725727,25.825825825825827,25.925925925925927,26.026026026026027,26.126126126126128,26.226226226226228,26.326326326326328,26.426426426426428,26.526526526526528,26.626626626626628,26.726726726726728,26.826826826826828,26.926926926926928,27.027027027027028,27.127127127127128,27.227227227227228,27.32732732732733,27.42742742742743,27.52752752752753,27.62762762762763,27.72772772772773,27.82782782782783,27.92792792792793,28.02802802802803,28.12812812812813,28.22822822822823,28.32832832832833,28.42842842842843,28.52852852852853,28.62862862862863,28.72872872872873,28.82882882882883,28.92892892892893,29.02902902902903,29.12912912912913,29.22922922922923,29.32932932932933,29.42942942942943,29.52952952952953,29.62962962962963,29.72972972972973,29.82982982982983,29.929929929929934,30.030030030030034,30.130130130130134,30.230230230230234,30.330330330330334,30.430430430430434,30.530530530530534,30.630630630630634,30.730730730730734,30.830830830830834,30.930930930930934,31.031031031031034,31.131131131131134,31.231231231231234,31.331331331331334,31.431431431431434,31.531531531531535,31.631631631631635,31.731731731731735,31.831831831831835,31.931931931931935,32.032032032032035,32.132132132132135,32.232232232232235,32.332332332332335,32.432432432432435,32.532532532532535,32.632632632632635,32.732732732732735,32.832832832832835,32.932932932932935,33.033033033033036,33.133133133133136,33.233233233233236,33.333333333333336,33.433433433433436,33.533533533533536,33.633633633633636,33.733733733733736,33.833833833833836,33.933933933933936,34.034034034034036,34.134134134134136,34.234234234234236,34.334334334334336,34.434434434434436,34.53453453453454,34.63463463463464,34.73473473473474,34.83483483483484,34.93493493493494,35.03503503503504,35.13513513513514,35.23523523523524,35.33533533533534,35.43543543543544,35.53553553553554,35.63563563563564,35.73573573573574,35.83583583583584,35.93593593593594,36.03603603603604,36.13613613613614,36.23623623623624,36.33633633633634,36.43643643643644,36.53653653653654,36.63663663663664,36.73673673673674,36.83683683683684,36.93693693693694,37.03703703703704,37.13713713713714,37.23723723723724,37.33733733733734,37.43743743743744,37.53753753753754,37.63763763763764,37.73773773773774,37.83783783783784,37.93793793793794,38.03803803803804,38.13813813813814,38.23823823823824,38.33833833833834,38.43843843843844,38.53853853853854,38.63863863863864,38.73873873873874,38.83883883883884,38.93893893893894,39.03903903903904,39.13913913913914,39.23923923923924,39.33933933933934,39.43943943943944,39.53953953953954,39.63963963963964,39.73973973973974,39.83983983983984,39.93993993993994,40.04004004004004,40.14014014014014,40.24024024024024,40.34034034034034,40.44044044044044,40.54054054054054,40.64064064064064,40.74074074074074,40.84084084084084,40.94094094094094,41.04104104104104,41.14114114114114,41.24124124124124,41.34134134134134,41.44144144144144,41.54154154154154,41.64164164164164,41.74174174174174,41.84184184184184,41.94194194194194,42.04204204204204,42.14214214214214,42.24224224224224,42.34234234234234,42.44244244244244,42.54254254254254,42.64264264264264,42.74274274274275,42.84284284284285,42.94294294294295,43.04304304304305,43.14314314314315,43.24324324324325,43.34334334334335,43.44344344344345,43.54354354354355,43.64364364364365,43.74374374374375,43.84384384384385,43.94394394394395,44.04404404404405,44.14414414414415,44.24424424424425,44.34434434434435,44.44444444444445,44.54454454454455,44.64464464464465,44.74474474474475,44.84484484484485,44.94494494494495,45.04504504504505,45.14514514514515,45.24524524524525,45.34534534534535,45.44544544544545,45.54554554554555,45.64564564564565,45.74574574574575,45.84584584584585,45.94594594594595,46.04604604604605,46.14614614614615,46.24624624624625,46.34634634634635,46.44644644644645,46.54654654654655,46.64664664664665,46.74674674674675,46.84684684684685,46.94694694694695,47.04704704704705,47.14714714714715,47.24724724724725,47.34734734734735,47.44744744744745,47.54754754754755,47.64764764764765,47.74774774774775,47.84784784784785,47.94794794794795,48.04804804804805,48.14814814814815,48.24824824824825,48.34834834834835,48.44844844844845,48.54854854854855,48.64864864864865,48.74874874874875,48.84884884884885,48.94894894894895,49.04904904904905,49.14914914914915,49.24924924924925,49.34934934934935,49.44944944944945,49.54954954954955,49.64964964964965,49.74974974974975,49.84984984984985,49.94994994994995,50.050050050050054,50.150150150150154,50.250250250250254,50.350350350350354,50.450450450450454,50.550550550550554,50.650650650650654,50.750750750750754,50.850850850850854,50.950950950950954,51.051051051051054,51.151151151151154,51.251251251251254,51.351351351351354,51.451451451451454,51.551551551551555,51.651651651651655,51.751751751751755,51.851851851851855,51.951951951951955,52.052052052052055,52.152152152152155,52.252252252252255,52.352352352352355,52.452452452452455,52.552552552552555,52.652652652652655,52.752752752752755,52.852852852852855,52.952952952952955,53.053053053053056,53.153153153153156,53.253253253253256,53.353353353353356,53.453453453453456,53.553553553553556,53.653653653653656,53.753753753753756,53.853853853853856,53.953953953953956,54.054054054054056,54.154154154154156,54.254254254254256,54.354354354354356,54.454454454454456,54.55455455455456,54.65465465465466,54.75475475475476,54.85485485485486,54.95495495495496,55.05505505505506,55.15515515515516,55.25525525525526,55.35535535535536,55.45545545545546,55.55555555555556,55.65565565565566,55.75575575575576,55.85585585585586,55.95595595595596,56.05605605605606,56.15615615615616,56.25625625625626,56.35635635635636,56.45645645645646,56.55655655655656,56.65665665665666,56.75675675675676,56.85685685685686,56.95695695695696,57.05705705705706,57.15715715715716,57.25725725725726,57.35735735735736,57.45745745745746,57.55755755755756,57.65765765765766,57.75775775775776,57.85785785785786,57.95795795795796,58.05805805805806,58.15815815815816,58.25825825825826,58.35835835835836,58.45845845845846,58.55855855855856,58.65865865865866,58.75875875875876,58.85885885885886,58.95895895895896,59.05905905905906,59.15915915915916,59.25925925925926,59.35935935935936,59.45945945945946,59.55955955955956,59.65965965965966,59.75975975975976,59.85985985985987,59.95995995995997,60.06006006006007,60.16016016016017,60.26026026026027,60.36036036036037,60.46046046046047,60.56056056056057,60.66066066066067,60.76076076076077,60.86086086086087,60.96096096096097,61.06106106106107,61.16116116116117,61.26126126126127,61.36136136136137,61.46146146146147,61.56156156156157,61.66166166166167,61.76176176176177,61.86186186186187,61.96196196196197,62.06206206206207,62.16216216216217,62.26226226226227,62.36236236236237,62.46246246246247,62.56256256256257,62.66266266266267,62.76276276276277,62.86286286286287,62.96296296296297,63.06306306306307,63.16316316316317,63.26326326326327,63.36336336336337,63.46346346346347,63.56356356356357,63.66366366366367,63.76376376376377,63.86386386386387,63.96396396396397,64.06406406406407,64.16416416416416,64.26426426426427,64.36436436436436,64.46446446446447,64.56456456456456,64.66466466466467,64.76476476476476,64.86486486486487,64.96496496496496,65.06506506506507,65.16516516516516,65.26526526526527,65.36536536536536,65.46546546546547,65.56556556556556,65.66566566566567,65.76576576576576,65.86586586586587,65.96596596596596,66.06606606606607,66.16616616616616,66.26626626626627,66.36636636636636,66.46646646646647,66.56656656656656,66.66666666666667,66.76676676676676,66.86686686686687,66.96696696696696,67.06706706706707,67.16716716716716,67.26726726726727,67.36736736736736,67.46746746746747,67.56756756756756,67.66766766766767,67.76776776776777,67.86786786786787,67.96796796796797,68.06806806806807,68.16816816816817,68.26826826826827,68.36836836836838,68.46846846846847,68.56856856856858,68.66866866866867,68.76876876876878,68.86886886886887,68.96896896896898,69.06906906906907,69.16916916916918,69.26926926926927,69.36936936936938,69.46946946946947,69.56956956956958,69.66966966966967,69.76976976976978,69.86986986986987,69.96996996996998,70.07007007007007,70.17017017017018,70.27027027027027,70.37037037037038,70.47047047047047,70.57057057057058,70.67067067067067,70.77077077077078,70.87087087087087,70.97097097097098,71.07107107107107,71.17117117117118,71.27127127127127,71.37137137137138,71.47147147147147,71.57157157157158,71.67167167167167,71.77177177177178,71.87187187187187,71.97197197197198,72.07207207207207,72.17217217217218,72.27227227227228,72.37237237237238,72.47247247247248,72.57257257257258,72.67267267267268,72.77277277277278,72.87287287287288,72.97297297297298,73.07307307307308,73.17317317317318,73.27327327327328,73.37337337337338,73.47347347347348,73.57357357357358,73.67367367367368,73.77377377377378,73.87387387387388,73.97397397397398,74.07407407407408,74.17417417417418,74.27427427427428,74.37437437437438,74.47447447447448,74.57457457457458,74.67467467467468,74.77477477477478,74.87487487487488,74.97497497497498,75.07507507507508,75.17517517517518,75.27527527527528,75.37537537537538,75.47547547547548,75.57557557557558,75.67567567567568,75.77577577577578,75.87587587587588,75.97597597597598,76.07607607607608,76.17617617617618,76.27627627627628,76.37637637637638,76.47647647647648,76.57657657657658,76.67667667667668,76.77677677677679,76.87687687687688,76.97697697697699,77.07707707707708,77.17717717717719,77.27727727727728,77.37737737737739,77.47747747747748,77.57757757757759,77.67767767767768,77.77777777777779,77.87787787787788,77.97797797797799,78.07807807807808,78.17817817817819,78.27827827827828,78.37837837837839,78.47847847847848,78.57857857857859,78.67867867867868,78.77877877877879,78.87887887887888,78.97897897897899,79.07907907907908,79.17917917917919,79.27927927927928,79.37937937937939,79.47947947947948,79.57957957957959,79.67967967967968,79.77977977977979,79.87987987987988,79.97997997997999,80.08008008008008,80.18018018018019,80.28028028028028,80.38038038038039,80.48048048048048,80.58058058058059,80.68068068068068,80.78078078078079,80.88088088088088,80.98098098098099,81.08108108108108,81.18118118118119,81.28128128128128,81.38138138138139,81.48148148148148,81.58158158158159,81.68168168168168,81.78178178178179,81.88188188188188,81.98198198198199,82.08208208208208,82.18218218218219,82.28228228228228,82.38238238238239,82.48248248248248,82.58258258258259,82.68268268268268,82.78278278278279,82.88288288288288,82.98298298298299,83.08308308308308,83.18318318318319,83.28328328328328,83.38338338338339,83.48348348348348,83.58358358358359,83.68368368368368,83.78378378378379,83.88388388388388,83.98398398398399,84.08408408408408,84.18418418418419,84.28428428428428,84.38438438438439,84.48448448448448,84.58458458458459,84.68468468468468,84.78478478478479,84.88488488488488,84.98498498498499,85.08508508508508,85.18518518518519,85.28528528528528,85.38538538538539,85.4854854854855,85.58558558558559,85.6856856856857,85.78578578578579,85.8858858858859,85.98598598598599,86.0860860860861,86.18618618618619,86.2862862862863,86.38638638638639,86.4864864864865,86.58658658658659,86.6866866866867,86.78678678678679,86.8868868868869,86.98698698698699,87.0870870870871,87.18718718718719,87.2872872872873,87.38738738738739,87.4874874874875,87.58758758758759,87.6876876876877,87.78778778778779,87.8878878878879,87.98798798798799,88.0880880880881,88.18818818818819,88.2882882882883,88.38838838838839,88.4884884884885,88.58858858858859,88.6886886886887,88.78878878878879,88.8888888888889,88.988988988989,89.0890890890891,89.1891891891892,89.2892892892893,89.3893893893894,89.4894894894895,89.5895895895896,89.6896896896897,89.7897897897898,89.8898898898899,89.98998998999,90.0900900900901,90.1901901901902,90.2902902902903,90.3903903903904,90.4904904904905,90.5905905905906,90.6906906906907,90.7907907907908,90.8908908908909,90.990990990991,91.0910910910911,91.1911911911912,91.2912912912913,91.3913913913914,91.4914914914915,91.5915915915916,91.6916916916917,91.7917917917918,91.8918918918919,91.991991991992,92.0920920920921,92.1921921921922,92.2922922922923,92.3923923923924,92.4924924924925,92.5925925925926,92.6926926926927,92.7927927927928,92.8928928928929,92.992992992993,93.0930930930931,93.1931931931932,93.2932932932933,93.3933933933934,93.4934934934935,93.5935935935936,93.6936936936937,93.7937937937938,93.8938938938939,93.993993993994,94.0940940940941,94.1941941941942,94.2942942942943,94.3943943943944,94.4944944944945,94.5945945945946,94.6946946946947,94.7947947947948,94.8948948948949,94.994994994995,95.0950950950951,95.1951951951952,95.2952952952953,95.3953953953954,95.4954954954955,95.5955955955956,95.6956956956957,95.7957957957958,95.8958958958959,95.995995995996,96.0960960960961,96.1961961961962,96.2962962962963,96.3963963963964,96.4964964964965,96.5965965965966,96.6966966966967,96.7967967967968,96.8968968968969,96.996996996997,97.0970970970971,97.1971971971972,97.2972972972973,97.3973973973974,97.4974974974975,97.5975975975976,97.6976976976977,97.7977977977978,97.8978978978979,97.997997997998,98.0980980980981,98.1981981981982,98.2982982982983,98.3983983983984,98.4984984984985,98.5985985985986,98.6986986986987,98.7987987987988,98.8988988988989,98.998998998999,99.0990990990991,99.1991991991992,99.2992992992993,99.3993993993994,99.4994994994995,99.5995995995996,99.6996996996997,99.7997997997998,99.8998998998999,100.0],\"type\":\"scatter\"}],                        {\"title\":{\"text\":\"Uni_NN predicted v actual\"},\"template\":{\"data\":{\"bar\":[{\"error_x\":{\"color\":\"#2a3f5f\"},\"error_y\":{\"color\":\"#2a3f5f\"},\"marker\":{\"line\":{\"color\":\"#E5ECF6\",\"width\":0.5},\"pattern\":{\"fillmode\":\"overlay\",\"size\":10,\"solidity\":0.2}},\"type\":\"bar\"}],\"barpolar\":[{\"marker\":{\"line\":{\"color\":\"#E5ECF6\",\"width\":0.5},\"pattern\":{\"fillmode\":\"overlay\",\"size\":10,\"solidity\":0.2}},\"type\":\"barpolar\"}],\"carpet\":[{\"aaxis\":{\"endlinecolor\":\"#2a3f5f\",\"gridcolor\":\"white\",\"linecolor\":\"white\",\"minorgridcolor\":\"white\",\"startlinecolor\":\"#2a3f5f\"},\"baxis\":{\"endlinecolor\":\"#2a3f5f\",\"gridcolor\":\"white\",\"linecolor\":\"white\",\"minorgridcolor\":\"white\",\"startlinecolor\":\"#2a3f5f\"},\"type\":\"carpet\"}],\"choropleth\":[{\"colorbar\":{\"outlinewidth\":0,\"ticks\":\"\"},\"type\":\"choropleth\"}],\"contour\":[{\"colorbar\":{\"outlinewidth\":0,\"ticks\":\"\"},\"colorscale\":[[0.0,\"#0d0887\"],[0.1111111111111111,\"#46039f\"],[0.2222222222222222,\"#7201a8\"],[0.3333333333333333,\"#9c179e\"],[0.4444444444444444,\"#bd3786\"],[0.5555555555555556,\"#d8576b\"],[0.6666666666666666,\"#ed7953\"],[0.7777777777777778,\"#fb9f3a\"],[0.8888888888888888,\"#fdca26\"],[1.0,\"#f0f921\"]],\"type\":\"contour\"}],\"contourcarpet\":[{\"colorbar\":{\"outlinewidth\":0,\"ticks\":\"\"},\"type\":\"contourcarpet\"}],\"heatmap\":[{\"colorbar\":{\"outlinewidth\":0,\"ticks\":\"\"},\"colorscale\":[[0.0,\"#0d0887\"],[0.1111111111111111,\"#46039f\"],[0.2222222222222222,\"#7201a8\"],[0.3333333333333333,\"#9c179e\"],[0.4444444444444444,\"#bd3786\"],[0.5555555555555556,\"#d8576b\"],[0.6666666666666666,\"#ed7953\"],[0.7777777777777778,\"#fb9f3a\"],[0.8888888888888888,\"#fdca26\"],[1.0,\"#f0f921\"]],\"type\":\"heatmap\"}],\"heatmapgl\":[{\"colorbar\":{\"outlinewidth\":0,\"ticks\":\"\"},\"colorscale\":[[0.0,\"#0d0887\"],[0.1111111111111111,\"#46039f\"],[0.2222222222222222,\"#7201a8\"],[0.3333333333333333,\"#9c179e\"],[0.4444444444444444,\"#bd3786\"],[0.5555555555555556,\"#d8576b\"],[0.6666666666666666,\"#ed7953\"],[0.7777777777777778,\"#fb9f3a\"],[0.8888888888888888,\"#fdca26\"],[1.0,\"#f0f921\"]],\"type\":\"heatmapgl\"}],\"histogram\":[{\"marker\":{\"pattern\":{\"fillmode\":\"overlay\",\"size\":10,\"solidity\":0.2}},\"type\":\"histogram\"}],\"histogram2d\":[{\"colorbar\":{\"outlinewidth\":0,\"ticks\":\"\"},\"colorscale\":[[0.0,\"#0d0887\"],[0.1111111111111111,\"#46039f\"],[0.2222222222222222,\"#7201a8\"],[0.3333333333333333,\"#9c179e\"],[0.4444444444444444,\"#bd3786\"],[0.5555555555555556,\"#d8576b\"],[0.6666666666666666,\"#ed7953\"],[0.7777777777777778,\"#fb9f3a\"],[0.8888888888888888,\"#fdca26\"],[1.0,\"#f0f921\"]],\"type\":\"histogram2d\"}],\"histogram2dcontour\":[{\"colorbar\":{\"outlinewidth\":0,\"ticks\":\"\"},\"colorscale\":[[0.0,\"#0d0887\"],[0.1111111111111111,\"#46039f\"],[0.2222222222222222,\"#7201a8\"],[0.3333333333333333,\"#9c179e\"],[0.4444444444444444,\"#bd3786\"],[0.5555555555555556,\"#d8576b\"],[0.6666666666666666,\"#ed7953\"],[0.7777777777777778,\"#fb9f3a\"],[0.8888888888888888,\"#fdca26\"],[1.0,\"#f0f921\"]],\"type\":\"histogram2dcontour\"}],\"mesh3d\":[{\"colorbar\":{\"outlinewidth\":0,\"ticks\":\"\"},\"type\":\"mesh3d\"}],\"parcoords\":[{\"line\":{\"colorbar\":{\"outlinewidth\":0,\"ticks\":\"\"}},\"type\":\"parcoords\"}],\"pie\":[{\"automargin\":true,\"type\":\"pie\"}],\"scatter\":[{\"marker\":{\"colorbar\":{\"outlinewidth\":0,\"ticks\":\"\"}},\"type\":\"scatter\"}],\"scatter3d\":[{\"line\":{\"colorbar\":{\"outlinewidth\":0,\"ticks\":\"\"}},\"marker\":{\"colorbar\":{\"outlinewidth\":0,\"ticks\":\"\"}},\"type\":\"scatter3d\"}],\"scattercarpet\":[{\"marker\":{\"colorbar\":{\"outlinewidth\":0,\"ticks\":\"\"}},\"type\":\"scattercarpet\"}],\"scattergeo\":[{\"marker\":{\"colorbar\":{\"outlinewidth\":0,\"ticks\":\"\"}},\"type\":\"scattergeo\"}],\"scattergl\":[{\"marker\":{\"colorbar\":{\"outlinewidth\":0,\"ticks\":\"\"}},\"type\":\"scattergl\"}],\"scattermapbox\":[{\"marker\":{\"colorbar\":{\"outlinewidth\":0,\"ticks\":\"\"}},\"type\":\"scattermapbox\"}],\"scatterpolar\":[{\"marker\":{\"colorbar\":{\"outlinewidth\":0,\"ticks\":\"\"}},\"type\":\"scatterpolar\"}],\"scatterpolargl\":[{\"marker\":{\"colorbar\":{\"outlinewidth\":0,\"ticks\":\"\"}},\"type\":\"scatterpolargl\"}],\"scatterternary\":[{\"marker\":{\"colorbar\":{\"outlinewidth\":0,\"ticks\":\"\"}},\"type\":\"scatterternary\"}],\"surface\":[{\"colorbar\":{\"outlinewidth\":0,\"ticks\":\"\"},\"colorscale\":[[0.0,\"#0d0887\"],[0.1111111111111111,\"#46039f\"],[0.2222222222222222,\"#7201a8\"],[0.3333333333333333,\"#9c179e\"],[0.4444444444444444,\"#bd3786\"],[0.5555555555555556,\"#d8576b\"],[0.6666666666666666,\"#ed7953\"],[0.7777777777777778,\"#fb9f3a\"],[0.8888888888888888,\"#fdca26\"],[1.0,\"#f0f921\"]],\"type\":\"surface\"}],\"table\":[{\"cells\":{\"fill\":{\"color\":\"#EBF0F8\"},\"line\":{\"color\":\"white\"}},\"header\":{\"fill\":{\"color\":\"#C8D4E3\"},\"line\":{\"color\":\"white\"}},\"type\":\"table\"}]},\"layout\":{\"annotationdefaults\":{\"arrowcolor\":\"#2a3f5f\",\"arrowhead\":0,\"arrowwidth\":1},\"autotypenumbers\":\"strict\",\"coloraxis\":{\"colorbar\":{\"outlinewidth\":0,\"ticks\":\"\"}},\"colorscale\":{\"diverging\":[[0,\"#8e0152\"],[0.1,\"#c51b7d\"],[0.2,\"#de77ae\"],[0.3,\"#f1b6da\"],[0.4,\"#fde0ef\"],[0.5,\"#f7f7f7\"],[0.6,\"#e6f5d0\"],[0.7,\"#b8e186\"],[0.8,\"#7fbc41\"],[0.9,\"#4d9221\"],[1,\"#276419\"]],\"sequential\":[[0.0,\"#0d0887\"],[0.1111111111111111,\"#46039f\"],[0.2222222222222222,\"#7201a8\"],[0.3333333333333333,\"#9c179e\"],[0.4444444444444444,\"#bd3786\"],[0.5555555555555556,\"#d8576b\"],[0.6666666666666666,\"#ed7953\"],[0.7777777777777778,\"#fb9f3a\"],[0.8888888888888888,\"#fdca26\"],[1.0,\"#f0f921\"]],\"sequentialminus\":[[0.0,\"#0d0887\"],[0.1111111111111111,\"#46039f\"],[0.2222222222222222,\"#7201a8\"],[0.3333333333333333,\"#9c179e\"],[0.4444444444444444,\"#bd3786\"],[0.5555555555555556,\"#d8576b\"],[0.6666666666666666,\"#ed7953\"],[0.7777777777777778,\"#fb9f3a\"],[0.8888888888888888,\"#fdca26\"],[1.0,\"#f0f921\"]]},\"colorway\":[\"#636efa\",\"#EF553B\",\"#00cc96\",\"#ab63fa\",\"#FFA15A\",\"#19d3f3\",\"#FF6692\",\"#B6E880\",\"#FF97FF\",\"#FECB52\"],\"font\":{\"color\":\"#2a3f5f\"},\"geo\":{\"bgcolor\":\"white\",\"lakecolor\":\"white\",\"landcolor\":\"#E5ECF6\",\"showlakes\":true,\"showland\":true,\"subunitcolor\":\"white\"},\"hoverlabel\":{\"align\":\"left\"},\"hovermode\":\"closest\",\"mapbox\":{\"style\":\"light\"},\"paper_bgcolor\":\"white\",\"plot_bgcolor\":\"#E5ECF6\",\"polar\":{\"angularaxis\":{\"gridcolor\":\"white\",\"linecolor\":\"white\",\"ticks\":\"\"},\"bgcolor\":\"#E5ECF6\",\"radialaxis\":{\"gridcolor\":\"white\",\"linecolor\":\"white\",\"ticks\":\"\"}},\"scene\":{\"xaxis\":{\"backgroundcolor\":\"#E5ECF6\",\"gridcolor\":\"white\",\"gridwidth\":2,\"linecolor\":\"white\",\"showbackground\":true,\"ticks\":\"\",\"zerolinecolor\":\"white\"},\"yaxis\":{\"backgroundcolor\":\"#E5ECF6\",\"gridcolor\":\"white\",\"gridwidth\":2,\"linecolor\":\"white\",\"showbackground\":true,\"ticks\":\"\",\"zerolinecolor\":\"white\"},\"zaxis\":{\"backgroundcolor\":\"#E5ECF6\",\"gridcolor\":\"white\",\"gridwidth\":2,\"linecolor\":\"white\",\"showbackground\":true,\"ticks\":\"\",\"zerolinecolor\":\"white\"}},\"shapedefaults\":{\"line\":{\"color\":\"#2a3f5f\"}},\"ternary\":{\"aaxis\":{\"gridcolor\":\"white\",\"linecolor\":\"white\",\"ticks\":\"\"},\"baxis\":{\"gridcolor\":\"white\",\"linecolor\":\"white\",\"ticks\":\"\"},\"bgcolor\":\"#E5ECF6\",\"caxis\":{\"gridcolor\":\"white\",\"linecolor\":\"white\",\"ticks\":\"\"}},\"title\":{\"x\":0.05},\"xaxis\":{\"automargin\":true,\"gridcolor\":\"white\",\"linecolor\":\"white\",\"ticks\":\"\",\"title\":{\"standoff\":15},\"zerolinecolor\":\"white\",\"zerolinewidth\":2},\"yaxis\":{\"automargin\":true,\"gridcolor\":\"white\",\"linecolor\":\"white\",\"ticks\":\"\",\"title\":{\"standoff\":15},\"zerolinecolor\":\"white\",\"zerolinewidth\":2}}}},                        {\"responsive\": true}                    ).then(function(){\n",
              "                            \n",
              "var gd = document.getElementById('e9daeb33-f66e-4102-aba0-427bfa287303');\n",
              "var x = new MutationObserver(function (mutations, observer) {{\n",
              "        var display = window.getComputedStyle(gd).display;\n",
              "        if (!display || display === 'none') {{\n",
              "            console.log([gd, 'removed!']);\n",
              "            Plotly.purge(gd);\n",
              "            observer.disconnect();\n",
              "        }}\n",
              "}});\n",
              "\n",
              "// Listen for the removal of the full notebook cells\n",
              "var notebookContainer = gd.closest('#notebook-container');\n",
              "if (notebookContainer) {{\n",
              "    x.observe(notebookContainer, {childList: true});\n",
              "}}\n",
              "\n",
              "// Listen for the clearing of the current output cell\n",
              "var outputEl = gd.closest('.output');\n",
              "if (outputEl) {{\n",
              "    x.observe(outputEl, {childList: true});\n",
              "}}\n",
              "\n",
              "                        })                };                            </script>        </div>\n",
              "</body>\n",
              "</html>"
            ]
          },
          "metadata": {}
        },
        {
          "output_type": "stream",
          "name": "stdout",
          "text": [
            "pred size x 332 pred size y: 332\n"
          ]
        }
      ]
    },
    {
      "cell_type": "code",
      "source": [
        "from statistics import mean\n",
        "\n",
        "\n",
        "#WE TRY \n",
        "# \"Multi_NN\"\n",
        "# \"Uni_LR\"\n",
        "# \"Uni_GP\"\n",
        "# \"Uni_SVR\"\n",
        "# \"Uni_NN\"\n",
        "# \"rf_reg\"\n",
        "\n",
        "\n",
        "for alg in names:\n",
        "  if alg==\"rf_reg\":\n",
        "    print(\"FOUND\")\n",
        "    X,Y = [], []           \n",
        "    for i in range(n_splits):\n",
        "        X = X + list(history[alg][\"actual\"][i].values.ravel())\n",
        "        Y = Y + list(history[alg][\"predictions\"][i].ravel())\n",
        "  # else:\n",
        "  #   print(\"DID NOT FIND\")\n",
        "\n",
        "\n",
        "used = []\n",
        "for i in range(len(X)):\n",
        "  v = X[i]\n",
        "  dummy = []\n",
        "  for j in range(len(Y)):\n",
        "    if X[j]==v:\n",
        "      dummy.append(Y[j])\n",
        "  if str(v) not in used:\n",
        "    used.append(str(v))\n",
        "    print(\"FOR X=\" + str(v) + \" Min: \" + str(min(dummy)) +\"\\n\"+ \"\\t       Max: \"+ str(max(dummy)) )\n",
        "    print(\"\\t       Mean: \" + str(mean(dummy)))\n",
        "    print(\"-----------\")\n",
        "\n",
        "\n"
      ],
      "metadata": {
        "id": "93fJZD3CsSmA",
        "outputId": "c7b88977-94d9-4043-b047-21cc15504336",
        "colab": {
          "base_uri": "https://localhost:8080/"
        }
      },
      "execution_count": 43,
      "outputs": [
        {
          "output_type": "stream",
          "name": "stdout",
          "text": [
            "FOUND\n",
            "FOR X=0.0 Min: 0.001841483942035356\n",
            "\t       Max: 0.5011663997586673\n",
            "\t       Mean: 0.19297560684505935\n",
            "-----------\n",
            "FOR X=0.903321 Min: 0.3170398577657549\n",
            "\t       Max: 1.1393592002136295\n",
            "\t       Mean: 0.561659941720336\n",
            "-----------\n",
            "FOR X=18.06642 Min: 18.066420000000043\n",
            "\t       Max: 22.04103240000004\n",
            "\t       Mean: 18.59043810887959\n",
            "-----------\n",
            "FOR X=9.03321 Min: 8.895677096636383\n",
            "\t       Max: 9.033210000000022\n",
            "\t       Mean: 9.024041139775779\n",
            "-----------\n",
            "FOR X=1.0839852 Min: 0.4026137203364537\n",
            "\t       Max: 0.6930336184867238\n",
            "\t       Mean: 0.5086116850777584\n",
            "-----------\n",
            "FOR X=90.3321 Min: 89.79010739999984\n",
            "\t       Max: 90.33209999999983\n",
            "\t       Mean: 90.26457903636346\n",
            "-----------\n",
            "FOR X=0.4516605 Min: 0.4026137203364537\n",
            "\t       Max: 0.5306710522344285\n",
            "\t       Mean: 0.4861561831552206\n",
            "-----------\n",
            "FOR X=58.715865 Min: 59.48368785000006\n",
            "\t       Max: 62.10331875000004\n",
            "\t       Mean: 60.46604943750005\n",
            "-----------\n",
            "FOR X=27.09963 Min: 27.09963000000002\n",
            "\t       Max: 29.319125574036775\n",
            "\t       Mean: 27.704522756716674\n",
            "-----------\n",
            "FOR X=1.806642 Min: 0.31068677338084877\n",
            "\t       Max: 2.7212068598825296\n",
            "\t       Mean: 1.5910214491805061\n",
            "-----------\n",
            "FOR X=0.5419926 Min: 0.006885026192035359\n",
            "\t       Max: 0.8066144572112343\n",
            "\t       Mean: 0.4690569371767377\n",
            "-----------\n",
            "FOR X=45.16605 Min: 47.69534879999992\n",
            "\t       Max: 49.185828449999924\n",
            "\t       Mean: 48.43306094999993\n",
            "-----------\n",
            "FOR X=3.613284 Min: 0.42586488738516304\n",
            "\t       Max: 2.6377053403631057\n",
            "\t       Mean: 1.1682901656125373\n",
            "-----------\n",
            "FOR X=54.19926 Min: 43.223909850000034\n",
            "\t       Max: 56.063332537828366\n",
            "\t       Mean: 52.57478096538613\n",
            "-----------\n",
            "FOR X=36.13284 Min: 28.670759493129776\n",
            "\t       Max: 34.77785850000007\n",
            "\t       Mean: 32.350719731043306\n",
            "-----------\n",
            "FOR X=4.516605 Min: 0.42586488738516304\n",
            "\t       Max: 2.8141970657148283\n",
            "\t       Mean: 1.9066210692403271\n",
            "-----------\n",
            "FOR X=72.26568 Min: 62.404840737211565\n",
            "\t       Max: 66.8457540000001\n",
            "\t       Mean: 64.62529736860583\n",
            "-----------\n"
          ]
        }
      ]
    },
    {
      "cell_type": "markdown",
      "metadata": {
        "id": "sHXxHPZLwB64"
      },
      "source": [
        "# Confidence intervals for GP regression"
      ]
    },
    {
      "cell_type": "code",
      "metadata": {
        "id": "se1JATnV6LVS"
      },
      "source": [
        "\n",
        "# # print(\"sigma\", sigma.shape)\n",
        "\n",
        "# lower = np.multiply(y_pred.ravel() - 1.9600 ,sigma)\n",
        "# upper = np.multiply(y_pred.ravel() + 1.9600 , sigma)\n",
        "# print(\"lower \",history[\"GP_reg\"][\"mse\"])\n",
        "\n",
        "\n",
        "def top(X,Y):\n",
        "  topX, topY = [],[]\n",
        "  for a,b in zip(X,Y):\n",
        "    if a not in topX:\n",
        "      topX.append(a)\n",
        "      topY.append(b)\n",
        "    elif topY[topX.index(a)] < b:\n",
        "      topY[topX.index(a)] = b \n",
        "  return topX, topY\n",
        "     \n",
        "def low(X,Y):\n",
        "  topX, topY = [],[]\n",
        "  for a,b in zip(X,Y):\n",
        "    if a not in topX:\n",
        "      topX.append(a)\n",
        "      topY.append(b)\n",
        "    elif topY[topX.index(a)] > b:\n",
        "      topY[topX.index(a)] = b \n",
        "  return topX, topY\n",
        "\n",
        "\n",
        "import numpy as np\n",
        "names = list(history.keys())\n",
        "\n",
        "n_splits = 10\n",
        "\n",
        "#perfect plot\n",
        "perfect_plot = {\"legend\": \"actuals\", \n",
        "                \"x\": list(np.linspace(0, 100, num=1000, endpoint=True)), \n",
        "                \"y\": list(np.linspace(0, 100, num=1000, endpoint=True)),\n",
        "                \"marker_symbol\": 'line-ne-open'}\n",
        "X,Y,lower,high = [], [], [], []              \n",
        "for alg in names:\n",
        "  for i in range(n_splits):\n",
        "      X = X + list(history[alg][\"actual\"][i].values.ravel())\n",
        "      Y = Y + list(history[alg][\"predictions\"][i].ravel())\n",
        "      if alg==\"GP_reg\": \n",
        "          sigma = history[alg][\"sigmas\"][i].ravel()\n",
        "          lower = lower + list(history[alg][\"predictions\"][i].ravel() - 1.9600*sigma)\n",
        "          high = high + list(history[alg][\"predictions\"][i].ravel() + 1.9600*sigma)\n",
        "\n",
        "\n",
        "  current_plot = {\"legend\": \"predictions\", \n",
        "                  \"x\": X, \n",
        "                  \"y\": Y,\n",
        "                  \"marker_symbol\": 'star'}\n",
        "\n",
        "  # #confidence plot\n",
        "  low_X, low_Y = low(X,lower)\n",
        "  # lowconfidence_plot = {\"legend\": \"95% confidence\", \n",
        "  #                       \"x\": low_X, \n",
        "  #                       \"y\": low_Y,\n",
        "  #                       \"marker_symbol\": 'square'}\n",
        "\n",
        "  top_X, top_Y = top(X,high)\n",
        "  low_X.extend(top_X)\n",
        "  low_Y.extend(top_Y)\n",
        "  highconfidence_plot = {\"legend\": \"95% confidence\", \n",
        "                        \"x\": low_X, \n",
        "                        \"y\": low_Y,\n",
        "                        \"marker_symbol\": 'square'}\n",
        "\n",
        "  plot([current_plot, perfect_plot,highconfidence_plot], alg + \" predicted v actual\")\n",
        "\n"
      ],
      "execution_count": null,
      "outputs": []
    },
    {
      "cell_type": "markdown",
      "metadata": {
        "id": "hyMPl4twt_yH"
      },
      "source": [
        "## we need to find the support X that predicts Y"
      ]
    },
    {
      "cell_type": "markdown",
      "metadata": {
        "id": "g7M1Aqf6uIkQ"
      },
      "source": [
        "### linespace doesnt work"
      ]
    },
    {
      "cell_type": "code",
      "metadata": {
        "id": "Nxlyuh5EPI1n"
      },
      "source": [
        "\n",
        "matr = np.linspace((0,0,0,0,0,0,0,0),\n",
        "                   (X_train[\"415\"].max(),\n",
        "                    X_train[\"445\"].max(),\n",
        "                    X_train[\"480\"].max(),\n",
        "                    X_train[\"515\"].max(),\n",
        "                    X_train[\"555\"].max(),\n",
        "                    X_train[\"590\"].max(),\n",
        "                    X_train[\"630\"].max(),\n",
        "                    X_train[\"680\"].max()),100000)\n",
        "\n",
        "\n",
        "print(\"inHull.shape \" ,matr.max())\n",
        "\n",
        "y_pred = gp.predict(matr)\n",
        "print(\"ypred\" ,y_pred.ravel().max())\n"
      ],
      "execution_count": null,
      "outputs": []
    },
    {
      "cell_type": "markdown",
      "metadata": {
        "id": "oX_URjKMuOd2"
      },
      "source": [
        "### convex hull works"
      ]
    },
    {
      "cell_type": "code",
      "metadata": {
        "id": "ls7TUISzXp54"
      },
      "source": [
        "import numpy as np\n",
        "import matplotlib.pyplot as pt\n",
        "\n",
        "X_columns  = [\"415\",\"445\",\"480\", \"515\", \"555\", \"590\", \"630\", \"680\"]\n",
        "Y1_columns = [\"# emitters λ1 (x1010)\"]\n",
        "Y2_columns = [\"# emitters λ2 (x1010)\"]\n",
        "Y_columns  = [\"# emitters λ1 (x1010)\", \"# emitters λ2 (x1010)\"]\n",
        "\n",
        "\n",
        "def convex_combination(df, number_points2combine):\n",
        "    ar = np.arange(len(df))\n",
        "    np.random.shuffle(ar) \n",
        "    vecs = df.loc[ar[0:number_points2combine], X_columns]\n",
        "    print(\"tset\", ar[0:number_points2combine])\n",
        "\n",
        "    vecs = vecs.T\n",
        "    dim, n_vectors =  vecs.shape\n",
        "    n_coeffs = n_vectors\n",
        "    # Random numbers between 0 and 1. Don't confuse with randn.\n",
        "    coeffs = np.random.rand(n_coeffs, 50000)\n",
        "    sum_of_first_two = np.sum(coeffs[:2], axis=0)\n",
        "    coeffs[2] = 1-sum_of_first_two # (*)\n",
        "\n",
        "    # First two coefficients guaranteed to be positive\n",
        "    # Third coefficcient could be negative\n",
        "    # All coefficients guaranteed to add up to one because of (*)\n",
        "    good_coeffs = coeffs[2] >= 0\n",
        "    # print(good_coeffs)\n",
        "    coeffs = coeffs[:, good_coeffs]\n",
        "    n_combinations = coeffs.shape[-1]\n",
        "    combinations = np.einsum(\"ji,kj->ki\", coeffs, vecs)\n",
        "    return combinations.T\n",
        "\n",
        "\n",
        "X_synth = convex_combination(df = df, number_points2combine=20)\n",
        "\n",
        "y_pred = gp.predict(X_synth)\n",
        "print(\"ypred\" ,list(y_pred.ravel()))\n",
        "#perfect plot\n",
        "vals = list(np.sort(y_pred.ravel()))\n",
        "pplot = {\"legend\": \"actuals\", \n",
        "         \"x\": [i for i in range(len(vals))], \n",
        "         \"y\": vals,\n",
        "         \"marker_symbol\": 'line-ne-open'}\n",
        "plotline([pplot], \"Y values predicted with synthetic support\")"
      ],
      "execution_count": null,
      "outputs": []
    },
    {
      "cell_type": "markdown",
      "metadata": {
        "id": "KE1vbLbFvpDt"
      },
      "source": [
        "## compute bins of 95% confidence"
      ]
    },
    {
      "cell_type": "code",
      "metadata": {
        "id": "-dYwVMANR5k-"
      },
      "source": [
        "history = dict()\n",
        "history = append_history(history, gp, \"Uni_GP\", X_synth, np.zeros(len(X_synth)))\n",
        "\n",
        "sigma = history[\"Uni_GP\"][\"sigmas\"][0].ravel()\n",
        "print(\"sigma min: \", min(sigma))\n",
        "print(\"sigma max: \", max(sigma))\n",
        "\n",
        "values = history[\"Uni_GP\"][\"predictions\"][0].ravel()\n",
        "lower = history[\"Uni_GP\"][\"predictions\"][0].ravel() - 1.9600*sigma\n",
        "high  = history[\"Uni_GP\"][\"predictions\"][0].ravel() + 1.9600*sigma\n",
        "\n",
        "\n",
        "import math\n",
        "\n",
        "# fixed bin size\n",
        "# ##analyize confidence interval \n",
        "bins = {}\n",
        "binsvals = np.linspace(math.floor(min(values))- 1.9600*max(sigma), \n",
        "                   math.ceil(max(values))+ 1.9600*max(sigma),\n",
        "                   10) # fixed number of bins\n",
        "print(\"bins: \", binsvals)\n",
        "def get_index(v):\n",
        "    global bins,binsvals\n",
        "    for i in range(len(binsvals)): \n",
        "        if v <= binsvals[i]: return i\n",
        "\n",
        "\n",
        "for v, l,h  in zip(values, lower, high):\n",
        "    name = get_index(v)\n",
        "    if name not in bins.keys(): bins[name] = { \"avg\": [] }\n",
        "    bins[name][\"avg\"].append(h - l)\n",
        "    \n",
        "\n",
        "for name in bins.keys(): \n",
        "    avg = sum(bins[name][\"avg\"]) / len(bins[name][\"avg\"])\n",
        "    print(\"name: {} \\t min: {} \\t  max: {} \\t len: {} \\t avg-conf: {}\".format(name,\n",
        "                                                                              round(binsvals[name-1],2),\n",
        "                                                                              round(binsvals[name],2),\n",
        "                                                                              len(bins[name][\"avg\"]),\n",
        "                                                                              round(avg,2)))\n"
      ],
      "execution_count": null,
      "outputs": []
    },
    {
      "cell_type": "markdown",
      "metadata": {
        "id": "MXxNb9jmv12p"
      },
      "source": [
        "## plot error bars "
      ]
    },
    {
      "cell_type": "code",
      "metadata": {
        "id": "PMZVpqJGDR5M"
      },
      "source": [
        "#error bar list \n",
        "er_bar = []\n",
        "for v in values:\n",
        "    name = get_index(v)\n",
        "    avg = sum(bins[name][\"avg\"]) / len(bins[name][\"avg\"])\n",
        "    er_bar.append(avg)\n",
        "    # print(name, v)\n",
        "\n",
        "print(len(er_bar))\n",
        "print(len(values))\n",
        "\n",
        "\n",
        "# print(er_bar[0:30])\n",
        "# print(values[0:30])\n",
        "\n",
        "#  [\"foo\", \"bar\", \"baz\"].index(\"bar\")\n",
        "\n",
        "\n",
        "highconfidence_plot = {\"legend\": \"95% confidence\", \n",
        "                      \"x\": values[0:3000], \n",
        "                      \"y\": values[0:3000],\n",
        "                      \"marker_symbol\": 'circle-open-dot'}\n",
        "\n",
        "plot([highconfidence_plot], \"test\", error_bars = er_bar[0:3000])\n",
        "\n"
      ],
      "execution_count": null,
      "outputs": []
    }
  ]
}