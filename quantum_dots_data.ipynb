{
  "nbformat": 4,
  "nbformat_minor": 0,
  "metadata": {
    "colab": {
      "name": "Untitled12.ipynb",
      "provenance": [],
      "toc_visible": true,
      "authorship_tag": "ABX9TyPDQuCg7vrOjtncIDezNNtf",
      "include_colab_link": true
    },
    "kernelspec": {
      "display_name": "Python 3",
      "name": "python3"
    },
    "language_info": {
      "name": "python"
    }
  },
  "cells": [
    {
      "cell_type": "markdown",
      "metadata": {
        "id": "view-in-github",
        "colab_type": "text"
      },
      "source": [
        "<a href=\"https://colab.research.google.com/github/jmhuer/quantum_dots/blob/main/quantum_dots_data.ipynb\" target=\"_parent\"><img src=\"https://colab.research.google.com/assets/colab-badge.svg\" alt=\"Open In Colab\"/></a>"
      ]
    },
    {
      "cell_type": "markdown",
      "metadata": {
        "id": "NyiZYk_GcXQE"
      },
      "source": [
        "# Load data from excell\n"
      ]
    },
    {
      "cell_type": "code",
      "metadata": {
        "colab": {
          "base_uri": "https://localhost:8080/",
          "height": 204
        },
        "id": "hHStJWQsbRg1",
        "outputId": "8c0a7047-a5aa-421e-81f5-7b84ca47d570"
      },
      "source": [
        "import pandas as pd\n",
        "excell = pd.ExcelFile(\"/content/QDots.xlsx\")\n",
        "excell.sheet_names\n",
        "df = xl.parse(\"Sheet1\")\n",
        "df.columns = df.columns.map(str)\n",
        "columns = [\"415\",\"445\",\"480\", \"515\", \"555\", \"590\", \"630\", \"680\", \"# emitters λ1 (x1010)\", \"# emitters λ2 (x1010)\"]\n",
        "df = df[columns]\n",
        "df.head()"
      ],
      "execution_count": 42,
      "outputs": [
        {
          "output_type": "execute_result",
          "data": {
            "text/html": [
              "<div>\n",
              "<style scoped>\n",
              "    .dataframe tbody tr th:only-of-type {\n",
              "        vertical-align: middle;\n",
              "    }\n",
              "\n",
              "    .dataframe tbody tr th {\n",
              "        vertical-align: top;\n",
              "    }\n",
              "\n",
              "    .dataframe thead th {\n",
              "        text-align: right;\n",
              "    }\n",
              "</style>\n",
              "<table border=\"1\" class=\"dataframe\">\n",
              "  <thead>\n",
              "    <tr style=\"text-align: right;\">\n",
              "      <th></th>\n",
              "      <th>415</th>\n",
              "      <th>445</th>\n",
              "      <th>480</th>\n",
              "      <th>515</th>\n",
              "      <th>555</th>\n",
              "      <th>590</th>\n",
              "      <th>630</th>\n",
              "      <th>680</th>\n",
              "      <th># emitters λ1 (x1010)</th>\n",
              "      <th># emitters λ2 (x1010)</th>\n",
              "    </tr>\n",
              "  </thead>\n",
              "  <tbody>\n",
              "    <tr>\n",
              "      <th>0</th>\n",
              "      <td>0.0</td>\n",
              "      <td>0.0</td>\n",
              "      <td>0.0</td>\n",
              "      <td>1.0</td>\n",
              "      <td>0.0</td>\n",
              "      <td>0.0</td>\n",
              "      <td>4.0</td>\n",
              "      <td>0.0</td>\n",
              "      <td>0.0000</td>\n",
              "      <td>0.0</td>\n",
              "    </tr>\n",
              "    <tr>\n",
              "      <th>1</th>\n",
              "      <td>9.0</td>\n",
              "      <td>20.0</td>\n",
              "      <td>21.0</td>\n",
              "      <td>67.0</td>\n",
              "      <td>106.0</td>\n",
              "      <td>666.0</td>\n",
              "      <td>4320.0</td>\n",
              "      <td>24.0</td>\n",
              "      <td>90.3321</td>\n",
              "      <td>0.0</td>\n",
              "    </tr>\n",
              "    <tr>\n",
              "      <th>2</th>\n",
              "      <td>9.0</td>\n",
              "      <td>21.0</td>\n",
              "      <td>22.0</td>\n",
              "      <td>69.0</td>\n",
              "      <td>107.0</td>\n",
              "      <td>675.0</td>\n",
              "      <td>4413.0</td>\n",
              "      <td>25.0</td>\n",
              "      <td>90.3321</td>\n",
              "      <td>0.0</td>\n",
              "    </tr>\n",
              "    <tr>\n",
              "      <th>3</th>\n",
              "      <td>9.0</td>\n",
              "      <td>21.0</td>\n",
              "      <td>22.0</td>\n",
              "      <td>69.0</td>\n",
              "      <td>107.0</td>\n",
              "      <td>677.0</td>\n",
              "      <td>4439.0</td>\n",
              "      <td>25.0</td>\n",
              "      <td>90.3321</td>\n",
              "      <td>0.0</td>\n",
              "    </tr>\n",
              "    <tr>\n",
              "      <th>4</th>\n",
              "      <td>9.0</td>\n",
              "      <td>21.0</td>\n",
              "      <td>22.0</td>\n",
              "      <td>69.0</td>\n",
              "      <td>106.0</td>\n",
              "      <td>678.0</td>\n",
              "      <td>4457.0</td>\n",
              "      <td>25.0</td>\n",
              "      <td>90.3321</td>\n",
              "      <td>0.0</td>\n",
              "    </tr>\n",
              "  </tbody>\n",
              "</table>\n",
              "</div>"
            ],
            "text/plain": [
              "   415   445   480  ...   680  # emitters λ1 (x1010)  # emitters λ2 (x1010)\n",
              "0  0.0   0.0   0.0  ...   0.0                 0.0000                    0.0\n",
              "1  9.0  20.0  21.0  ...  24.0                90.3321                    0.0\n",
              "2  9.0  21.0  22.0  ...  25.0                90.3321                    0.0\n",
              "3  9.0  21.0  22.0  ...  25.0                90.3321                    0.0\n",
              "4  9.0  21.0  22.0  ...  25.0                90.3321                    0.0\n",
              "\n",
              "[5 rows x 10 columns]"
            ]
          },
          "metadata": {
            "tags": []
          },
          "execution_count": 42
        }
      ]
    },
    {
      "cell_type": "code",
      "metadata": {
        "id": "sN52YNJBgvLp"
      },
      "source": [
        ""
      ],
      "execution_count": null,
      "outputs": []
    }
  ]
}