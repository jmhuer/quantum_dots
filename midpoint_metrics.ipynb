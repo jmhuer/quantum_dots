{
  "nbformat": 4,
  "nbformat_minor": 0,
  "metadata": {
    "colab": {
      "name": "Untitled24.ipynb",
      "provenance": [],
      "authorship_tag": "ABX9TyPbVdeH7Kkril2fG6PF4r8s",
      "include_colab_link": true
    },
    "kernelspec": {
      "name": "python3",
      "display_name": "Python 3"
    },
    "language_info": {
      "name": "python"
    }
  },
  "cells": [
    {
      "cell_type": "markdown",
      "metadata": {
        "id": "view-in-github",
        "colab_type": "text"
      },
      "source": [
        "<a href=\"https://colab.research.google.com/github/jmhuer/quantum_dots/blob/main/midpoint_metrics.ipynb\" target=\"_parent\"><img src=\"https://colab.research.google.com/assets/colab-badge.svg\" alt=\"Open In Colab\"/></a>"
      ]
    },
    {
      "cell_type": "code",
      "execution_count": 17,
      "metadata": {
        "id": "1bvDZxk7YDqF"
      },
      "outputs": [],
      "source": [
        "from sklearn.metrics import mean_squared_error\n",
        "from sklearn.metrics import mean_absolute_error\n",
        "from sklearn.metrics import r2_score\n",
        "\n"
      ]
    },
    {
      "cell_type": "code",
      "source": [
        "#X_Multi_NN.csv\n",
        "\n",
        "actual = [0, 0.451, 0.5419, 0.903, 1.0839, 1.806, 3.613, 4.516, 9.033, 18.066, 36.132, 45.166, 90.332]\n",
        "target = [1.0278, 0.8372, 1.4603, 1.508, 0.9171, 1.4752, 0.974, 0.6347, 3.433, 9.293, 20.718, 41.3732, 85.1249]\n",
        "\n",
        "print(mean_squared_error(a,b))\n",
        "print(mean_absolute_error(a,b))\n",
        "print(r2_score(a,b))"
      ],
      "metadata": {
        "colab": {
          "base_uri": "https://localhost:8080/"
        },
        "id": "wK30bf_kZhL_",
        "outputId": "4b657e0d-53f2-47be-b401-6f3d7d8e31ef"
      },
      "execution_count": 18,
      "outputs": [
        {
          "output_type": "stream",
          "name": "stdout",
          "text": [
            "25.333333333333332\n",
            "4.666666666666667\n",
            "-113.0\n"
          ]
        }
      ]
    },
    {
      "cell_type": "code",
      "source": [
        "#X_Uni_GP.csv\n",
        "\n",
        "actual = [0, 0.451, 0.5419, 0.903, 1.0839, 1.806, 3.613, 4.516, 9.033, 18.066, 36.132, 45.166, 90.332]\n",
        "target = [0.1787, 1.766, 1.0375, 1.696, 0.9415, 2.616, 3.2414, 4.816, 9.1615 ,17.2793, 33.1088, 45.8805, 87.5148]\n",
        "\n",
        "print(mean_squared_error(actual,target))\n",
        "print(mean_absolute_error(actual,target))\n",
        "print(r2_score(actual,target))"
      ],
      "metadata": {
        "colab": {
          "base_uri": "https://localhost:8080/"
        },
        "id": "K5RQohITaz6t",
        "outputId": "dbfb3e1f-a387-4ecc-8cb0-b685b7525c36"
      },
      "execution_count": 19,
      "outputs": [
        {
          "output_type": "stream",
          "name": "stdout",
          "text": [
            "1.6740280646153827\n",
            "0.9135692307692305\n",
            "0.9974418010532359\n"
          ]
        }
      ]
    },
    {
      "cell_type": "code",
      "source": [
        "#X_Uni_LR.csv\n",
        "\n",
        "actual = [0, 0.451, 0.5419, 0.903, 1.0839, 1.806, 3.613, 4.516, 9.033, 18.066, 36.132, 45.166, 90.332]\n",
        "target = [0.1276, 1.0468, 1.0538, 1.1197 ,0.7036, 1.8715, 2.415, 4.2295, 8.4729, 17.303 ,31.065, 45.584, 90.257]\n",
        "\n",
        "print(mean_squared_error(actual,target))\n",
        "print(mean_absolute_error(actual,target))\n",
        "print(r2_score(actual,target))"
      ],
      "metadata": {
        "colab": {
          "base_uri": "https://localhost:8080/"
        },
        "id": "hJHN8qChbHri",
        "outputId": "cfc263d1-1a60-45ea-af85-ad2c2382331a"
      },
      "execution_count": 20,
      "outputs": [
        {
          "output_type": "stream",
          "name": "stdout",
          "text": [
            "2.238244884615382\n",
            "0.789646153846153\n",
            "0.9965795820109271\n"
          ]
        }
      ]
    },
    {
      "cell_type": "code",
      "source": [
        "#X_Uni_NN.csv\n",
        "\n",
        "\n",
        "actual = [0, 0.451, 0.5419, 0.903, 1.0839, 1.806, 3.613, 4.516, 9.033, 18.066, 36.132, 45.166, 90.332]\n",
        "target = [1.1513, 1.296, 1.2856, 1.8568, 1.3065, 1.86, 2.465, 3.744, 6.372, 13.536, 26.5861, 41.62, 86.7859]\n",
        "\n",
        "print(mean_squared_error(actual,target))\n",
        "print(mean_absolute_error(actual,target))\n",
        "print(r2_score(actual,target))"
      ],
      "metadata": {
        "colab": {
          "base_uri": "https://localhost:8080/"
        },
        "id": "iqH2aP6kbVzb",
        "outputId": "3077c3f6-1820-4aff-b20b-2d602ddaa207"
      },
      "execution_count": 21,
      "outputs": [
        {
          "output_type": "stream",
          "name": "stdout",
          "text": [
            "11.487974199999996\n",
            "2.286107692307692\n",
            "0.982444426040345\n"
          ]
        }
      ]
    },
    {
      "cell_type": "code",
      "source": [
        "#X_Uni_SVR.csv\n",
        "\n",
        "\n",
        "actual = [0, 0.451, 0.5419, 0.903, 1.0839, 1.806, 3.613, 4.516, 9.033, 18.066, 36.132, 45.166, 90.332]\n",
        "target = [0.4018, 1.291, 0.8564, 1.232, 0.939, 1.765, 2.536, 3.964, 7.892, 16.245, 29.989, 44.128, 89.7121]\n",
        "\n",
        "print(mean_squared_error(actual,target))\n",
        "print(mean_absolute_error(actual,target))\n",
        "print(r2_score(actual,target))"
      ],
      "metadata": {
        "colab": {
          "base_uri": "https://localhost:8080/"
        },
        "id": "Gu4ND3L9bjsl",
        "outputId": "8a99b719-c433-4e34-c3eb-aa0359fe7165"
      },
      "execution_count": 22,
      "outputs": [
        {
          "output_type": "stream",
          "name": "stdout",
          "text": [
            "3.567507346923072\n",
            "1.112546153846152\n",
            "0.9945482434073954\n"
          ]
        }
      ]
    },
    {
      "cell_type": "code",
      "source": [
        "#X_rf_REG.csv\n",
        "\n",
        "\n",
        "actual = [0, 0.451, 0.5419, 0.903, 1.0839, 1.806, 3.613, 4.516, 9.033, 18.066, 36.132, 45.166, 90.332]\n",
        "target = [0.30103, 0.3589 ,0.572, 0.3985 ,0.356 ,1.0269, 1.59, 1.0299, 0.301, 19.04, 34.141, 41.104, 90.332]\n",
        "\n",
        "print(mean_squared_error(actual,target))\n",
        "print(mean_absolute_error(actual,target))\n",
        "print(r2_score(actual,target))"
      ],
      "metadata": {
        "colab": {
          "base_uri": "https://localhost:8080/"
        },
        "id": "Xa1zhqGbbvKo",
        "outputId": "a69503d4-5daf-43af-a819-a2e95ceee694"
      },
      "execution_count": 23,
      "outputs": [
        {
          "output_type": "stream",
          "name": "stdout",
          "text": [
            "8.876708473915382\n",
            "1.823294615384615\n",
            "0.9864348831726905\n"
          ]
        }
      ]
    }
  ]
}